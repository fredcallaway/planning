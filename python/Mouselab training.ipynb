{
 "cells": [
  {
   "cell_type": "code",
   "execution_count": 1,
   "metadata": {},
   "outputs": [],
   "source": [
    "from __future__ import absolute_import\n",
    "from __future__ import division\n",
    "from __future__ import print_function\n",
    "\n",
    "from mouselab import MouselabEnv\n",
    "import networkx as nx\n",
    "from distributions import Categorical\n",
    "import numpy as np\n",
    "import matplotlib.pyplot as plt\n",
    "import tensorflow as tf\n",
    "\n",
    "from tf_agents.environments import gym_wrapper\n",
    "from tf_agents.environments import utils\n",
    "from tf_agents.distributions.utils import SquashToSpecNormal\n",
    "from tf_agents.environments import tf_py_environment\n",
    "from metamdpfunctions import *\n",
    "\n",
    "tf.compat.v1.enable_v2_behavior()\n",
    "\n",
    "#ppo_utils.nested_kl_divergence = nested_kl_divergence_new\n",
    "#This line is absolutely crucial, it replaces the nested_kl_divergence function defined in ppo_utils by the one \n",
    "#we wrote in metamdpfunctions\n",
    "\n",
    "%load_ext autoreload\n",
    "%autoreload 2"
   ]
  },
  {
   "cell_type": "code",
   "execution_count": 2,
   "metadata": {},
   "outputs": [],
   "source": [
    "def plot_graph(graph,s=None):\n",
    "    G = nx.Graph()\n",
    "    for i,e in enumerate(graph['edges']):\n",
    "        G.add_edge(e[0],e[1],label=i)\n",
    "    edge_order = np.array(list(nx.get_edge_attributes(G,'label').values()))\n",
    "    pos = nx.spring_layout(G)\n",
    "    intermediate_nodes = list(range(max(sum(graph['edges'],[]))+1))\n",
    "    if \"start\" in graph:\n",
    "        intermediate_nodes.remove(graph[\"start\"])\n",
    "    if \"goal\" in graph:\n",
    "        intermediate_nodes.remove(graph[\"goal\"])\n",
    "    nx.draw_networkx_nodes(G,pos,nodelist = intermediate_nodes,node_color = \"C0\")  \n",
    "    if \"start\" in graph:\n",
    "        nx.draw_networkx_nodes(G,pos,nodelist = [graph[\"start\"]],node_color = \"C1\")\n",
    "    if \"goal\" in graph:\n",
    "        nx.draw_networkx_nodes(G,pos,nodelist = [graph[\"goal\"]],node_color = \"C2\")\n",
    "    if not s is None:\n",
    "        edge_color_dict = {-1: 'r', 0 : 'k', 1: 'g'}\n",
    "        edge_colors = [edge_color_dict[e] for e in np.array(s)[edge_order]]\n",
    "        edge_widths = 3-2*(np.array(s)[edge_order]==0)\n",
    "        nx.draw_networkx_edges(G,pos,edge_color=edge_colors,width = edge_widths)\n",
    "    else:\n",
    "        nx.draw_networkx_edges(G,pos,edge_color='k')\n",
    "    nx.draw_networkx_labels(G,pos)\n",
    "    #plt.gca().set_aspect('equal')\n",
    "    c = np.array(list(pos.values()))\n",
    "    plt.gca().set_xlim(np.min(c[:,0])-0.2,np.max(c[:,0])+0.2)\n",
    "    plt.gca().set_ylim(np.min(c[:,1])-0.2,np.max(c[:,1])+0.2)\n",
    "    plt.gca().set_frame_on(False)\n",
    "    plt.show()"
   ]
  },
  {
   "cell_type": "code",
   "execution_count": 3,
   "metadata": {},
   "outputs": [],
   "source": [
    "def get_graph(env):\n",
    "    return {\"start\" : 0, \"edges\" : sum([[[i,j] for j in jj] for i,jj in (enumerate(env.tree))],[])}"
   ]
  },
  {
   "cell_type": "code",
   "execution_count": 4,
   "metadata": {},
   "outputs": [],
   "source": [
    "val_dist = Categorical([-10,-5,5,10],[0.25, 0.25, 0.25, 0.25])\n",
    "\n",
    "def encode_state_as_tensor(state):\n",
    "    if isinstance(state,str) and state=='__term_state__':\n",
    "        return np.zeros([12,4]).astype(np.float32)\n",
    "    return np.vstack([np.array(d.probs) if isinstance(d,Categorical) else \n",
    "                      np.array(val_dist.vals==d).astype(np.float32) for d in state[1:]])\n",
    "\n",
    "def load_environment(params):\n",
    "    return gym_wrapper.GymWrapper(MouselabEnv.new_symmetric([3,1,2],val_dist,encode_state_as_tensor=encode_state_as_tensor))"
   ]
  },
  {
   "cell_type": "code",
   "execution_count": 5,
   "metadata": {},
   "outputs": [
    {
     "data": {
      "image/png": "[encoded data removed]",
      "text/plain": [
       "<Figure size 432x288 with 1 Axes>"
      ]
     },
     "metadata": {},
     "output_type": "display_data"
    }
   ],
   "source": [
    "env = load_environment(params=None)\n",
    "graph = get_graph(env)\n",
    "plot_graph(graph)"
   ]
  },
  {
   "cell_type": "code",
   "execution_count": 6,
   "metadata": {},
   "outputs": [
    {
     "data": {
      "text/plain": [
       "TimeStep(step_type=array(0), reward=array(0., dtype=float32), discount=array(1., dtype=float32), observation=array([[0.25, 0.25, 0.25, 0.25],\n",
       "       [0.25, 0.25, 0.25, 0.25],\n",
       "       [0.25, 0.25, 0.25, 0.25],\n",
       "       [0.25, 0.25, 0.25, 0.25],\n",
       "       [0.25, 0.25, 0.25, 0.25],\n",
       "       [0.25, 0.25, 0.25, 0.25],\n",
       "       [0.25, 0.25, 0.25, 0.25],\n",
       "       [0.25, 0.25, 0.25, 0.25],\n",
       "       [0.25, 0.25, 0.25, 0.25],\n",
       "       [0.25, 0.25, 0.25, 0.25],\n",
       "       [0.25, 0.25, 0.25, 0.25],\n",
       "       [0.25, 0.25, 0.25, 0.25]], dtype=float32))"
      ]
     },
     "execution_count": 6,
     "metadata": {},
     "output_type": "execute_result"
    }
   ],
   "source": [
    "env.reset()\n",
    "env.step(0)\n",
    "env.step(1)"
   ]
  },
  {
   "cell_type": "code",
   "execution_count": 8,
   "metadata": {},
   "outputs": [
    {
     "data": {
      "text/plain": [
       "BoundedArraySpec(shape=(12, 4), dtype=dtype('float32'), name='observation', minimum=0.0, maximum=1.0)"
      ]
     },
     "execution_count": 8,
     "metadata": {},
     "output_type": "execute_result"
    }
   ],
   "source": [
    "env.observation_spec()"
   ]
  },
  {
   "cell_type": "code",
   "execution_count": 9,
   "metadata": {},
   "outputs": [
    {
     "name": "stdout",
     "output_type": "stream",
     "text": [
      "ObservationSpec: BoundedArraySpec(shape=(12, 4), dtype=dtype('float32'), name='observation', minimum=0.0, maximum=1.0)\n",
      "ActionSpec: BoundedArraySpec(shape=(), dtype=dtype('int64'), name='action', minimum=0, maximum=12)\n",
      "0.0\n",
      "0.0\n",
      "-30.0\n",
      "-30.0\n",
      "-30.0\n",
      "-60.0\n",
      "-60.0\n",
      "-60.0\n",
      "-90.0\n",
      "-90.0\n",
      "-90.0\n",
      "-85.0\n",
      "Final Reward =  -85.0\n"
     ]
    }
   ],
   "source": [
    "test_environment(env,1,0)"
   ]
  },
  {
   "cell_type": "code",
   "execution_count": 10,
   "metadata": {},
   "outputs": [
    {
     "name": "stdout",
     "output_type": "stream",
     "text": [
      "WARNING:tensorflow:From C:\\Users\\Bas\\Anaconda3\\envs\\tf-agents\\lib\\site-packages\\tf_agents\\specs\\tensor_spec.py:295: SeedStream.__init__ (from tensorflow_probability.python.util.seed_stream) is deprecated and will be removed after 2019-10-01.\n",
      "Instructions for updating:\n",
      "SeedStream has moved to `tfp.util.SeedStream`.\n",
      "step = 0: Average Collection Return = -17.0\n",
      "step = 0: Average Collection Length = 4.54\n",
      "step = 0: loss = 278.47906494140625\n"
     ]
    }
   ],
   "source": [
    "N=10\n",
    "learning_rate = 0.001\n",
    "replay_buffer_capacity = 1000 #the amount of steps (not episodes) saved in the buffer\n",
    "value_fc_layers = (2*N,2*N,2*N) #the number of units in the intermediate (dense) layers of the value network\n",
    "actor_fc_layers = (2*N,2*N,2*N) #the number of units in the intermediate (dense) layers of the actor network\n",
    "num_eval_episodes = 100 #the number of episode to average over when computing reward for the stochastic policy\n",
    "num_iterations = 1\n",
    "collect_episodes_per_iteration = 30 # the number of episodes to collect per iteration\n",
    "log_interval = 100 #how often to log the loss\n",
    "eval_interval = 100 #how often to calculate and log returns\n",
    "policy_checkpoint_interval = None#25000 # how often to save the policy\n",
    "num_epochs = 1 #number of training steps to take per batch of episodes\n",
    "method = 'PPO'\n",
    "\n",
    "train_py_env = load_environment(params=None)\n",
    "eval_py_env = load_environment(params=None)\n",
    "\n",
    "train_env = tf_py_environment.TFPyEnvironment(train_py_env)\n",
    "eval_env = tf_py_environment.TFPyEnvironment(eval_py_env)\n",
    "\n",
    "tf_agent = load_ppo_agent(train_env,actor_fc_layers,value_fc_layers,learning_rate,num_epochs)\n",
    "    \n",
    "direc = 'test/'\n",
    "tf_agent,returns,losses = train_agent(tf_agent,train_env,eval_env,num_iterations,[],[],collect_episodes_per_iteration,log_interval,eval_interval,policy_checkpoint_interval,replay_buffer_capacity,num_eval_episodes,direc)\n"
   ]
  },
  {
   "cell_type": "code",
   "execution_count": 16,
   "metadata": {},
   "outputs": [
    {
     "name": "stdout",
     "output_type": "stream",
     "text": [
      "V(state) [-0.00259087]\n",
      "pi(state) [(0, 0.081), (1, 0.077), (2, 0.075), (3, 0.078), (4, 0.078), (5, 0.076), (6, 0.077), (7, 0.077), (8, 0.075), (9, 0.077), (10, 0.077), (11, 0.075), (12, 0.077)]\n",
      "[1]\n",
      "V(state) [0.00016868]\n",
      "pi(state) [(0, 0.081), (1, 0.077), (2, 0.075), (3, 0.079), (4, 0.077), (5, 0.076), (6, 0.075), (7, 0.077), (8, 0.075), (9, 0.077), (10, 0.077), (11, 0.076), (12, 0.076)]\n",
      "[2]\n",
      "V(state) [-0.00094232]\n",
      "pi(state) [(0, 0.08), (1, 0.076), (2, 0.077), (3, 0.08), (4, 0.076), (5, 0.077), (6, 0.076), (7, 0.076), (8, 0.076), (9, 0.077), (10, 0.077), (11, 0.075), (12, 0.077)]\n",
      "[5]\n",
      "V(state) [0.00433902]\n",
      "pi(state) [(0, 0.079), (1, 0.076), (2, 0.078), (3, 0.08), (4, 0.076), (5, 0.077), (6, 0.075), (7, 0.077), (8, 0.077), (9, 0.075), (10, 0.077), (11, 0.074), (12, 0.078)]\n",
      "[0]\n"
     ]
    }
   ],
   "source": [
    "ts = eval_env.reset()\n",
    "while not ts.is_last():\n",
    "    print(\"V(state)\",tf_agent._value_net(ts.observation)[0].numpy())\n",
    "    print(\"pi(state)\",list(enumerate(tf_agent.collect_policy.distribution(ts).action.prob(np.arange(13)).numpy().round(3))))\n",
    "    action = tf_agent.collect_policy.action(ts).action\n",
    "    print(action.numpy())\n",
    "    ts = eval_env._step(action)\n"
   ]
  },
  {
   "cell_type": "code",
   "execution_count": 44,
   "metadata": {},
   "outputs": [
    {
     "name": "stdout",
     "output_type": "stream",
     "text": [
      "V(initial state) (<tf.Tensor: shape=(1,), dtype=float32, numpy=array([0.00799456], dtype=float32)>, ())\n"
     ]
    }
   ],
   "source": [
    "print(\"V(initial state)\",tf_agent._value_net(ts.observation))"
   ]
  },
  {
   "cell_type": "code",
   "execution_count": 38,
   "metadata": {},
   "outputs": [
    {
     "data": {
      "text/plain": [
       "array([[0.25, 0.25, 0.25, 0.25],\n",
       "       [0.25, 0.25, 0.25, 0.25],\n",
       "       [0.25, 0.25, 0.25, 0.25],\n",
       "       [0.25, 0.25, 0.25, 0.25],\n",
       "       [0.25, 0.25, 0.25, 0.25],\n",
       "       [0.25, 0.25, 0.25, 0.25],\n",
       "       [0.25, 0.25, 0.25, 0.25],\n",
       "       [0.25, 0.25, 0.25, 0.25],\n",
       "       [0.25, 0.25, 0.25, 0.25],\n",
       "       [0.25, 0.25, 0.25, 0.25],\n",
       "       [0.25, 0.25, 0.25, 0.25],\n",
       "       [0.25, 0.25, 0.25, 0.25]], dtype=float32)"
      ]
     },
     "execution_count": 38,
     "metadata": {},
     "output_type": "execute_result"
    }
   ],
   "source": [
    "ts.observation"
   ]
  },
  {
   "cell_type": "code",
   "execution_count": 43,
   "metadata": {},
   "outputs": [
    {
     "data": {
      "text/plain": [
       "1.5311846733093262"
      ]
     },
     "execution_count": 43,
     "metadata": {},
     "output_type": "execute_result"
    }
   ],
   "source": [
    "import distributions\n",
    "import functools\n",
    "\n",
    "val_dist = Categorical([-1,-0.5,0.5,1],[0.25, 0.25, 0.25, 0.25])\n",
    "\n",
    "def max_of_categoricals(d1,d2):\n",
    "    return distributions.cross((d1, d2), lambda s, o: max(s,o))\n",
    "    \n",
    "d = (val_dist + val_dist + max_of_categoricals(val_dist,val_dist))\n",
    "functools.reduce(max_of_categoricals,[d,d,d]).expectation()"
   ]
  },
  {
   "cell_type": "code",
   "execution_count": 41,
   "metadata": {},
   "outputs": [
    {
     "data": {
      "text/plain": [
       "0.4375"
      ]
     },
     "execution_count": 41,
     "metadata": {},
     "output_type": "execute_result"
    }
   ],
   "source": [
    "d.expectation()"
   ]
  },
  {
   "cell_type": "code",
   "execution_count": null,
   "metadata": {},
   "outputs": [],
   "source": []
  }
 ],
 "metadata": {
  "kernelspec": {
   "display_name": "Python [conda env:tf-agents]",
   "language": "python",
   "name": "conda-env-tf-agents-py"
  },
  "language_info": {
   "codemirror_mode": {
    "name": "ipython",
    "version": 3
   },
   "file_extension": ".py",
   "mimetype": "text/x-python",
   "name": "python",
   "nbconvert_exporter": "python",
   "pygments_lexer": "ipython3",
   "version": "3.7.4"
  }
 },
 "nbformat": 4,
 "nbformat_minor": 2
}
