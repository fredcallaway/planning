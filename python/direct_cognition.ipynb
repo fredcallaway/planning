{
 "cells": [
  {
   "cell_type": "code",
   "execution_count": 1,
   "metadata": {},
   "outputs": [],
   "source": [
    "%matplotlib inline\n",
    "%load_ext autoreload\n",
    "%autoreload 2\n",
    "\n",
    "import itertools as it\n",
    "from collections import Counter, defaultdict, deque\n",
    "import matplotlib.pyplot as plt\n",
    "import numpy as np\n",
    "import pandas as pd\n",
    "import seaborn as sns\n",
    "import scipy.stats\n",
    "import itertools\n",
    "import copy\n",
    "sns.set_style('white')\n",
    "sns.set_context('notebook', font_scale=1.3)\n",
    "\n",
    "from agents import Agent\n",
    "from evaluation import get_util\n",
    "# from model_utils import *"
   ]
  },
  {
   "cell_type": "code",
   "execution_count": 2,
   "metadata": {
    "collapsed": true
   },
   "outputs": [],
   "source": [
    "from mouselab import MouselabEnv\n",
    "from distributions import Categorical, Normal\n",
    "\n",
    "def make_envs(cost=1.00, n=100, seed=None,variance_structure=\"constant_high\",branching=[4,1,2]):\n",
    "    if seed is not None:\n",
    "        np.random.seed(seed)\n",
    "    \n",
    "    depth = len(branching)\n",
    "    \n",
    "    if variance_structure is \"constant_high\":\n",
    "        sigmas = np.concatenate( (np.array([0]),20*np.ones(depth)))\n",
    "    if variance_structure is \"increasing\":\n",
    "        sigmas = [0, 2, 4, 20]\n",
    "    if variance_structure is \"decreasing\":\n",
    "        sigmas = [0,20,4,2]\n",
    "    if variance_structure is \"constant_low\":\n",
    "        sigmas = np.concatenate( (np.array([0]),3*np.ones(depth)))\n",
    "        \n",
    "    def reward(depth):\n",
    "        if depth > 0:\n",
    "            return Normal(0, sigmas[depth]).to_discrete(6)\n",
    "        return 0.\n",
    "\n",
    "    envs = [MouselabEnv.new_symmetric(branching, reward)\n",
    "            for _ in range(n)]\n",
    "    for env in envs:\n",
    "        env.cost=-cost\n",
    "    \n",
    "    return envs"
   ]
  },
  {
   "cell_type": "code",
   "execution_count": 3,
   "metadata": {
    "collapsed": true
   },
   "outputs": [],
   "source": [
    "cost = 1\n",
    "envs = make_envs(cost,10,None,\"increasing\",branching=[2,2])\n",
    "env = envs[0]"
   ]
  },
  {
   "cell_type": "code",
   "execution_count": 4,
   "metadata": {},
   "outputs": [
    {
     "data": {
      "text/plain": [
       "[[1, 2], [1, 3], [4, 5], [4, 6]]"
      ]
     },
     "execution_count": 4,
     "metadata": {},
     "output_type": "execute_result"
    }
   ],
   "source": [
    "env.paths"
   ]
  },
  {
   "cell_type": "code",
   "execution_count": 5,
   "metadata": {},
   "outputs": [
    {
     "data": {
      "text/plain": [
       "(0, Cat, Cat, Cat, Cat, Cat, Cat)"
      ]
     },
     "execution_count": 5,
     "metadata": {},
     "output_type": "execute_result"
    }
   ],
   "source": [
    "env._state"
   ]
  },
  {
   "cell_type": "code",
   "execution_count": 6,
   "metadata": {},
   "outputs": [
    {
     "data": {
      "text/plain": [
       "[[1, 4], [2, 3], [], [], [5, 6], [], []]"
      ]
     },
     "execution_count": 6,
     "metadata": {},
     "output_type": "execute_result"
    }
   ],
   "source": [
    "env.tree"
   ]
  },
  {
   "cell_type": "code",
   "execution_count": 7,
   "metadata": {
    "collapsed": true
   },
   "outputs": [],
   "source": [
    "# fancy initialization function, but doesn't seem necessary\n",
    "# simpler version built into the class\n",
    "def build_path(r):   \n",
    "    if env.tree[r] == []:\n",
    "        return ([[]], [0])\n",
    "    paths = []\n",
    "    path_moves = []\n",
    "    for n in env.tree[r]:\n",
    "        new_paths, new_path_moves = build_path(n)\n",
    "        for i in range(len(new_paths)):\n",
    "            new_paths[i].insert(0,n)\n",
    "            new_move = int(hasattr(env._state[n],'sample'))\n",
    "            path_moves.append(new_path_moves[i]+new_move)\n",
    "            paths.append(new_paths[i])\n",
    "    return (paths,path_moves)"
   ]
  },
  {
   "cell_type": "code",
   "execution_count": 8,
   "metadata": {
    "collapsed": true
   },
   "outputs": [],
   "source": [
    "def option_util(x,sigma):\n",
    "    return sigma*scipy.stats.norm.pdf(x/sigma) - np.abs(x)*scipy.stats.norm.cdf(-np.abs(x)/sigma)"
   ]
  },
  {
   "cell_type": "code",
   "execution_count": 9,
   "metadata": {
    "collapsed": true
   },
   "outputs": [],
   "source": [
    "def get_all_options(env):\n",
    "    paths = env.paths #list of all paths\n",
    "    avail_moves = [0,]*len(paths) #list of moves available in each path\n",
    "    path_obs = [] #value of observed nodes in each path\n",
    "    path_nodes = [] #the unobserved nodes of each path\n",
    "    path_stds = [] #the std deviation of the unobserved nodes of each path\n",
    "    \n",
    "    options = [] #list of all options\n",
    "    option_utils = [] #list of the utility of each option\n",
    "    \n",
    "    for i in range(len(paths)):\n",
    "        stds = []\n",
    "        nodes = []\n",
    "        obs = 0\n",
    "        \n",
    "        for node in paths[i]:\n",
    "            if hasattr(env._state[node],'sample'):\n",
    "                stds.append(env._state[node].var())\n",
    "                nodes.append(node)\n",
    "                avail_moves[i] += 1\n",
    "            else:\n",
    "                obs += env._state[node]\n",
    "                \n",
    "        path_obs.append(obs)\n",
    "        path_stds.append(stds)\n",
    "        path_nodes.append(nodes)\n",
    "        \n",
    "        for j in range(avail_moves[i]):\n",
    "            options.append((i,j+1))\n",
    "    max_obs = np.max(path_obs)\n",
    "    \n",
    "    for option in options:\n",
    "        path, obs = option\n",
    "        option_utils.append(option_util(path_obs[path]-max_obs,np.sqrt(np.sum(path_stds[path][:obs]))) + obs*env.cost)\n",
    "    \n",
    "    return options, option_utils, path_nodes, path_stds, path_obs, avail_moves"
   ]
  },
  {
   "cell_type": "code",
   "execution_count": 10,
   "metadata": {
    "collapsed": true
   },
   "outputs": [],
   "source": [
    "def pick_option_moves(env):\n",
    "    options, option_utils, path_nodes, path_stds, path_obs, avail_moves = get_all_options(env)\n",
    "    \n",
    "    #c is for chosen\n",
    "    cpath, cobs = options[np.random.choice(np.arange(len(options))[option_utils == np.max(option_utils)])]\n",
    "    cpath_stds = np.array(path_stds[cpath])[:cobs]\n",
    "    cpath_nodes = np.array(path_nodes[cpath])[:cobs]\n",
    "    b = np.random.random(cpath_nodes.size)\n",
    "    \n",
    "    return cpath_nodes[np.lexsort((b,cpath_stds))]"
   ]
  },
  {
   "cell_type": "code",
   "execution_count": 11,
   "metadata": {
    "scrolled": true
   },
   "outputs": [
    {
     "name": "stdout",
     "output_type": "stream",
     "text": [
      "8.347992847\n"
     ]
    }
   ],
   "source": [
    "import time\n",
    "t = time.process_time()\n",
    "for i in range(1000):\n",
    "#     print(get_options(env))\n",
    "    pick_option_moves(env)\n",
    "elapsed =time.process_time() - t \n",
    "print(elapsed)"
   ]
  },
  {
   "cell_type": "code",
   "execution_count": 12,
   "metadata": {
    "collapsed": true
   },
   "outputs": [],
   "source": [
    "def all_option_insts(path_nodes,path_stds,n_obs):\n",
    "    insts = [[]]\n",
    "    n_remaining_obs = n_obs\n",
    "\n",
    "    vals, inverse, count = np.unique(path_stds, return_inverse=True,\n",
    "                                  return_counts=True)\n",
    "    rows, cols = np.where(inverse == np.arange(len(vals))[:, np.newaxis])\n",
    "    _, inverse_rows = np.unique(rows, return_index=True)\n",
    "    res = np.split(cols, inverse_rows[1:])\n",
    "\n",
    "    for i in range(len(res)):\n",
    "        new_insts = []\n",
    "\n",
    "        n_new_nodes = len(res[-i-1])\n",
    "        if n_new_nodes < n_remaining_obs:\n",
    "            n_remaining_obs -= n_new_nodes\n",
    "        else:\n",
    "            n_new_nodes = n_remaining_obs\n",
    "            n_remaining_obs = 0  \n",
    "\n",
    "        for new_nodes in itertools.permutations(res[-i-1],n_new_nodes):\n",
    "            for inst in insts:\n",
    "                new_insts.append(inst + list(np.array(path_nodes)[list(new_nodes)]))\n",
    "        insts = new_insts\n",
    "        if n_remaining_obs == 0:\n",
    "            break\n",
    "            \n",
    "    return insts"
   ]
  },
  {
   "cell_type": "code",
   "execution_count": 13,
   "metadata": {},
   "outputs": [
    {
     "data": {
      "text/plain": [
       "[[0, 1, 2, 3, 4, 5],\n",
       " [1, 0, 2, 3, 4, 5],\n",
       " [0, 1, 2, 4, 3, 5],\n",
       " [1, 0, 2, 4, 3, 5],\n",
       " [0, 1, 2, 3, 4, 6],\n",
       " [1, 0, 2, 3, 4, 6],\n",
       " [0, 1, 2, 4, 3, 6],\n",
       " [1, 0, 2, 4, 3, 6]]"
      ]
     },
     "execution_count": 13,
     "metadata": {},
     "output_type": "execute_result"
    }
   ],
   "source": [
    "path_stds= [10.00,10.00,9,8.0,8,7,7,6]\n",
    "path_nodes = np.arange(len(path_stds))\n",
    "all_option_insts(path_nodes,path_stds,6)"
   ]
  },
  {
   "cell_type": "markdown",
   "metadata": {},
   "source": [
    "The following equation gives the likelihood of a click sequence in this model:\n",
    "\n",
    "$$ l(C) = \\sum_{O \\in \\mathcal{O}(C)} l(O)$$\n",
    "\n",
    "where $C$ is a click sequence, and $\\mathcal{O}(C)$ is the set of option sequences that $C$ could parse into. To get the likelihood of an option sequence, we use the following equation:\n",
    "\n",
    "$$ l(O) = \\prod_{o \\in O} \\mathbb{P}_{DC}(o) $$\n",
    "\n",
    "where $\\mathbb{P}_{DC}(o)$ is the probability of a given option in our model. We assume a generative model that picks a random move with probability $p_r$, or otherwise picks from one of the available options under the directed cognition model. This gives us the following equation: \n",
    "\n",
    "$$\\mathbb{P}_{DC}(o) = (1-p_r)*s(o)+p_r*\\alpha$$ \n",
    "\n",
    "$s(o)$ is the softmax probability of our option among all available directed cognition options, which, for a given temperature parameter $t = \\frac{1}{\\beta}$ is equal to:\n",
    "\n",
    "$$ s(o)= \\frac{e^{\\beta v(o)}}{\\sum_{o'} e^{\\beta v(o')}} $$\n",
    "\n",
    "where $v(o)$ is the value of an option using the directed cognition model. We define $\\alpha$ as the probability that an option in the sequence would have been generated by the error process, and it is defined as:\n",
    "\n",
    "$$\\alpha = \\prod_{k = 1}^ \\text{length(o)} \\frac{1}{n_{ac}-k+1}$$\n",
    "\n",
    "where $n_{ac}$ is the number of available clicks."
   ]
  },
  {
   "cell_type": "code",
   "execution_count": 78,
   "metadata": {
    "collapsed": true
   },
   "outputs": [],
   "source": [
    "def parse_options(env,click_sequence,t=1,p_rand=0.0001):\n",
    "    if click_sequence == []:\n",
    "        return True, [[]], [1]\n",
    "    option_insts = dict() #list of all possible option instantiations\n",
    "    option_seqs = []\n",
    "    likelihoods = []\n",
    "    done = False\n",
    "    \n",
    "    paths = env.paths\n",
    "    options, option_utils, path_nodes, path_stds, path_obs, avail_moves = get_all_options(env)\n",
    "    \n",
    "    for option in options:\n",
    "        path, obs = option\n",
    "        option_insts[option] = all_option_insts(path_nodes[path],path_stds[path],obs)\n",
    "        \n",
    "    #single click options\n",
    "    sc_opt = (-1,1)\n",
    "    options.append(sc_opt)\n",
    "    option_utils.append(-np.inf)\n",
    "    option_insts[sc_opt] = [[a] for a in env.actions(env._state)]\n",
    "    n_available_clicks = len(option_insts[sc_opt])-1\n",
    "        \n",
    "    for i in range(1,min(len(paths[0]),len(click_sequence))+1):  \n",
    "        for j in range(len(options)):\n",
    "            option = options[j]\n",
    "            for inst in option_insts[option]:      \n",
    "                if np.array_equal(click_sequence[:i],inst):\n",
    "                    copy_env = copy.deepcopy(env)                   \n",
    "                    for a in click_sequence[:i]:\n",
    "                        copy_env._step(a)\n",
    "                        \n",
    "                    will_done, remaining, rem_likelihoods = parse_options(copy_env,click_sequence[i:])\n",
    "                    done = done or will_done\n",
    "                    \n",
    "                    if done:\n",
    "                        for k in range(len(remaining)): \n",
    "                            latter = remaining[k]\n",
    "                            option_seqs.append([option]+latter)\n",
    "                            \n",
    "                            l_opt_seq = (1-p_rand)*np.exp(1/t*option_utils[j])/np.sum(1/t*np.exp(option_utils))\n",
    "                            l_opt_seq += p_rand*np.prod([1/(n_available_clicks-k+1) for k in range(1,option[1]+1)])\n",
    "                            l_opt_seq *= rem_likelihoods[k]\n",
    "                            \n",
    "                            likelihoods.append(l_opt_seq)\n",
    "    \n",
    "    return done, option_seqs, likelihoods"
   ]
  },
  {
   "cell_type": "code",
   "execution_count": 15,
   "metadata": {
    "collapsed": true
   },
   "outputs": [],
   "source": [
    "cost = 1\n",
    "envs = make_envs(cost,10,None,\"increasing\",branching=[2,2])\n",
    "env = envs[0]"
   ]
  },
  {
   "cell_type": "code",
   "execution_count": 16,
   "metadata": {},
   "outputs": [
    {
     "data": {
      "text/plain": [
       "[1, 2, 3, 4, 5, 6, 7]"
      ]
     },
     "execution_count": 16,
     "metadata": {},
     "output_type": "execute_result"
    }
   ],
   "source": [
    "list(env.actions(env._state))"
   ]
  },
  {
   "cell_type": "code",
   "execution_count": 17,
   "metadata": {
    "scrolled": true
   },
   "outputs": [
    {
     "data": {
      "text/plain": [
       "[[(-1, 1), (-1, 1), (0, 1), (1, 1)],\n",
       " [(-1, 1), (-1, 1), (0, 1), (-1, 1)],\n",
       " [(-1, 1), (-1, 1), (-1, 1), (1, 1)],\n",
       " [(-1, 1), (-1, 1), (-1, 1), (-1, 1)]]"
      ]
     },
     "execution_count": 17,
     "metadata": {},
     "output_type": "execute_result"
    }
   ],
   "source": [
    "click_seq = [1,4,2,3]\n",
    "done,option_seqs,likelihoods = parse_options(env,click_seq)\n",
    "option_seqs"
   ]
  },
  {
   "cell_type": "code",
   "execution_count": 18,
   "metadata": {},
   "outputs": [
    {
     "data": {
      "text/plain": [
       "0.0022958636312342242"
      ]
     },
     "execution_count": 18,
     "metadata": {},
     "output_type": "execute_result"
    }
   ],
   "source": [
    "np.exp(np.log(np.sum(likelihoods))/len(click_seq))"
   ]
  },
  {
   "cell_type": "code",
   "execution_count": 19,
   "metadata": {
    "scrolled": true
   },
   "outputs": [
    {
     "name": "stdout",
     "output_type": "stream",
     "text": [
      "[1.6666666666666667e-05]\n",
      "[0.12639260279504533, 1.6666666666666667e-05]\n",
      "[0.12639260279504533, 1.6666666666666667e-05]\n",
      "[1.6666666666666667e-05]\n",
      "[0.12639260279504533, 1.6666666666666667e-05]\n",
      "[0.12639260279504533, 1.6666666666666667e-05]\n",
      "[1.6666666666666661e-05, 0.12640926946171199, 0.12640926946171199, 1.6666666666666661e-05, 0.12640926946171199, 0.12640926946171199]\n"
     ]
    }
   ],
   "source": [
    "click_seqs = [[i] for i in range(1,7)]\n",
    "ls = []\n",
    "for click_seq in click_seqs:\n",
    "    done,option_seqs,likelihoods = parse_options(env,click_seq)\n",
    "    print(likelihoods)\n",
    "    ls.append(np.exp(np.log(np.sum(likelihoods))/len(click_seq)))\n",
    "print(ls)"
   ]
  },
  {
   "cell_type": "code",
   "execution_count": 20,
   "metadata": {},
   "outputs": [
    {
     "data": {
      "text/plain": [
       "0.5056704111801813"
      ]
     },
     "execution_count": 20,
     "metadata": {},
     "output_type": "execute_result"
    }
   ],
   "source": [
    "np.sum(ls)"
   ]
  },
  {
   "cell_type": "code",
   "execution_count": 21,
   "metadata": {
    "collapsed": true
   },
   "outputs": [],
   "source": [
    "def dc_model_ave(env,click_seq,t=1,p_rand=0.0001):\n",
    "    done,option_seqs,likelihoods = parse_options(env,click_seq,t,p_rand)\n",
    "    return np.exp(np.log(np.sum(likelihoods))/len(click_seq))"
   ]
  },
  {
   "cell_type": "code",
   "execution_count": 22,
   "metadata": {},
   "outputs": [
    {
     "data": {
      "text/plain": [
       "0.12640926946171199"
      ]
     },
     "execution_count": 22,
     "metadata": {},
     "output_type": "execute_result"
    }
   ],
   "source": [
    "dc_model_ave(env,click_seq)"
   ]
  },
  {
   "cell_type": "markdown",
   "metadata": {},
   "source": [
    "# Modeling"
   ]
  },
  {
   "cell_type": "code",
   "execution_count": 23,
   "metadata": {
    "collapsed": true
   },
   "outputs": [],
   "source": [
    "def make_env(mu=0, sigma=5, quantization=4, cost=1.00, seed=None, branching=[3,1,2], **kwargs):\n",
    "    if seed is not None:\n",
    "        np.random.seed(seed)\n",
    "\n",
    "    def reward(depth):\n",
    "        if depth > 0:\n",
    "            x = np.array([-2,-1,1,2])\n",
    "            return Categorical(mu + sigma * x)\n",
    "        return 0.\n",
    "\n",
    "    return MouselabEnv.new_symmetric(branching, reward, cost=cost, **kwargs)\n",
    "\n",
    "env = make_env(ground_truth=False)"
   ]
  },
  {
   "cell_type": "code",
   "execution_count": 24,
   "metadata": {},
   "outputs": [
    {
     "name": "stdout",
     "output_type": "stream",
     "text": [
      "Error importing rpy2\n",
      "60 participants\n"
     ]
    }
   ],
   "source": [
    "from analysis_utils import *\n",
    "VERSION = 'c1.1'\n",
    "exp_data = get_data(VERSION, '../experiment/data')\n",
    "\n",
    "pdf = exp_data['participants']\n",
    "pdf = pdf.loc[pdf.completed].copy()\n",
    "print(f'{len(pdf)} participants')\n",
    "complete = list(pdf.index)\n",
    "\n",
    "def extract(q):\n",
    "    return list(map(int, q['click']['state']['target']))\n",
    "\n",
    "mdf = exp_data['mouselab-mdp'].query('pid == @complete').copy()\n",
    "mdf['clicks'] = mdf.queries.apply(extract)\n",
    "mdf['n_clicks'] = mdf.clicks.apply(len)\n",
    "mdf['thinking'] = mdf['rt'].apply(get(0, default=0))\n",
    "\n",
    "tdf = mdf.query('block == \"test\"').copy()\n",
    "tdf.trial_index -= tdf.trial_index.min()\n",
    "tdf.trial_index = tdf.trial_index.astype(int)\n",
    "tdf.trial_id = tdf.trial_id.astype(int)\n",
    "\n",
    "# pdf['total_time'] = exp_data['survey'].time_elapsed / 60000\n",
    "\n",
    "pdf['n_clicks'] = tdf.groupby('pid').n_clicks.mean()\n",
    "pdf['score'] = tdf.groupby('pid').score.mean()\n",
    "pdf['thinking'] = mdf.groupby('pid').thinking.mean()"
   ]
  },
  {
   "cell_type": "code",
   "execution_count": 25,
   "metadata": {},
   "outputs": [
    {
     "name": "stdout",
     "output_type": "stream",
     "text": [
      "excluding 9 out of 60 partipicants\n"
     ]
    }
   ],
   "source": [
    "import json\n",
    "def excluded_pids():\n",
    "    sdf = exp_data['survey-multi-choice'].query('pid == @complete').copy()\n",
    "    sdf = pd.DataFrame(list(sdf.responses), index=sdf.index)\n",
    "    correct = pd.Series(['-$10 to $10', '$1', '1 cent for every $1 you make in the game'])\n",
    "    fail_quiz = (sdf != correct).sum(axis=1) > 1\n",
    "    no_click = mdf.query('block == \"train_inspector\"').groupby('pid').n_clicks.sum() == 0\n",
    "    return fail_quiz | no_click\n",
    "\n",
    "exclude = excluded_pids()\n",
    "tdf['exclude'] = list(exclude.loc[tdf.pid])\n",
    "tdf = tdf.query('~exclude').copy().drop('exclude', axis=1)\n",
    "print(f'excluding {exclude.sum()} out of {len(exclude)} partipicants')"
   ]
  },
  {
   "cell_type": "code",
   "execution_count": 26,
   "metadata": {},
   "outputs": [
    {
     "name": "stdout",
     "output_type": "stream",
     "text": [
      "7606 observations)\n"
     ]
    },
    {
     "data": {
      "text/html": [
       "<div>\n",
       "<style>\n",
       "    .dataframe thead tr:only-child th {\n",
       "        text-align: right;\n",
       "    }\n",
       "\n",
       "    .dataframe thead th {\n",
       "        text-align: left;\n",
       "    }\n",
       "\n",
       "    .dataframe tbody tr th {\n",
       "        vertical-align: top;\n",
       "    }\n",
       "</style>\n",
       "<table border=\"1\" class=\"dataframe\">\n",
       "  <thead>\n",
       "    <tr style=\"text-align: right;\">\n",
       "      <th></th>\n",
       "      <th>action</th>\n",
       "      <th>pid</th>\n",
       "      <th>state</th>\n",
       "      <th>trial_id</th>\n",
       "      <th>trial_index</th>\n",
       "    </tr>\n",
       "  </thead>\n",
       "  <tbody>\n",
       "    <tr>\n",
       "      <th>0</th>\n",
       "      <td>9</td>\n",
       "      <td>1</td>\n",
       "      <td>(0, ((-10, 0.25), (-5, 0.25), (5, 0.25), (10, ...</td>\n",
       "      <td>8034619116489218048</td>\n",
       "      <td>0</td>\n",
       "    </tr>\n",
       "    <tr>\n",
       "      <th>1</th>\n",
       "      <td>13</td>\n",
       "      <td>1</td>\n",
       "      <td>(0, ((-10, 0.25), (-5, 0.25), (5, 0.25), (10, ...</td>\n",
       "      <td>8034619116489218048</td>\n",
       "      <td>0</td>\n",
       "    </tr>\n",
       "    <tr>\n",
       "      <th>2</th>\n",
       "      <td>5</td>\n",
       "      <td>1</td>\n",
       "      <td>(0, ((-10, 0.25), (-5, 0.25), (5, 0.25), (10, ...</td>\n",
       "      <td>38024071126860576</td>\n",
       "      <td>1</td>\n",
       "    </tr>\n",
       "    <tr>\n",
       "      <th>3</th>\n",
       "      <td>9</td>\n",
       "      <td>1</td>\n",
       "      <td>(0, ((-10, 0.25), (-5, 0.25), (5, 0.25), (10, ...</td>\n",
       "      <td>38024071126860576</td>\n",
       "      <td>1</td>\n",
       "    </tr>\n",
       "    <tr>\n",
       "      <th>4</th>\n",
       "      <td>13</td>\n",
       "      <td>1</td>\n",
       "      <td>(0, ((-10, 0.25), (-5, 0.25), (5, 0.25), (10, ...</td>\n",
       "      <td>38024071126860576</td>\n",
       "      <td>1</td>\n",
       "    </tr>\n",
       "  </tbody>\n",
       "</table>\n",
       "</div>"
      ],
      "text/plain": [
       "   action  pid                                              state  \\\n",
       "0       9    1  (0, ((-10, 0.25), (-5, 0.25), (5, 0.25), (10, ...   \n",
       "1      13    1  (0, ((-10, 0.25), (-5, 0.25), (5, 0.25), (10, ...   \n",
       "2       5    1  (0, ((-10, 0.25), (-5, 0.25), (5, 0.25), (10, ...   \n",
       "3       9    1  (0, ((-10, 0.25), (-5, 0.25), (5, 0.25), (10, ...   \n",
       "4      13    1  (0, ((-10, 0.25), (-5, 0.25), (5, 0.25), (10, ...   \n",
       "\n",
       "              trial_id  trial_index  \n",
       "0  8034619116489218048            0  \n",
       "1  8034619116489218048            0  \n",
       "2    38024071126860576            1  \n",
       "3    38024071126860576            1  \n",
       "4    38024071126860576            1  "
      ]
     },
     "execution_count": 26,
     "metadata": {},
     "output_type": "execute_result"
    }
   ],
   "source": [
    "def get_env(state_rewards):\n",
    "    state_rewards[0] = 0\n",
    "    return make_env(ground_truth=state_rewards)\n",
    "tdf['env'] = tdf.state_rewards.apply(get_env)\n",
    "\n",
    "# assert len(tdf.pid.unique()) == tdf.pid.max() + 1\n",
    "def expand(df):\n",
    "    for i, row in df.iterrows():\n",
    "        env = row.env\n",
    "        env.reset()\n",
    "        for a in [*row.clicks, env.term_action]:\n",
    "            yield {'pid': row.pid, 'trial_index': row.trial_index, 'trial_id': row.trial_id,\n",
    "                   'state': env._state, 'action': a}\n",
    "            env.step(a)\n",
    "\n",
    "data = pd.DataFrame(expand(tdf))\n",
    "print(f'{len(data)} observations)')\n",
    "data.head()"
   ]
  },
  {
   "cell_type": "code",
   "execution_count": 27,
   "metadata": {
    "collapsed": true
   },
   "outputs": [],
   "source": [
    "p_errs = np.linspace(0.01,0.25, 25)\n",
    "temp = np.logspace(-5,1, 50)"
   ]
  },
  {
   "cell_type": "code",
   "execution_count": 70,
   "metadata": {},
   "outputs": [],
   "source": [
    "def dc_likelihood_grid(env, click_seq, temp=np.logspace(-5,1, 50), p_error=np.linspace(0.01,0.25, 25)):\n",
    "    n_temps = len(temp)\n",
    "    n_p_errs = len(p_error)\n",
    "    grid = np.zeros((n_temps,n_p_errs))\n",
    "    for i in range(n_temps):\n",
    "        for j in range(n_p_errs):\n",
    "            grid[i,j] = np.log(np.sum(parse_options(env,click_seq,temp[i],p_error[j])[2]))\n",
    "    return grid"
   ]
  },
  {
   "cell_type": "code",
   "execution_count": 62,
   "metadata": {},
   "outputs": [
    {
     "data": {
      "text/plain": [
       "(90, action_times                                   [11467, 13434, 16274]\n",
       " actions                                             [left, left, up]\n",
       " block                                                           test\n",
       " path                                                  [0, 9, 10, 11]\n",
       " queries            {'mouseover': {'state': {'target': [], 'time':...\n",
       " rewards                                                  [5, -5, -5]\n",
       " rt                                               [11465, 1450, 2324]\n",
       " score                                                             -6\n",
       " simulation_mode                                   [None, None, None]\n",
       " state_rewards       [0, 5, -10, -5, 10, 10, 5, -10, 5, 5, -5, -5, 5]\n",
       " time_elapsed                                                  728336\n",
       " trial_index                                                        0\n",
       " trial_time                                                     20130\n",
       " trial_id                                         8034619116489218048\n",
       " trial_type                                              mouselab-mdp\n",
       " pid                                                                1\n",
       " clicks                                                           [9]\n",
       " n_clicks                                                           1\n",
       " thinking                                                       11465\n",
       " env                                           <MouselabEnv instance>\n",
       " Name: 90, dtype: object)"
      ]
     },
     "execution_count": 62,
     "metadata": {},
     "output_type": "execute_result"
    }
   ],
   "source": [
    "list(tdf.iterrows())[0]"
   ]
  },
  {
   "cell_type": "code",
   "execution_count": 79,
   "metadata": {},
   "outputs": [
    {
     "name": "stdout",
     "output_type": "stream",
     "text": [
      "['9', '10', '11']\n",
      "[9, 10, 11]\n"
     ]
    },
    {
     "name": "stderr",
     "output_type": "stream",
     "text": [
      "/usr/local/conda3/lib/python3.6/site-packages/ipykernel_launcher.py:40: RuntimeWarning: overflow encountered in exp\n"
     ]
    }
   ],
   "source": [
    "do = 0\n",
    "for i, row in tdf.iterrows():\n",
    "    env = row.env\n",
    "    env.reset()\n",
    "    print(row.path[1:])\n",
    "    click_seq = list(map(int, row.path[1:]))\n",
    "    print(click_seq)\n",
    "    grid = dc_likelihood_grid(env, click_seq)\n",
    "    do += 1\n",
    "    if do >= 1:\n",
    "        break\n",
    "\n",
    "#     print({'pid': row.pid, 'trial_index': row.trial_index, 'trial_id': row.trial_id,\n",
    "#            'likelihood':dc_likelihood_grid(env, row.path[1:])})\n",
    "#     mle = dc_maximum_likelihood(pid_data, **params)"
   ]
  },
  {
   "cell_type": "code",
   "execution_count": 80,
   "metadata": {},
   "outputs": [
    {
     "data": {
      "text/plain": [
       "array([[   inf,    inf,    inf, ...,    inf,    inf,    inf],\n",
       "       [   inf,    inf,    inf, ...,    inf,    inf,    inf],\n",
       "       [   inf,    inf,    inf, ...,    inf,    inf,    inf],\n",
       "       ..., \n",
       "       [-2.659, -2.661, -2.663, ..., -2.701, -2.702, -2.704],\n",
       "       [-2.481, -2.484, -2.487, ..., -2.554, -2.557, -2.561],\n",
       "       [-2.278, -2.282, -2.287, ..., -2.381, -2.386, -2.391]])"
      ]
     },
     "execution_count": 80,
     "metadata": {},
     "output_type": "execute_result"
    }
   ],
   "source": [
    "grid"
   ]
  },
  {
   "cell_type": "code",
   "execution_count": null,
   "metadata": {
    "collapsed": true
   },
   "outputs": [],
   "source": [
    "from tqdm import tqdm\n",
    "def fit_participants(data):\n",
    "    \n",
    "    def pid_mle():\n",
    "        do = 5\n",
    "            for i, row in df.iterrows():\n",
    "\n",
    "\n",
    "    return pd.concat(pid_mle()).reset_index(drop=True)\n",
    "\n",
    "results = fit_participants(data)"
   ]
  }
 ],
 "metadata": {
  "kernelspec": {
   "display_name": "Python 3",
   "language": "python",
   "name": "python3"
  },
  "language_info": {
   "codemirror_mode": {
    "name": "ipython",
    "version": 3
   },
   "file_extension": ".py",
   "mimetype": "text/x-python",
   "name": "python",
   "nbconvert_exporter": "python",
   "pygments_lexer": "ipython3",
   "version": "3.6.4"
  }
 },
 "nbformat": 4,
 "nbformat_minor": 2
}
