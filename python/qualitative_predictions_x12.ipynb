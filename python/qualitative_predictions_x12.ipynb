{
 "cells": [
  {
   "cell_type": "code",
   "execution_count": 57,
   "metadata": {
    "collapsed": false
   },
   "outputs": [
    {
     "name": "stdout",
     "output_type": "stream",
     "text": [
      "The autoreload extension is already loaded. To reload it, use:\n",
      "  %reload_ext autoreload\n"
     ]
    }
   ],
   "source": [
    "%matplotlib inline\n",
    "%load_ext autoreload\n",
    "%autoreload 2\n",
    "\n",
    "import matplotlib.pyplot as plt\n",
    "import numpy as np\n",
    "import pandas as pd\n",
    "import seaborn as sns\n",
    "sns.set_style('white')\n",
    "sns.set_context('notebook', font_scale=1.3)\n",
    "\n",
    "import itertools as it\n",
    "from collections import Counter, defaultdict, deque\n",
    "\n",
    "import sys\n",
    "from analysis_utils import *\n",
    "\n",
    "import itertools as it\n",
    "from collections import Counter, defaultdict, deque\n",
    "import matplotlib.pyplot as plt\n",
    "from pandas import DataFrame, Series\n",
    "\n",
    "from toolz.curried import get, curry"
   ]
  },
  {
   "cell_type": "markdown",
   "metadata": {},
   "source": [
    "# Define Environment"
   ]
  },
  {
   "cell_type": "code",
   "execution_count": 123,
   "metadata": {
    "collapsed": true
   },
   "outputs": [],
   "source": [
    "from mouselab import MouselabEnv\n",
    "from distributions import Categorical, Normal\n",
    "\n",
    "def make_env(mu=0, sigma=6, quantization=4, cost=1.00, seed=None, branching=[3,1,2], **kwargs):\n",
    "    if seed is not None:\n",
    "        np.random.seed(seed)\n",
    "\n",
    "    def reward(depth):\n",
    "        if depth > 0:\n",
    "            return Categorical([-10, -5, 5, 10])\n",
    "#             d = Normal(mu, sigma).to_discrete(quantization)\n",
    "#             return Categorical(map(round, d.vals), d.probs)\n",
    "        return 0.\n",
    "\n",
    "    return MouselabEnv.new_symmetric(branching, reward, cost=cost, **kwargs)\n",
    "\n",
    "env = make_env()"
   ]
  },
  {
   "cell_type": "markdown",
   "metadata": {},
   "source": [
    "# Load Data"
   ]
  },
  {
   "cell_type": "code",
   "execution_count": 124,
   "metadata": {
    "collapsed": false
   },
   "outputs": [
    {
     "name": "stdout",
     "output_type": "stream",
     "text": [
      "62 participants\n",
      "60 participants\n",
      "excluding 9 out of 60 partipicants\n"
     ]
    }
   ],
   "source": [
    "from analysis_utils import *\n",
    "VERSION = 'c1.1'\n",
    "data = get_data(VERSION, '../experiment/data')\n",
    "pdf = data['participants']\n",
    "print(f'{len(pdf)} participants')\n",
    "mdf = data['mouselab-mdp']\n",
    "\n",
    "pdf = pdf.loc[pdf.completed].copy()\n",
    "print(f'{len(pdf)} participants')\n",
    "complete = list(pdf.index)\n",
    "\n",
    "def extract(q):\n",
    "    return list(map(int, q['click']['state']['target']))\n",
    "\n",
    "mdf = data['mouselab-mdp'].query('pid == @complete').copy()\n",
    "mdf['clicks'] = mdf.queries.apply(extract)\n",
    "mdf['n_clicks'] = mdf.clicks.apply(len)\n",
    "mdf['thinking'] = mdf['rt'].apply(get(0, default=0))\n",
    "\n",
    "tdf = mdf.query('block == \"test\"').copy()\n",
    "tdf.trial_index -= tdf.trial_index.min()\n",
    "tdf.trial_index = tdf.trial_index.astype(int)\n",
    "tdf.trial_id = tdf.trial_id.astype(int)\n",
    "\n",
    "# pdf['total_time'] = exp_data['survey'].time_elapsed / 60000\n",
    "\n",
    "pdf['n_clicks'] = tdf.groupby('pid').n_clicks.mean()\n",
    "pdf['score'] = tdf.groupby('pid').score.mean()\n",
    "pdf['thinking'] = mdf.groupby('pid').thinking.mean()\n",
    "\n",
    "def get_env(state_rewards):\n",
    "    state_rewards[0] = 0\n",
    "    return make_env(ground_truth=state_rewards)\n",
    "\n",
    "tdf['env'] = tdf.state_rewards.apply(get_env)\n",
    "\n",
    "import json\n",
    "def excluded_pids():\n",
    "    sdf = data['survey-multi-choice'].query('pid == @complete').copy()\n",
    "    sdf = pd.DataFrame(list(sdf.responses), index=sdf.index)\n",
    "    correct = pd.Series(['-$10 to $10', '$1', '1 cent for every $1 you make in the game'])\n",
    "    fail_quiz = (sdf != correct).sum(axis=1) > 1\n",
    "    no_click = mdf.query('block == \"train_inspector\"').groupby('pid').n_clicks.sum() == 0\n",
    "    return fail_quiz | no_click\n",
    "\n",
    "exclude = excluded_pids()\n",
    "tdf['exclude'] = list(exclude.loc[tdf.pid])\n",
    "tdf = tdf.query('~exclude').copy().drop('exclude', axis=1)\n",
    "print(f'excluding {exclude.sum()} out of {len(exclude)} partipicants')"
   ]
  },
  {
   "cell_type": "code",
   "execution_count": 125,
   "metadata": {
    "collapsed": false
   },
   "outputs": [
    {
     "name": "stdout",
     "output_type": "stream",
     "text": [
      "Our dataset comprised 1530 test trials with 6076 clicks in total.\n",
      "Average duration: 16.619850847457627 min\n"
     ]
    }
   ],
   "source": [
    "total_nr_trials = len(tdf)\n",
    "\n",
    "total_nr_clicks=np.sum(tdf['clicks'].apply(len))\n",
    "\n",
    "print(\"Our dataset comprised {} test trials with {} clicks in total.\".format(total_nr_trials,total_nr_clicks))\n",
    "\n",
    "#print(data.keys())\n",
    "avg_duration = np.mean(data[\"survey-text\"][\"time_elapsed\"][1:-1:2])/(60*1000)\n",
    "print(\"Average duration: {} min\".format(avg_duration))"
   ]
  },
  {
   "cell_type": "code",
   "execution_count": 73,
   "metadata": {
    "collapsed": false
   },
   "outputs": [
    {
     "name": "stdout",
     "output_type": "stream",
     "text": [
      "Avg. bonus: 2.164 , STD: 1.1649165921501277\n"
     ]
    },
    {
     "ename": "AttributeError",
     "evalue": "'DataFrame' object has no attribute 'total_time'",
     "output_type": "error",
     "traceback": [
      "\u001b[0;31m---------------------------------------------------------------------------\u001b[0m",
      "\u001b[0;31mAttributeError\u001b[0m                            Traceback (most recent call last)",
      "\u001b[0;32m<ipython-input-73-c8e38c4d40f3>\u001b[0m in \u001b[0;36m<module>\u001b[0;34m()\u001b[0m\n\u001b[1;32m      3\u001b[0m \u001b[0mprint\u001b[0m\u001b[0;34m(\u001b[0m\u001b[0;34m\"Avg. bonus: {} , STD: {}\"\u001b[0m\u001b[0;34m.\u001b[0m\u001b[0mformat\u001b[0m\u001b[0;34m(\u001b[0m\u001b[0mnp\u001b[0m\u001b[0;34m.\u001b[0m\u001b[0mmean\u001b[0m\u001b[0;34m(\u001b[0m\u001b[0mpdf\u001b[0m\u001b[0;34m.\u001b[0m\u001b[0mbonus\u001b[0m\u001b[0;34m)\u001b[0m\u001b[0;34m,\u001b[0m\u001b[0mnp\u001b[0m\u001b[0;34m.\u001b[0m\u001b[0mstd\u001b[0m\u001b[0;34m(\u001b[0m\u001b[0mpdf\u001b[0m\u001b[0;34m.\u001b[0m\u001b[0mbonus\u001b[0m\u001b[0;34m)\u001b[0m\u001b[0;34m)\u001b[0m\u001b[0;34m)\u001b[0m\u001b[0;34m\u001b[0m\u001b[0m\n\u001b[1;32m      4\u001b[0m \u001b[0;34m\u001b[0m\u001b[0m\n\u001b[0;32m----> 5\u001b[0;31m \u001b[0mpdf\u001b[0m\u001b[0;34m[\u001b[0m\u001b[0;34m'wage'\u001b[0m\u001b[0;34m]\u001b[0m \u001b[0;34m=\u001b[0m \u001b[0mpdf\u001b[0m\u001b[0;34m.\u001b[0m\u001b[0mpay\u001b[0m \u001b[0;34m/\u001b[0m \u001b[0;34m(\u001b[0m\u001b[0mpdf\u001b[0m\u001b[0;34m.\u001b[0m\u001b[0mtotal_time\u001b[0m \u001b[0;34m/\u001b[0m \u001b[0;36m60\u001b[0m\u001b[0;34m)\u001b[0m\u001b[0;34m\u001b[0m\u001b[0m\n\u001b[0m\u001b[1;32m      6\u001b[0m \u001b[0mprint\u001b[0m\u001b[0;34m(\u001b[0m\u001b[0;34mf'{pdf.wage.mean():.2f}  {pdf.wage.min():.2f}  {pdf.wage.std():.2f}'\u001b[0m\u001b[0;34m)\u001b[0m\u001b[0;34m\u001b[0m\u001b[0m\n\u001b[1;32m      7\u001b[0m \u001b[0;34m\u001b[0m\u001b[0m\n",
      "\u001b[0;32m~/miniconda3/envs/mcrl/lib/python3.6/site-packages/pandas/core/generic.py\u001b[0m in \u001b[0;36m__getattr__\u001b[0;34m(self, name)\u001b[0m\n\u001b[1;32m   3612\u001b[0m             \u001b[0;32mif\u001b[0m \u001b[0mname\u001b[0m \u001b[0;32min\u001b[0m \u001b[0mself\u001b[0m\u001b[0;34m.\u001b[0m\u001b[0m_info_axis\u001b[0m\u001b[0;34m:\u001b[0m\u001b[0;34m\u001b[0m\u001b[0m\n\u001b[1;32m   3613\u001b[0m                 \u001b[0;32mreturn\u001b[0m \u001b[0mself\u001b[0m\u001b[0;34m[\u001b[0m\u001b[0mname\u001b[0m\u001b[0;34m]\u001b[0m\u001b[0;34m\u001b[0m\u001b[0m\n\u001b[0;32m-> 3614\u001b[0;31m             \u001b[0;32mreturn\u001b[0m \u001b[0mobject\u001b[0m\u001b[0;34m.\u001b[0m\u001b[0m__getattribute__\u001b[0m\u001b[0;34m(\u001b[0m\u001b[0mself\u001b[0m\u001b[0;34m,\u001b[0m \u001b[0mname\u001b[0m\u001b[0;34m)\u001b[0m\u001b[0;34m\u001b[0m\u001b[0m\n\u001b[0m\u001b[1;32m   3615\u001b[0m \u001b[0;34m\u001b[0m\u001b[0m\n\u001b[1;32m   3616\u001b[0m     \u001b[0;32mdef\u001b[0m \u001b[0m__setattr__\u001b[0m\u001b[0;34m(\u001b[0m\u001b[0mself\u001b[0m\u001b[0;34m,\u001b[0m \u001b[0mname\u001b[0m\u001b[0;34m,\u001b[0m \u001b[0mvalue\u001b[0m\u001b[0;34m)\u001b[0m\u001b[0;34m:\u001b[0m\u001b[0;34m\u001b[0m\u001b[0m\n",
      "\u001b[0;31mAttributeError\u001b[0m: 'DataFrame' object has no attribute 'total_time'"
     ]
    }
   ],
   "source": [
    "pdf['pay'] = (1 + pdf.bonus)\n",
    "\n",
    "print(\"Avg. bonus: {} , STD: {}\".format(np.mean(pdf.bonus),np.std(pdf.bonus)))\n",
    "\n",
    "pdf['wage'] = pdf.pay / (pdf.total_time / 60)\n",
    "print(f'{pdf.wage.mean():.2f}  {pdf.wage.min():.2f}  {pdf.wage.std():.2f}')\n",
    "\n",
    "sns.lmplot('n_clicks', 'wage', data=pdf)\n",
    "plt.axhline(pdf.wage.mean(), c='r', ls='--')"
   ]
  },
  {
   "cell_type": "code",
   "execution_count": 8,
   "metadata": {
    "collapsed": false
   },
   "outputs": [
    {
     "data": {
      "text/plain": [
       "<seaborn.axisgrid.FacetGrid at 0x7f2fc8585080>"
      ]
     },
     "execution_count": 8,
     "metadata": {},
     "output_type": "execute_result"
    },
    {
     "data": {
      "image/png": "[encoded data removed]",
      "text/plain": [
       "<matplotlib.figure.Figure at 0x7f2fbc18bbe0>"
      ]
     },
     "metadata": {},
     "output_type": "display_data"
    }
   ],
   "source": [
    "sns.factorplot('trial_index', 'score', data=tdf, size=8)"
   ]
  },
  {
   "cell_type": "markdown",
   "metadata": {},
   "source": [
    "# Python stats"
   ]
  },
  {
   "cell_type": "code",
   "execution_count": 9,
   "metadata": {
    "collapsed": false
   },
   "outputs": [
    {
     "data": {
      "text/html": [
       "<table class=\"simpletable\">\n",
       "<caption>OLS Regression Results</caption>\n",
       "<tr>\n",
       "  <th>Dep. Variable:</th>          <td>score</td>      <th>  R-squared:         </th> <td>   0.001</td>\n",
       "</tr>\n",
       "<tr>\n",
       "  <th>Model:</th>                   <td>OLS</td>       <th>  Adj. R-squared:    </th> <td>  -0.003</td>\n",
       "</tr>\n",
       "<tr>\n",
       "  <th>Method:</th>             <td>Least Squares</td>  <th>  F-statistic:       </th> <td>  0.2673</td>\n",
       "</tr>\n",
       "<tr>\n",
       "  <th>Date:</th>             <td>Wed, 24 Jan 2018</td> <th>  Prob (F-statistic):</th>  <td> 0.606</td> \n",
       "</tr>\n",
       "<tr>\n",
       "  <th>Time:</th>                 <td>13:40:49</td>     <th>  Log-Likelihood:    </th> <td> -779.59</td>\n",
       "</tr>\n",
       "<tr>\n",
       "  <th>No. Observations:</th>      <td>   270</td>      <th>  AIC:               </th> <td>   1563.</td>\n",
       "</tr>\n",
       "<tr>\n",
       "  <th>Df Residuals:</th>          <td>   268</td>      <th>  BIC:               </th> <td>   1570.</td>\n",
       "</tr>\n",
       "<tr>\n",
       "  <th>Df Model:</th>              <td>     1</td>      <th>                     </th>     <td> </td>   \n",
       "</tr>\n",
       "<tr>\n",
       "  <th>Covariance Type:</th>      <td>nonrobust</td>    <th>                     </th>     <td> </td>   \n",
       "</tr>\n",
       "</table>\n",
       "<table class=\"simpletable\">\n",
       "<tr>\n",
       "       <td></td>          <th>coef</th>     <th>std err</th>      <th>t</th>      <th>P>|t|</th>  <th>[0.025</th>    <th>0.975]</th>  \n",
       "</tr>\n",
       "<tr>\n",
       "  <th>Intercept</th>   <td>    6.0036</td> <td>    0.518</td> <td>   11.601</td> <td> 0.000</td> <td>    4.985</td> <td>    7.022</td>\n",
       "</tr>\n",
       "<tr>\n",
       "  <th>trial_index</th> <td>    0.0158</td> <td>    0.031</td> <td>    0.517</td> <td> 0.606</td> <td>   -0.044</td> <td>    0.076</td>\n",
       "</tr>\n",
       "</table>\n",
       "<table class=\"simpletable\">\n",
       "<tr>\n",
       "  <th>Omnibus:</th>       <td> 1.085</td> <th>  Durbin-Watson:     </th> <td>   2.088</td>\n",
       "</tr>\n",
       "<tr>\n",
       "  <th>Prob(Omnibus):</th> <td> 0.581</td> <th>  Jarque-Bera (JB):  </th> <td>   1.193</td>\n",
       "</tr>\n",
       "<tr>\n",
       "  <th>Skew:</th>          <td>-0.126</td> <th>  Prob(JB):          </th> <td>   0.551</td>\n",
       "</tr>\n",
       "<tr>\n",
       "  <th>Kurtosis:</th>      <td> 2.794</td> <th>  Cond. No.          </th> <td>    33.0</td>\n",
       "</tr>\n",
       "</table>"
      ],
      "text/plain": [
       "<class 'statsmodels.iolib.summary.Summary'>\n",
       "\"\"\"\n",
       "                            OLS Regression Results                            \n",
       "==============================================================================\n",
       "Dep. Variable:                  score   R-squared:                       0.001\n",
       "Model:                            OLS   Adj. R-squared:                 -0.003\n",
       "Method:                 Least Squares   F-statistic:                    0.2673\n",
       "Date:                Wed, 24 Jan 2018   Prob (F-statistic):              0.606\n",
       "Time:                        13:40:49   Log-Likelihood:                -779.59\n",
       "No. Observations:                 270   AIC:                             1563.\n",
       "Df Residuals:                     268   BIC:                             1570.\n",
       "Df Model:                           1                                         \n",
       "Covariance Type:            nonrobust                                         \n",
       "===============================================================================\n",
       "                  coef    std err          t      P>|t|      [0.025      0.975]\n",
       "-------------------------------------------------------------------------------\n",
       "Intercept       6.0036      0.518     11.601      0.000       4.985       7.022\n",
       "trial_index     0.0158      0.031      0.517      0.606      -0.044       0.076\n",
       "==============================================================================\n",
       "Omnibus:                        1.085   Durbin-Watson:                   2.088\n",
       "Prob(Omnibus):                  0.581   Jarque-Bera (JB):                1.193\n",
       "Skew:                          -0.126   Prob(JB):                        0.551\n",
       "Kurtosis:                       2.794   Cond. No.                         33.0\n",
       "==============================================================================\n",
       "\n",
       "Warnings:\n",
       "[1] Standard Errors assume that the covariance matrix of the errors is correctly specified.\n",
       "\"\"\""
      ]
     },
     "execution_count": 9,
     "metadata": {},
     "output_type": "execute_result"
    }
   ],
   "source": [
    "import statsmodels.formula.api as smf\n",
    "model = smf.ols('score ~ trial_index', data=tdf).fit()\n",
    "model.summary()"
   ]
  },
  {
   "cell_type": "markdown",
   "metadata": {},
   "source": [
    "## Test qualitative predictions for Experiment 1"
   ]
  },
  {
   "cell_type": "markdown",
   "metadata": {},
   "source": [
    "1. The first observed node is a stem node.\n",
    "1. The second observed node is a leaf node.\n",
    "1. Observe at least two pieces of information.\n",
    "1. If the first observed node is a non-leaf and its revealed value is above average (5 or 10), then people should inspect a leaf node on the same branch. But if the value is below average (0 or -4) then they should inspect a leaf node on a different branch.\n",
    "1. People should not stop after only two observations unless the non-leaf reward was below average and the leaf reward on the other branch was large (+10).\n",
    "1. People should never stop collecting information until they have at least found a path with an above-average expected return (5 + mu_R) or have pruned all paths but one.\n",
    "1. The aspiration level decreases as more information is observed. This means that the average expected return upon stopping should decrease with the number of observations."
   ]
  },
  {
   "cell_type": "markdown",
   "metadata": {},
   "source": [
    "### Prediction 1: The first observed node is a stem node rather than a leaf node."
   ]
  },
  {
   "cell_type": "code",
   "execution_count": 42,
   "metadata": {
    "collapsed": false
   },
   "outputs": [
    {
     "name": "stdout",
     "output_type": "stream",
     "text": [
      "72.6% of the first clicks were on stem nodes.\n",
      "10.0% of the first clicks were on branch nodes.\n",
      "17.4% of the first clicks were on leaf nodes.\n",
      "Like the optimal strategy, people's first click is more often a stem or branch node than a leaf node (p=2.3071635152225327e-87).\n",
      "1.97269732649e-103\n"
     ]
    }
   ],
   "source": [
    "from statsmodels.stats.proportion import binom_test\n",
    "from scipy import stats\n",
    "\n",
    "trial_ids = tdf['clicks'].keys()\n",
    "\n",
    "first_click = np.array([])\n",
    "second_click = np.array([])\n",
    "\n",
    "first_observation = np.array([])\n",
    "\n",
    "first_click_level = np.array([])\n",
    "second_click_level = np.array([])\n",
    "\n",
    "first_click_branch = np.array([])\n",
    "second_click_branch = np.array([])\n",
    "\n",
    "observed_value = np.array([])\n",
    "second_observed_value = np.array([])\n",
    "\n",
    "nr_levels = 3\n",
    "nr_branches = 3\n",
    "\n",
    "leaf_nodes = [3,4,7,8,11,12]\n",
    "stem_nodes = [1,5,9]\n",
    "branch_nodes = [2,6,10]\n",
    "\n",
    "\n",
    "nodes_by_depth=[stem_nodes,branch_nodes,leaf_nodes]\n",
    "nodes_by_branch=[[1,2,3,4],[5,6,7,8],[9,10,11,12]]\n",
    "\n",
    "\n",
    "nr_clicks = np.array([])\n",
    "\n",
    "for t in trial_ids:\n",
    "        \n",
    "    clicks = tdf['clicks'][t]\n",
    "    if len(clicks)>0:\n",
    "        first_click = np.append(first_click,[clicks[0]])\n",
    "        \n",
    "        for level in range(nr_levels):\n",
    "            if np.isin(first_click[-1],nodes_by_depth[level]):\n",
    "                first_click_level = np.append(first_click_level,level+1)\n",
    "\n",
    "        for branch in range(nr_branches):\n",
    "            if np.isin(first_click[-1],nodes_by_branch[branch]):\n",
    "                first_click_branch = np.append(first_click_branch,branch+1)\n",
    "                \n",
    "        #todo: push the observed value\n",
    "        trial_id = tdf['trial_id'][t]\n",
    "        rewards =tdf['env'][t].ground_truth\n",
    "        \n",
    "        first_obs = rewards[int(first_click[-1])]\n",
    "        observed_value = np.append(observed_value,[first_obs])\n",
    "        nr_clicks = np.append(nr_clicks,len(clicks))\n",
    "        if len(clicks)>1:\n",
    "            second_click = np.append(second_click,[clicks[1]])\n",
    "            for level in range(nr_levels):\n",
    "                if np.isin(second_click[-1],nodes_by_depth[level]):\n",
    "                    second_click_level = np.append(second_click_level,level+1)\n",
    "            \n",
    "            for branch in range(nr_branches):\n",
    "                if np.isin(second_click[-1],nodes_by_branch[branch]):\n",
    "                    second_click_branch = np.append(second_click_branch,branch+1)\n",
    "            \n",
    "            second_obs = rewards[int(second_click[-1])]\n",
    "            second_observed_value= np.append(second_observed_value,[second_obs])\n",
    "\n",
    "        else:\n",
    "            second_click = np.append(second_click,[17])\n",
    "            second_click_level = np.append(second_click_level,[0])\n",
    "            second_click_branch = np.append(second_click_branch,[0])\n",
    "            second_observed_value = np.append(second_observed_value,[None])\n",
    "\n",
    "\n",
    "print(\"{:4.1f}% of the first clicks were on stem nodes.\".format(100*np.mean(first_click_level==1)))\n",
    "print(\"{:4.1f}% of the first clicks were on branch nodes.\".format(100*np.mean(first_click_level==2)))\n",
    "print(\"{:4.1f}% of the first clicks were on leaf nodes.\".format(100*np.mean(first_click_level==3)))\n",
    "\n",
    "#int(np.sum(first_click_level==1))\n",
    "#p_less_leafs = binom_test(int(np.sum(first_click_level==3)),int(len(first_click_level)),0.5,'smaller')\n",
    "\n",
    "chi2_results=stats.chi2_contingency([[len(first_click_level),np.sum(first_click_level==3)],[len(first_click_level),np.sum(first_click_level<3)]])\n",
    "\n",
    "chi2_branch_vs_stem=stats.chi2_contingency([[len(first_click_level),np.sum(first_click_level==1)],[len(first_click_level),np.sum(first_click_level==2)]])\n",
    "\n",
    "\n",
    "print(\"Like the optimal strategy, people's first click is more often a stem or branch node than a leaf node (p={}).\".format(chi2_results[1]))\n",
    "\n",
    "#p_less_than_one = binom_test(int(np.sum(first_click_level==1)),int(len(first_click_level)),1,'smaller')\n",
    "\n",
    "print(chi2_branch_vs_stem[1])\n"
   ]
  },
  {
   "cell_type": "markdown",
   "metadata": {},
   "source": [
    "### Prediction 2: Participants make at least two clicks on every trial."
   ]
  },
  {
   "cell_type": "code",
   "execution_count": 43,
   "metadata": {
    "collapsed": false
   },
   "outputs": [
    {
     "name": "stdout",
     "output_type": "stream",
     "text": [
      "Participants collect at least two pieces of information on 89.1% of the trials.\n",
      "This is significantly more often than would be expected by chance (p=2.218190309032456e-202).\n",
      "Participants collect at least 1 pieces of information on 100.0% of the trials.\n",
      "Participants collect at least 2 pieces of information on 89.1% of the trials.\n",
      "Participants collect at least 3 pieces of information on 77.7% of the trials.\n",
      "Participants collect at least 4 pieces of information on 59.2% of the trials.\n",
      "Participants collect at least 5 pieces of information on 44.7% of the trials.\n",
      "Participants collect at least 6 pieces of information on 32.1% of the trials.\n",
      "Participants collect at least 7 pieces of information on 20.8% of the trials.\n",
      "Participants collect at least 8 pieces of information on 15.0% of the trials.\n",
      "Participants collect at least 9 pieces of information on  9.9% of the trials.\n",
      "Participants collect at least 10 pieces of information on  5.7% of the trials.\n",
      "Participants collect at least 11 pieces of information on  3.3% of the trials.\n",
      "Participants collect at least 12 pieces of information on  1.8% of the trials.\n",
      "Participants collect at least 13 pieces of information on  0.0% of the trials.\n"
     ]
    }
   ],
   "source": [
    "print(\"Participants collect at least two pieces of information on {:4.1f}% of the trials.\".format(100*np.mean(nr_clicks>=2)))\n",
    "\n",
    "p_nr_clicks = binom_test(int(np.sum(nr_clicks>=2)),int(len(nr_clicks)),0.5)\n",
    "\n",
    "print(\"This is significantly more often than would be expected by chance (p={}).\".format(p_nr_clicks))\n",
    "\n",
    "for n in range(13):\n",
    "    print(\"Participants collect at least {} pieces of information on {:4.1f}% of the trials.\".format(n+1,100*np.mean(nr_clicks>n)))"
   ]
  },
  {
   "cell_type": "markdown",
   "metadata": {},
   "source": [
    "### Prediction 3: If the first observed values is better than average, people should stay on the same branch, and else they should switch to a different branch. \n",
    "."
   ]
  },
  {
   "cell_type": "code",
   "execution_count": 44,
   "metadata": {
    "collapsed": false
   },
   "outputs": [
    {
     "name": "stdout",
     "output_type": "stream",
     "text": [
      "If the observed value was below average then 86.4% switched the branch (p=2.4070624030990646e-85).\n",
      "If the observed value was above average then 59.7% stayed on the branch (p=1.0016524616603243e-05).\n"
     ]
    }
   ],
   "source": [
    "same_branch = first_click_branch[nr_clicks>1] == second_click_branch[nr_clicks>1]\n",
    "branch_switch = first_click_branch[nr_clicks>1] != second_click_branch[nr_clicks>1]\n",
    "\n",
    "smallest_good_value = 5\n",
    "best_value = 10\n",
    "best_bad_value = 0\n",
    "leaf_level = 3\n",
    "\n",
    "good_observation = observed_value[nr_clicks>1] >= smallest_good_value\n",
    "bad_observation = observed_value[nr_clicks>1] <= best_bad_value\n",
    "\n",
    "stopped_after_good_obs = second_click_level[np.logical_and(observed_value>= smallest_good_value , first_click_level < leaf_level)]==0\n",
    "stopped_after_good_observation = 100 * np.mean(stopped_after_good_obs)\n",
    "p_stopped = binom_test(int(np.sum(stopped_after_good_obs)),int(len(stopped_after_good_obs)),0.5)\n",
    "\n",
    "continued_after_bad_obs = second_click_level[np.logical_and(observed_value<= best_bad_value , first_click_level < leaf_level)]!=0\n",
    "continued_after_bad_observation = 100 * np.mean(continued_after_bad_obs)\n",
    "p_continued = binom_test(int(np.sum(continued_after_bad_obs)),int(len(continued_after_bad_obs)),0.5)\n",
    "\n",
    "\n",
    "#print(\"If the observed value was bad then {:3.1f}% continued planning (p={}).\".format(continued_after_bad_observation,p_continued))\n",
    "#print(\"If the observed value was good then {:3.1f}% stopped planning (p={}).\".format(stopped_after_good_observation,p_stopped))\n",
    "\n",
    "switch_away_from_bad = branch_switch[bad_observation]\n",
    "p_switched_from_bad = binom_test(int(np.sum(switch_away_from_bad)),int(len(switch_away_from_bad)),0.5)\n",
    "\n",
    "switch_away_from_good = branch_switch[good_observation]\n",
    "p_switched_from_good = binom_test(int(np.sum(switch_away_from_good)),int(len(switch_away_from_good)),0.5)\n",
    "\n",
    "print(\"If the observed value was below average then {:3.1f}% switched the branch (p={}).\".format(100*np.mean(switch_away_from_bad),p_switched_from_bad))\n",
    "print(\"If the observed value was above average then {:3.1f}% stayed on the branch (p={}).\".format(100-100*np.mean(switch_away_from_good),p_switched_from_good))\n"
   ]
  },
  {
   "cell_type": "markdown",
   "metadata": {},
   "source": [
    "### Prediction 4: If the first observed node is a non-leaf and its revealed value is positive but small (+5), then people should inspect another non-leaf on the same branch, and if its revealed value is large and positive (+10), then people should inspect a leaf on the same branch. "
   ]
  },
  {
   "cell_type": "code",
   "execution_count": 56,
   "metadata": {
    "collapsed": false
   },
   "outputs": [
    {
     "name": "stdout",
     "output_type": "stream",
     "text": [
      "If the first observation was a large positive value, then 28.9% of the following clicks were leafs on the same branch.\n",
      "If the first observation was a large positive value, then 51.5% of the following clicks were nonleafs on the same branch.\n",
      "If the first observation was a small good value, then 25.1% of the following clicks were nonleafs on the same branch.\n",
      "Following a small good value people would switch the branch 57.0% of the time.\n",
      "Following a small good value people would inspect a leaf on the same branch 17.9% of the time.\n",
      "(10.111892359451083, 0.0014731562371690877, 1, array([[  86.89984825,  216.10015175],\n",
      "       [ 102.10015175,  253.89984825]]))\n"
     ]
    }
   ],
   "source": [
    "best_value = 10\n",
    "smallest_good_value = 5\n",
    "\n",
    "small_good_observation =  observed_value[nr_clicks>1] == smallest_good_value\n",
    "large_good_observation =  observed_value[nr_clicks>1] == best_value\n",
    "\n",
    "second_click_on_leaf = second_click_level[nr_clicks>1] == 3\n",
    "\n",
    "leaf_same_branch = np.logical_and(second_click_on_leaf,same_branch)\n",
    "nonleaf_same_branch = np.logical_and(second_click_on_leaf==False,same_branch)\n",
    "leaf_different_branch = np.logical_and(second_click_on_leaf,branch_switch)\n",
    "nonleaf_different_branch = np.logical_and(second_click_on_leaf==False,branch_switch)\n",
    "\n",
    "print(\"If the first observation was a large positive value, then {:3.1f}% of the following clicks were leafs on the same branch.\".format(100*np.mean(leaf_same_branch[large_good_observation])))\n",
    "print(\"If the first observation was a large positive value, then {:3.1f}% of the following clicks were nonleafs on the same branch.\".format(100*np.mean(nonleaf_same_branch[large_good_observation])))\n",
    "print(\"If the first observation was a small good value, then {:3.1f}% of the following clicks were nonleafs on the same branch.\".format(100*np.mean(nonleaf_same_branch[small_good_observation])))\n",
    "print(\"Following a small good value people would switch the branch {:3.1f}% of the time.\".format(100*np.mean(branch_switch[small_good_observation])))\n",
    "print(\"Following a small good value people would inspect a leaf on the same branch {:3.1f}% of the time.\".format(100*np.mean(leaf_same_branch[small_good_observation])))\n",
    "\n",
    "results=stats.chi2_contingency([[np.sum(leaf_same_branch[large_good_observation]),np.sum(large_good_observation)],[np.sum(nonleaf_same_branch[large_good_observation]),np.sum(large_good_observation)]],'less')\n",
    "print(results)\n",
    "\n",
    "#print(np.mean(nonleaf_different_branch[small_good_observation]))\n",
    "#print(np.mean(nonleaf_different_branch[small_good_observation]))\n",
    "\n",
    "#percent_leafs_after_large_good_obs = 100 * np.mean(second_click_level[np.logical_and(observed_value>= smallest_good_value , first_click_level < leaf_level)]==leaf_level)\n",
    "#percent_leafs_after_bad_obs = 100 * np.mean(second_click_level[np.logical_and(observed_value<= best_bad_value , first_click_level < leaf_level)]==leaf_level)\n",
    "\n",
    "#print(\"\\nFrequency of agreement with the model: \")\n",
    "#print(\"{:3.1f}% of the clicks following a good observation were leafs on the same branch.\".format(100*np.mean(leaf_on_same_branch[good_observation])))\n",
    "#print(\"{:3.1f}% of the clicks following a bad observation were leafs on the other branch.\".format(100*np.mean(leaf_on_different_branch[bad_observation])))\n",
    "#print(\"{:3.1f}% of the clicks following a bad observation were the stem of the other branch.\".format(100*np.mean(nonleaf_on_different_branch[bad_observation])))\n",
    "\n",
    "#print(\"\\nFrequency of disagreement with the model: \")\n",
    "#print(\"Following a bad observation participants inspected the stem of the other branch {:3.1f}% of the time.\".format(100*np.mean(nonleaf_on_different_branch[bad_observation])))\n",
    "#print(\"Following a bad observation participants inspected a leaf on the same branch {:3.1f}% of the time.\".format(100*np.mean(leaf_on_same_branch[bad_observation])))\n",
    "#print(np.mean(leafs_on_same_branch[bad_observation]))\n",
    "#print(np.mean(nonleaf_on_different_branch[good_observation]))\n",
    "\n",
    "\n",
    "#percent_leafs_after_bad_obs = 100 * np.mean(second_click_level[np.logical_and(observed_value<= best_bad_value , first_click_level < leaf_level)]==leaf_level)\n",
    "\n",
    "\n",
    "#print(\"\\nIf the observed value was above average, then {:3.1f}% clicked on a leaf afterward.\".format(percent_leafs_after_good_obs))\n",
    "#print(\"If the observed value was below average, then {:3.1f}% clicked on a leaf afterward\".format(percent_leafs_after_bad_obs))"
   ]
  },
  {
   "cell_type": "code",
   "execution_count": 51,
   "metadata": {
    "collapsed": false
   },
   "outputs": [
    {
     "data": {
      "text/plain": [
       "([68, 235], [121, 235])"
      ]
     },
     "execution_count": 51,
     "metadata": {},
     "output_type": "execute_result"
    }
   ],
   "source": [
    "[np.sum(leaf_same_branch[large_good_observation]),np.sum(large_good_observation)],[np.sum(nonleaf_same_branch[large_good_observation]),np.sum(large_good_observation)]"
   ]
  },
  {
   "cell_type": "markdown",
   "metadata": {},
   "source": [
    "### Prediction 5: People should always inspect a node that lies on a path with maximal expected return."
   ]
  },
  {
   "cell_type": "code",
   "execution_count": 25,
   "metadata": {
    "collapsed": false
   },
   "outputs": [
    {
     "name": "stdout",
     "output_type": "stream",
     "text": [
      "100.0% +- 0.0% of the participants' click nr. 1 lay on an a best observable path.\n",
      "77.9% +- 1.2% of the participants' click nr. 2 lay on an a best observable path.\n",
      "67.6% +- 1.5% of the participants' click nr. 3 lay on an a best observable path.\n",
      "89.1% +- 1.1% of the participants' click nr. 4 lay on an a best observable path.\n",
      "75.3% +- 1.8% of the participants' click nr. 5 lay on an a best observable path.\n",
      "76.5% +- 2.1% of the participants' click nr. 6 lay on an a best observable path.\n",
      "82.9% +- 2.3% of the participants' click nr. 7 lay on an a best observable path.\n",
      "73.7% +- 3.1% of the participants' click nr. 8 lay on an a best observable path.\n",
      "73.3% +- 3.9% of the participants' click nr. 9 lay on an a best observable path.\n",
      "70.7% +- 5.3% of the participants' click nr. 10 lay on an a best observable path.\n",
      "88.4% +- 4.9% of the participants' click nr. 11 lay on an a best observable path.\n",
      "100.0% +- 0.0% of the participants' click nr. 12 lay on an a best observable path.\n",
      "82.1% of participants' clicks gathered information about one of the most promising paths (p=0.0))\n"
     ]
    }
   ],
   "source": [
    "#Compute the expected termination rewards\n",
    "COST=1\n",
    "trial_ids = tdf['clicks'].keys()\n",
    "\n",
    "term_rewards = np.array([])\n",
    "nr_clicks = np.array([])\n",
    "nr_unobserved_optimal_paths = np.array([])\n",
    "\n",
    "click_on_a_best_path = np.array([])   \n",
    "click_nr =np.array([])\n",
    "click_level = np.array([])\n",
    "deltas = np.array([])\n",
    "optimal_path_has_unobserved_leafs = np.array([])\n",
    "optimal_path_has_unobserved_stem = np.array([])\n",
    "only_one_path = np.array([])\n",
    "\n",
    "for t in trial_ids:\n",
    "\n",
    "    trial_id = tdf['trial_id'][t]\n",
    "    ground_truth = tdf['env'][t].ground_truth\n",
    "    env = tdf['env'][t]\n",
    "    clicks = tdf['clicks'][t]\n",
    "    \n",
    "    paths = env.all_paths()\n",
    "    \n",
    "    #print(ER_by_path)\n",
    "        \n",
    "    env.reset()\n",
    "    c=0\n",
    "    for click in clicks:\n",
    "        c+=1\n",
    "        click_nr = np.append(click_nr,[c])\n",
    "        \n",
    "        path_observable = np.array([])\n",
    "        for p in range(len(paths)):\n",
    "            path_observable = np.append(path_observable,[np.any([hasattr(env._state[x], 'sample') for x in paths[p][1:]])])\n",
    "        \n",
    "        observable_path_idx = np.where(path_observable == 1)[0]                              \n",
    "        ER_by_path = [env.node_quality(paths[idx][-1]).expectation() for idx in observable_path_idx]\n",
    "        \n",
    "        max_ER = np.amax(ER_by_path)\n",
    "        \n",
    "        if len(ER_by_path)>=2:\n",
    "            sort_args = np.argsort(ER_by_path)\n",
    "            second_best_ER = ER_by_path[sort_args[-2]]        \n",
    "            deltas = np.append(deltas, [max_ER - second_best_ER])\n",
    "            only_one_path = np.append(only_one_path,[False])\n",
    "        else:\n",
    "            deltas = np.append(deltas, [max_ER])\n",
    "            only_one_path = np.append(only_one_path,[True])\n",
    "                \n",
    "        for level in range(nr_levels):\n",
    "            if np.isin(click,nodes_by_depth[level]):\n",
    "                click_level = np.append(click_level,level+1)\n",
    "        \n",
    "        best_idx = observable_path_idx[np.where(ER_by_path==max_ER)[0]]\n",
    "        is_optimal = False\n",
    "        uninspected_leafs = False\n",
    "        uninspected_stem = False\n",
    "        \n",
    "        nr_unobserved_optimal_paths = np.append(nr_unobserved_optimal_paths,len(best_idx))\n",
    "        for i in best_idx:\n",
    "            best_path = paths[i]\n",
    "            \n",
    "            if hasattr(env._state[best_path[-1]], 'sample'):\n",
    "                uninspected_leafs = True\n",
    "                \n",
    "            if np.any([hasattr(env._state[best_path[i]], 'sample') for i in [1,2]]):\n",
    "                uninspected_stem = True\n",
    "            \n",
    "            #print(best_path)\n",
    "            #print(click)\n",
    "            #print(np.isin(click,best_path))\n",
    "            if np.isin(click,best_path):\n",
    "                is_optimal = True\n",
    "        \n",
    "        click_on_a_best_path = np.append(click_on_a_best_path,[is_optimal])\n",
    "        step=env.step(click)\n",
    "        optimal_path_has_unobserved_leafs = np.append(optimal_path_has_unobserved_leafs,[uninspected_leafs])\n",
    "        optimal_path_has_unobserved_stem = np.append(optimal_path_has_unobserved_stem,[uninspected_stem])\n",
    "    \n",
    "    nr_clicks = np.append(nr_clicks,[len(clicks)])\n",
    "\n",
    "    if len(clicks)>0:    \n",
    "        term_rewards = np.append(term_rewards,env.expected_term_reward(step[0]))\n",
    "    else:\n",
    "        term_rewards = np.append(term_rewards,env.expected_term_reward(env._state))\n",
    "        \n",
    "    \n",
    "    #ER_by_path = [env.node_quality(path[-1]).expectation() for path in env.all_paths()]\n",
    "    \n",
    "    #ER_by_path = np.zeros(len(paths))\n",
    "    #for p in range(len(paths)):\n",
    "    #    ER_by_path[p] = 0\n",
    "    #    for n in paths[p]:\n",
    "    #        ER_by_path[p]+= ER_of_node(env._state[n])\n",
    "\n",
    "    #print(ER_by_path)\n",
    "    #all_alternatives_pruned = np.append(all_alternatives_pruned, np.sum(np.less(ER_by_path,0))>=3)\n",
    "\n",
    "for c in range(12):    \n",
    "    condition = np.logical_and(click_nr==c+1,only_one_path==False)\n",
    "    sem_click_on_best_path = np.std(click_on_a_best_path[condition] == True)/np.sqrt(np.sum(condition))\n",
    "    p_click_on_best_path = np.mean(click_on_a_best_path[condition] == True)\n",
    "    \n",
    "    print(\"{:3.1f}% +- {:3.1f}% of the participants' click nr. {} lay on an a best observable path.\".format(100*p_click_on_best_path,100*sem_click_on_best_path,c+1))    \n",
    "#print(np.mean(all_alternatives_pruned))    \n",
    "\n",
    "p_click_on_best_path = np.mean(click_on_a_best_path[only_one_path==False])\n",
    "p_value=binom_test(np.sum(click_on_a_best_path[only_one_path==False]),len(click_on_a_best_path[only_one_path==False]))\n",
    "\n",
    "print(\"{:3.1f}% of participants' clicks gathered information about one of the most promising paths (p={}))\".format(100*p_click_on_best_path,p_value))\n",
    "\n",
    "\n",
    "\n",
    "#freq_stop_early = 100*np.mean(term_rewards[np.logical_and( nr_clicks<6, all_alternatives_pruned==0)]<= mu_path)\n",
    "#print(\"Participants stopped planning too early on {:3.1f}% of the trials.\".format(freq_stop_early))"
   ]
  },
  {
   "cell_type": "markdown",
   "metadata": {},
   "source": [
    "### Prediction 6: Once one branch with at least one uninspected leaf has an expected return that is at least 10 points larger than the expected return of any other branch people should skip to inspecting its leafs even if it has uninspected branch or stem nodes."
   ]
  },
  {
   "cell_type": "code",
   "execution_count": 26,
   "metadata": {
    "collapsed": false
   },
   "outputs": [
    {
     "name": "stdout",
     "output_type": "stream",
     "text": [
      "When a branch with at least one uninspected leaf has an expected return that is at least 10 points larger than the expected return of any other branch people start inspecting its leafs 79.6% of the time.\n"
     ]
    }
   ],
   "source": [
    "leaf_on_best_path = np.logical_and(click_level == leaf_level, click_on_a_best_path)\n",
    "condition = np.logical_and(np.logical_and(deltas>=10,optimal_path_has_unobserved_leafs),optimal_path_has_unobserved_stem)\n",
    "\n",
    "prediction_met = 100*np.mean(leaf_on_best_path[condition])\n",
    "\n",
    "print(\"When a branch with at least one uninspected leaf has an expected return that is at least 10 points larger than the expected return of any other branch people start inspecting its leafs {:3.1f}% of the time.\".format(prediction_met))\n",
    "\n",
    "#best_path[1:3]"
   ]
  },
  {
   "cell_type": "markdown",
   "metadata": {},
   "source": [
    "### Prediction 7: The satisficing level starts out very high (>20 after 1 click and 20 after two clicks) and then decays as additional clicks are made (10 after 3 clicks, -5 after 11 clicks). Therefore, the smallest expected reward with which a person stops whould be decreasing with the number of clicks."
   ]
  },
  {
   "cell_type": "code",
   "execution_count": 27,
   "metadata": {
    "collapsed": false
   },
   "outputs": [
    {
     "name": "stdout",
     "output_type": "stream",
     "text": [
      "The aspiration level after 0.0 nodes was 0.0\n",
      "The aspiration level after 1.0 nodes was 5.0\n",
      "The aspiration level after 2.0 nodes was 10.0\n",
      "The aspiration level after 3.0 nodes was 5.0\n",
      "The aspiration level after 4.0 nodes was 10.0\n",
      "The aspiration level after 5.0 nodes was 10.0\n",
      "The aspiration level after 6.0 nodes was 5.0\n",
      "The aspiration level after 7.0 nodes was 5.0\n",
      "The aspiration level after 8.0 nodes was 5.0\n",
      "The aspiration level after 9.0 nodes was 5.0\n",
      "The aspiration level after 10.0 nodes was 5.0\n",
      "The aspiration level after 11.0 nodes was 5.0\n",
      "The aspiration level after 12.0 nodes was 5.0\n"
     ]
    }
   ],
   "source": [
    "click_numbers =np.unique(nr_clicks)\n",
    "\n",
    "percentile = 25\n",
    "\n",
    "for i in click_numbers:\n",
    "   aspiration_level = np.percentile(term_rewards[nr_clicks==i],percentile)  \n",
    "   #print(\"The minimum expected terminal reward upon stopping after inspecting {} nodes was {}\".format(i,np.mean(term_rewards_array[np.logical_and(not_all_pruned,nr_obs_array==i)]))) \n",
    "   print(\"The aspiration level after {} nodes was {}\".format(i,aspiration_level)) "
   ]
  },
  {
   "cell_type": "code",
   "execution_count": 390,
   "metadata": {
    "collapsed": false
   },
   "outputs": [
    {
     "name": "stdout",
     "output_type": "stream",
     "text": [
      "When participants stopped planning after 0 clicks, then the average expected termination reward was 0.0.\n",
      "When participants stopped planning after 1 clicks, then the average expected termination reward was 6.6.\n",
      "When participants stopped planning after 2 clicks, then the average expected termination reward was 10.4.\n",
      "When participants stopped planning after 3 clicks, then the average expected termination reward was 10.8.\n",
      "When participants stopped planning after 4 clicks, then the average expected termination reward was 13.4.\n",
      "When participants stopped planning after 5 clicks, then the average expected termination reward was 10.8.\n",
      "When participants stopped planning after 6 clicks, then the average expected termination reward was 9.2.\n",
      "When participants stopped planning after 7 clicks, then the average expected termination reward was 11.2.\n",
      "When participants stopped planning after 8 clicks, then the average expected termination reward was 10.2.\n",
      "When participants stopped planning after 9 clicks, then the average expected termination reward was 7.5.\n",
      "When participants stopped planning after 10 clicks, then the average expected termination reward was 8.2.\n",
      "When participants stopped planning after 11 clicks, then the average expected termination reward was 7.5.\n",
      "-0.29157251045\n",
      "0.384324357851\n"
     ]
    },
    {
     "data": {
      "text/html": [
       "<table class=\"simpletable\">\n",
       "<caption>OLS Regression Results</caption>\n",
       "<tr>\n",
       "  <th>Dep. Variable:</th>      <td>term_rewards</td>   <th>  R-squared:         </th> <td>   0.087</td>\n",
       "</tr>\n",
       "<tr>\n",
       "  <th>Model:</th>                   <td>OLS</td>       <th>  Adj. R-squared:    </th> <td>   0.087</td>\n",
       "</tr>\n",
       "<tr>\n",
       "  <th>Method:</th>             <td>Least Squares</td>  <th>  F-statistic:       </th> <td>   105.3</td>\n",
       "</tr>\n",
       "<tr>\n",
       "  <th>Date:</th>             <td>Sun, 28 Jan 2018</td> <th>  Prob (F-statistic):</th> <td>1.19e-23</td>\n",
       "</tr>\n",
       "<tr>\n",
       "  <th>Time:</th>                 <td>21:00:39</td>     <th>  Log-Likelihood:    </th> <td> -3796.5</td>\n",
       "</tr>\n",
       "<tr>\n",
       "  <th>No. Observations:</th>      <td>  1100</td>      <th>  AIC:               </th> <td>   7597.</td>\n",
       "</tr>\n",
       "<tr>\n",
       "  <th>Df Residuals:</th>          <td>  1098</td>      <th>  BIC:               </th> <td>   7607.</td>\n",
       "</tr>\n",
       "<tr>\n",
       "  <th>Df Model:</th>              <td>     1</td>      <th>                     </th>     <td> </td>   \n",
       "</tr>\n",
       "<tr>\n",
       "  <th>Covariance Type:</th>      <td>nonrobust</td>    <th>                     </th>     <td> </td>   \n",
       "</tr>\n",
       "</table>\n",
       "<table class=\"simpletable\">\n",
       "<tr>\n",
       "      <td></td>         <th>coef</th>     <th>std err</th>      <th>t</th>      <th>P>|t|</th>  <th>[0.025</th>    <th>0.975]</th>  \n",
       "</tr>\n",
       "<tr>\n",
       "  <th>Intercept</th> <td>    5.5016</td> <td>    0.370</td> <td>   14.855</td> <td> 0.000</td> <td>    4.775</td> <td>    6.228</td>\n",
       "</tr>\n",
       "<tr>\n",
       "  <th>nr_clicks</th> <td>    0.9390</td> <td>    0.092</td> <td>   10.260</td> <td> 0.000</td> <td>    0.759</td> <td>    1.119</td>\n",
       "</tr>\n",
       "</table>\n",
       "<table class=\"simpletable\">\n",
       "<tr>\n",
       "  <th>Omnibus:</th>       <td> 6.113</td> <th>  Durbin-Watson:     </th> <td>   1.786</td>\n",
       "</tr>\n",
       "<tr>\n",
       "  <th>Prob(Omnibus):</th> <td> 0.047</td> <th>  Jarque-Bera (JB):  </th> <td>   6.207</td>\n",
       "</tr>\n",
       "<tr>\n",
       "  <th>Skew:</th>          <td> 0.180</td> <th>  Prob(JB):          </th> <td>  0.0449</td>\n",
       "</tr>\n",
       "<tr>\n",
       "  <th>Kurtosis:</th>      <td> 2.923</td> <th>  Cond. No.          </th> <td>    6.76</td>\n",
       "</tr>\n",
       "</table>"
      ],
      "text/plain": [
       "<class 'statsmodels.iolib.summary.Summary'>\n",
       "\"\"\"\n",
       "                            OLS Regression Results                            \n",
       "==============================================================================\n",
       "Dep. Variable:           term_rewards   R-squared:                       0.087\n",
       "Model:                            OLS   Adj. R-squared:                  0.087\n",
       "Method:                 Least Squares   F-statistic:                     105.3\n",
       "Date:                Sun, 28 Jan 2018   Prob (F-statistic):           1.19e-23\n",
       "Time:                        21:00:39   Log-Likelihood:                -3796.5\n",
       "No. Observations:                1100   AIC:                             7597.\n",
       "Df Residuals:                    1098   BIC:                             7607.\n",
       "Df Model:                           1                                         \n",
       "Covariance Type:            nonrobust                                         \n",
       "==============================================================================\n",
       "                 coef    std err          t      P>|t|      [0.025      0.975]\n",
       "------------------------------------------------------------------------------\n",
       "Intercept      5.5016      0.370     14.855      0.000       4.775       6.228\n",
       "nr_clicks      0.9390      0.092     10.260      0.000       0.759       1.119\n",
       "==============================================================================\n",
       "Omnibus:                        6.113   Durbin-Watson:                   1.786\n",
       "Prob(Omnibus):                  0.047   Jarque-Bera (JB):                6.207\n",
       "Skew:                           0.180   Prob(JB):                       0.0449\n",
       "Kurtosis:                       2.923   Cond. No.                         6.76\n",
       "==============================================================================\n",
       "\n",
       "Warnings:\n",
       "[1] Standard Errors assume that the covariance matrix of the errors is correctly specified.\n",
       "\"\"\""
      ]
     },
     "execution_count": 390,
     "metadata": {},
     "output_type": "execute_result"
    }
   ],
   "source": [
    "from statsmodels.formula.api import ols\n",
    "from scipy.stats import spearmanr\n",
    "\n",
    "avg_expected_return = np.zeros(12)\n",
    "\n",
    "for i in range(12):\n",
    "    avg_expected_return[i] = np.mean(term_rewards[nr_clicks==i])\n",
    "    print(\"When participants stopped planning after {} clicks, then the average expected termination reward was {:3.1f}.\".format(i,avg_expected_return[i]))\n",
    "\n",
    "\n",
    "r,p=spearmanr(avg_expected_return[1:],range(11))  \n",
    "\n",
    "print(r),print(p)\n",
    "    \n",
    "data = {'term_rewards': term_rewards, 'nr_clicks': nr_clicks}    \n",
    "lm = ols('term_rewards ~ nr_clicks', data=data).fit()\n",
    "lm.summary()"
   ]
  },
  {
   "cell_type": "markdown",
   "metadata": {},
   "source": [
    "## Compare behavior to model predictions on a click-by-click level"
   ]
  },
  {
   "cell_type": "code",
   "execution_count": 127,
   "metadata": {
    "collapsed": false
   },
   "outputs": [
    {
     "name": "stdout",
     "output_type": "stream",
     "text": [
      "8.879117548465729\n"
     ]
    }
   ],
   "source": [
    "from policies import SoftmaxPolicy\n",
    "from toolz import compose\n",
    "from mouselab import MouselabEnv\n",
    "from distributions import Categorical, Normal\n",
    "from agents import Agent\n",
    "from evaluation import get_util\n",
    "from exact import solve\n",
    "from policies import FixedPlanPolicy\n",
    "from mouselab_policy import MouselabPolicy\n",
    "\n",
    "def make_env(mu=3, sigma=6, quantization=6, cost=1.00, seed=None, branching=[2,2], **kwargs):\n",
    "    if seed is not None:\n",
    "        np.random.seed(seed)\n",
    "\n",
    "    def reward(depth):\n",
    "        if depth > 0:\n",
    "            return Categorical([-10, -5, 5, 10])\n",
    "            #d = Normal(mu, sigma).to_discrete(quantization)\n",
    "            #return Categorical(map(round, d.vals), d.probs)\n",
    "        return 0.\n",
    "\n",
    "    return MouselabEnv.new_symmetric(branching, reward, cost=cost, **kwargs)\n",
    "\n",
    "\n",
    "h = compose(hash, str)\n",
    "\n",
    "def maybe(f):\n",
    "    try:\n",
    "        return f()\n",
    "    except IndexError:\n",
    "        return 0\n",
    "\n",
    "def hash_x12(state):\n",
    "    if state == '__term_state__':\n",
    "        return hash(state)\n",
    "    s = [hash(x) + 100000 for x in state]\n",
    "    return (\n",
    "      h(s[1] + s[2] +\n",
    "        h(s[3]) +\n",
    "        h(s[4])\n",
    "      ) + maybe(lambda:\n",
    "      h(s[5] + s[6] +\n",
    "        h(s[7]) +\n",
    "        h(s[8])\n",
    "      ) + maybe(lambda:\n",
    "      h(s[9] + s[10] +\n",
    "        h(s[11]) +\n",
    "        h(s[12])\n",
    "      ) + maybe(lambda:\n",
    "      h(s[13] + s[14] +\n",
    "        h(s[15]) +\n",
    "        h(s[16])\n",
    "      ))))\n",
    "    )\n",
    "\n",
    "\n",
    "def get_optimal_policy(env):\n",
    "    Q, V, pi, info = solve(env, hash_state=hash_x12)\n",
    "    print(V(env.init))  # ~ 5 minutes for 312\n",
    "    return SoftmaxPolicy(Q), Q, V\n",
    "\n",
    "env = make_env(quantization=4, branching=[3,1,2])\n",
    "bounded_optimal_agent, Q_BO, V_BO = get_optimal_policy(env)"
   ]
  },
  {
   "cell_type": "code",
   "execution_count": 134,
   "metadata": {
    "collapsed": false
   },
   "outputs": [
    {
     "name": "stdout",
     "output_type": "stream",
     "text": [
      "45.0% of people's computations are suboptimal.\n",
      "On average, people's computations achieved 86.8% of the highest possible VOC.\n",
      "28.3% of the time people deviate from optimal planning they terminate too early.\n",
      "6.3% of the time people deviate from optimal planning they continue for too long.\n",
      "65.5% of the time people deviate from optimal planning they make the wrong click.\n",
      "When people clicked there clicks were bounded-optimal about 59.6% of the time.\n",
      "Participant 1 was 53.5% rational.\n",
      "The computations of participant 1 achieved 80.1% of the optimal VOC.\n",
      "Participant 2 was 67.9% rational.\n",
      "The computations of participant 2 achieved 98.7% of the optimal VOC.\n",
      "Participant 3 was 67.4% rational.\n",
      "The computations of participant 3 achieved 95.7% of the optimal VOC.\n",
      "Participant 4 was 53.0% rational.\n",
      "The computations of participant 4 achieved 97.6% of the optimal VOC.\n",
      "Participant 6 was 63.9% rational.\n",
      "The computations of participant 6 achieved 98.3% of the optimal VOC.\n",
      "Participant 7 was 13.5% rational.\n",
      "The computations of participant 7 achieved 14.5% of the optimal VOC.\n",
      "Participant 8 was 27.9% rational.\n",
      "The computations of participant 8 achieved 94.2% of the optimal VOC.\n",
      "Participant 10 was 25.6% rational.\n",
      "The computations of participant 10 achieved 39.8% of the optimal VOC.\n",
      "Participant 11 was 7.8% rational.\n",
      "The computations of participant 11 achieved 93.2% of the optimal VOC.\n",
      "Participant 12 was 55.7% rational.\n",
      "The computations of participant 12 achieved 98.4% of the optimal VOC.\n",
      "Participant 13 was 0.0% rational.\n",
      "The computations of participant 13 achieved 0.0% of the optimal VOC.\n",
      "Participant 14 was 70.3% rational.\n",
      "The computations of participant 14 achieved 99.1% of the optimal VOC.\n",
      "Participant 15 was 76.6% rational.\n",
      "The computations of participant 15 achieved 98.3% of the optimal VOC.\n",
      "Participant 16 was 62.7% rational.\n",
      "The computations of participant 16 achieved 97.9% of the optimal VOC.\n",
      "Participant 17 was 57.9% rational.\n",
      "The computations of participant 17 achieved 97.6% of the optimal VOC.\n",
      "Participant 18 was 14.3% rational.\n",
      "The computations of participant 18 achieved 9.9% of the optimal VOC.\n",
      "Participant 19 was 57.7% rational.\n",
      "The computations of participant 19 achieved 84.3% of the optimal VOC.\n",
      "Participant 20 was 5.4% rational.\n",
      "The computations of participant 20 achieved 91.5% of the optimal VOC.\n",
      "Participant 22 was 56.1% rational.\n",
      "The computations of participant 22 achieved 88.8% of the optimal VOC.\n",
      "Participant 24 was 26.0% rational.\n",
      "The computations of participant 24 achieved 51.5% of the optimal VOC.\n",
      "Participant 25 was 70.6% rational.\n",
      "The computations of participant 25 achieved 98.2% of the optimal VOC.\n",
      "Participant 26 was 53.1% rational.\n",
      "The computations of participant 26 achieved 97.6% of the optimal VOC.\n",
      "Participant 27 was 80.8% rational.\n",
      "The computations of participant 27 achieved 99.2% of the optimal VOC.\n",
      "Participant 28 was 0.0% rational.\n",
      "The computations of participant 28 achieved 85.5% of the optimal VOC.\n",
      "Participant 29 was 11.7% rational.\n",
      "The computations of participant 29 achieved 93.3% of the optimal VOC.\n",
      "Participant 30 was 47.4% rational.\n",
      "The computations of participant 30 achieved 85.3% of the optimal VOC.\n",
      "Participant 31 was 60.3% rational.\n",
      "The computations of participant 31 achieved 98.5% of the optimal VOC.\n",
      "Participant 33 was 52.7% rational.\n",
      "The computations of participant 33 achieved 97.1% of the optimal VOC.\n",
      "Participant 34 was 69.5% rational.\n",
      "The computations of participant 34 achieved 98.6% of the optimal VOC.\n",
      "Participant 35 was 17.6% rational.\n",
      "The computations of participant 35 achieved 93.4% of the optimal VOC.\n",
      "Participant 36 was 62.9% rational.\n",
      "The computations of participant 36 achieved 95.0% of the optimal VOC.\n",
      "Participant 37 was 7.7% rational.\n",
      "The computations of participant 37 achieved 29.6% of the optimal VOC.\n",
      "Participant 39 was 16.7% rational.\n",
      "The computations of participant 39 achieved 30.0% of the optimal VOC.\n",
      "Participant 40 was 59.4% rational.\n",
      "The computations of participant 40 achieved 96.0% of the optimal VOC.\n",
      "Participant 42 was 62.0% rational.\n",
      "The computations of participant 42 achieved 95.3% of the optimal VOC.\n",
      "Participant 45 was 50.4% rational.\n",
      "The computations of participant 45 achieved 90.1% of the optimal VOC.\n",
      "Participant 46 was 5.3% rational.\n",
      "The computations of participant 46 achieved 92.3% of the optimal VOC.\n",
      "Participant 47 was 40.5% rational.\n",
      "The computations of participant 47 achieved 96.9% of the optimal VOC.\n",
      "Participant 48 was 55.8% rational.\n",
      "The computations of participant 48 achieved 83.7% of the optimal VOC.\n",
      "Participant 49 was 73.3% rational.\n",
      "The computations of participant 49 achieved 99.2% of the optimal VOC.\n",
      "Participant 50 was 50.0% rational.\n",
      "The computations of participant 50 achieved 67.7% of the optimal VOC.\n",
      "Participant 51 was 56.4% rational.\n",
      "The computations of participant 51 achieved 98.1% of the optimal VOC.\n",
      "Participant 52 was 66.9% rational.\n",
      "The computations of participant 52 achieved 98.2% of the optimal VOC.\n",
      "Participant 53 was 66.4% rational.\n",
      "The computations of participant 53 achieved 98.4% of the optimal VOC.\n",
      "Participant 54 was 53.6% rational.\n",
      "The computations of participant 54 achieved 93.8% of the optimal VOC.\n",
      "Participant 55 was 66.9% rational.\n",
      "The computations of participant 55 achieved 95.3% of the optimal VOC.\n",
      "Participant 56 was 57.8% rational.\n",
      "The computations of participant 56 achieved 94.9% of the optimal VOC.\n",
      "Participant 57 was 65.9% rational.\n",
      "The computations of participant 57 achieved 98.3% of the optimal VOC.\n",
      "Participant 58 was 65.1% rational.\n",
      "The computations of participant 58 achieved 91.9% of the optimal VOC.\n",
      "Participant 60 was 76.4% rational.\n",
      "The computations of participant 60 achieved 99.3% of the optimal VOC.\n",
      "Participant 61 was 61.9% rational.\n",
      "The computations of participant 61 achieved 95.5% of the optimal VOC.\n",
      "The most rational participant was 80.8% rational.\n",
      "The least rational participant was 0.0% rational.\n",
      "The average participant was 48.0% rational (STD = 23.3%).\n",
      "The most rational participant achieved 98.5% of the optimal VOC.\n",
      "The least rational participant achieved 0.0% of the optimal VOC.\n",
      "The average participant achieved 80.0% of the optimal VOC (STD = 26.4%).\n",
      "agents.py\t\t\t  model_comparison.ipynb\n",
      "analysis_utils.py\t\t  model_playground.ipynb\n",
      "analyze_human.ipynb\t\t  mouselab_policy.py\n",
      "bin\t\t\t\t  mouselab.py\n",
      "data\t\t\t\t  mouselab_utils.py\n",
      "data_analysis_binary_trees.ipynb  optimal_model.ipynb\n",
      "demo.ipynb\t\t\t  policies.py\n",
      "direct_cognition.ipynb\t\t  __pycache__\n",
      "distributions.py\t\t  q_regression.ipynb\n",
      "env.yml\t\t\t\t  qualitative_predictions_x12.ipynb\n",
      "evaluate_policies.ipynb\t\t  results\n",
      "evaluation.py\t\t\t  utils.py\n",
      "exact.py\t\t\t  value_functions.py\n",
      "fred-trees.ipynb\t\t  variance_structures.ipynb\n",
      "likelihood_model.ipynb\t\t  x12-trees.ipynb\n",
      "/home/falklieder/cogsci18/python\n"
     ]
    },
    {
     "ename": "FileNotFoundError",
     "evalue": "[Errno 2] No such file or directory: 'figures/rationality.pdf'",
     "output_type": "error",
     "traceback": [
      "\u001b[0;31m---------------------------------------------------------------------------\u001b[0m",
      "\u001b[0;31mFileNotFoundError\u001b[0m                         Traceback (most recent call last)",
      "\u001b[0;32m<ipython-input-134-d3116fe7efc1>\u001b[0m in \u001b[0;36m<module>\u001b[0;34m()\u001b[0m\n\u001b[1;32m    110\u001b[0m \u001b[0mget_ipython\u001b[0m\u001b[0;34m(\u001b[0m\u001b[0;34m)\u001b[0m\u001b[0;34m.\u001b[0m\u001b[0msystem\u001b[0m\u001b[0;34m(\u001b[0m\u001b[0;34m' ls'\u001b[0m\u001b[0;34m)\u001b[0m\u001b[0;34m\u001b[0m\u001b[0m\n\u001b[1;32m    111\u001b[0m \u001b[0mget_ipython\u001b[0m\u001b[0;34m(\u001b[0m\u001b[0;34m)\u001b[0m\u001b[0;34m.\u001b[0m\u001b[0msystem\u001b[0m\u001b[0;34m(\u001b[0m\u001b[0;34m' pwd'\u001b[0m\u001b[0;34m)\u001b[0m\u001b[0;34m\u001b[0m\u001b[0m\n\u001b[0;32m--> 112\u001b[0;31m \u001b[0mplt\u001b[0m\u001b[0;34m.\u001b[0m\u001b[0msavefig\u001b[0m\u001b[0;34m(\u001b[0m\u001b[0;34m'figures/rationality.pdf'\u001b[0m\u001b[0;34m)\u001b[0m\u001b[0;34m\u001b[0m\u001b[0m\n\u001b[0m\u001b[1;32m    113\u001b[0m \u001b[0;34m\u001b[0m\u001b[0m\n",
      "\u001b[0;32m~/miniconda3/envs/mcrl/lib/python3.6/site-packages/matplotlib/pyplot.py\u001b[0m in \u001b[0;36msavefig\u001b[0;34m(*args, **kwargs)\u001b[0m\n\u001b[1;32m    699\u001b[0m \u001b[0;32mdef\u001b[0m \u001b[0msavefig\u001b[0m\u001b[0;34m(\u001b[0m\u001b[0;34m*\u001b[0m\u001b[0margs\u001b[0m\u001b[0;34m,\u001b[0m \u001b[0;34m**\u001b[0m\u001b[0mkwargs\u001b[0m\u001b[0;34m)\u001b[0m\u001b[0;34m:\u001b[0m\u001b[0;34m\u001b[0m\u001b[0m\n\u001b[1;32m    700\u001b[0m     \u001b[0mfig\u001b[0m \u001b[0;34m=\u001b[0m \u001b[0mgcf\u001b[0m\u001b[0;34m(\u001b[0m\u001b[0;34m)\u001b[0m\u001b[0;34m\u001b[0m\u001b[0m\n\u001b[0;32m--> 701\u001b[0;31m     \u001b[0mres\u001b[0m \u001b[0;34m=\u001b[0m \u001b[0mfig\u001b[0m\u001b[0;34m.\u001b[0m\u001b[0msavefig\u001b[0m\u001b[0;34m(\u001b[0m\u001b[0;34m*\u001b[0m\u001b[0margs\u001b[0m\u001b[0;34m,\u001b[0m \u001b[0;34m**\u001b[0m\u001b[0mkwargs\u001b[0m\u001b[0;34m)\u001b[0m\u001b[0;34m\u001b[0m\u001b[0m\n\u001b[0m\u001b[1;32m    702\u001b[0m     \u001b[0mfig\u001b[0m\u001b[0;34m.\u001b[0m\u001b[0mcanvas\u001b[0m\u001b[0;34m.\u001b[0m\u001b[0mdraw_idle\u001b[0m\u001b[0;34m(\u001b[0m\u001b[0;34m)\u001b[0m   \u001b[0;31m# need this if 'transparent=True' to reset colors\u001b[0m\u001b[0;34m\u001b[0m\u001b[0m\n\u001b[1;32m    703\u001b[0m     \u001b[0;32mreturn\u001b[0m \u001b[0mres\u001b[0m\u001b[0;34m\u001b[0m\u001b[0m\n",
      "\u001b[0;32m~/miniconda3/envs/mcrl/lib/python3.6/site-packages/matplotlib/figure.py\u001b[0m in \u001b[0;36msavefig\u001b[0;34m(self, fname, **kwargs)\u001b[0m\n\u001b[1;32m   1832\u001b[0m             \u001b[0mself\u001b[0m\u001b[0;34m.\u001b[0m\u001b[0mset_frameon\u001b[0m\u001b[0;34m(\u001b[0m\u001b[0mframeon\u001b[0m\u001b[0;34m)\u001b[0m\u001b[0;34m\u001b[0m\u001b[0m\n\u001b[1;32m   1833\u001b[0m \u001b[0;34m\u001b[0m\u001b[0m\n\u001b[0;32m-> 1834\u001b[0;31m         \u001b[0mself\u001b[0m\u001b[0;34m.\u001b[0m\u001b[0mcanvas\u001b[0m\u001b[0;34m.\u001b[0m\u001b[0mprint_figure\u001b[0m\u001b[0;34m(\u001b[0m\u001b[0mfname\u001b[0m\u001b[0;34m,\u001b[0m \u001b[0;34m**\u001b[0m\u001b[0mkwargs\u001b[0m\u001b[0;34m)\u001b[0m\u001b[0;34m\u001b[0m\u001b[0m\n\u001b[0m\u001b[1;32m   1835\u001b[0m \u001b[0;34m\u001b[0m\u001b[0m\n\u001b[1;32m   1836\u001b[0m         \u001b[0;32mif\u001b[0m \u001b[0mframeon\u001b[0m\u001b[0;34m:\u001b[0m\u001b[0;34m\u001b[0m\u001b[0m\n",
      "\u001b[0;32m~/miniconda3/envs/mcrl/lib/python3.6/site-packages/matplotlib/backend_bases.py\u001b[0m in \u001b[0;36mprint_figure\u001b[0;34m(self, filename, dpi, facecolor, edgecolor, orientation, format, **kwargs)\u001b[0m\n\u001b[1;32m   2265\u001b[0m                 \u001b[0morientation\u001b[0m\u001b[0;34m=\u001b[0m\u001b[0morientation\u001b[0m\u001b[0;34m,\u001b[0m\u001b[0;34m\u001b[0m\u001b[0m\n\u001b[1;32m   2266\u001b[0m                 \u001b[0mbbox_inches_restore\u001b[0m\u001b[0;34m=\u001b[0m\u001b[0m_bbox_inches_restore\u001b[0m\u001b[0;34m,\u001b[0m\u001b[0;34m\u001b[0m\u001b[0m\n\u001b[0;32m-> 2267\u001b[0;31m                 **kwargs)\n\u001b[0m\u001b[1;32m   2268\u001b[0m         \u001b[0;32mfinally\u001b[0m\u001b[0;34m:\u001b[0m\u001b[0;34m\u001b[0m\u001b[0m\n\u001b[1;32m   2269\u001b[0m             \u001b[0;32mif\u001b[0m \u001b[0mbbox_inches\u001b[0m \u001b[0;32mand\u001b[0m \u001b[0mrestore_bbox\u001b[0m\u001b[0;34m:\u001b[0m\u001b[0;34m\u001b[0m\u001b[0m\n",
      "\u001b[0;32m~/miniconda3/envs/mcrl/lib/python3.6/site-packages/matplotlib/backends/backend_pdf.py\u001b[0m in \u001b[0;36mprint_pdf\u001b[0;34m(self, filename, **kwargs)\u001b[0m\n\u001b[1;32m   2582\u001b[0m             \u001b[0mfile\u001b[0m \u001b[0;34m=\u001b[0m \u001b[0mfilename\u001b[0m\u001b[0;34m.\u001b[0m\u001b[0m_file\u001b[0m\u001b[0;34m\u001b[0m\u001b[0m\n\u001b[1;32m   2583\u001b[0m         \u001b[0;32melse\u001b[0m\u001b[0;34m:\u001b[0m\u001b[0;34m\u001b[0m\u001b[0m\n\u001b[0;32m-> 2584\u001b[0;31m             \u001b[0mfile\u001b[0m \u001b[0;34m=\u001b[0m \u001b[0mPdfFile\u001b[0m\u001b[0;34m(\u001b[0m\u001b[0mfilename\u001b[0m\u001b[0;34m,\u001b[0m \u001b[0mmetadata\u001b[0m\u001b[0;34m=\u001b[0m\u001b[0mkwargs\u001b[0m\u001b[0;34m.\u001b[0m\u001b[0mpop\u001b[0m\u001b[0;34m(\u001b[0m\u001b[0;34m\"metadata\"\u001b[0m\u001b[0;34m,\u001b[0m \u001b[0;32mNone\u001b[0m\u001b[0;34m)\u001b[0m\u001b[0;34m)\u001b[0m\u001b[0;34m\u001b[0m\u001b[0m\n\u001b[0m\u001b[1;32m   2585\u001b[0m         \u001b[0;32mtry\u001b[0m\u001b[0;34m:\u001b[0m\u001b[0;34m\u001b[0m\u001b[0m\n\u001b[1;32m   2586\u001b[0m             \u001b[0mfile\u001b[0m\u001b[0;34m.\u001b[0m\u001b[0mnewPage\u001b[0m\u001b[0;34m(\u001b[0m\u001b[0mwidth\u001b[0m\u001b[0;34m,\u001b[0m \u001b[0mheight\u001b[0m\u001b[0;34m)\u001b[0m\u001b[0;34m\u001b[0m\u001b[0m\n",
      "\u001b[0;32m~/miniconda3/envs/mcrl/lib/python3.6/site-packages/matplotlib/backends/backend_pdf.py\u001b[0m in \u001b[0;36m__init__\u001b[0;34m(self, filename, metadata)\u001b[0m\n\u001b[1;32m    437\u001b[0m         \u001b[0mself\u001b[0m\u001b[0;34m.\u001b[0m\u001b[0mtell_base\u001b[0m \u001b[0;34m=\u001b[0m \u001b[0;36m0\u001b[0m\u001b[0;34m\u001b[0m\u001b[0m\n\u001b[1;32m    438\u001b[0m         \u001b[0;32mif\u001b[0m \u001b[0misinstance\u001b[0m\u001b[0;34m(\u001b[0m\u001b[0mfilename\u001b[0m\u001b[0;34m,\u001b[0m \u001b[0msix\u001b[0m\u001b[0;34m.\u001b[0m\u001b[0mstring_types\u001b[0m\u001b[0;34m)\u001b[0m\u001b[0;34m:\u001b[0m\u001b[0;34m\u001b[0m\u001b[0m\n\u001b[0;32m--> 439\u001b[0;31m             \u001b[0mfh\u001b[0m \u001b[0;34m=\u001b[0m \u001b[0mopen\u001b[0m\u001b[0;34m(\u001b[0m\u001b[0mfilename\u001b[0m\u001b[0;34m,\u001b[0m \u001b[0;34m'wb'\u001b[0m\u001b[0;34m)\u001b[0m\u001b[0;34m\u001b[0m\u001b[0m\n\u001b[0m\u001b[1;32m    440\u001b[0m         \u001b[0;32melif\u001b[0m \u001b[0mis_writable_file_like\u001b[0m\u001b[0;34m(\u001b[0m\u001b[0mfilename\u001b[0m\u001b[0;34m)\u001b[0m\u001b[0;34m:\u001b[0m\u001b[0;34m\u001b[0m\u001b[0m\n\u001b[1;32m    441\u001b[0m             \u001b[0;32mtry\u001b[0m\u001b[0;34m:\u001b[0m\u001b[0;34m\u001b[0m\u001b[0m\n",
      "\u001b[0;31mFileNotFoundError\u001b[0m: [Errno 2] No such file or directory: 'figures/rationality.pdf'"
     ]
    },
    {
     "data": {
      "image/png": "[encoded data removed]",
      "text/plain": [
       "<matplotlib.figure.Figure at 0x7fa0c23a0550>"
      ]
     },
     "metadata": {},
     "output_type": "display_data"
    }
   ],
   "source": [
    "from agents import run_episode\n",
    "\n",
    "import matplotlib.pyplot as plt\n",
    "\n",
    "\n",
    "run_episode(bounded_optimal_agent, env)\n",
    "\n",
    "stopped_too_early = np.array([])\n",
    "continued_too_long = np.array([])\n",
    "wrong_click = np.array([])\n",
    "human_clicked = np.array([])\n",
    "\n",
    "nr_nodes = 12\n",
    "terminate = nr_nodes + 1 #node 0 is unclickable, nodes 1-12 are clickable, so action 13 is termination\n",
    "\n",
    "suboptimal_computation = np.array([])\n",
    "participant_id = np.array([])\n",
    "\n",
    "Q_human = np.array([])\n",
    "Q_optimal = np.array([])\n",
    "Q_term = np.array([])\n",
    "\n",
    "for t in trial_ids:\n",
    "\n",
    "    trial_id = tdf['trial_id'][t]\n",
    "    participant=tdf['pid'][t]\n",
    "    ground_truth = tdf['env'][t].ground_truth\n",
    "    env = tdf['env'][t]\n",
    "    actions = np.append(tdf['clicks'][t],[terminate])    \n",
    "        \n",
    "    env.reset()\n",
    "    c=0\n",
    "    for action in actions:\n",
    "        \n",
    "        #What would a bounded-optimal agent do?\n",
    "        action_distribution=bounded_optimal_agent.action_distribution(env._state)\n",
    "        p_continue = np.sum(action_distribution[0:-1])\n",
    "        p_terminate =action_distribution[terminate]\n",
    "        p_human_click = action_distribution[int(action)]\n",
    "        Q_human = np.append(Q_human,[Q_BO(env._state,action)])\n",
    "        Q_optimal = np.append(Q_optimal,[V_BO(env._state)])\n",
    "        Q_term = np.append(Q_term,[Q_BO(env._state,terminate)])\n",
    "        \n",
    "        human_clicked = np.append(human_clicked,[action!=terminate]) \n",
    "        \n",
    "        suboptimal_computation = np.append(suboptimal_computation,[p_human_click == 0])\n",
    "        participant_id = np.append(participant_id,[participant])\n",
    "        \n",
    "        if p_human_click == 0:\n",
    "            stopped_too_early  = np.append(stopped_too_early, [action==terminate and p_continue>0.5])\n",
    "            continued_too_long =  np.append(continued_too_long, [action!=terminate and p_terminate>0.5])\n",
    "            wrong_click =  np.append(wrong_click, [action!=terminate and p_continue>0.5])\n",
    "        \n",
    "        \n",
    "        step=env.step(action)\n",
    "\n",
    "        \n",
    "print(\"{:3.1f}% of people's computations are suboptimal.\".format(100*np.mean(suboptimal_computation)))\n",
    "\n",
    "avg_Q_ratio = np.mean(Q_human-Q_term)/np.mean(Q_optimal-Q_term)\n",
    "print(\"On average, people's computations achieved {:3.1f}% of the highest possible VOC.\".format(100*np.mean(avg_Q_ratio)))\n",
    "        \n",
    "print(\"{:3.1f}% of the time people deviate from optimal planning they terminate too early.\".format(100*np.mean(stopped_too_early)))        \n",
    "print(\"{:3.1f}% of the time people deviate from optimal planning they continue for too long.\".format(100*np.mean(continued_too_long)))        \n",
    "print(\"{:3.1f}% of the time people deviate from optimal planning they make the wrong click.\".format(100*np.mean(wrong_click)))       \n",
    "\n",
    "print(\"When people clicked there clicks were bounded-optimal about {:3.1f}% of the time.\".format(100*np.mean(suboptimal_computation[human_clicked==1]==False)))\n",
    "\n",
    "participants = np.unique(participant_id)\n",
    "\n",
    "rationality_by_participant =np.array([])\n",
    "Q_ratio =np.array([])\n",
    "VOC_ratio =np.array([])\n",
    "\n",
    "VOC_human = Q_human - Q_term\n",
    "VOC_BO = Q_optimal - Q_term\n",
    "#VOC_ratio = np.divide(VOC_human,VOC_BO+1e-9)\n",
    "\n",
    "i=0\n",
    "for p in participants:\n",
    "    Q_ratio = np.append(Q_ratio,[100*np.mean(Q_human[participant_id ==p])/np.mean(Q_optimal[participant_id ==p])]) \n",
    "    VOC_ratio = np.append(VOC_ratio,[100*np.mean(VOC_human[participant_id ==p])/np.mean(VOC_BO[participant_id ==p])])\n",
    "    rationality_by_participant = np.append(rationality_by_participant, [100-100*np.mean(suboptimal_computation[participant_id==p])])\n",
    "    print(\"Participant {} was {:3.1f}% rational.\".format(int(p),rationality_by_participant[-1]))\n",
    "    print(\"The computations of participant {} achieved {:3.1f}% of the optimal VOC.\".format(int(p),Q_ratio[-1]))\n",
    "    i+=1\n",
    "\n",
    "print(\"The most rational participant was {:3.1f}% rational.\".format(np.max(rationality_by_participant)))\n",
    "print(\"The least rational participant was {:3.1f}% rational.\".format(np.min(rationality_by_participant)))\n",
    "print(\"The average participant was {:3.1f}% rational (STD = {:3.1f}%).\".format(np.mean(rationality_by_participant),np.std(rationality_by_participant)))\n",
    "\n",
    "print(\"The most rational participant achieved {:3.1f}% of the optimal VOC.\".format(np.max(VOC_ratio)))\n",
    "print(\"The least rational participant achieved {:3.1f}% of the optimal VOC.\".format(np.min(VOC_ratio)))\n",
    "print(\"The average participant achieved {:3.1f}% of the optimal VOC (STD = {:3.1f}%).\".format(np.mean(VOC_ratio),np.std(VOC_ratio)))\n",
    "\n",
    "\n",
    "np.histogram(rationality_by_participant)\n",
    "plt.hist(rationality_by_participant)\n",
    "plt.xlabel('% Optimal Planning Operations')\n",
    "plt.ylabel('Frequency')\n",
    "\n",
    "#plt.figure()\n",
    "plt.hist(VOC_ratio)\n",
    "#plt.xlabel('VOC_human/VOC_optimal in %')\n",
    "plt.xlabel('Human performance relative to bounded-optimality in %')\n",
    "plt.ylabel('Frequency')\n",
    "\n",
    "plt.legend(['% optimal computations','% optimal average VOC'])\n",
    "\n",
    "! ls\n",
    "! pwd\n",
    "plt.savefig('figures/rationality.pdf')\n",
    "\n"
   ]
  },
  {
   "cell_type": "code",
   "execution_count": 318,
   "metadata": {
    "collapsed": false
   },
   "outputs": [
    {
     "data": {
      "text/plain": [
       "array([ 0.934,  0.886,  0.969,  0.957,  0.952,  0.948,  0.094,  0.875,  0.501,  0.924,  0.9  ,  0.938,  0.961,  0.936,  0.953,  0.   ,  0.887,  0.921,  0.64 ,  0.88 ])"
      ]
     },
     "execution_count": 318,
     "metadata": {},
     "output_type": "execute_result"
    }
   ],
   "source": [
    "VOC_ratio"
   ]
  },
  {
   "cell_type": "markdown",
   "metadata": {},
   "source": [
    "# Test qualitative predictions for Experiment 2"
   ]
  },
  {
   "cell_type": "markdown",
   "metadata": {},
   "source": [
    "## Load data"
   ]
  },
  {
   "cell_type": "code",
   "execution_count": 74,
   "metadata": {
    "collapsed": true
   },
   "outputs": [],
   "source": [
    "from mouselab import MouselabEnv\n",
    "from distributions import Categorical, Normal\n",
    "\n",
    "def make_env(mu=0, sigma=4, branching=[3,1,2], cost=1.00, scaling_factors=[1, 1, 1], seed=None, **kwargs):\n",
    "    if seed is not None:\n",
    "        np.random.seed(seed)\n",
    "    \n",
    "    def reward(depth):\n",
    "        if depth > 0:\n",
    "            x = np.array([-2,-1,1,2])\n",
    "            vals = mu + sigma * x * scaling_factors[depth-1]\n",
    "            return Categorical(vals).apply(round)\n",
    "        return 0.\n",
    "\n",
    "    return MouselabEnv.new_symmetric(branching, reward, cost=cost, **kwargs)\n",
    "\n"
   ]
  },
  {
   "cell_type": "code",
   "execution_count": 107,
   "metadata": {
    "collapsed": false
   },
   "outputs": [
    {
     "name": "stdout",
     "output_type": "stream",
     "text": [
      "73 participants\n",
      "69 participants\n",
      "excluding 16 out of 69 partipicants\n"
     ]
    }
   ],
   "source": [
    "from analysis_utils import *\n",
    "VERSION = 'c2.1'\n",
    "data = get_data(VERSION, '../experiment/data')\n",
    "pdf = data['participants']\n",
    "print(f'{len(pdf)} participants')\n",
    "mdf = data['mouselab-mdp']\n",
    "\n",
    "pdf = pdf.loc[pdf.completed].copy()\n",
    "print(f'{len(pdf)} participants')\n",
    "complete = list(pdf.index)\n",
    "\n",
    "def extract(q):\n",
    "    return list(map(int, q['click']['state']['target']))\n",
    "\n",
    "mdf = data['mouselab-mdp'].query('pid == @complete').copy()\n",
    "mdf['clicks'] = mdf.queries.apply(extract)\n",
    "mdf['n_clicks'] = mdf.clicks.apply(len)\n",
    "mdf['thinking'] = mdf['rt'].apply(get(0, default=0))\n",
    "\n",
    "tdf = mdf.query('block == \"test\"').copy()\n",
    "tdf.trial_index -= tdf.trial_index.min()\n",
    "tdf.trial_index = tdf.trial_index.astype(int)\n",
    "tdf.trial_id = tdf.trial_id.astype(int)\n",
    "\n",
    "# pdf['total_time'] = exp_data['survey'].time_elapsed / 60000\n",
    "\n",
    "pdf['n_clicks'] = tdf.groupby('pid').n_clicks.mean()\n",
    "pdf['score'] = tdf.groupby('pid').score.mean()\n",
    "pdf['thinking'] = mdf.groupby('pid').thinking.mean()\n",
    "\n",
    "def get_env(state_rewards):\n",
    "    state_rewards[0] = 0\n",
    "    return make_env(ground_truth=state_rewards)\n",
    "\n",
    "tdf['env'] = tdf.state_rewards.apply(get_env)\n",
    "\n",
    "import json\n",
    "def excluded_pids():\n",
    "    sdf = data['survey-multi-choice'].query('pid == @complete').set_index('pid')\n",
    "    responses = pd.DataFrame(list(sdf.responses), index=sdf.index)\n",
    "    grp = responses.groupby(lambda pid: pdf.variance[pid])\n",
    "    correct = grp.apply(lambda x: x.mode().iloc[0])\n",
    "    errors = correct.loc[pdf.variance].set_index(pdf.index) != responses\n",
    "    fail_quiz = errors.sum(1) > 1\n",
    "\n",
    "    no_click = mdf.query('block == \"train_inspector\"').groupby('pid').n_clicks.sum() == 0\n",
    "    return fail_quiz | no_click\n",
    "\n",
    "exclude = excluded_pids()\n",
    "tdf['exclude'] = list(exclude.loc[tdf.pid])\n",
    "tdf = tdf.query('~exclude').copy().drop('exclude', axis=1)\n",
    "print(f'excluding {exclude.sum()} out of {len(exclude)} partipicants')\n",
    "\n",
    "tdf = tdf.set_index('pid', drop=False)\n",
    "tdf['variance'] = pdf['variance']\n",
    "\n",
    "data_by_condition = dict(iter(tdf.groupby('variance')))\n",
    "data_by_condition\n",
    "\n",
    "data_increasing = data_by_condition[2424]\n",
    "data_decreasing = data_by_condition[2442]"
   ]
  },
  {
   "cell_type": "code",
   "execution_count": 119,
   "metadata": {
    "collapsed": false
   },
   "outputs": [
    {
     "name": "stdout",
     "output_type": "stream",
     "text": [
      "Average bonus: 1.8371014492753623, STD: 0.8067039782650289\n",
      "Average duration: 16.506468137254902 min\n"
     ]
    }
   ],
   "source": [
    "print(\"Average bonus: {}, STD: {}\".format(np.mean(pdf[\"bonus\"]),np.std(pdf[\"bonus\"])))\n",
    "\n",
    "#np.mean(data[\"survey-text\"][\"time_elapsed\"])/(60*1000)\n",
    "\n",
    "#np.mean(pdf[\"thinking\"])/(60*100)\n",
    "\n",
    "#for sub in temp.keys():\n",
    "#    print(np.max(temp[sub][\"time_elapsed\"]))\n",
    "\n",
    "\n",
    "avg_duration = np.mean(data[\"survey-text\"][\"time_elapsed\"][1:-1:2])/(60*1000)\n",
    "print(\"Average duration: {} min\".format(avg_duration))"
   ]
  },
  {
   "cell_type": "markdown",
   "metadata": {},
   "source": [
    "## Predictions for condition with outwardly increasing variance\n",
    "\n",
    "1. The first click(s) should always fall on leaf nodes. \n",
    "1. Participants should never inspect a non-leaf before all leafs have been inspected.\n",
    "1. When a leaf with value +48 is discovered then that path is taken immediately.\n",
    "1. Non-leafs should only be inspected if there is a tie between the best leaf values.\n",
    "1. The first non-leaf the strategy inspects is at the second level and belongs to one of the best paths."
   ]
  },
  {
   "cell_type": "code",
   "execution_count": 29,
   "metadata": {
    "collapsed": false
   },
   "outputs": [],
   "source": [
    "# Extract relevant variables\n",
    "\n",
    "from statsmodels.stats.proportion import binom_test\n",
    "from scipy import stats\n",
    "\n",
    "#trial_ids = data_increasing['trial'].keys()\n",
    "\n",
    "first_click = np.array([])\n",
    "second_click = np.array([])\n",
    "\n",
    "first_observation = np.array([])\n",
    "\n",
    "first_click_level = np.array([])\n",
    "second_click_level = np.array([])\n",
    "\n",
    "first_click_branch = np.array([])\n",
    "second_click_branch = np.array([])\n",
    "\n",
    "observed_value = np.array([])\n",
    "second_observed_value = np.array([])\n",
    "\n",
    "nr_levels = 3\n",
    "nr_branches = 3\n",
    "\n",
    "leaf_nodes = [3,4,7,8,11,12]\n",
    "stem_nodes = [1,5,9]\n",
    "branch_nodes = [2,6,10]\n",
    "\n",
    "\n",
    "nodes_by_depth=[stem_nodes,branch_nodes,leaf_nodes]\n",
    "nodes_by_branch=[[1,2,3,4],[5,6,7,8],[9,10,11,12]]\n",
    "\n",
    "\n",
    "nr_clicks = np.array([])\n",
    "all_leafs = np.array([])\n",
    "stem_before_leaf = np.array([])\n",
    "term_rewards = np.array([])\n",
    "last_click = np.array([])\n",
    "tie_between_leafs =np.array([])\n",
    "\n",
    "for t in range(len(data_increasing['env'])):\n",
    "    \n",
    "    env = data_increasing['env'].iloc[t]\n",
    "    env.reset()\n",
    "        \n",
    "    clicks = data_increasing['clicks'].iloc[t]\n",
    "    if len(clicks)>0:\n",
    "        \n",
    "        #determine the level and branch of the first click\n",
    "        first_click = np.append(first_click,[clicks[0]])\n",
    "        \n",
    "        for level in range(nr_levels):\n",
    "            if np.isin(first_click[-1],nodes_by_depth[level]):\n",
    "                first_click_level = np.append(first_click_level,level+1)\n",
    "\n",
    "        for branch in range(nr_branches):\n",
    "            if np.isin(first_click[-1],nodes_by_branch[branch]):\n",
    "                first_click_branch = np.append(first_click_branch,branch+1)\n",
    "                \n",
    "        #record the first observed value\n",
    "        trial_id = data_increasing['trial_id'].iloc[t]\n",
    "        rewards =env.ground_truth        \n",
    "        first_obs = rewards[int(first_click[-1])]\n",
    "        observed_value = np.append(observed_value,[first_obs])\n",
    "                \n",
    "        #determine click levels and second observation\n",
    "        nr_clicks = np.append(nr_clicks,len(clicks))\n",
    "        if len(clicks)>1:\n",
    "            second_click = np.append(second_click,[clicks[1]])\n",
    "            for level in range(nr_levels):\n",
    "                if np.isin(second_click[-1],nodes_by_depth[level]):\n",
    "                    second_click_level = np.append(second_click_level,level+1)\n",
    "            \n",
    "            for branch in range(nr_branches):\n",
    "                if np.isin(second_click[-1],nodes_by_branch[branch]):\n",
    "                    second_click_branch = np.append(second_click_branch,branch+1)\n",
    "            \n",
    "            second_obs = rewards[int(second_click[-1])]\n",
    "            second_observed_value= np.append(second_observed_value,[second_obs])\n",
    "\n",
    "            c = 0 \n",
    "            for click in clicks:\n",
    "                c += 1\n",
    "                step = env.step(click)\n",
    "                term_rewards = np.append(term_rewards,env.expected_term_reward(step[0]))\n",
    "                last_click = np.append(last_click, [c==len(clicks)])\n",
    "\n",
    "        else:\n",
    "            second_click = np.append(second_click,[17])\n",
    "            second_click_level = np.append(second_click_level,[0])\n",
    "            second_click_branch = np.append(second_click_branch,[0])\n",
    "            second_observed_value = np.append(second_observed_value,[None])\n",
    "            #term_rewards = np.append(term_rewards,env.expected_term_reward(env._state))\n",
    "        \n",
    "        all_leafs =np.append(all_leafs,np.all(np.in1d(clicks,leaf_nodes)))        \n",
    "        is_leaf = np.in1d(clicks,leaf_nodes)\n",
    "        if all_leafs[-1]:\n",
    "            stem_before_leaf = np.append(stem_before_leaf,[False])\n",
    "        else:\n",
    "            first_nonleaf = np.where(is_leaf == False)[0][0]\n",
    "            stem_before_leaf = np.append(stem_before_leaf,[first_nonleaf<len(leaf_nodes)])\n",
    "            first_nonleaf_click = clicks[first_nonleaf] \n",
    "        \n",
    "        leaf_node_rewards = rewards[leaf_nodes]\n",
    "        max_leaf_reward =np.amax(leaf_node_rewards)\n",
    "        tie_between_leafs = np.append(tie_between_leafs,[len(np.where(leaf_node_rewards == max_leaf_reward))>1])\n",
    "\n",
    "first_observation = observed_value"
   ]
  },
  {
   "cell_type": "markdown",
   "metadata": {},
   "source": [
    "### 1. The first cick(s) should always fall on leaf nodes"
   ]
  },
  {
   "cell_type": "code",
   "execution_count": 30,
   "metadata": {
    "collapsed": false
   },
   "outputs": [
    {
     "name": "stdout",
     "output_type": "stream",
     "text": [
      "95.0% of the first clicks were on leaf nodes.\n",
      " 4.1% of the first clicks were on stem nodes.\n",
      " 0.9% of the first clicks were on branch nodes.\n",
      "Like the optimal strategy, people's first click is more often a leaf node than a branch or stem node (p=1.5738057773019107e-98).\n"
     ]
    }
   ],
   "source": [
    "print(\"{:4.1f}% of the first clicks were on leaf nodes.\".format(100*np.mean(first_click_level==3)))\n",
    "print(\"{:4.1f}% of the first clicks were on stem nodes.\".format(100*np.mean(first_click_level==1)))\n",
    "print(\"{:4.1f}% of the first clicks were on branch nodes.\".format(100*np.mean(first_click_level==2)))\n",
    "\n",
    "p_more_leafs = binom_test(int(np.sum(first_click_level==3)),int(len(first_click_level)),0.5,'larger')\n",
    "\n",
    "chi2_results=stats.chi2_contingency([[len(first_click_level),np.sum(first_click_level==3)],[len(first_click_level),np.sum(first_click_level<3)]])\n",
    "#chi2_branch_vs_stem=stats.chi2_contingency([[len(first_click_level),np.sum(first_click_level==1)],[len(first_click_level),np.sum(first_click_level==2)]])\n",
    "\n",
    "\n",
    "print(\"Like the optimal strategy, people's first click is more often a leaf node than a branch or stem node (p={}).\".format(chi2_results[1]))\n",
    "\n",
    "#print(chi2_branch_vs_stem[1])\n",
    "\n",
    "first_click_level_inc = first_click_level"
   ]
  },
  {
   "cell_type": "markdown",
   "metadata": {},
   "source": [
    "### 2. Participants should never inspect a non-leaf before all leafs have been inspected"
   ]
  },
  {
   "cell_type": "code",
   "execution_count": 31,
   "metadata": {
    "collapsed": false
   },
   "outputs": [
    {
     "name": "stdout",
     "output_type": "stream",
     "text": [
      "Participants inspected a nonleaf before all leafs had been inspected in 13.9% of the trials.\n",
      "This is 76.6% of the time  that a non-leaf was inspected\n",
      "That proportion is significantly less than 50% (p=0.9999999999573013).\n"
     ]
    }
   ],
   "source": [
    "print(\"Participants inspected a nonleaf before all leafs had been inspected in {:3.1f}% of the trials.\".format(100*np.mean(stem_before_leaf)))\n",
    "print(\"This is {:3.1f}% of the time  that a non-leaf was inspected\".format(100*np.mean(stem_before_leaf[all_leafs==0])))\n",
    "\n",
    "p_less_than_half = binom_test(int(np.sum(stem_before_leaf[all_leafs==0])),int(len(stem_before_leaf[all_leafs==0])),0.5,'smaller')\n",
    "print(\"That proportion is significantly less than 50% (p={}).\".format(p_less_than_half))"
   ]
  },
  {
   "cell_type": "markdown",
   "metadata": {},
   "source": [
    "### 3. When a leaf with value +48 is discovered then that path is taken immediately."
   ]
  },
  {
   "cell_type": "code",
   "execution_count": 32,
   "metadata": {
    "collapsed": false
   },
   "outputs": [
    {
     "data": {
      "text/plain": [
       "0.81561822125813443"
      ]
     },
     "execution_count": 32,
     "metadata": {},
     "output_type": "execute_result"
    }
   ],
   "source": [
    "np.mean(last_click[term_rewards==48])"
   ]
  },
  {
   "cell_type": "markdown",
   "metadata": {},
   "source": [
    "### 4. Non-leafs should only be inspected if there is a tie between the best leaf values."
   ]
  },
  {
   "cell_type": "code",
   "execution_count": 8,
   "metadata": {
    "collapsed": false
   },
   "outputs": [
    {
     "name": "stdout",
     "output_type": "stream",
     "text": [
      "0.157760814249\n",
      "nan\n"
     ]
    },
    {
     "name": "stderr",
     "output_type": "stream",
     "text": [
      "/home/falklieder/miniconda3/envs/mcrl/lib/python3.6/site-packages/numpy/core/fromnumeric.py:2909: RuntimeWarning: Mean of empty slice.\n",
      "  out=out, **kwargs)\n",
      "/home/falklieder/miniconda3/envs/mcrl/lib/python3.6/site-packages/numpy/core/_methods.py:80: RuntimeWarning: invalid value encountered in double_scalars\n",
      "  ret = ret.dtype.type(ret / rcount)\n"
     ]
    }
   ],
   "source": [
    "inspected_nonleafs = all_leafs==False\n",
    "\n",
    "print(np.mean(inspected_nonleafs[tie_between_leafs==0]))\n",
    "print(np.mean(inspected_nonleafs[tie_between_leafs==1]))"
   ]
  },
  {
   "cell_type": "markdown",
   "metadata": {},
   "source": [
    "### 5. The first non-leaf the strategy inspects is at the second level and belongs to one of the best paths."
   ]
  },
  {
   "cell_type": "code",
   "execution_count": null,
   "metadata": {
    "collapsed": true
   },
   "outputs": [],
   "source": []
  },
  {
   "cell_type": "markdown",
   "metadata": {},
   "source": [
    "## Predictions for condition with outwardly decreasing variance\n",
    "\n",
    "1. In the condition with outwardly decreasing variance the first click should always fall on the first level.\n",
    "1. If the first observation is less than 48, then the second click should remain on level 1.\n",
    "1. If the first observation is 48, then the second click should be on a leaf of the same branch."
   ]
  },
  {
   "cell_type": "markdown",
   "metadata": {},
   "source": [
    "### Extract relevant information"
   ]
  },
  {
   "cell_type": "code",
   "execution_count": 33,
   "metadata": {
    "collapsed": false
   },
   "outputs": [],
   "source": [
    "# Extract relevant variables\n",
    "\n",
    "from statsmodels.stats.proportion import binom_test\n",
    "from scipy import stats\n",
    "\n",
    "#trial_ids = data_decreasing['trial'].keys()\n",
    "\n",
    "first_click = np.array([])\n",
    "second_click = np.array([])\n",
    "\n",
    "first_observation = np.array([])\n",
    "\n",
    "first_click_level = np.array([])\n",
    "second_click_level = np.array([])\n",
    "\n",
    "first_click_branch = np.array([])\n",
    "second_click_branch = np.array([])\n",
    "\n",
    "observed_value = np.array([])\n",
    "second_observed_value = np.array([])\n",
    "\n",
    "nr_levels = 3\n",
    "nr_branches = 3\n",
    "\n",
    "leaf_nodes = [3,4,7,8,11,12]\n",
    "stem_nodes = [1,5,9]\n",
    "branch_nodes = [2,6,10]\n",
    "\n",
    "\n",
    "nodes_by_depth=[stem_nodes,branch_nodes,leaf_nodes]\n",
    "nodes_by_branch=[[1,2,3,4],[5,6,7,8],[9,10,11,12]]\n",
    "\n",
    "\n",
    "nr_clicks = np.array([])\n",
    "all_leafs = np.array([])\n",
    "stem_before_leaf = np.array([])\n",
    "term_rewards = np.array([])\n",
    "last_click = np.array([])\n",
    "tie_between_leafs =np.array([])\n",
    "\n",
    "for t in range(len(data_decreasing['env'])):\n",
    "    \n",
    "    env = data_decreasing['env'].iloc[t]\n",
    "    env.reset()\n",
    "        \n",
    "    clicks = data_decreasing['clicks'].iloc[t]\n",
    "    if len(clicks)>0:\n",
    "        \n",
    "        #determine the level and branch of the first click\n",
    "        first_click = np.append(first_click,[clicks[0]])\n",
    "        \n",
    "        for level in range(nr_levels):\n",
    "            if np.isin(first_click[-1],nodes_by_depth[level]):\n",
    "                first_click_level = np.append(first_click_level,level+1)\n",
    "\n",
    "        for branch in range(nr_branches):\n",
    "            if np.isin(first_click[-1],nodes_by_branch[branch]):\n",
    "                first_click_branch = np.append(first_click_branch,branch+1)\n",
    "                \n",
    "        #record the first observed value\n",
    "        trial_id = data_decreasing['trial_id'].iloc[t]\n",
    "        rewards =env.ground_truth        \n",
    "        first_obs = rewards[int(first_click[-1])]\n",
    "        observed_value = np.append(observed_value,[first_obs])\n",
    "                \n",
    "        #determine click levels and second observation\n",
    "        nr_clicks = np.append(nr_clicks,len(clicks))\n",
    "        if len(clicks)>1:\n",
    "            second_click = np.append(second_click,[clicks[1]])\n",
    "            for level in range(nr_levels):\n",
    "                if np.isin(second_click[-1],nodes_by_depth[level]):\n",
    "                    second_click_level = np.append(second_click_level,level+1)\n",
    "            \n",
    "            for branch in range(nr_branches):\n",
    "                if np.isin(second_click[-1],nodes_by_branch[branch]):\n",
    "                    second_click_branch = np.append(second_click_branch,branch+1)\n",
    "            \n",
    "            second_obs = rewards[int(second_click[-1])]\n",
    "            second_observed_value= np.append(second_observed_value,[second_obs])\n",
    "\n",
    "            c = 0 \n",
    "            for click in clicks:\n",
    "                c += 1\n",
    "                step = env.step(click)\n",
    "                term_rewards = np.append(term_rewards,env.expected_term_reward(step[0]))\n",
    "                last_click = np.append(last_click, [c==len(clicks)])\n",
    "\n",
    "        else:\n",
    "            second_click = np.append(second_click,[17])\n",
    "            second_click_level = np.append(second_click_level,[0])\n",
    "            second_click_branch = np.append(second_click_branch,[0])\n",
    "            second_observed_value = np.append(second_observed_value,[None])\n",
    "            #term_rewards = np.append(term_rewards,env.expected_term_reward(env._state))\n",
    "        \n",
    "        all_leafs =np.append(all_leafs,np.all(np.in1d(clicks,leaf_nodes)))        \n",
    "        is_leaf = np.in1d(clicks,leaf_nodes)\n",
    "        if all_leafs[-1]:\n",
    "            stem_before_leaf = np.append(stem_before_leaf,[False])\n",
    "        else:\n",
    "            first_nonleaf = np.where(is_leaf == False)[0][0]\n",
    "            stem_before_leaf = np.append(stem_before_leaf,[first_nonleaf<len(leaf_nodes)])\n",
    "            first_nonleaf_click = clicks[first_nonleaf] \n",
    "        \n",
    "        leaf_node_rewards = rewards[leaf_nodes]\n",
    "        max_leaf_reward =np.amax(leaf_node_rewards)\n",
    "        tie_between_leafs = np.append(tie_between_leafs,[len(np.where(leaf_node_rewards == max_leaf_reward))>1])\n",
    "\n",
    "first_observation = observed_value"
   ]
  },
  {
   "cell_type": "markdown",
   "metadata": {},
   "source": [
    "### 1. In the condition with outwardly decreasing variance the first click should always fall on the first level."
   ]
  },
  {
   "cell_type": "code",
   "execution_count": 34,
   "metadata": {
    "collapsed": false
   },
   "outputs": [
    {
     "name": "stdout",
     "output_type": "stream",
     "text": [
      "99.7% of the first clicks were on stem nodes.\n",
      " 0.3% of the first clicks were on branch nodes.\n",
      " 0.0% of the first clicks were on leaf nodes.\n",
      "Like the optimal strategy, people's first click is more often a stem node than a branch or leaf node (p=5.419169825532998e-118).\n"
     ]
    }
   ],
   "source": [
    "print(\"{:4.1f}% of the first clicks were on stem nodes.\".format(100*np.mean(first_click_level==1)))\n",
    "print(\"{:4.1f}% of the first clicks were on branch nodes.\".format(100*np.mean(first_click_level==2)))\n",
    "print(\"{:4.1f}% of the first clicks were on leaf nodes.\".format(100*np.mean(first_click_level==3)))\n",
    "\n",
    "\n",
    "p_more_stems = binom_test(int(np.sum(first_click_level==1)),int(len(first_click_level)),0.5,'larger')\n",
    "\n",
    "chi2_results=stats.chi2_contingency([[len(first_click_level),np.sum(first_click_level==1)],[len(first_click_level),np.sum(first_click_level>1)]])\n",
    "#chi2_branch_vs_stem=stats.chi2_contingency([[len(first_click_level),np.sum(first_click_level==1)],[len(first_click_level),np.sum(first_click_level==2)]])\n",
    "\n",
    "\n",
    "print(\"Like the optimal strategy, people's first click is more often a stem node than a branch or leaf node (p={}).\".format(chi2_results[1]))\n",
    "\n",
    "first_click_level_dec = first_click_level"
   ]
  },
  {
   "cell_type": "markdown",
   "metadata": {},
   "source": [
    "### 2. If the first observation is less than 48, then the second click should remain on level 1."
   ]
  },
  {
   "cell_type": "code",
   "execution_count": 35,
   "metadata": {
    "collapsed": false
   },
   "outputs": [
    {
     "name": "stdout",
     "output_type": "stream",
     "text": [
      "Following an observed reward less than 48, participants clicked on another stem in 86.1% of the trials.\n",
      "Following an observed reward less than 48, participants clicked on a branch node in 0.6% of the trials.\n",
      "Following an observed reward less than 48, participants clicked on a leaf in 0.0% of the trials.\n",
      "Following an observed reward less than 48, participants stopped in 13.4% of the trials.\n"
     ]
    }
   ],
   "source": [
    "print(\"Following an observed reward less than 48, participants clicked on another stem in {:3.1f}% of the trials.\".format(100*np.mean(second_click_level[first_observation<48]==1)))\n",
    "print(\"Following an observed reward less than 48, participants clicked on a branch node in {:3.1f}% of the trials.\".format(100*np.mean(second_click_level[first_observation<48]==2)))\n",
    "print(\"Following an observed reward less than 48, participants clicked on a leaf in {:3.1f}% of the trials.\".format(100*np.mean(second_click_level[first_observation<48]==3)))\n",
    "print(\"Following an observed reward less than 48, participants stopped in {:3.1f}% of the trials.\".format(100*np.mean(nr_clicks[first_observation<48]==1)))"
   ]
  },
  {
   "cell_type": "markdown",
   "metadata": {},
   "source": [
    "### 3. If the first observation is 48, then the second click should be on a leaf of the same branch."
   ]
  },
  {
   "cell_type": "code",
   "execution_count": 36,
   "metadata": {
    "collapsed": false
   },
   "outputs": [
    {
     "name": "stdout",
     "output_type": "stream",
     "text": [
      "Following an observed reward of 48, participants clicked on another stem in 17.1% of the trials.\n",
      "Following an observed reward of 48, participants clicked on a branch node in 2.0% of the trials.\n",
      "Following an observed reward of 48, participants clicked on a leaf in 11.6% of the trials.\n",
      "Following an observed reward of 48, participants stopped in 69.3% of the trials.\n"
     ]
    }
   ],
   "source": [
    "print(\"Following an observed reward of 48, participants clicked on another stem in {:3.1f}% of the trials.\".format(100*np.mean(second_click_level[first_observation==48]==1)))\n",
    "print(\"Following an observed reward of 48, participants clicked on a branch node in {:3.1f}% of the trials.\".format(100*np.mean(second_click_level[first_observation==48]==2)))\n",
    "print(\"Following an observed reward of 48, participants clicked on a leaf in {:3.1f}% of the trials.\".format(100*np.mean(second_click_level[first_observation==48]==3)))\n",
    "print(\"Following an observed reward of 48, participants stopped in {:3.1f}% of the trials.\".format(100*np.mean(nr_clicks[first_observation==48]==1)))"
   ]
  },
  {
   "cell_type": "markdown",
   "metadata": {},
   "source": [
    "## Compare frequencies between the two experimental conditions"
   ]
  },
  {
   "cell_type": "code",
   "execution_count": 37,
   "metadata": {
    "collapsed": false
   },
   "outputs": [
    {
     "name": "stdout",
     "output_type": "stream",
     "text": [
      "(520.51308702360416, 3.2727521734996503e-115, 1, array([[ 988.94020995,  479.05979005],\n",
      "       [ 487.05979005,  235.94020995]]))\n",
      "(478.30862324642175, 4.9863735793431612e-106, 1, array([[ 519.38240575,  264.61759425],\n",
      "       [ 956.61759425,  487.38240575]]))\n"
     ]
    }
   ],
   "source": [
    "chi2_level3=stats.chi2_contingency([[len(first_click_level_inc),np.sum(first_click_level_inc==3)],[len(first_click_level_dec),np.sum(first_click_level_dec==3)]])\n",
    "print(chi2_level3)\n",
    "\n",
    "chi2_level1=stats.chi2_contingency([[len(first_click_level_inc),np.sum(first_click_level_inc==1)],[len(first_click_level_dec),np.sum(first_click_level_dec==1)]])\n",
    "print(chi2_level1)"
   ]
  },
  {
   "cell_type": "markdown",
   "metadata": {},
   "source": [
    "# R stats"
   ]
  },
  {
   "cell_type": "code",
   "execution_count": 15,
   "metadata": {
    "collapsed": false
   },
   "outputs": [
    {
     "ename": "ModuleNotFoundError",
     "evalue": "No module named 'rpy2'",
     "output_type": "error",
     "traceback": [
      "\u001b[0;31m---------------------------------------------------------------------------\u001b[0m",
      "\u001b[0;31mModuleNotFoundError\u001b[0m                       Traceback (most recent call last)",
      "\u001b[0;32m<ipython-input-15-9fb13983c9c4>\u001b[0m in \u001b[0;36m<module>\u001b[0;34m()\u001b[0m\n\u001b[0;32m----> 1\u001b[0;31m \u001b[0;32mimport\u001b[0m \u001b[0mrpy2\u001b[0m\u001b[0;34m.\u001b[0m\u001b[0mrobjects\u001b[0m \u001b[0;32mas\u001b[0m \u001b[0mro\u001b[0m\u001b[0;34m\u001b[0m\u001b[0m\n\u001b[0m\u001b[1;32m      2\u001b[0m \u001b[0;32mfrom\u001b[0m \u001b[0mrpy2\u001b[0m\u001b[0;34m.\u001b[0m\u001b[0mrobjects\u001b[0m \u001b[0;32mimport\u001b[0m \u001b[0mpandas2ri\u001b[0m\u001b[0;34m\u001b[0m\u001b[0m\n\u001b[1;32m      3\u001b[0m \u001b[0mpandas2ri\u001b[0m\u001b[0;34m.\u001b[0m\u001b[0mactivate\u001b[0m\u001b[0;34m(\u001b[0m\u001b[0;34m)\u001b[0m\u001b[0;34m\u001b[0m\u001b[0m\n\u001b[1;32m      4\u001b[0m \u001b[0;32mfrom\u001b[0m \u001b[0mrpy2\u001b[0m\u001b[0;34m.\u001b[0m\u001b[0mrobjects\u001b[0m\u001b[0;34m.\u001b[0m\u001b[0mconversion\u001b[0m \u001b[0;32mimport\u001b[0m \u001b[0mri2py\u001b[0m\u001b[0;34m\u001b[0m\u001b[0m\n\u001b[1;32m      5\u001b[0m \u001b[0mget_ipython\u001b[0m\u001b[0;34m(\u001b[0m\u001b[0;34m)\u001b[0m\u001b[0;34m.\u001b[0m\u001b[0mrun_line_magic\u001b[0m\u001b[0;34m(\u001b[0m\u001b[0;34m'load_ext'\u001b[0m\u001b[0;34m,\u001b[0m \u001b[0;34m'rpy2.ipython'\u001b[0m\u001b[0;34m)\u001b[0m\u001b[0;34m\u001b[0m\u001b[0m\n",
      "\u001b[0;31mModuleNotFoundError\u001b[0m: No module named 'rpy2'"
     ]
    }
   ],
   "source": [
    "import rpy2.robjects as ro\n",
    "from rpy2.robjects import pandas2ri\n",
    "pandas2ri.activate()\n",
    "from rpy2.robjects.conversion import ri2py\n",
    "%load_ext rpy2.ipython"
   ]
  },
  {
   "cell_type": "code",
   "execution_count": 8,
   "metadata": {
    "collapsed": true
   },
   "outputs": [],
   "source": [
    "rdf = df2r(tdf, ['trial_index', 'score'])"
   ]
  },
  {
   "cell_type": "code",
   "execution_count": 22,
   "metadata": {
    "collapsed": false
   },
   "outputs": [
    {
     "data": {
      "text/plain": [
       "\n",
       "Call:\n",
       "lm(formula = score ~ trial_index, data = rdf)\n",
       "\n",
       "Residuals:\n",
       "     Min       1Q   Median       3Q      Max \n",
       "-117.073  -17.312    2.346   21.598   75.047 \n",
       "\n",
       "Coefficients:\n",
       "            Estimate Std. Error t value Pr(>|t|)    \n",
       "(Intercept)  25.7907     2.5408  10.151   <2e-16 ***\n",
       "trial_index  -0.1197     0.2286  -0.523    0.601    \n",
       "---\n",
       "Signif. codes:  0 ‘***’ 0.001 ‘**’ 0.01 ‘*’ 0.05 ‘.’ 0.1 ‘ ’ 1\n",
       "\n",
       "Residual standard error: 30.06 on 518 degrees of freedom\n",
       "Multiple R-squared:  0.0005286,\tAdjusted R-squared:  -0.001401 \n",
       "F-statistic: 0.2739 on 1 and 518 DF,  p-value: 0.6009\n",
       "\n"
      ]
     },
     "metadata": {},
     "output_type": "display_data"
    }
   ],
   "source": [
    "%%R -i rdf\n",
    "m = lm(score ~ trial_index, data=rdf)\n",
    "summary(m)"
   ]
  },
  {
   "cell_type": "code",
   "execution_count": null,
   "metadata": {
    "collapsed": true
   },
   "outputs": [],
   "source": []
  },
  {
   "cell_type": "code",
   "execution_count": 29,
   "metadata": {
    "collapsed": false
   },
   "outputs": [
    {
     "name": "stderr",
     "output_type": "stream",
     "text": [
      "[autoreload of train_policies failed: Traceback (most recent call last):\n",
      "  File \"/usr/local/lib/miniconda3/lib/python3.6/site-packages/IPython/extensions/autoreload.py\", line 246, in check\n",
      "    superreload(m, reload, self.old_objects)\n",
      "  File \"/usr/local/lib/miniconda3/lib/python3.6/site-packages/IPython/extensions/autoreload.py\", line 369, in superreload\n",
      "    module = reload(module)\n",
      "  File \"/usr/local/lib/miniconda3/lib/python3.6/imp.py\", line 315, in reload\n",
      "    return importlib.reload(module)\n",
      "  File \"/usr/local/lib/miniconda3/lib/python3.6/importlib/__init__.py\", line 166, in reload\n",
      "    _bootstrap._exec(spec, module)\n",
      "  File \"<frozen importlib._bootstrap>\", line 618, in _exec\n",
      "  File \"<frozen importlib._bootstrap_external>\", line 674, in exec_module\n",
      "  File \"<frozen importlib._bootstrap_external>\", line 781, in get_code\n",
      "  File \"<frozen importlib._bootstrap_external>\", line 741, in source_to_code\n",
      "  File \"<frozen importlib._bootstrap>\", line 219, in _call_with_frames_removed\n",
      "  File \"bin/train_policies.py\", line 48\n",
      "    COST = 1.0\n",
      "       ^\n",
      "SyntaxError: invalid syntax\n",
      "]\n"
     ]
    },
    {
     "data": {
      "text/plain": [
       "['data/empirical_clicks.pkl']"
      ]
     },
     "execution_count": 29,
     "metadata": {},
     "output_type": "execute_result"
    }
   ],
   "source": [
    "joblib.dump(list(zip(tdf.trial_id, tdf.clicks)), 'data/empirical_clicks.pkl')"
   ]
  },
  {
   "cell_type": "code",
   "execution_count": 41,
   "metadata": {
    "collapsed": true
   },
   "outputs": [],
   "source": [
    "def empirical_state_actions():\n",
    "    for trial_id, clicks in zip(tdf.trial_id, tdf.clicks):\n",
    "        if trial_id == 24987:\n",
    "            continue # collision!\n",
    "        env = make_env('constant_high', ground_truth=trials[trial_id])\n",
    "        pol = FixedPlanPolicy([*clicks, env.term_action])\n",
    "        trace = run_episode(pol, env)\n",
    "        yield from zip(trace['states'], trace['actions'])"
   ]
  },
  {
   "cell_type": "code",
   "execution_count": 10,
   "metadata": {
    "collapsed": true
   },
   "outputs": [],
   "source": [
    "pol = lc_policy([-40, 1, 0, 0])\n",
    "\n",
    "def yoked_returns(trial_id, clicks):\n",
    "    env = make_env('constant_high', ground_truth=trials[trial_id])\n",
    "    for click in clicks:\n",
    "        yield sum(run_episode(pol, env)['rewards'])\n",
    "        env.reset()\n",
    "        env.init = env.step(click)[0]\n",
    " "
   ]
  },
  {
   "cell_type": "code",
   "execution_count": 12,
   "metadata": {
    "collapsed": false
   },
   "outputs": [
    {
     "name": "stdout",
     "output_type": "stream",
     "text": [
      " "
     ]
    }
   ],
   "source": [
    "from toolz import partition_all, concat\n",
    "args = \n",
    "chunk_size = 10\n",
    "chunks = partition_all(chunk_size, args)\n",
    "def one(chunk):\n",
    "    return sum(concat(yoked_returns(*args) for args in chunk))\n",
    "\n",
    "one(next(chunks))"
   ]
  },
  {
   "cell_type": "code",
   "execution_count": 322,
   "metadata": {
    "collapsed": false
   },
   "outputs": [
    {
     "data": {
      "text/plain": [
       "2"
      ]
     },
     "execution_count": 322,
     "metadata": {},
     "output_type": "execute_result"
    }
   ],
   "source": [
    "1+1\n",
    "\n",
    "\n",
    "\n",
    "\n",
    "\n",
    "\n"
   ]
  },
  {
   "cell_type": "code",
   "execution_count": null,
   "metadata": {
    "collapsed": true
   },
   "outputs": [],
   "source": []
  }
 ],
 "metadata": {
  "anaconda-cloud": {},
  "kernelspec": {
   "display_name": "Python 3",
   "language": "python",
   "name": "python3"
  },
  "language_info": {
   "codemirror_mode": {
    "name": "ipython",
    "version": 3
   },
   "file_extension": ".py",
   "mimetype": "text/x-python",
   "name": "python",
   "nbconvert_exporter": "python",
   "pygments_lexer": "ipython3",
   "version": "3.6.3"
  },
  "nav_menu": {},
  "toc": {
   "navigate_menu": true,
   "number_sections": true,
   "sideBar": true,
   "threshold": 6,
   "toc_cell": false,
   "toc_section_display": "block",
   "toc_window_display": false
  }
 },
 "nbformat": 4,
 "nbformat_minor": 1
}
