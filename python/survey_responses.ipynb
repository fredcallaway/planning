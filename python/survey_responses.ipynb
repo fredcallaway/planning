{
 "cells": [
  {
   "cell_type": "code",
   "execution_count": 1,
   "metadata": {
    "collapsed": true
   },
   "outputs": [],
   "source": [
    "import numpy as np\n",
    "import pandas as pd\n",
    "import matplotlib.pyplot as plt\n",
    "import csv\n",
    "%matplotlib inline"
   ]
  },
  {
   "cell_type": "code",
   "execution_count": 2,
   "metadata": {
    "collapsed": false
   },
   "outputs": [
    {
     "data": {
      "text/plain": [
       "'C:\\\\Users\\\\piichan\\\\Documents\\\\Berkeley\\\\CoCoSci Lab\\\\cogsci18\\\\python'"
      ]
     },
     "execution_count": 2,
     "metadata": {},
     "output_type": "execute_result"
    }
   ],
   "source": [
    "pwd"
   ]
  },
  {
   "cell_type": "code",
   "execution_count": 3,
   "metadata": {
    "collapsed": false
   },
   "outputs": [
    {
     "name": "stdout",
     "output_type": "stream",
     "text": [
      "C:\\Users\\piichan\\Documents\\Berkeley\\CoCoSci Lab\\cogsci18\\experiment\\data\\human\\c1.1\n"
     ]
    }
   ],
   "source": [
    "cd ../experiment/data/human/c1.1"
   ]
  },
  {
   "cell_type": "code",
   "execution_count": 4,
   "metadata": {
    "collapsed": false
   },
   "outputs": [
    {
     "data": {
      "text/html": [
       "<div>\n",
       "<style>\n",
       "    .dataframe thead tr:only-child th {\n",
       "        text-align: right;\n",
       "    }\n",
       "\n",
       "    .dataframe thead th {\n",
       "        text-align: left;\n",
       "    }\n",
       "\n",
       "    .dataframe tbody tr th {\n",
       "        vertical-align: top;\n",
       "    }\n",
       "</style>\n",
       "<table border=\"1\" class=\"dataframe\">\n",
       "  <thead>\n",
       "    <tr style=\"text-align: right;\">\n",
       "      <th></th>\n",
       "      <th>Unnamed: 0</th>\n",
       "      <th>0</th>\n",
       "      <th>1</th>\n",
       "      <th>2</th>\n",
       "      <th>3</th>\n",
       "      <th>4</th>\n",
       "      <th>5</th>\n",
       "      <th>6</th>\n",
       "      <th>7</th>\n",
       "    </tr>\n",
       "  </thead>\n",
       "  <tbody>\n",
       "    <tr>\n",
       "      <th>0</th>\n",
       "      <td>0</td>\n",
       "      <td>Randomly</td>\n",
       "      <td>Randomly</td>\n",
       "      <td>left</td>\n",
       "      <td>Randomly</td>\n",
       "      <td>No</td>\n",
       "      <td>37</td>\n",
       "      <td>No</td>\n",
       "      <td>NaN</td>\n",
       "    </tr>\n",
       "    <tr>\n",
       "      <th>1</th>\n",
       "      <td>1</td>\n",
       "      <td>I trusted my instincts.</td>\n",
       "      <td>I always chose the lesser of two evils if all ...</td>\n",
       "      <td>the node to the left.</td>\n",
       "      <td>when i had no more turns.</td>\n",
       "      <td>sometimes when i clicked all three nodes, only...</td>\n",
       "      <td>35</td>\n",
       "      <td>no.</td>\n",
       "      <td>The game itself was exciting, but i don't real...</td>\n",
       "    </tr>\n",
       "    <tr>\n",
       "      <th>2</th>\n",
       "      <td>2</td>\n",
       "      <td>Where there were high losses</td>\n",
       "      <td>Where there were green numbers and not red</td>\n",
       "      <td>at the branches closest to me.</td>\n",
       "      <td>when I found a way to get something positive</td>\n",
       "      <td>I would not click further in one direction if ...</td>\n",
       "      <td>45</td>\n",
       "      <td>No. It was a fun game</td>\n",
       "      <td>Thank you.</td>\n",
       "    </tr>\n",
       "    <tr>\n",
       "      <th>3</th>\n",
       "      <td>3</td>\n",
       "      <td>Anywhere that started out as -10 I wouldn't cl...</td>\n",
       "      <td>I decided I'd try the first circle of each pat...</td>\n",
       "      <td>The closest circle to the starting point of ea...</td>\n",
       "      <td>When I had enough information to know I would ...</td>\n",
       "      <td>Nothing else I can think of.</td>\n",
       "      <td>30</td>\n",
       "      <td>No</td>\n",
       "      <td>NaN</td>\n",
       "    </tr>\n",
       "    <tr>\n",
       "      <th>4</th>\n",
       "      <td>4</td>\n",
       "      <td>the negative numbers</td>\n",
       "      <td>where the spider would go first</td>\n",
       "      <td>the first spots</td>\n",
       "      <td>when i found positive numbers</td>\n",
       "      <td>NaN</td>\n",
       "      <td>52</td>\n",
       "      <td>no</td>\n",
       "      <td>NaN</td>\n",
       "    </tr>\n",
       "  </tbody>\n",
       "</table>\n",
       "</div>"
      ],
      "text/plain": [
       "   Unnamed: 0                                                  0  \\\n",
       "0           0                                           Randomly   \n",
       "1           1                            I trusted my instincts.   \n",
       "2           2                       Where there were high losses   \n",
       "3           3  Anywhere that started out as -10 I wouldn't cl...   \n",
       "4           4                               the negative numbers   \n",
       "\n",
       "                                                   1  \\\n",
       "0                                           Randomly   \n",
       "1  I always chose the lesser of two evils if all ...   \n",
       "2         Where there were green numbers and not red   \n",
       "3  I decided I'd try the first circle of each pat...   \n",
       "4                    where the spider would go first   \n",
       "\n",
       "                                                   2  \\\n",
       "0                                               left   \n",
       "1                              the node to the left.   \n",
       "2                    at the branches closest to me.    \n",
       "3  The closest circle to the starting point of ea...   \n",
       "4                                    the first spots   \n",
       "\n",
       "                                                   3  \\\n",
       "0                                           Randomly   \n",
       "1                          when i had no more turns.   \n",
       "2       when I found a way to get something positive   \n",
       "3  When I had enough information to know I would ...   \n",
       "4                      when i found positive numbers   \n",
       "\n",
       "                                                   4   5  \\\n",
       "0                                                 No  37   \n",
       "1  sometimes when i clicked all three nodes, only...  35   \n",
       "2  I would not click further in one direction if ...  45   \n",
       "3                      Nothing else I can think of.   30   \n",
       "4                                                NaN  52   \n",
       "\n",
       "                       6                                                  7  \n",
       "0                     No                                                NaN  \n",
       "1                    no.  The game itself was exciting, but i don't real...  \n",
       "2  No. It was a fun game                                         Thank you.  \n",
       "3                     No                                                NaN  \n",
       "4                     no                                                NaN  "
      ]
     },
     "execution_count": 4,
     "metadata": {},
     "output_type": "execute_result"
    }
   ],
   "source": [
    "df=pd.read_csv('survey.csv', sep=',')\n",
    "df.head()"
   ]
  },
  {
   "cell_type": "code",
   "execution_count": 5,
   "metadata": {
    "collapsed": false
   },
   "outputs": [
    {
     "data": {
      "text/plain": [
       "0     37\n",
       "1     35\n",
       "2     45\n",
       "3     30\n",
       "4     52\n",
       "5     28\n",
       "6     41\n",
       "7     38\n",
       "8     49\n",
       "9     29\n",
       "10    48\n",
       "11    35\n",
       "12    41\n",
       "13    33\n",
       "14    27\n",
       "15    22\n",
       "16    39\n",
       "17    21\n",
       "18    63\n",
       "19    30\n",
       "20    23\n",
       "21    36\n",
       "22    31\n",
       "23    42\n",
       "24    24\n",
       "25    66\n",
       "26    51\n",
       "27    48\n",
       "28    60\n",
       "29    29\n",
       "30    32\n",
       "31    27\n",
       "32    23\n",
       "33    36\n",
       "34    34\n",
       "35    28\n",
       "36    42\n",
       "37    21\n",
       "38    39\n",
       "39    58\n",
       "40    33\n",
       "41    19\n",
       "42    27\n",
       "43    31\n",
       "44    35\n",
       "45    26\n",
       "46    40\n",
       "47    52\n",
       "48    44\n",
       "49    20\n",
       "50    25\n",
       "51    62\n",
       "52    49\n",
       "53    23\n",
       "54    33\n",
       "55    33\n",
       "56    32\n",
       "57    33\n",
       "58    30\n",
       "59    50\n",
       "Name: 5, dtype: int64"
      ]
     },
     "execution_count": 5,
     "metadata": {},
     "output_type": "execute_result"
    }
   ],
   "source": [
    "ages = df['5']\n",
    "ages"
   ]
  },
  {
   "cell_type": "code",
   "execution_count": 6,
   "metadata": {
    "collapsed": false
   },
   "outputs": [
    {
     "data": {
      "text/plain": [
       "array([19, 20, 21, 21, 22, 23, 23, 23, 24, 25, 26, 27, 27, 27, 28, 28, 29,\n",
       "       29, 30, 30, 30, 31, 31, 32, 32, 33, 33, 33, 33, 33, 34, 35, 35, 35,\n",
       "       36, 36, 37, 38, 39, 39, 40, 41, 41, 42, 42, 44, 45, 48, 48, 49, 49,\n",
       "       50, 51, 52, 52, 58, 60, 62, 63, 66], dtype=int64)"
      ]
     },
     "execution_count": 6,
     "metadata": {},
     "output_type": "execute_result"
    }
   ],
   "source": [
    "np.sort(ages)"
   ]
  },
  {
   "cell_type": "code",
   "execution_count": 7,
   "metadata": {
    "collapsed": false
   },
   "outputs": [
    {
     "data": {
      "text/plain": [
       "(array([ 1.,  1.,  2.,  1.,  3.,  1.,  1.,  1.,  3.,  2.,  2.,  3.,  2.,\n",
       "         2.,  5.,  1.,  3.,  2.,  1.,  1.,  2.,  1.,  2.,  2.,  0.,  1.,\n",
       "         1.,  0.,  0.,  2.,  2.,  1.,  1.,  2.,  0.,  0.,  0.,  0.,  0.,\n",
       "         1.,  0.,  1.,  0.,  1.,  1.,  0.,  1.]),\n",
       " array([19, 20, 21, 22, 23, 24, 25, 26, 27, 28, 29, 30, 31, 32, 33, 34, 35,\n",
       "        36, 37, 38, 39, 40, 41, 42, 43, 44, 45, 46, 47, 48, 49, 50, 51, 52,\n",
       "        53, 54, 55, 56, 57, 58, 59, 60, 61, 62, 63, 64, 65, 66], dtype=int64),\n",
       " <a list of 47 Patch objects>)"
      ]
     },
     "execution_count": 7,
     "metadata": {},
     "output_type": "execute_result"
    },
    {
     "data": {
      "image/png": "[encoded data removed]",
      "text/plain": [
       "<matplotlib.figure.Figure at 0x276204f4e48>"
      ]
     },
     "metadata": {},
     "output_type": "display_data"
    }
   ],
   "source": [
    "plt.figure()\n",
    "plt.hist(ages, bins=np.arange(np.min(ages), np.max(ages)+1))"
   ]
  },
  {
   "cell_type": "code",
   "execution_count": 8,
   "metadata": {
    "collapsed": false
   },
   "outputs": [
    {
     "data": {
      "text/html": [
       "<div>\n",
       "<style>\n",
       "    .dataframe thead tr:only-child th {\n",
       "        text-align: right;\n",
       "    }\n",
       "\n",
       "    .dataframe thead th {\n",
       "        text-align: left;\n",
       "    }\n",
       "\n",
       "    .dataframe tbody tr th {\n",
       "        vertical-align: top;\n",
       "    }\n",
       "</style>\n",
       "<table border=\"1\" class=\"dataframe\">\n",
       "  <thead>\n",
       "    <tr style=\"text-align: right;\">\n",
       "      <th></th>\n",
       "      <th>action_times</th>\n",
       "      <th>actions</th>\n",
       "      <th>block</th>\n",
       "      <th>path</th>\n",
       "      <th>queries</th>\n",
       "      <th>rewards</th>\n",
       "      <th>rt</th>\n",
       "      <th>score</th>\n",
       "      <th>simulation_mode</th>\n",
       "      <th>state_rewards</th>\n",
       "      <th>time_elapsed</th>\n",
       "      <th>trial_index</th>\n",
       "      <th>trial_time</th>\n",
       "      <th>trial_id</th>\n",
       "      <th>trial_type</th>\n",
       "      <th>pid</th>\n",
       "    </tr>\n",
       "  </thead>\n",
       "  <tbody>\n",
       "    <tr>\n",
       "      <th>0</th>\n",
       "      <td>[39060, 40437, 43837]</td>\n",
       "      <td>[u'right', u'right', u'down']</td>\n",
       "      <td>train_basic</td>\n",
       "      <td>[u'0', u'5', u'6', u'8']</td>\n",
       "      <td>{u'mouseover': {u'state': {u'target': [], u'ti...</td>\n",
       "      <td>[10, 5, -5]</td>\n",
       "      <td>[39056, 854, 2888]</td>\n",
       "      <td>10.0</td>\n",
       "      <td>[None, None, None]</td>\n",
       "      <td>[u'', -5, 10, 5, -10, 10, 5, -10, -5, 5, 10, -...</td>\n",
       "      <td>48517</td>\n",
       "      <td>0.0</td>\n",
       "      <td>48141.0</td>\n",
       "      <td>-9.148803e+18</td>\n",
       "      <td>mouselab-mdp</td>\n",
       "      <td>0</td>\n",
       "    </tr>\n",
       "    <tr>\n",
       "      <th>1</th>\n",
       "      <td>[7978, 8975, 11894]</td>\n",
       "      <td>[u'left', u'left', u'up']</td>\n",
       "      <td>train_basic</td>\n",
       "      <td>[u'0', u'9', u'10', u'11']</td>\n",
       "      <td>{u'mouseover': {u'state': {u'target': [], u'ti...</td>\n",
       "      <td>[5, -5, 10]</td>\n",
       "      <td>[7974, 479, 2400]</td>\n",
       "      <td>10.0</td>\n",
       "      <td>[None, None, None]</td>\n",
       "      <td>[u'', 10, 10, 5, 5, -10, -5, -5, -10, 5, -5, 1...</td>\n",
       "      <td>63650</td>\n",
       "      <td>1.0</td>\n",
       "      <td>13990.0</td>\n",
       "      <td>8.086242e+18</td>\n",
       "      <td>mouselab-mdp</td>\n",
       "      <td>0</td>\n",
       "    </tr>\n",
       "    <tr>\n",
       "      <th>2</th>\n",
       "      <td>[5530, 6481, 7287]</td>\n",
       "      <td>[u'left', u'left', u'up']</td>\n",
       "      <td>train_basic</td>\n",
       "      <td>[u'0', u'9', u'10', u'11']</td>\n",
       "      <td>{u'mouseover': {u'state': {u'target': [], u'ti...</td>\n",
       "      <td>[10, -5, 10]</td>\n",
       "      <td>[5527, 428, 286]</td>\n",
       "      <td>15.0</td>\n",
       "      <td>[None, None, None]</td>\n",
       "      <td>[u'', 10, -10, 5, 5, 5, 5, -5, 5, 10, -5, 10, ...</td>\n",
       "      <td>74401</td>\n",
       "      <td>2.0</td>\n",
       "      <td>9632.0</td>\n",
       "      <td>-6.577176e+18</td>\n",
       "      <td>mouselab-mdp</td>\n",
       "      <td>0</td>\n",
       "    </tr>\n",
       "    <tr>\n",
       "      <th>3</th>\n",
       "      <td>[5587, 6950, 8054]</td>\n",
       "      <td>[u'left', u'left', u'down']</td>\n",
       "      <td>train_basic</td>\n",
       "      <td>[u'0', u'9', u'10', u'12']</td>\n",
       "      <td>{u'mouseover': {u'state': {u'target': [], u'ti...</td>\n",
       "      <td>[-5, 5, 5]</td>\n",
       "      <td>[5584, 849, 586]</td>\n",
       "      <td>5.0</td>\n",
       "      <td>[None, None, None]</td>\n",
       "      <td>[u'', -5, 5, -10, -5, -10, -10, -10, -5, -5, 5...</td>\n",
       "      <td>85597</td>\n",
       "      <td>3.0</td>\n",
       "      <td>10079.0</td>\n",
       "      <td>-8.315324e+18</td>\n",
       "      <td>mouselab-mdp</td>\n",
       "      <td>0</td>\n",
       "    </tr>\n",
       "    <tr>\n",
       "      <th>4</th>\n",
       "      <td>[10279, 11265, 12237]</td>\n",
       "      <td>[u'left', u'left', u'down']</td>\n",
       "      <td>train_basic</td>\n",
       "      <td>[u'0', u'9', u'10', u'12']</td>\n",
       "      <td>{u'mouseover': {u'state': {u'target': [], u'ti...</td>\n",
       "      <td>[5, 5, 10]</td>\n",
       "      <td>[10277, 464, 454]</td>\n",
       "      <td>20.0</td>\n",
       "      <td>[None, None, None]</td>\n",
       "      <td>[u'', 10, -5, -10, 10, -10, 10, 10, -5, 5, 5, ...</td>\n",
       "      <td>100990</td>\n",
       "      <td>4.0</td>\n",
       "      <td>14254.0</td>\n",
       "      <td>-6.044131e+18</td>\n",
       "      <td>mouselab-mdp</td>\n",
       "      <td>0</td>\n",
       "    </tr>\n",
       "  </tbody>\n",
       "</table>\n",
       "</div>"
      ],
      "text/plain": [
       "            action_times                        actions        block  \\\n",
       "0  [39060, 40437, 43837]  [u'right', u'right', u'down']  train_basic   \n",
       "1    [7978, 8975, 11894]      [u'left', u'left', u'up']  train_basic   \n",
       "2     [5530, 6481, 7287]      [u'left', u'left', u'up']  train_basic   \n",
       "3     [5587, 6950, 8054]    [u'left', u'left', u'down']  train_basic   \n",
       "4  [10279, 11265, 12237]    [u'left', u'left', u'down']  train_basic   \n",
       "\n",
       "                         path  \\\n",
       "0    [u'0', u'5', u'6', u'8']   \n",
       "1  [u'0', u'9', u'10', u'11']   \n",
       "2  [u'0', u'9', u'10', u'11']   \n",
       "3  [u'0', u'9', u'10', u'12']   \n",
       "4  [u'0', u'9', u'10', u'12']   \n",
       "\n",
       "                                             queries       rewards  \\\n",
       "0  {u'mouseover': {u'state': {u'target': [], u'ti...   [10, 5, -5]   \n",
       "1  {u'mouseover': {u'state': {u'target': [], u'ti...   [5, -5, 10]   \n",
       "2  {u'mouseover': {u'state': {u'target': [], u'ti...  [10, -5, 10]   \n",
       "3  {u'mouseover': {u'state': {u'target': [], u'ti...    [-5, 5, 5]   \n",
       "4  {u'mouseover': {u'state': {u'target': [], u'ti...    [5, 5, 10]   \n",
       "\n",
       "                   rt  score     simulation_mode  \\\n",
       "0  [39056, 854, 2888]   10.0  [None, None, None]   \n",
       "1   [7974, 479, 2400]   10.0  [None, None, None]   \n",
       "2    [5527, 428, 286]   15.0  [None, None, None]   \n",
       "3    [5584, 849, 586]    5.0  [None, None, None]   \n",
       "4   [10277, 464, 454]   20.0  [None, None, None]   \n",
       "\n",
       "                                       state_rewards  time_elapsed  \\\n",
       "0  [u'', -5, 10, 5, -10, 10, 5, -10, -5, 5, 10, -...         48517   \n",
       "1  [u'', 10, 10, 5, 5, -10, -5, -5, -10, 5, -5, 1...         63650   \n",
       "2  [u'', 10, -10, 5, 5, 5, 5, -5, 5, 10, -5, 10, ...         74401   \n",
       "3  [u'', -5, 5, -10, -5, -10, -10, -10, -5, -5, 5...         85597   \n",
       "4  [u'', 10, -5, -10, 10, -10, 10, 10, -5, 5, 5, ...        100990   \n",
       "\n",
       "   trial_index  trial_time      trial_id    trial_type  pid  \n",
       "0          0.0     48141.0 -9.148803e+18  mouselab-mdp    0  \n",
       "1          1.0     13990.0  8.086242e+18  mouselab-mdp    0  \n",
       "2          2.0      9632.0 -6.577176e+18  mouselab-mdp    0  \n",
       "3          3.0     10079.0 -8.315324e+18  mouselab-mdp    0  \n",
       "4          4.0     14254.0 -6.044131e+18  mouselab-mdp    0  "
      ]
     },
     "execution_count": 8,
     "metadata": {},
     "output_type": "execute_result"
    }
   ],
   "source": [
    "data = pd.read_csv('mouselab-mdp.csv')\n",
    "data.head()"
   ]
  },
  {
   "cell_type": "code",
   "execution_count": 9,
   "metadata": {
    "collapsed": false
   },
   "outputs": [],
   "source": [
    "df = df.rename(columns={'Unnamed: 0': 'pid'})\n",
    "data = data[data['block']=='test']"
   ]
  },
  {
   "cell_type": "code",
   "execution_count": 12,
   "metadata": {
    "collapsed": false
   },
   "outputs": [
    {
     "data": {
      "text/html": [
       "<div>\n",
       "<style>\n",
       "    .dataframe thead tr:only-child th {\n",
       "        text-align: right;\n",
       "    }\n",
       "\n",
       "    .dataframe thead th {\n",
       "        text-align: left;\n",
       "    }\n",
       "\n",
       "    .dataframe tbody tr th {\n",
       "        vertical-align: top;\n",
       "    }\n",
       "</style>\n",
       "<table border=\"1\" class=\"dataframe\">\n",
       "  <thead>\n",
       "    <tr style=\"text-align: right;\">\n",
       "      <th></th>\n",
       "      <th>score</th>\n",
       "      <th>age</th>\n",
       "    </tr>\n",
       "  </thead>\n",
       "  <tbody>\n",
       "    <tr>\n",
       "      <th>0</th>\n",
       "      <td>2.166667</td>\n",
       "      <td>37.0</td>\n",
       "    </tr>\n",
       "    <tr>\n",
       "      <th>1</th>\n",
       "      <td>1.466667</td>\n",
       "      <td>35.0</td>\n",
       "    </tr>\n",
       "    <tr>\n",
       "      <th>2</th>\n",
       "      <td>10.766667</td>\n",
       "      <td>45.0</td>\n",
       "    </tr>\n",
       "    <tr>\n",
       "      <th>3</th>\n",
       "      <td>6.733333</td>\n",
       "      <td>30.0</td>\n",
       "    </tr>\n",
       "    <tr>\n",
       "      <th>4</th>\n",
       "      <td>8.666667</td>\n",
       "      <td>52.0</td>\n",
       "    </tr>\n",
       "    <tr>\n",
       "      <th>5</th>\n",
       "      <td>-0.833333</td>\n",
       "      <td>28.0</td>\n",
       "    </tr>\n",
       "    <tr>\n",
       "      <th>6</th>\n",
       "      <td>9.666667</td>\n",
       "      <td>41.0</td>\n",
       "    </tr>\n",
       "    <tr>\n",
       "      <th>7</th>\n",
       "      <td>-1.733333</td>\n",
       "      <td>38.0</td>\n",
       "    </tr>\n",
       "    <tr>\n",
       "      <th>8</th>\n",
       "      <td>5.966667</td>\n",
       "      <td>49.0</td>\n",
       "    </tr>\n",
       "    <tr>\n",
       "      <th>9</th>\n",
       "      <td>-1.000000</td>\n",
       "      <td>29.0</td>\n",
       "    </tr>\n",
       "  </tbody>\n",
       "</table>\n",
       "</div>"
      ],
      "text/plain": [
       "       score   age\n",
       "0   2.166667  37.0\n",
       "1   1.466667  35.0\n",
       "2  10.766667  45.0\n",
       "3   6.733333  30.0\n",
       "4   8.666667  52.0\n",
       "5  -0.833333  28.0\n",
       "6   9.666667  41.0\n",
       "7  -1.733333  38.0\n",
       "8   5.966667  49.0\n",
       "9  -1.000000  29.0"
      ]
     },
     "execution_count": 12,
     "metadata": {},
     "output_type": "execute_result"
    }
   ],
   "source": [
    "perf = data[['pid','score', 'trial_index']]\n",
    "avg_score = pd.DataFrame(perf.groupby('pid')['score'].mean())\n",
    "age_score = avg_score.merge(df[['5']], how='outer', left_index=True, right_index=True)\n",
    "age_score = age_score.rename(columns={'5':'age'})\n",
    "#missing values taken from survey-text.csv\n",
    "age_score['age'][60] = 30\n",
    "age_score['age'][61] = 50\n",
    "age_score[:10]"
   ]
  },
  {
   "cell_type": "code",
   "execution_count": 14,
   "metadata": {
    "collapsed": false
   },
   "outputs": [
    {
     "data": {
      "text/plain": [
       "<matplotlib.text.Text at 0x27622834630>"
      ]
     },
     "execution_count": 14,
     "metadata": {},
     "output_type": "execute_result"
    },
    {
     "data": {
      "image/png": "[encoded data removed]",
      "text/plain": [
       "<matplotlib.figure.Figure at 0x276227c3cc0>"
      ]
     },
     "metadata": {},
     "output_type": "display_data"
    }
   ],
   "source": [
    "plt.figure(figsize=(10,8))\n",
    "plt.scatter(age_score['age'], age_score['score'])\n",
    "plt.xlabel('age')\n",
    "plt.ylabel(\"avg score over test trials\")"
   ]
  },
  {
   "cell_type": "code",
   "execution_count": null,
   "metadata": {
    "collapsed": true
   },
   "outputs": [],
   "source": []
  }
 ],
 "metadata": {
  "kernelspec": {
   "display_name": "Python 3",
   "language": "python",
   "name": "python3"
  },
  "language_info": {
   "codemirror_mode": {
    "name": "ipython",
    "version": 3
   },
   "file_extension": ".py",
   "mimetype": "text/x-python",
   "name": "python",
   "nbconvert_exporter": "python",
   "pygments_lexer": "ipython3",
   "version": "3.5.4"
  }
 },
 "nbformat": 4,
 "nbformat_minor": 1
}
