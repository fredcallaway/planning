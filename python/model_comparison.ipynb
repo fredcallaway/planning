{
 "cells": [
  {
   "cell_type": "code",
   "execution_count": 12,
   "metadata": {
    "collapsed": true
   },
   "outputs": [],
   "source": [
    "%matplotlib inline\n",
    "%load_ext autoreload\n",
    "%autoreload 2\n",
    "\n",
    "import itertools as it\n",
    "from collections import Counter, defaultdict, deque\n",
    "import matplotlib.pyplot as plt\n",
    "import numpy as np\n",
    "import pandas as pd\n",
    "from pandas import DataFrame, Series\n",
    "import seaborn as sns\n",
    "sns.set_style('white')\n",
    "sns.set_context('notebook', font_scale=1.3)\n",
    "\n",
    "from toolz.curried import get, curry\n",
    "from agents import run_episode"
   ]
  },
  {
   "cell_type": "markdown",
   "metadata": {},
   "source": [
    "# Define environment"
   ]
  },
  {
   "cell_type": "code",
   "execution_count": 13,
   "metadata": {
    "collapsed": true
   },
   "outputs": [],
   "source": [
    "from mouselab import MouselabEnv\n",
    "from distributions import Categorical, Normal\n",
    "\n",
    "def make_env(mu=0, sigma=5, quantization=4, cost=1.00, seed=None, branching=[3,1,2], **kwargs):\n",
    "    if seed is not None:\n",
    "        np.random.seed(seed)\n",
    "\n",
    "    def reward(depth):\n",
    "        if depth > 0:\n",
    "            x = np.array([-2,-1,1,2])\n",
    "            return Categorical(mu + sigma * x)\n",
    "        return 0.\n",
    "\n",
    "    return MouselabEnv.new_symmetric(branching, reward, cost=cost, **kwargs)\n",
    "\n",
    "env = make_env(ground_truth=False)"
   ]
  },
  {
   "cell_type": "markdown",
   "metadata": {
    "heading_collapsed": true
   },
   "source": [
    "# Optimal policy\n",
    "\n",
    "Because we can compute the true optimal Q function, we can implement the optimal policy\n",
    "as a `SoftmaxPolicy` using `Q` as a preference function, and a very low temperature."
   ]
  },
  {
   "cell_type": "code",
   "execution_count": 3,
   "metadata": {
    "hidden": true
   },
   "outputs": [
    {
     "name": "stdout",
     "output_type": "stream",
     "text": [
      "8.879117548465729\n"
     ]
    }
   ],
   "source": [
    "from exact import solve\n",
    "from toolz import compose\n",
    "h = compose(hash, str)\n",
    "\n",
    "def maybe(f):\n",
    "    try:\n",
    "        return f()\n",
    "    except IndexError:\n",
    "        return 0\n",
    "\n",
    "def hash_x12(state):\n",
    "    if state == '__term_state__':\n",
    "        return hash(state)\n",
    "    s = [hash(x) + 100000 for x in state]\n",
    "    return (\n",
    "      h(s[1] + s[2] +\n",
    "        h(s[3]) +\n",
    "        h(s[4])\n",
    "      ) + maybe(lambda:\n",
    "      h(s[5] + s[6] +\n",
    "        h(s[7]) +\n",
    "        h(s[8])\n",
    "      ) + maybe(lambda:\n",
    "      h(s[9] + s[10] +\n",
    "        h(s[11]) +\n",
    "        h(s[12])\n",
    "      ) + maybe(lambda:\n",
    "      h(s[13] + s[14] +\n",
    "        h(s[15]) +\n",
    "        h(s[16])\n",
    "      ))))\n",
    "    )\n",
    "\n",
    "from policies import SoftmaxPolicy\n",
    "\n",
    "def get_optimal_policy(env):\n",
    "    Q, V, pi, info = solve(env, hash_state=hash_x12)\n",
    "    print(V(env.init))  # ~ 5 minutes for 312\n",
    "    return SoftmaxPolicy(Q)\n",
    "    \n",
    "optimal_policy = get_optimal_policy(env)\n",
    "Q = optimal_policy.preference"
   ]
  },
  {
   "cell_type": "markdown",
   "metadata": {
    "heading_collapsed": true
   },
   "source": [
    "# Alternative models"
   ]
  },
  {
   "cell_type": "markdown",
   "metadata": {
    "hidden": true
   },
   "source": [
    "## Satisficing and pruning"
   ]
  },
  {
   "cell_type": "code",
   "execution_count": 5,
   "metadata": {
    "collapsed": true,
    "hidden": true
   },
   "outputs": [],
   "source": [
    "from functools import wraps\n",
    "\n",
    "def observed(state, node):\n",
    "    return not hasattr(state[node], 'sample')\n",
    "\n",
    "@curry\n",
    "def satisfruning(preference, prune=None, satisfice=None, env=env):\n",
    "    @wraps(preference)\n",
    "    def new_pref(state, action, prune=prune, satisfice=satisfice):\n",
    "        if action == env.term_action:\n",
    "            if satisfice is not None:\n",
    "                satisfied = env.expected_term_reward(state) >= satisfice\n",
    "                return 1e10 if satisfied else -1e10\n",
    "        elif prune is not None:\n",
    "            if env.node_quality(action, state).expectation() <= prune:\n",
    "                return -1e20\n",
    "        return preference(state, action)\n",
    "    \n",
    "    return new_pref"
   ]
  },
  {
   "cell_type": "markdown",
   "metadata": {
    "hidden": true
   },
   "source": [
    "## Preferences"
   ]
  },
  {
   "cell_type": "code",
   "execution_count": 6,
   "metadata": {
    "collapsed": true,
    "hidden": true
   },
   "outputs": [],
   "source": [
    "def depth_first(state, action):\n",
    "    # Don't click nodes not on the frontier.\n",
    "    previous_nodes = env.path_to(action)[:-1]\n",
    "    if not all(observed(state, node) for node in previous_nodes):\n",
    "        return -1e10\n",
    "    # Prefer nodes that are further from the start\n",
    "    return len(previous_nodes)"
   ]
  },
  {
   "cell_type": "code",
   "execution_count": 7,
   "metadata": {
    "collapsed": true,
    "hidden": true
   },
   "outputs": [],
   "source": [
    "def breadth_first(state, action):\n",
    "    # Don't click nodes not on the frontier.\n",
    "    previous_nodes = env.path_to(action)[:-1]\n",
    "    if not all(observed(state, node) for node in previous_nodes):\n",
    "        return -1e10\n",
    "    # Prefer nodes that are closer to the start\n",
    "    return -len(previous_nodes)"
   ]
  },
  {
   "cell_type": "code",
   "execution_count": 8,
   "metadata": {
    "collapsed": true,
    "hidden": true
   },
   "outputs": [],
   "source": [
    "def best_first(state, action):\n",
    "    previous_nodes = env.path_to(action)[:-1]\n",
    "    if not all(observed(state, node) for node in previous_nodes):\n",
    "        return -1e10\n",
    "    q = env.node_quality(action, state)  # note backwards arguments!  plz don't ask why...\n",
    "    return q.expectation()  # node_quality is a distribution, we just want the mean"
   ]
  },
  {
   "cell_type": "code",
   "execution_count": 9,
   "metadata": {
    "collapsed": true,
    "hidden": true
   },
   "outputs": [],
   "source": [
    "def progressive_deepening(state, action,  last_click=None):\n",
    "    previous_nodes = env.path_to(action)[:-1]\n",
    "    if not all(observed(state, node) for node in previous_nodes):\n",
    "        return -1e10\n",
    "    if last_click:\n",
    "        # version if last_click is available\n",
    "        if last_clicka in env.leaves():\n",
    "            if len(previous_nodes) == 1:\n",
    "                # the start of a new path = another leaf on the previous path\n",
    "                return len(env.path_to(last_click)[:-1])\n",
    "            return len(previous_nodes)\n",
    "        if last_click == previous_nodes[-1]:\n",
    "            return 1e10\n",
    "        return len(previous_nodes)\n",
    "    else:\n",
    "        # the following only works for a 3-1-2 environment\n",
    "        if action in env.leaves():\n",
    "            leaf_group = None\n",
    "            for subtree in env.tree:\n",
    "                if (len(subtree) == 2) and (action in subtree):\n",
    "                    leaf_group = subtree\n",
    "            for leaf in leaf_group:\n",
    "                if observed(state, leaf):\n",
    "                    return 1 # set same value as the beginning of a new path\n",
    "        return len(previous_nodes)"
   ]
  },
  {
   "cell_type": "markdown",
   "metadata": {},
   "source": [
    "# Model human data"
   ]
  },
  {
   "cell_type": "markdown",
   "metadata": {},
   "source": [
    "## Load and preprocess"
   ]
  },
  {
   "cell_type": "code",
   "execution_count": 14,
   "metadata": {},
   "outputs": [
    {
     "name": "stdout",
     "output_type": "stream",
     "text": [
      "60 participants\n"
     ]
    }
   ],
   "source": [
    "from analysis_utils import *\n",
    "VERSION = 'c1.1'\n",
    "exp_data = get_data(VERSION, '../experiment/data')\n",
    "\n",
    "pdf = exp_data['participants']\n",
    "pdf = pdf.loc[pdf.completed].set_index('pid')\n",
    "if 'variance' not in pdf:\n",
    "    pdf['variance'] = 'constant'\n",
    "\n",
    "print(f'{len(pdf)} participants')\n",
    "complete = list(pdf.index)\n",
    "\n",
    "def extract(q):\n",
    "    return list(map(int, q['click']['state']['target']))\n",
    "\n",
    "mdf = exp_data['mouselab-mdp'].query('pid == @complete').copy()\n",
    "mdf['clicks'] = mdf.queries.apply(extract)\n",
    "mdf['n_clicks'] = mdf.clicks.apply(len)\n",
    "mdf['thinking'] = mdf['rt'].apply(get(0, default=0))\n",
    "\n",
    "tdf = mdf.query('block == \"test\"').copy()\n",
    "tdf.trial_index -= tdf.trial_index.min()\n",
    "tdf.trial_index = tdf.trial_index.astype(int)\n",
    "tdf.trial_id = tdf.trial_id.astype(int)\n",
    "\n",
    "# pdf['total_time'] = exp_data['survey'].time_elapsed / 60000\n",
    "\n",
    "pdf['n_clicks'] = tdf.groupby('pid').n_clicks.mean()\n",
    "pdf['score'] = tdf.groupby('pid').score.mean()\n",
    "pdf['thinking'] = mdf.groupby('pid').thinking.mean()"
   ]
  },
  {
   "cell_type": "code",
   "execution_count": 15,
   "metadata": {},
   "outputs": [
    {
     "name": "stdout",
     "output_type": "stream",
     "text": [
      "excluding 9 out of 60 partipicants\n"
     ]
    }
   ],
   "source": [
    "import json\n",
    "def excluded_pids():\n",
    "    sdf = exp_data['survey-multi-choice'].query('pid == @complete').set_index('pid')\n",
    "    responses = pd.DataFrame(list(sdf.responses), index=sdf.index)\n",
    "    grp = responses.groupby(lambda pid: pdf.variance[pid])\n",
    "    correct = grp.apply(lambda x: x.mode().iloc[0])\n",
    "    errors = correct.loc[pdf.variance].set_index(pdf.index) != responses\n",
    "    fail_quiz = errors.sum(1) > 1\n",
    "\n",
    "    no_click = mdf.query('block == \"train_inspector\"').groupby('pid').n_clicks.sum() == 0\n",
    "    return fail_quiz | no_click\n",
    "\n",
    "exclude = excluded_pids()\n",
    "tdf['exclude'] = list(exclude.loc[tdf.pid])\n",
    "tdf = tdf.query('~exclude').copy().drop('exclude', axis=1)\n",
    "print(f'excluding {exclude.sum()} out of {len(exclude)} partipicants')"
   ]
  },
  {
   "cell_type": "code",
   "execution_count": 16,
   "metadata": {},
   "outputs": [
    {
     "name": "stdout",
     "output_type": "stream",
     "text": [
      "7606 observations)\n"
     ]
    },
    {
     "data": {
      "text/html": [
       "<div>\n",
       "<style scoped>\n",
       "    .dataframe tbody tr th:only-of-type {\n",
       "        vertical-align: middle;\n",
       "    }\n",
       "\n",
       "    .dataframe tbody tr th {\n",
       "        vertical-align: top;\n",
       "    }\n",
       "\n",
       "    .dataframe thead th {\n",
       "        text-align: right;\n",
       "    }\n",
       "</style>\n",
       "<table border=\"1\" class=\"dataframe\">\n",
       "  <thead>\n",
       "    <tr style=\"text-align: right;\">\n",
       "      <th></th>\n",
       "      <th>action</th>\n",
       "      <th>pid</th>\n",
       "      <th>state</th>\n",
       "      <th>trial_id</th>\n",
       "      <th>trial_index</th>\n",
       "    </tr>\n",
       "  </thead>\n",
       "  <tbody>\n",
       "    <tr>\n",
       "      <th>0</th>\n",
       "      <td>9</td>\n",
       "      <td>1</td>\n",
       "      <td>(0, ((-10, 0.25), (-5, 0.25), (5, 0.25), (10, ...</td>\n",
       "      <td>8034619116489218048</td>\n",
       "      <td>0</td>\n",
       "    </tr>\n",
       "    <tr>\n",
       "      <th>1</th>\n",
       "      <td>13</td>\n",
       "      <td>1</td>\n",
       "      <td>(0, ((-10, 0.25), (-5, 0.25), (5, 0.25), (10, ...</td>\n",
       "      <td>8034619116489218048</td>\n",
       "      <td>0</td>\n",
       "    </tr>\n",
       "    <tr>\n",
       "      <th>2</th>\n",
       "      <td>5</td>\n",
       "      <td>1</td>\n",
       "      <td>(0, ((-10, 0.25), (-5, 0.25), (5, 0.25), (10, ...</td>\n",
       "      <td>38024071126860576</td>\n",
       "      <td>1</td>\n",
       "    </tr>\n",
       "    <tr>\n",
       "      <th>3</th>\n",
       "      <td>9</td>\n",
       "      <td>1</td>\n",
       "      <td>(0, ((-10, 0.25), (-5, 0.25), (5, 0.25), (10, ...</td>\n",
       "      <td>38024071126860576</td>\n",
       "      <td>1</td>\n",
       "    </tr>\n",
       "    <tr>\n",
       "      <th>4</th>\n",
       "      <td>13</td>\n",
       "      <td>1</td>\n",
       "      <td>(0, ((-10, 0.25), (-5, 0.25), (5, 0.25), (10, ...</td>\n",
       "      <td>38024071126860576</td>\n",
       "      <td>1</td>\n",
       "    </tr>\n",
       "  </tbody>\n",
       "</table>\n",
       "</div>"
      ],
      "text/plain": [
       "   action  pid                                              state  \\\n",
       "0       9    1  (0, ((-10, 0.25), (-5, 0.25), (5, 0.25), (10, ...   \n",
       "1      13    1  (0, ((-10, 0.25), (-5, 0.25), (5, 0.25), (10, ...   \n",
       "2       5    1  (0, ((-10, 0.25), (-5, 0.25), (5, 0.25), (10, ...   \n",
       "3       9    1  (0, ((-10, 0.25), (-5, 0.25), (5, 0.25), (10, ...   \n",
       "4      13    1  (0, ((-10, 0.25), (-5, 0.25), (5, 0.25), (10, ...   \n",
       "\n",
       "              trial_id  trial_index  \n",
       "0  8034619116489218048            0  \n",
       "1  8034619116489218048            0  \n",
       "2    38024071126860576            1  \n",
       "3    38024071126860576            1  \n",
       "4    38024071126860576            1  "
      ]
     },
     "execution_count": 16,
     "metadata": {},
     "output_type": "execute_result"
    }
   ],
   "source": [
    "def get_env(state_rewards):\n",
    "    state_rewards[0] = 0\n",
    "    return make_env(ground_truth=state_rewards)\n",
    "tdf['env'] = tdf.state_rewards.apply(get_env)\n",
    "\n",
    "# assert len(tdf.pid.unique()) == tdf.pid.max() + 1\n",
    "def expand(df):\n",
    "    for i, row in df.iterrows():\n",
    "        env = row.env\n",
    "        env.reset()\n",
    "        for a in [*row.clicks, env.term_action]:\n",
    "            yield {'pid': row.pid, 'trial_index': row.trial_index, 'trial_id': row.trial_id,\n",
    "                   'state': env._state, 'action': a}\n",
    "            env.step(a)\n",
    "\n",
    "data = pd.DataFrame(expand(tdf))\n",
    "print(f'{len(data)} observations)')\n",
    "data.head()"
   ]
  },
  {
   "cell_type": "markdown",
   "metadata": {
    "heading_collapsed": true
   },
   "source": [
    "## Likelihood model"
   ]
  },
  {
   "cell_type": "code",
   "execution_count": 13,
   "metadata": {
    "collapsed": true,
    "hidden": true
   },
   "outputs": [],
   "source": [
    "class MouselabModel():\n",
    "    \"\"\"Computes likelihoods for a softmax policy on a grid of temp and p_error.\"\"\"\n",
    "    def __init__(self, env, preference, data):\n",
    "        self.env = env\n",
    "        self.policy = SoftmaxPolicy(preference)\n",
    "        self.data = data\n",
    "        run_episode(self.policy, self.env)\n",
    "        self.prefs = np.stack(self.data.state.apply(self.policy.preferences))\n",
    "        self.prefs -= self.prefs.max(1).reshape(-1, 1)  # prevent float overflow \n",
    "\n",
    "        idx = np.arange(len(data))\n",
    "        self.chosen = (idx, data.action.as_matrix())\n",
    "\n",
    "    def likelihood(self, temp=1e-9, p_error=None):\n",
    "        \"\"\"Returns likelihood for all combinations of temp and p_error given.\n",
    "        \n",
    "        Return value has shape (len(self.data), len(temp), len(p_error)).\n",
    "        \"\"\"\n",
    "        temp = np.atleast_1d(temp)\n",
    "        ep = np.exp(np.einsum('ij,k -> ijk', self.prefs, 1/temp))\n",
    "        probs = ep[self.chosen] / ep.sum(1)  # shape: (state, temp)\n",
    "        if p_error is not None:\n",
    "            p_error = np.atleast_1d(p_error)\n",
    "            probs = (probs[..., np.newaxis] * (1-p_error) + \n",
    "                     self.random_likelihood[..., np.newaxis] * p_error)\n",
    "        return probs\n",
    "\n",
    "    @property\n",
    "    @memoize\n",
    "    def random_likelihood(self):\n",
    "        return MouselabModel(self.env, lambda *_: 0, self.data).likelihood()"
   ]
  },
  {
   "cell_type": "markdown",
   "metadata": {
    "heading_collapsed": true
   },
   "source": [
    "## Parameters to search over"
   ]
  },
  {
   "cell_type": "code",
   "execution_count": 14,
   "metadata": {
    "collapsed": true,
    "hidden": true
   },
   "outputs": [],
   "source": [
    "path_values = range(-30, 31, 5)\n",
    "defaults = {\n",
    "    'p_error': np.linspace(0.01,0.25, 25),\n",
    "    'satisfice': [v for v in path_values if v > 0],\n",
    "    'prune': [v for v in path_values if v < 0],\n",
    "    'temp': np.logspace(-5,1, 50),\n",
    "}\n",
    "models = {\n",
    "    'depth_first': {\n",
    "        **defaults,\n",
    "        'pref': depth_first,  \n",
    "        'temp': [1e-10]\n",
    "    },\n",
    "    'breadth_first': {\n",
    "        **defaults,\n",
    "        'pref': breadth_first,\n",
    "        'temp': [1e-10]\n",
    "    },\n",
    "    'progressive_deepening': {\n",
    "        **defaults,\n",
    "        'pref': progressive_deepening,\n",
    "        'temp': [1e-10]\n",
    "    },\n",
    "    'best_first': {\n",
    "        **defaults,\n",
    "        'pref': best_first,\n",
    "    },\n",
    "    'optimal': {\n",
    "        **defaults,\n",
    "        'pref': Q,\n",
    "        'satisfice': [None],\n",
    "        'prune': [None],\n",
    "    },\n",
    "    'satisfruning_optimal': {\n",
    "        **defaults,\n",
    "        'pref': Q,\n",
    "    },\n",
    "    'random': {\n",
    "        **defaults,\n",
    "        'pref': lambda s, a: 0,\n",
    "        'prune': [None],\n",
    "        'satisfice': [None],\n",
    "        'p_error': [1],\n",
    "        'temp': [1e-10]\n",
    "    },\n",
    "    'satisfruning_random': {\n",
    "        **defaults,\n",
    "        'pref': lambda s, a: 0,\n",
    "        'temp': [1e-10]\n",
    "    },\n",
    "}"
   ]
  },
  {
   "cell_type": "markdown",
   "metadata": {
    "heading_collapsed": true
   },
   "source": [
    "# Find MLE"
   ]
  },
  {
   "cell_type": "code",
   "execution_count": null,
   "metadata": {
    "collapsed": true,
    "hidden": true
   },
   "outputs": [],
   "source": [
    "def best_logp(df, n=1, group=None):\n",
    "    if group:\n",
    "        return df.groupby(group).apply(lambda d: d.nlargest(n, 'logp')).reset_index(drop=True)\n",
    "    else: \n",
    "        return df.nlargest(n, 'logp')\n",
    "\n",
    "def maximum_likelihood(data, pref, temp, p_error, satisfice, prune, \n",
    "                       n_keep_temp_error=1, n_keep_sat_prn=1):\n",
    "    choices = []\n",
    "    for sat in satisfice:\n",
    "        for prn in prune:\n",
    "            new_pref = satisfruning(pref, prune=prn, satisfice=sat)\n",
    "            model = MouselabModel(env, new_pref, data)\n",
    "            logp = np.log(model.likelihood(temp=temp, p_error=p_error))\n",
    "            total_logp = logp.sum(0)  # sum logp for each state/action\n",
    "            \n",
    "            idx = pd.MultiIndex.from_product([temp, p_error], names=['temp', 'p_error'])\n",
    "            grid = pd.Series(total_logp.flat, index=idx, name='logp').reset_index()\n",
    "            grid['satisfice'] = sat\n",
    "            grid['prune'] = prn\n",
    "            choices.append(best_logp(grid, n_keep_temp_error))\n",
    "            \n",
    "    df = best_logp(pd.concat(choices), n_keep_sat_prn)\n",
    "    return df"
   ]
  },
  {
   "cell_type": "markdown",
   "metadata": {
    "hidden": true
   },
   "source": [
    "## MLE for full dataset"
   ]
  },
  {
   "cell_type": "code",
   "execution_count": 19,
   "metadata": {
    "hidden": true
   },
   "outputs": [
    {
     "name": "stdout",
     "output_type": "stream",
     "text": [
      "depth_first\n"
     ]
    },
    {
     "name": "stderr",
     "output_type": "stream",
     "text": [
      "/usr/local/lib/miniconda3/lib/python3.6/site-packages/pandas/core/dtypes/dtypes.py:274: FutureWarning: elementwise comparison failed; returning scalar instead, but in the future will perform elementwise comparison\n",
      "  if string == 'category':\n"
     ]
    },
    {
     "name": "stdout",
     "output_type": "stream",
     "text": [
      "breadth_first\n",
      "progressive_deepening\n",
      "best_first\n",
      "optimal\n",
      "satisfruning_optimal\n",
      "random\n",
      "satisfruning_random\n"
     ]
    }
   ],
   "source": [
    "def fit_models():\n",
    "    for name, params in models.items():\n",
    "        print(name)\n",
    "        mle = maximum_likelihood(data, **params)\n",
    "        mle['model'] = name\n",
    "        yield mle\n",
    "\n",
    "agg_results = pd.concat(fit_models())"
   ]
  },
  {
   "cell_type": "markdown",
   "metadata": {
    "hidden": true
   },
   "source": [
    "## MLE parameters for each model and each participant"
   ]
  },
  {
   "cell_type": "code",
   "execution_count": 15,
   "metadata": {
    "hidden": true
   },
   "outputs": [
    {
     "name": "stderr",
     "output_type": "stream",
     "text": [
      "  0%|          | 0/51 [00:00<?, ?it/s]/usr/local/lib/miniconda3/lib/python3.6/site-packages/pandas/core/dtypes/dtypes.py:274: FutureWarning: elementwise comparison failed; returning scalar instead, but in the future will perform elementwise comparison\n",
      "  if string == 'category':\n",
      "100%|██████████| 51/51 [15:19<00:00, 18.03s/it]\n"
     ]
    }
   ],
   "source": [
    "from tqdm import tqdm\n",
    "def fit_participants(data):\n",
    "    def pid_mle():\n",
    "        for pid, pid_data in tqdm(data.groupby('pid')):\n",
    "            for name, params in models.items():\n",
    "                mle = maximum_likelihood(pid_data, **params)\n",
    "                mle['pid'] = pid\n",
    "                mle['model'] = name\n",
    "                yield mle\n",
    "    return pd.concat(pid_mle()).reset_index(drop=True)\n",
    "\n",
    "results = fit_participants(data)"
   ]
  },
  {
   "cell_type": "markdown",
   "metadata": {
    "heading_collapsed": true
   },
   "source": [
    "# Analyze results"
   ]
  },
  {
   "cell_type": "code",
   "execution_count": 486,
   "metadata": {
    "collapsed": true,
    "hidden": true
   },
   "outputs": [],
   "source": [
    "consider = [\n",
    "    'best_first',\n",
    "    'optimal',\n",
    "    'depth_first',\n",
    "    'progressive_deepening',\n",
    "    'breadth_first',\n",
    "    'random'\n",
    "]"
   ]
  },
  {
   "cell_type": "code",
   "execution_count": 487,
   "metadata": {
    "collapsed": true,
    "hidden": true
   },
   "outputs": [],
   "source": [
    "def num_params(params):\n",
    "    return sum(len(choices) > 1 if hasattr(choices, '__len__') else 0 \n",
    "               for choices in params.values())\n",
    "k = pd.Series({model: num_params(params) for model, params in models.items()})\n",
    "comp = pd.DataFrame({\n",
    "    'k': k,\n",
    "    'logp': agg_results.groupby('model').logp.sum()\n",
    "})\n",
    "comp['bic'] = np.log(len(data)) * comp.k - 2 * comp.logp\n",
    "comp['aic'] = 2 * comp.k - 2 * comp.logp"
   ]
  },
  {
   "cell_type": "code",
   "execution_count": 513,
   "metadata": {
    "collapsed": true,
    "hidden": true
   },
   "outputs": [],
   "source": [
    "# Fit Individually\n",
    "\n",
    "ind_results = results.set_index('pid', drop=False)\n",
    "ind_results['k'] = list(k.loc[ind_results.model])\n",
    "ind_results['N'] = data.pid.value_counts()\n",
    "ind_results['bic'] = np.log(ind_results.N) * ind_results.k - 2 * ind_results.logp\n",
    "ind_results['aic'] = 2 * ind_results.k - 2 * ind_results.logp\n",
    "\n",
    "# How many best fit?\n",
    "comp['n_best_fit'] = (ind_results\n",
    " .set_index('model').loc[consider].reset_index()\n",
    " .groupby('pid')\n",
    " .apply(lambda df: df.nsmallest(1, 'bic').iloc[0])\n",
    " .model.value_counts()\n",
    ").fillna(0).astype(int)"
   ]
  },
  {
   "cell_type": "code",
   "execution_count": 498,
   "metadata": {
    "collapsed": true,
    "hidden": true
   },
   "outputs": [],
   "source": [
    "# comp['logp_indiv'] = (ind_results\n",
    "#  .set_index('model').loc[consider].reset_index()\n",
    "#  .groupby('model').logp.sum()\n",
    "# )"
   ]
  },
  {
   "cell_type": "code",
   "execution_count": 523,
   "metadata": {
    "collapsed": true,
    "hidden": true
   },
   "outputs": [],
   "source": [
    "(comp[['bic', 'aic', 'logp', 'n_best_fit']]\n",
    " .sort_values('bic')\n",
    " .fillna(0).astype(int)\n",
    " .rename(columns={'bic': 'BIC', 'aic': 'AIC',\n",
    "                  'logp': 'LL', 'n_best_fit': 'N_P',\n",
    "                  })\n",
    "#  .to_latex('../../paper/tables/exp1_agg_comp.tex')\n",
    ")"
   ]
  },
  {
   "cell_type": "code",
   "execution_count": 264,
   "metadata": {
    "hidden": true
   },
   "outputs": [
    {
     "data": {
      "text/plain": [
       "<matplotlib.text.Text at 0x16edf8f98>"
      ]
     },
     "execution_count": 264,
     "metadata": {},
     "output_type": "execute_result"
    },
    {
     "data": {
      "image/png": "[encoded data removed]",
      "text/plain": [
       "<matplotlib.figure.Figure at 0x170127d30>"
      ]
     },
     "metadata": {},
     "output_type": "display_data"
    }
   ],
   "source": [
    "fig, axes = plt.subplots(2, 3, figsize=(12,8))\n",
    "axes = iter(axes.flat)\n",
    "for p, dd in results.dropna().groupby('model'):\n",
    "    ax = next(axes)\n",
    "    dd.satisfice.plot.hist(ax=ax)\n",
    "    ax.set_ylabel('')\n",
    "    ax.set_title(p)\n",
    "    \n",
    "plt.tight_layout()\n",
    "plt.suptitle('MLE satisficing parameter across participants', y=1.03)"
   ]
  },
  {
   "cell_type": "code",
   "execution_count": 391,
   "metadata": {
    "collapsed": true,
    "hidden": true
   },
   "outputs": [],
   "source": [
    "mledf = best_logp(results, group='pid').set_index('pid')\n",
    "mledf['high_score'] = (pdf.score > pdf.score.median())\n",
    "os.makedirs(f'results/{VERSION}/', exist_ok=True)\n",
    "mledf.to_csv(f'results/{VERSION}/mle.csv')"
   ]
  },
  {
   "cell_type": "markdown",
   "metadata": {},
   "source": [
    "# Other stuff"
   ]
  },
  {
   "cell_type": "markdown",
   "metadata": {},
   "source": [
    "## Simulate rollouts\n",
    "\n",
    "Running rollouts of the optimal policy on 200 randomly selected environments."
   ]
  },
  {
   "cell_type": "code",
   "execution_count": 1,
   "metadata": {},
   "outputs": [
    {
     "ename": "NameError",
     "evalue": "name 'Series' is not defined",
     "output_type": "error",
     "traceback": [
      "\u001b[0;31m---------------------------------------------------------------------------\u001b[0m",
      "\u001b[0;31mNameError\u001b[0m                                 Traceback (most recent call last)",
      "\u001b[0;32m<ipython-input-1-9c7935557799>\u001b[0m in \u001b[0;36m<module>\u001b[0;34m()\u001b[0m\n\u001b[1;32m     11\u001b[0m                        'state': s, 'action': a, 'reward': r}\n\u001b[1;32m     12\u001b[0m \u001b[0;34m\u001b[0m\u001b[0m\n\u001b[0;32m---> 13\u001b[0;31m \u001b[0menvs\u001b[0m \u001b[0;34m=\u001b[0m \u001b[0mSeries\u001b[0m\u001b[0;34m(\u001b[0m\u001b[0;34m[\u001b[0m\u001b[0mmake_env\u001b[0m\u001b[0;34m(\u001b[0m\u001b[0;34m)\u001b[0m \u001b[0;32mfor\u001b[0m \u001b[0m_\u001b[0m \u001b[0;32min\u001b[0m \u001b[0mrange\u001b[0m\u001b[0;34m(\u001b[0m\u001b[0;36m10000\u001b[0m\u001b[0;34m)\u001b[0m\u001b[0;34m]\u001b[0m\u001b[0;34m)\u001b[0m\u001b[0;34m\u001b[0m\u001b[0m\n\u001b[0m\u001b[1;32m     14\u001b[0m \u001b[0mdf_optimal\u001b[0m \u001b[0;34m=\u001b[0m \u001b[0mDataFrame\u001b[0m\u001b[0;34m(\u001b[0m\u001b[0msimulate\u001b[0m\u001b[0;34m(\u001b[0m\u001b[0moptimal_policy\u001b[0m\u001b[0;34m,\u001b[0m \u001b[0menvs\u001b[0m\u001b[0;34m)\u001b[0m\u001b[0;34m)\u001b[0m\u001b[0;34m\u001b[0m\u001b[0m\n",
      "\u001b[0;31mNameError\u001b[0m: name 'Series' is not defined"
     ]
    }
   ],
   "source": [
    "from agents import run_episode\n",
    "def simulate(policy, envs, seed=None, repeat=1):\n",
    "    if seed is None:\n",
    "        seed = np.random.randint(1e5)\n",
    "    np.random.seed(seed)\n",
    "    for env_id, env in envs.items():\n",
    "        for _ in range(repeat):\n",
    "            trace = run_episode(policy, env)\n",
    "            for s, a, r in zip(*get(['states', 'actions', 'rewards'], trace)):\n",
    "                yield {'seed': seed, 'cost': abs(env.cost), 'env_id': env_id,\n",
    "                       'state': s, 'action': a, 'reward': r}\n",
    "\n",
    "envs = Series([make_env() for _ in range(10000)])\n",
    "df_optimal = DataFrame(simulate(optimal_policy, envs))"
   ]
  },
  {
   "cell_type": "markdown",
   "metadata": {},
   "source": [
    "## Term probability"
   ]
  },
  {
   "cell_type": "code",
   "execution_count": 17,
   "metadata": {
    "collapsed": true
   },
   "outputs": [],
   "source": [
    "def plot_term(df, name):\n",
    "    df['unobserved'] = df.state.apply(lambda state: sum(hasattr(x, 'sample') for x in state))\n",
    "    df['etr'] = df.state.apply(env.expected_term_reward)\n",
    "    df['term'] = df.action == 13\n",
    "    df['observed'] = 12 - df['unobserved']\n",
    "    x = df.groupby(['etr', 'observed']).term.mean().reset_index()\n",
    "    X = x.pivot('etr', 'observed', 'term').astype(float)\n",
    "    sns.heatmap(X, cmap='viridis', linewidths=1).invert_yaxis()\n",
    "    plt.ylabel('')\n",
    "    plt.xlabel('Number of Clicks Made')\n",
    "    plt.title(name)\n",
    "#     plt.title(f'Probability of {agent} terminating search');"
   ]
  },
  {
   "cell_type": "code",
   "execution_count": 18,
   "metadata": {
    "collapsed": true
   },
   "outputs": [
    {
     "ename": "NameError",
     "evalue": "name 'SoftmaxPolicy' is not defined",
     "output_type": "error",
     "traceback": [
      "\u001b[0;31m---------------------------------------------------------------------------\u001b[0m",
      "\u001b[0;31mNameError\u001b[0m                                 Traceback (most recent call last)",
      "\u001b[0;32m<ipython-input-18-28eea5ade43d>\u001b[0m in \u001b[0;36m<module>\u001b[0;34m()\u001b[0m\n\u001b[0;32m----> 1\u001b[0;31m \u001b[0mbest_pol\u001b[0m \u001b[0;34m=\u001b[0m \u001b[0mSoftmaxPolicy\u001b[0m\u001b[0;34m(\u001b[0m\u001b[0msatisfruning\u001b[0m\u001b[0;34m(\u001b[0m\u001b[0mbest_first\u001b[0m\u001b[0;34m,\u001b[0m \u001b[0msatisfice\u001b[0m\u001b[0;34m=\u001b[0m\u001b[0;36m15\u001b[0m\u001b[0;34m,\u001b[0m \u001b[0mprune\u001b[0m\u001b[0;34m=\u001b[0m\u001b[0;34m-\u001b[0m\u001b[0;36m15\u001b[0m\u001b[0;34m)\u001b[0m\u001b[0;34m)\u001b[0m\u001b[0;34m\u001b[0m\u001b[0m\n\u001b[0m\u001b[1;32m      2\u001b[0m \u001b[0mdf_best\u001b[0m \u001b[0;34m=\u001b[0m \u001b[0mDataFrame\u001b[0m\u001b[0;34m(\u001b[0m\u001b[0msimulate\u001b[0m\u001b[0;34m(\u001b[0m\u001b[0mbest_pol\u001b[0m\u001b[0;34m,\u001b[0m \u001b[0menvs\u001b[0m\u001b[0;34m)\u001b[0m\u001b[0;34m)\u001b[0m\u001b[0;34m\u001b[0m\u001b[0m\n",
      "\u001b[0;31mNameError\u001b[0m: name 'SoftmaxPolicy' is not defined"
     ]
    }
   ],
   "source": [
    "best_pol = SoftmaxPolicy(satisfruning(best_first, satisfice=15, prune=-15))\n",
    "df_best = DataFrame(simulate(best_pol, envs))"
   ]
  },
  {
   "cell_type": "code",
   "execution_count": 23,
   "metadata": {},
   "outputs": [
    {
     "ename": "AttributeError",
     "evalue": "'AxesSubplot' object has no attribute 'cbar'",
     "output_type": "error",
     "traceback": [
      "\u001b[0;31m---------------------------------------------------------------------------\u001b[0m",
      "\u001b[0;31mAttributeError\u001b[0m                            Traceback (most recent call last)",
      "\u001b[0;32m<ipython-input-23-321a483b864e>\u001b[0m in \u001b[0;36m<module>\u001b[0;34m()\u001b[0m\n\u001b[1;32m      1\u001b[0m \u001b[0;31m# x = plot_term(data, 'humans')\u001b[0m\u001b[0;34m\u001b[0m\u001b[0;34m\u001b[0m\u001b[0m\n\u001b[1;32m      2\u001b[0m \u001b[0mX\u001b[0m \u001b[0;34m=\u001b[0m \u001b[0mnp\u001b[0m\u001b[0;34m.\u001b[0m\u001b[0mrandom\u001b[0m\u001b[0;34m.\u001b[0m\u001b[0mrand\u001b[0m\u001b[0;34m(\u001b[0m\u001b[0;36m10\u001b[0m\u001b[0;34m,\u001b[0m \u001b[0;36m10\u001b[0m\u001b[0;34m)\u001b[0m\u001b[0;34m\u001b[0m\u001b[0m\n\u001b[0;32m----> 3\u001b[0;31m \u001b[0msns\u001b[0m\u001b[0;34m.\u001b[0m\u001b[0mheatmap\u001b[0m\u001b[0;34m(\u001b[0m\u001b[0mX\u001b[0m\u001b[0;34m)\u001b[0m\u001b[0;34m.\u001b[0m\u001b[0mcbar\u001b[0m\u001b[0;34m\u001b[0m\u001b[0m\n\u001b[0m",
      "\u001b[0;31mAttributeError\u001b[0m: 'AxesSubplot' object has no attribute 'cbar'"
     ]
    },
    {
     "data": {
      "image/png": "[encoded data removed]",
      "text/plain": [
       "<matplotlib.figure.Figure at 0x118f4d550>"
      ]
     },
     "metadata": {},
     "output_type": "display_data"
    }
   ],
   "source": [
    "# x = plot_term(data, 'humans')\n",
    "X = np.random.rand(10, 10)\n",
    "sns.heatmap(X)\n"
   ]
  },
  {
   "cell_type": "code",
   "execution_count": 365,
   "metadata": {},
   "outputs": [
    {
     "data": {
      "image/png": "[encoded data removed]",
      "text/plain": [
       "<matplotlib.figure.Figure at 0x14e406400>"
      ]
     },
     "metadata": {},
     "output_type": "display_data"
    }
   ],
   "source": [
    "fig, axes = plt.subplots(1, 3, figsize=(16, 3.5))\n",
    "plt.sca(axes[0])\n",
    "plot_term(df_optimal, 'Bounded Optimal')\n",
    "plt.ylabel('Best Expected Path Value')\n",
    "plt.sca(axes[1])\n",
    "plot_term(data, 'Humans')\n",
    "plt.sca(axes[2])\n",
    "plot_term(df_best, 'Best-First')\n",
    "plt.gcf().subplots_adjust(bottom=0.15)\n",
    "\n",
    "plt.savefig('../../paper/figures/termination.pdf')"
   ]
  },
  {
   "cell_type": "code",
   "execution_count": 200,
   "metadata": {
    "collapsed": true
   },
   "outputs": [],
   "source": [
    "import rpy2.robjects as ro\n",
    "from rpy2.robjects import pandas2ri\n",
    "pandas2ri.activate()\n",
    "from rpy2.robjects.conversion import ri2py\n",
    "%load_ext rpy2.ipython"
   ]
  },
  {
   "cell_type": "code",
   "execution_count": 284,
   "metadata": {
    "collapsed": true
   },
   "outputs": [],
   "source": [
    "# select = list(pdf.query('best_model == \"optimal\" ').index)\n",
    "rdf = data[['pid', 'term', 'etr', 'observed']]"
   ]
  },
  {
   "cell_type": "code",
   "execution_count": 285,
   "metadata": {
    "collapsed": true
   },
   "outputs": [
    {
     "data": {
      "text/plain": [
       "Generalized linear mixed model fit by maximum likelihood (Laplace\n",
       "  Approximation) [glmerMod]\n",
       " Family: binomial  ( logit )\n",
       "Formula: term ~ etr * observed + (1 | pid)\n",
       "   Data: rdf\n",
       "      AIC       BIC    logLik  deviance  df.resid \n",
       " 4851.911  4886.595 -2420.956  4841.911      7601 \n",
       "Random effects:\n",
       " Groups Name        Std.Dev.\n",
       " pid    (Intercept) 2.68    \n",
       "Number of obs: 7606, groups:  pid, 51\n",
       "Fixed Effects:\n",
       " (Intercept)           etr      observed  etr:observed  \n",
       "    -4.07858       0.25757       0.59177      -0.01601  \n",
       "convergence code 0; 1 optimizer warnings; 0 lme4 warnings \n",
       "Analysis of Deviance Table (Type II Wald chisquare tests)\n",
       "\n",
       "Response: term\n",
       "               Chisq Df Pr(>Chisq)    \n",
       "etr          879.371  1  < 2.2e-16 ***\n",
       "observed     581.857  1  < 2.2e-16 ***\n",
       "etr:observed  43.319  1  4.651e-11 ***\n",
       "---\n",
       "Signif. codes:  0 ‘***’ 0.001 ‘**’ 0.01 ‘*’ 0.05 ‘.’ 0.1 ‘ ’ 1\n"
      ]
     },
     "metadata": {},
     "output_type": "display_data"
    }
   ],
   "source": [
    "%%R -i rdf\n",
    "require(lme4)\n",
    "m = glmer('term ~ etr * observed + (1|pid)', family='binomial', data=rdf)\n",
    "print(m)\n",
    "Anova(m)"
   ]
  },
  {
   "cell_type": "code",
   "execution_count": 107,
   "metadata": {},
   "outputs": [
    {
     "data": {
      "text/plain": [
       "<matplotlib.axes._subplots.AxesSubplot at 0x1761512e8>"
      ]
     },
     "execution_count": 107,
     "metadata": {},
     "output_type": "execute_result"
    },
    {
     "data": {
      "image/png": "[encoded data removed]",
      "text/plain": [
       "<matplotlib.figure.Figure at 0x176069940>"
      ]
     },
     "metadata": {},
     "output_type": "display_data"
    }
   ],
   "source": []
  },
  {
   "cell_type": "code",
   "execution_count": 77,
   "metadata": {
    "collapsed": true
   },
   "outputs": [],
   "source": [
    "data = df_optimal"
   ]
  },
  {
   "cell_type": "code",
   "execution_count": 82,
   "metadata": {},
   "outputs": [
    {
     "data": {
      "text/plain": [
       "array([0.   , 0.   , 0.333, 0.   , 0.   , 0.   , 0.333, 0.   , 0.   , 0.333, 0.   , 0.   , 0.   , 0.   ])"
      ]
     },
     "execution_count": 82,
     "metadata": {},
     "output_type": "execute_result"
    }
   ],
   "source": [
    "optimal_policy.action_distribution(data.state[3])"
   ]
  },
  {
   "cell_type": "markdown",
   "metadata": {},
   "source": [
    "## View rollouts"
   ]
  },
  {
   "cell_type": "code",
   "execution_count": null,
   "metadata": {
    "collapsed": true
   },
   "outputs": [],
   "source": [
    "np.random.seed(1)\n",
    "\n",
    "import json\n",
    "def demo(env):\n",
    "    trace = run_episode(optimal_policy, env)\n",
    "    \n",
    "    return {\n",
    "        'trial_id': hash(env),\n",
    "        'stateRewards': list(map(round, env.ground_truth)),\n",
    "        'demo': \n",
    "    }\n",
    "\n",
    "nr_environments = 100  # 1000 -> 100\n",
    "branch = [3,1,2]\n",
    "env_type = ''.join(map(str, branch))\n",
    "envs = [make_env(mu=0, sigma=6, quantization=4, branching=branch)\n",
    "        for _ in range(nr_environments)]\n",
    "\n",
    "fn = 'data/experiment_trials/'+env_type+'.json'\n",
    "with open(fn, 'w+') as f:\n",
    "    print('wrote', fn)\n",
    "    json.dump(list(map(env_data, envs)), f)"
   ]
  },
  {
   "cell_type": "code",
   "execution_count": null,
   "metadata": {
    "collapsed": true
   },
   "outputs": [],
   "source": [
    "from IPython.display import display\n",
    "def render(trace):\n",
    "    for i, (s, a, r) in enumerate(zip(*get(['states', 'actions', 'rewards'], trace))):\n",
    "        env._state = s\n",
    "        dot = env.render()\n",
    "        display(dot)\n",
    "\n",
    "from agents import run_episode\n",
    "trace = run_episode(optimal_policy, env)\n",
    "render(trace)"
   ]
  }
 ],
 "metadata": {
  "anaconda-cloud": {},
  "kernelspec": {
   "display_name": "Python 3",
   "language": "python",
   "name": "python3"
  },
  "language_info": {
   "codemirror_mode": {
    "name": "ipython",
    "version": 3
   },
   "file_extension": ".py",
   "mimetype": "text/x-python",
   "name": "python",
   "nbconvert_exporter": "python",
   "pygments_lexer": "ipython3",
   "version": "3.6.3"
  },
  "nav_menu": {},
  "toc": {
   "navigate_menu": true,
   "number_sections": true,
   "sideBar": true,
   "threshold": 6,
   "toc_cell": false,
   "toc_section_display": "block",
   "toc_window_display": false
  }
 },
 "nbformat": 4,
 "nbformat_minor": 1
}
