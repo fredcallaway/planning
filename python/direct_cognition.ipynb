{
 "cells": [
  {
   "cell_type": "code",
   "execution_count": 1,
   "metadata": {
    "collapsed": true
   },
   "outputs": [],
   "source": [
    "%matplotlib inline\n",
    "%load_ext autoreload\n",
    "%autoreload 2\n",
    "\n",
    "import itertools as it\n",
    "from collections import Counter, defaultdict, deque\n",
    "import matplotlib.pyplot as plt\n",
    "import numpy as np\n",
    "import pandas as pd\n",
    "import seaborn as sns\n",
    "import scipy.stats\n",
    "import itertools\n",
    "sns.set_style('white')\n",
    "sns.set_context('notebook', font_scale=1.3)\n",
    "\n",
    "from agents import Agent\n",
    "from evaluation import get_util\n",
    "# from model_utils import *"
   ]
  },
  {
   "cell_type": "code",
   "execution_count": 2,
   "metadata": {
    "collapsed": true
   },
   "outputs": [],
   "source": [
    "from mouselab import MouselabEnv\n",
    "from distributions import Categorical, Normal\n",
    "\n",
    "def make_envs(cost=1.00, n=100, seed=None,variance_structure=\"constant_high\",branching=[4,1,2]):\n",
    "    if seed is not None:\n",
    "        np.random.seed(seed)\n",
    "    \n",
    "    depth = len(branching)\n",
    "    \n",
    "    if variance_structure is \"constant_high\":\n",
    "        sigmas = np.concatenate( (np.array([0]),20*np.ones(depth)))\n",
    "    if variance_structure is \"increasing\":\n",
    "        sigmas = [0, 2, 4, 20]\n",
    "    if variance_structure is \"decreasing\":\n",
    "        sigmas = [0,20,4,2]\n",
    "    if variance_structure is \"constant_low\":\n",
    "        sigmas = np.concatenate( (np.array([0]),3*np.ones(depth)))\n",
    "        \n",
    "    def reward(depth):\n",
    "        if depth > 0:\n",
    "            return Normal(0, sigmas[depth]).to_discrete(6)\n",
    "        return 0.\n",
    "\n",
    "    envs = [MouselabEnv.new_symmetric(branching, reward)\n",
    "            for _ in range(n)]\n",
    "    for env in envs:\n",
    "        env.cost=-cost\n",
    "    \n",
    "    return envs"
   ]
  },
  {
   "cell_type": "code",
   "execution_count": 3,
   "metadata": {
    "collapsed": true
   },
   "outputs": [],
   "source": [
    "cost = 1\n",
    "envs = make_envs(cost,10,None,\"increasing\",branching=[2,2])\n",
    "env = envs[0]"
   ]
  },
  {
   "cell_type": "code",
   "execution_count": 4,
   "metadata": {},
   "outputs": [
    {
     "data": {
      "text/plain": [
       "[[1, 2], [1, 3], [4, 5], [4, 6]]"
      ]
     },
     "execution_count": 4,
     "metadata": {},
     "output_type": "execute_result"
    }
   ],
   "source": [
    "env.paths"
   ]
  },
  {
   "cell_type": "code",
   "execution_count": 5,
   "metadata": {},
   "outputs": [
    {
     "data": {
      "text/plain": [
       "(0, Cat, Cat, Cat, Cat, Cat, Cat)"
      ]
     },
     "execution_count": 5,
     "metadata": {},
     "output_type": "execute_result"
    }
   ],
   "source": [
    "env._state"
   ]
  },
  {
   "cell_type": "code",
   "execution_count": 6,
   "metadata": {},
   "outputs": [
    {
     "data": {
      "text/plain": [
       "[[1, 4], [2, 3], [], [], [5, 6], [], []]"
      ]
     },
     "execution_count": 6,
     "metadata": {},
     "output_type": "execute_result"
    }
   ],
   "source": [
    "env.tree"
   ]
  },
  {
   "cell_type": "code",
   "execution_count": 7,
   "metadata": {
    "collapsed": true
   },
   "outputs": [],
   "source": [
    "# fancy initialization function, but doesn't seem necessary\n",
    "# simpler version built into the class\n",
    "def build_path(r):   \n",
    "    if env.tree[r] == []:\n",
    "        return ([[]], [0])\n",
    "    paths = []\n",
    "    path_moves = []\n",
    "    for n in env.tree[r]:\n",
    "        new_paths, new_path_moves = build_path(n)\n",
    "        for i in range(len(new_paths)):\n",
    "            new_paths[i].insert(0,n)\n",
    "            new_move = int(hasattr(env._state[n],'sample'))\n",
    "            path_moves.append(new_path_moves[i]+new_move)\n",
    "            paths.append(new_paths[i])\n",
    "    return (paths,path_moves)"
   ]
  },
  {
   "cell_type": "code",
   "execution_count": 8,
   "metadata": {
    "collapsed": true
   },
   "outputs": [],
   "source": [
    "def option_util(x,sigma):\n",
    "    return sigma*scipy.stats.norm.pdf(x/sigma) - np.abs(x)*scipy.stats.norm.cdf(-np.abs(x)/sigma)"
   ]
  },
  {
   "cell_type": "code",
   "execution_count": 9,
   "metadata": {
    "collapsed": true
   },
   "outputs": [],
   "source": [
    "def get_all_options(env):\n",
    "    paths = env.paths #list of all paths\n",
    "    avail_moves = [0,]*len(paths) #list of moves available in each path\n",
    "    path_obs = [] #value of observed nodes in each path\n",
    "    path_nodes = [] #the unobserved nodes of each path\n",
    "    path_stds = [] #the std deviation of the unobserved nodes of each path\n",
    "    \n",
    "    options = [] #list of all options\n",
    "    option_utils = [] #list of the utility of each option\n",
    "    \n",
    "    for i in range(len(paths)):\n",
    "        stds = []\n",
    "        nodes = []\n",
    "        obs = 0\n",
    "        \n",
    "        for node in paths[i]:\n",
    "            if hasattr(env._state[node],'sample'):\n",
    "                stds.append(env._state[node].var())\n",
    "                nodes.append(node)\n",
    "                avail_moves[i] += 1\n",
    "            else:\n",
    "                obs += env._state[node]\n",
    "                \n",
    "        path_obs.append(obs)\n",
    "        path_stds.append(stds)\n",
    "        path_nodes.append(nodes)\n",
    "        \n",
    "        for j in range(avail_moves[i]):\n",
    "            options.append((i,j+1))\n",
    "    max_obs = np.max(path_obs)\n",
    "    \n",
    "    for option in options:\n",
    "        path, obs = option\n",
    "        option_utils.append(option_util(path_obs[path]-max_obs,np.sqrt(np.sum(path_stds[path][:obs]))) + obs*env.cost)\n",
    "    \n",
    "    return options, option_utils, path_nodes, path_stds, path_obs, avail_moves"
   ]
  },
  {
   "cell_type": "code",
   "execution_count": 10,
   "metadata": {
    "collapsed": true
   },
   "outputs": [],
   "source": [
    "def pick_option_moves(env):\n",
    "    options, option_utils, path_nodes, path_stds, path_obs, avail_moves = get_all_options(env)\n",
    "    \n",
    "    #c is for chosen\n",
    "    cpath, cobs = options[np.random.choice(np.arange(len(options))[option_utils == np.max(option_utils)])]\n",
    "    cpath_stds = np.array(path_stds[cpath])[:cobs]\n",
    "    cpath_nodes = np.array(path_nodes[cpath])[:cobs]\n",
    "    b = np.random.random(cpath_nodes.size)\n",
    "    \n",
    "    return cpath_nodes[np.lexsort((b,cpath_stds))]"
   ]
  },
  {
   "cell_type": "code",
   "execution_count": 11,
   "metadata": {
    "scrolled": true
   },
   "outputs": [
    {
     "name": "stdout",
     "output_type": "stream",
     "text": [
      "8.827519306000001\n"
     ]
    }
   ],
   "source": [
    "import time\n",
    "t = time.process_time()\n",
    "for i in range(1000):\n",
    "#     print(get_options(env))\n",
    "    pick_option_moves(env)\n",
    "elapsed =time.process_time() - t \n",
    "print(elapsed)"
   ]
  },
  {
   "cell_type": "code",
   "execution_count": 12,
   "metadata": {
    "collapsed": true
   },
   "outputs": [],
   "source": [
    "def all_option_insts(path_nodes,path_stds,n_obs):\n",
    "    insts = [[]]\n",
    "    n_remaining_obs = n_obs\n",
    "\n",
    "    vals, inverse, count = np.unique(path_stds, return_inverse=True,\n",
    "                                  return_counts=True)\n",
    "    rows, cols = np.where(inverse == np.arange(len(vals))[:, np.newaxis])\n",
    "    _, inverse_rows = np.unique(rows, return_index=True)\n",
    "    res = np.split(cols, inverse_rows[1:])\n",
    "\n",
    "    for i in range(len(res)):\n",
    "        new_insts = []\n",
    "\n",
    "        n_new_nodes = len(res[-i-1])\n",
    "        if n_new_nodes < n_remaining_obs:\n",
    "            n_remaining_obs -= n_new_nodes\n",
    "        else:\n",
    "            n_new_nodes = n_remaining_obs\n",
    "            n_remaining_obs = 0  \n",
    "\n",
    "        for new_nodes in itertools.permutations(res[-i-1],n_new_nodes):\n",
    "            for inst in insts:\n",
    "                new_insts.append(inst + list(np.array(path_nodes)[list(new_nodes)]))\n",
    "        insts = new_insts\n",
    "        if n_remaining_obs == 0:\n",
    "            break\n",
    "            \n",
    "    return insts"
   ]
  },
  {
   "cell_type": "code",
   "execution_count": 13,
   "metadata": {},
   "outputs": [
    {
     "data": {
      "text/plain": [
       "[[0, 1, 2, 3, 4, 5],\n",
       " [1, 0, 2, 3, 4, 5],\n",
       " [0, 1, 2, 4, 3, 5],\n",
       " [1, 0, 2, 4, 3, 5],\n",
       " [0, 1, 2, 3, 4, 6],\n",
       " [1, 0, 2, 3, 4, 6],\n",
       " [0, 1, 2, 4, 3, 6],\n",
       " [1, 0, 2, 4, 3, 6]]"
      ]
     },
     "execution_count": 13,
     "metadata": {},
     "output_type": "execute_result"
    }
   ],
   "source": [
    "path_stds= [10.00,10.00,9,8.0,8,7,7,6]\n",
    "path_nodes = np.arange(len(path_stds))\n",
    "all_option_insts(path_nodes,path_stds,6)"
   ]
  },
  {
   "cell_type": "code",
   "execution_count": 18,
   "metadata": {
    "collapsed": true
   },
   "outputs": [],
   "source": [
    "#reorganize using modularity\n",
    "#try nested function (helper)\n",
    "def parse_options(env,click_sequence,t=1,p_rand=0.0001):\n",
    "    if click_sequence == []:\n",
    "        return True, [[]], [1]\n",
    "    option_insts = dict() #list of all possible option instantiations\n",
    "    option_seqs = []\n",
    "    likelihoods = []\n",
    "    done = False\n",
    "    \n",
    "    paths = env.paths\n",
    "    options, option_utils, path_nodes, path_stds, path_obs, avail_moves = get_all_options(env)\n",
    "    \n",
    "    for option in options:\n",
    "        path, obs = option\n",
    "        option_insts[option] = all_option_insts(path_nodes[path],path_stds[path],obs)\n",
    "        \n",
    "    #single click options\n",
    "    sc_opt = (-1,1)\n",
    "    options.append(sc_opt)\n",
    "    option_utils.append(-np.inf)\n",
    "    option_insts[sc_opt] = [[a] for a in env.actions(env._state)]\n",
    "        \n",
    "    for i in range(1,min(len(paths[0]),len(click_sequence))+1):  \n",
    "        for j in range(len(options)):\n",
    "            option = options[j]\n",
    "            for inst in option_insts[option]:            \n",
    "                if np.array_equal(click_sequence[:i],inst):\n",
    "                    \n",
    "                    copy_env = copy.deepcopy(env)                   \n",
    "                    for a in click_sequence[:i]:\n",
    "                        copy_env._step(a)\n",
    "                        \n",
    "                    will_done, remaining, rem_likelihoods = parse_options(copy_env,click_sequence[i:])\n",
    "                    done = done or will_done\n",
    "                    \n",
    "                    if done:\n",
    "                        for k in range(len(remaining)): \n",
    "                            latter = remaining[k]\n",
    "                            option_seqs.append([option]+latter)\n",
    "                            l_opt_seq = (1-p_rand)*np.exp(1/t*option_utils[j])/np.sum(1/t*np.exp(option_utils))*rem_likelihoods[k]\n",
    "                            l_opt_seq += p_rand*1/len(options)\n",
    "                            likelihoods.append(l_opt_seq)\n",
    "    \n",
    "    return done, option_seqs, likelihoods"
   ]
  },
  {
   "cell_type": "code",
   "execution_count": 19,
   "metadata": {
    "collapsed": true
   },
   "outputs": [],
   "source": [
    "cost = 1\n",
    "envs = make_envs(cost,10,None,\"increasing\",branching=[2,2])\n",
    "env = envs[0]"
   ]
  },
  {
   "cell_type": "code",
   "execution_count": 20,
   "metadata": {},
   "outputs": [
    {
     "data": {
      "text/plain": [
       "[1, 2, 3, 4, 5, 6, 7]"
      ]
     },
     "execution_count": 20,
     "metadata": {},
     "output_type": "execute_result"
    }
   ],
   "source": [
    "list(env.actions(env._state))"
   ]
  },
  {
   "cell_type": "code",
   "execution_count": 21,
   "metadata": {
    "scrolled": true
   },
   "outputs": [
    {
     "ename": "NameError",
     "evalue": "name 'copy' is not defined",
     "output_type": "error",
     "traceback": [
      "\u001b[0;31m---------------------------------------------------------------------------\u001b[0m",
      "\u001b[0;31mNameError\u001b[0m                                 Traceback (most recent call last)",
      "\u001b[0;32m<ipython-input-21-ea6ee07730e4>\u001b[0m in \u001b[0;36m<module>\u001b[0;34m()\u001b[0m\n\u001b[1;32m      1\u001b[0m \u001b[0mclick_seq\u001b[0m \u001b[0;34m=\u001b[0m \u001b[0;34m[\u001b[0m\u001b[0;36m4\u001b[0m\u001b[0;34m,\u001b[0m\u001b[0;36m5\u001b[0m\u001b[0;34m,\u001b[0m\u001b[0;36m1\u001b[0m\u001b[0;34m,\u001b[0m\u001b[0;36m3\u001b[0m\u001b[0;34m]\u001b[0m\u001b[0;34m\u001b[0m\u001b[0m\n\u001b[0;32m----> 2\u001b[0;31m \u001b[0mdone\u001b[0m\u001b[0;34m,\u001b[0m\u001b[0moption_seqs\u001b[0m\u001b[0;34m,\u001b[0m\u001b[0mlikelihoods\u001b[0m \u001b[0;34m=\u001b[0m \u001b[0mparse_options\u001b[0m\u001b[0;34m(\u001b[0m\u001b[0menv\u001b[0m\u001b[0;34m,\u001b[0m\u001b[0mclick_seq\u001b[0m\u001b[0;34m)\u001b[0m\u001b[0;34m\u001b[0m\u001b[0m\n\u001b[0m\u001b[1;32m      3\u001b[0m \u001b[0moption_seqs\u001b[0m\u001b[0;34m\u001b[0m\u001b[0m\n",
      "\u001b[0;32m<ipython-input-18-e5de51ab0bfa>\u001b[0m in \u001b[0;36mparse_options\u001b[0;34m(env, click_sequence, t, p_rand)\u001b[0m\n\u001b[1;32m     28\u001b[0m                 \u001b[0;32mif\u001b[0m \u001b[0mnp\u001b[0m\u001b[0;34m.\u001b[0m\u001b[0marray_equal\u001b[0m\u001b[0;34m(\u001b[0m\u001b[0mclick_sequence\u001b[0m\u001b[0;34m[\u001b[0m\u001b[0;34m:\u001b[0m\u001b[0mi\u001b[0m\u001b[0;34m]\u001b[0m\u001b[0;34m,\u001b[0m\u001b[0minst\u001b[0m\u001b[0;34m)\u001b[0m\u001b[0;34m:\u001b[0m\u001b[0;34m\u001b[0m\u001b[0m\n\u001b[1;32m     29\u001b[0m \u001b[0;34m\u001b[0m\u001b[0m\n\u001b[0;32m---> 30\u001b[0;31m                     \u001b[0mcopy_env\u001b[0m \u001b[0;34m=\u001b[0m \u001b[0mcopy\u001b[0m\u001b[0;34m.\u001b[0m\u001b[0mdeepcopy\u001b[0m\u001b[0;34m(\u001b[0m\u001b[0menv\u001b[0m\u001b[0;34m)\u001b[0m\u001b[0;34m\u001b[0m\u001b[0m\n\u001b[0m\u001b[1;32m     31\u001b[0m                     \u001b[0;32mfor\u001b[0m \u001b[0ma\u001b[0m \u001b[0;32min\u001b[0m \u001b[0mclick_sequence\u001b[0m\u001b[0;34m[\u001b[0m\u001b[0;34m:\u001b[0m\u001b[0mi\u001b[0m\u001b[0;34m]\u001b[0m\u001b[0;34m:\u001b[0m\u001b[0;34m\u001b[0m\u001b[0m\n\u001b[1;32m     32\u001b[0m                         \u001b[0mcopy_env\u001b[0m\u001b[0;34m.\u001b[0m\u001b[0m_step\u001b[0m\u001b[0;34m(\u001b[0m\u001b[0ma\u001b[0m\u001b[0;34m)\u001b[0m\u001b[0;34m\u001b[0m\u001b[0m\n",
      "\u001b[0;31mNameError\u001b[0m: name 'copy' is not defined"
     ]
    }
   ],
   "source": [
    "click_seq = [4,5,1,3]\n",
    "done,option_seqs,likelihoods = parse_options(env,click_seq)\n",
    "option_seqs"
   ]
  },
  {
   "cell_type": "code",
   "execution_count": 312,
   "metadata": {},
   "outputs": [
    {
     "data": {
      "text/plain": [
       "0.081649658092772609"
      ]
     },
     "execution_count": 312,
     "metadata": {},
     "output_type": "execute_result"
    }
   ],
   "source": [
    "np.exp(np.log(np.sum(likelihoods))/len(click_seq))"
   ]
  },
  {
   "cell_type": "code",
   "execution_count": 294,
   "metadata": {
    "collapsed": true
   },
   "outputs": [],
   "source": [
    "def dc_model_ave(env,click_seq,t=1,p_rand=0.0001):\n",
    "    done,option_seqs,likelihoods = parse_options(env,click_seq,t,p_rand)\n",
    "    return np.exp(np.log(np.sum(likelihoods))/len(click_seq))"
   ]
  },
  {
   "cell_type": "code",
   "execution_count": 295,
   "metadata": {},
   "outputs": [
    {
     "data": {
      "text/plain": [
       "0.3690103614353254"
      ]
     },
     "execution_count": 295,
     "metadata": {},
     "output_type": "execute_result"
    }
   ],
   "source": [
    "dc_model_ave(env,click_seq)"
   ]
  },
  {
   "cell_type": "code",
   "execution_count": null,
   "metadata": {
    "collapsed": true
   },
   "outputs": [],
   "source": []
  }
 ],
 "metadata": {
  "kernelspec": {
   "display_name": "Python 3",
   "language": "python",
   "name": "python3"
  },
  "language_info": {
   "codemirror_mode": {
    "name": "ipython",
    "version": 3
   },
   "file_extension": ".py",
   "mimetype": "text/x-python",
   "name": "python",
   "nbconvert_exporter": "python",
   "pygments_lexer": "ipython3",
   "version": "3.6.3"
  }
 },
 "nbformat": 4,
 "nbformat_minor": 2
}
