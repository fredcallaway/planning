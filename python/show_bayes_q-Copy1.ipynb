{
 "cells": [
  {
   "cell_type": "code",
   "execution_count": 150,
   "metadata": {},
   "outputs": [
    {
     "name": "stdout",
     "output_type": "stream",
     "text": [
      "The autoreload extension is already loaded. To reload it, use:\n",
      "  %reload_ext autoreload\n"
     ]
    }
   ],
   "source": [
    "%matplotlib inline\n",
    "%load_ext autoreload\n",
    "%autoreload 2\n",
    "\n",
    "import matplotlib.pyplot as plt\n",
    "import numpy as np\n",
    "import pandas as pd\n",
    "import seaborn as sns\n",
    "sns.set_context('notebook', font_scale=1.3)\n",
    "sns.set_style('white')"
   ]
  },
  {
   "cell_type": "code",
   "execution_count": 151,
   "metadata": {},
   "outputs": [],
   "source": [
    "from mouselab import *\n",
    "from bayes_q import *\n",
    "from gymrats.core import Agent\n",
    "from exact import solve\n",
    "from skopt import gp_minimize\n",
    "from skopt.space import Real,Space"
   ]
  },
  {
   "cell_type": "code",
   "execution_count": 152,
   "metadata": {},
   "outputs": [],
   "source": [
    "cost_range = [0,0.3]\n",
    "branch_range = [2,4]\n",
    "height_range = [2,4]\n",
    "reward_alpha = 1"
   ]
  },
  {
   "cell_type": "code",
   "execution_count": 124,
   "metadata": {},
   "outputs": [],
   "source": [
    "def get_optimal_return(env):\n",
    "    q, v, pi, info = solve(env)\n",
    "    return v(env.init)\n",
    "\n",
    "def sample_env():\n",
    "    cost = np.random.uniform(*cost_range)\n",
    "    branch = np.random.randint(*branch_range)\n",
    "    height = np.random.randint(*height_range)\n",
    "    R = Categorical([-1, 0, 1],np.random.dirichlet(np.ones(3)*reward_alpha))\n",
    "    return MouselabEnv(branch, height, reward=R, cost=cost)"
   ]
  },
  {
   "cell_type": "code",
   "execution_count": 125,
   "metadata": {},
   "outputs": [],
   "source": [
    "def create_training_df(env,N,prior_params=None):\n",
    "    policy = BayesianQLearner(5,prior_params=prior_params)\n",
    "    Q = policy.Q\n",
    "    agent = Agent(env, policy)\n",
    "    return pd.DataFrame(agent.run_many(N,pbar=False))\n",
    "\n",
    "def meta_training_objective_single(x):\n",
    "    N=20\n",
    "    df = create_training_df(sample_env(),N,prior_params=x)\n",
    "    return np.mean(df.return_.values)\n",
    "\n",
    "def meta_training_objective(x):\n",
    "    meta_training_objective.counter += 1\n",
    "    y = np.mean([meta_training_objective_single(x) for _ in range(25)])\n",
    "    print(meta_training_objective.counter,y,np.round(x,2))\n",
    "    return y\n",
    "\n",
    "def train_meta_agent(N):\n",
    "    x0 = list(np.r_[np.zeros(4) , 1, np.ones(4)*0.1, 100, 10,1])\n",
    "    dimensions = [Real(0,1)]*5 + [Real(0.1,100)]*5 + [Real(0.1,20)] + [Real(0.1,10)]\n",
    "    return gp_minimize(lambda x: -meta_training_objective(x),x0=x0,dimensions=dimensions,n_calls=N)"
   ]
  },
  {
   "cell_type": "code",
   "execution_count": 137,
   "metadata": {},
   "outputs": [],
   "source": [
    "def plot_weights(policy):\n",
    "    W = np.stack(policy.weight_log)\n",
    "    plt.plot(W)"
   ]
  },
  {
   "cell_type": "code",
   "execution_count": 126,
   "metadata": {
    "scrolled": true
   },
   "outputs": [
    {
     "name": "stdout",
     "output_type": "stream",
     "text": [
      "1 0.20952913557922404 [  0.    0.    0.    0.    1.    0.1   0.1   0.1   0.1 100.   10.    1. ]\n",
      "2 0.41522011292583355 [ 0.8   0.61  0.5   0.57  0.32  6.59 21.98  7.22 92.55 30.33 14.47  5.77]\n",
      "3 -0.007141340485076899 [3.200e-01 3.000e-02 4.300e-01 9.000e-01 5.600e-01 7.549e+01 6.340e+01 1.268e+01 5.163e+01 8.458e+01 1.008e+01 1.560e+00]\n",
      "4 0.6976222393832008 [ 0.47  0.6   0.93  0.4   0.68 72.29 22.97 24.36 29.65 28.61  1.11  0.34]\n",
      "5 0.1634859379691211 [6.000e-01 6.000e-02 4.400e-01 7.700e-01 9.800e-01 6.357e+01 7.757e+01 5.819e+01 7.214e+01 1.672e+01 5.420e+00 1.960e+00]\n",
      "6 0.42708789844330497 [2.700e-01 9.100e-01 8.200e-01 5.000e-02 3.600e-01 6.120e+00 3.540e+00 8.600e+00 7.136e+01 1.867e+01 1.263e+01 5.710e+00]\n",
      "7 0.8548460488476186 [ 0.46  0.74  0.9   0.66  0.27 79.28 67.4  88.7  10.5  18.1  14.54  9.5 ]\n",
      "8 0.04071669441975858 [ 0.7   0.6   0.33  0.8   0.85 73.58 95.83  8.67 45.63 96.51 16.06  8.18]\n",
      "9 0.4928783777666008 [ 0.24  0.68  0.26  0.24  0.49 83.47 52.19  5.18  1.93 48.05  0.32  8.21]\n",
      "10 0.6103250823608173 [ 0.21  0.65  1.    0.96  0.79 15.55 80.94 63.76 71.29 65.57 14.31  3.04]\n",
      "11 0.6889821127844022 [ 0.71  0.97  0.71  0.59  0.95 33.62 18.68 15.99 82.62 42.66 13.77  8.44]\n",
      "12 0.13575476114935606 [  1.     0.69   1.     0.64   1.     0.1    0.1    0.1  100.    91.8    0.1    0.1 ]\n",
      "13 0.49907323416067556 [ 0.41  0.7   0.88  0.17  0.1  43.47 46.63 95.05 34.38 27.53 14.66  6.27]\n",
      "14 0.3976250207794274 [ 0.42  0.83  0.93  0.73  0.35 83.2  70.7  87.72  6.31 20.43 15.13 10.  ]\n",
      "15 0.5630755604025396 [ 0.94  0.87  1.    0.8   0.21 45.5  90.86 97.29 17.59 47.1  10.15  5.48]\n",
      "16 0.5629705953902554 [ 0.12  0.06  1.    0.53  0.23  1.46 24.78 40.49 10.02  0.1   5.57  0.75]\n",
      "17 0.41398960952537356 [ 0.2   0.82  0.    0.54  0.26 19.06 95.25 17.43 53.84  0.1   2.74  8.36]\n",
      "18 0.525544461949456 [ 0.86  0.37  1.    0.75  0.84 71.06 46.72 12.02 93.82 45.73  7.26  9.6 ]\n",
      "19 -0.22181708876785014 [ 0.79  0.63  1.    0.89  0.79 64.43 80.09  8.42 94.85  0.1   9.55  4.71]\n",
      "20 0.25747171038696093 [ 0.91  1.    0.52  0.    1.   48.63  0.1  15.67 54.92 47.63  0.1   0.78]\n",
      "21 0.6884156128949048 [ 0.07  0.69  0.6   0.4   0.12  4.21  2.62 64.1   0.1  17.99  0.11 10.  ]\n",
      "22 0.4715182082335485 [3.800e-01 4.200e-01 4.000e-02 5.200e-01 2.800e-01 6.094e+01 3.687e+01 5.837e+01 1.000e-01 3.420e+01 8.880e+00 4.010e+00]\n",
      "23 0.5390898019369719 [4.000e-02 2.800e-01 2.400e-01 0.000e+00 3.600e-01 9.120e+01 6.815e+01 9.819e+01 1.000e-01 1.000e-01 1.969e+01 8.210e+00]\n",
      "24 0.5292258483079586 [ 0.    0.52  0.06  1.    0.85  0.1   0.1  36.42 56.95 47.03  5.99  2.74]\n",
      "25 0.8198499781636372 [ 0.18  0.47  0.74  0.26  0.4  99.   23.29 18.25  3.78 75.22  9.91 10.  ]\n",
      "26 0.013938409784496692 [  0.16   0.87   0.66   0.8    0.5  100.    14.4   55.38  25.08  92.65  10.32  10.  ]\n",
      "27 0.6274554962941217 [ 0.6   0.22  0.8   0.35  0.8  41.33 67.83 14.88  0.1  68.36 12.68  8.57]\n",
      "28 0.7758825479276527 [1.700e-01 6.000e-02 7.800e-01 2.700e-01 3.500e-01 3.210e+01 4.591e+01 2.780e+01 3.400e+01 8.866e+01 1.289e+01 3.630e+00]\n",
      "29 0.3044667076256055 [6.000e-02 5.600e-01 3.100e-01 6.400e-01 4.000e-02 6.648e+01 8.831e+01 1.000e+02 6.249e+01 1.505e+01 1.810e+00 8.250e+00]\n",
      "30 0.5375774435892271 [ 0.83  0.98  1.    0.59  0.68 70.49  5.8  66.55 27.53 89.31 16.15  9.13]\n",
      "31 0.34460524952664184 [3.900e-01 9.100e-01 7.300e-01 6.500e-01 6.000e-02 4.950e+01 9.736e+01 9.513e+01 2.372e+01 6.546e+01 1.988e+01 2.470e+00]\n",
      "32 0.550265181234344 [4.000e-02 2.100e-01 1.000e+00 3.300e-01 1.300e-01 9.953e+01 2.927e+01 5.837e+01 2.146e+01 3.755e+01 1.965e+01 1.000e+01]\n",
      "33 0.5241876714997976 [ 0.16  0.89  1.    0.32  0.81 16.13  3.01 51.45 51.57 42.75  2.46  0.1 ]\n",
      "34 0.14245664190746793 [  0.44   0.34   1.     0.3    0.65 100.    88.21   0.1   78.18  70.31  11.89   0.1 ]\n",
      "35 0.18084583032473125 [4.700e-01 8.000e-02 1.000e+00 6.200e-01 7.100e-01 8.705e+01 2.579e+01 4.193e+01 1.000e-01 1.640e+00 1.477e+01 8.050e+00]\n",
      "36 0.26202034206193864 [ 0.47  0.33  0.98  0.37  0.44 27.92  0.1  22.96 80.06 80.8  17.45 10.  ]\n",
      "37 0.6394773113054079 [ 0.37  0.68  0.79  0.28  0.84 46.04 70.99 27.03  0.1  14.7  11.07  5.63]\n",
      "38 0.5588213361430641 [ 0.53  0.57  0.44  0.22  0.54 62.62 63.5  24.4   0.1  71.68 18.31 10.  ]\n",
      "39 0.3440494036775615 [ 0.53  0.3   0.81  0.65  0.23 63.46 57.97 86.09 22.17 69.15 15.36 10.  ]\n",
      "40 0.43470550654432044 [ 0.28  0.95  0.8   0.66  0.46 90.89  6.54 88.45 52.13 65.74 18.2   9.2 ]\n",
      "41 0.40345341098556836 [8.100e-01 4.200e-01 4.200e-01 3.600e-01 1.000e-02 9.690e+01 9.240e+01 3.718e+01 1.000e-01 7.947e+01 3.770e+00 9.150e+00]\n",
      "42 1.1290772317016593 [ 0.39  0.64  0.24  0.66  0.17  6.95 32.45 68.74  0.93 13.38 11.37  9.21]\n",
      "43 -0.06094189582469142 [ 0.9   0.74  0.11  0.66  0.21 47.01 35.09 49.29  0.1  11.15  2.38  2.64]\n",
      "44 0.47237533131531984 [1.000e-02 7.400e-01 2.200e-01 7.400e-01 7.000e-02 6.675e+01 4.438e+01 2.072e+01 1.000e-01 1.000e-01 8.290e+00 9.220e+00]\n",
      "45 0.3413946060474833 [ 0.4   0.54  0.32  0.63  0.22 38.32  0.25 72.78  0.1  38.71  3.32  9.19]\n",
      "46 0.7336903271754349 [ 0.45  0.56  0.3   0.66  0.68  0.1  49.67 78.58 47.32 64.57 11.48 10.  ]\n",
      "47 0.4071099663294168 [6.500e-01 1.100e-01 4.000e-02 6.500e-01 4.700e-01 1.205e+01 6.011e+01 5.842e+01 2.515e+01 5.857e+01 1.126e+01 1.000e+01]\n",
      "48 0.4073462208590458 [3.000e-02 4.100e-01 7.900e-01 6.600e-01 3.000e-02 1.000e-01 9.281e+01 2.738e+01 1.700e-01 8.360e+00 7.360e+00 9.290e+00]\n",
      "49 0.4451276563612603 [4.100e-01 1.800e-01 7.000e-02 6.700e-01 4.500e-01 1.000e-01 4.873e+01 5.613e+01 7.867e+01 1.000e-01 1.545e+01 1.000e+00]\n",
      "50 0.3171480610163393 [3.900e-01 9.400e-01 1.000e-02 6.600e-01 2.900e-01 1.733e+01 1.366e+01 2.124e+01 1.000e-01 2.122e+01 3.800e+00 9.370e+00]\n",
      "51 0.2301540899845996 [5.700e-01 3.400e-01 2.000e-02 6.600e-01 2.100e-01 1.400e-01 8.684e+01 7.191e+01 1.000e-01 4.211e+01 2.560e+00 9.370e+00]\n",
      "52 0.44631856762644895 [ 0.38  0.27  0.81  0.67  0.25 99.95 29.29 59.72  0.1   9.84 11.94  0.53]\n",
      "53 0.3260397313023764 [ 0.97  0.72  0.82  0.66  0.13 25.74 24.09 71.53 35.84  0.2  11.75  9.34]\n",
      "54 0.41595019805939176 [3.800e-01 8.600e-01 5.000e-02 6.600e-01 1.300e-01 6.862e+01 6.717e+01 8.500e-01 2.590e+01 2.348e+01 1.168e+01 9.470e+00]\n",
      "55 0.3677088104887858 [ 0.32  0.7   0.44  0.66  0.27 69.45 31.9  76.81  0.1  72.01 11.76 10.  ]\n",
      "56 0.2663901835122316 [ 0.39  0.75  0.58  0.26  0.18 41.81 30.53 71.79  1.66 13.77 12.14  9.21]\n",
      "57 0.28985899784260744 [ 0.3   0.38  0.42  0.63  0.17 39.75 36.47 79.76  0.1  13.59  9.3   9.24]\n",
      "58 0.6284483446237709 [ 0.15  0.8   0.75  0.66  0.09  4.68 29.54 73.13 77.97  1.66  3.62 10.  ]\n",
      "59 0.40425738466704353 [ 0.12  0.64  0.15  0.66  0.61  3.75 27.84 74.7  12.8  57.53 12.51 10.  ]\n",
      "60 0.32550872456067054 [4.800e-01 5.200e-01 1.600e-01 2.600e-01 9.000e-02 9.051e+01 1.430e+00 2.689e+01 5.830e+00 2.512e+01 6.890e+00 6.220e+00]\n",
      "61 0.3533752582089196 [ 0.07  0.41  0.15  0.29  0.5  49.37 39.46  2.88  8.46 36.92 10.6   3.27]\n",
      "62 0.23612193329579914 [ 0.98  0.88  0.88  0.99  0.74  7.11  1.55 95.48 14.99 81.19  7.46  5.62]\n",
      "63 0.5165499992909951 [2.900e-01 4.300e-01 8.100e-01 6.000e-02 2.700e-01 9.296e+01 8.940e+00 9.989e+01 5.411e+01 9.747e+01 5.900e-01 2.260e+00]\n",
      "64 0.5234863042190504 [ 0.42  0.25  0.33  0.63  0.17  2.64 28.55 99.65 27.24 11.19  6.84  9.06]\n",
      "65 0.3674643839874434 [ 0.36  0.89  0.17  0.9   0.17  5.99 28.   83.5   1.04 12.75 11.08  7.95]\n",
      "66 0.5796835973250998 [  0.     0.57   1.     0.42   0.89   0.1   77.79 100.    47.06  10.01  19.08  10.  ]\n",
      "67 0.9900512448668887 [9.900e-01 5.200e-01 7.100e-01 3.000e-02 6.800e-01 1.638e+01 9.020e+01 9.945e+01 9.990e+01 1.594e+01 1.362e+01 8.810e+00]\n",
      "68 0.8018932837144831 [9.600e-01 5.000e-01 9.800e-01 1.000e-02 7.400e-01 3.220e+00 5.611e+01 9.884e+01 8.443e+01 6.023e+01 9.700e-01 7.500e-01]\n",
      "69 0.5722853882427124 [  1.    0.    1.    0.    1.    0.1 100.  100.  100.    0.1  20.   10. ]\n",
      "70 -0.18086047088259144 [  1.     1.     1.     0.     0.52   0.1  100.   100.     0.1  100.     0.1   10.  ]\n",
      "71 0.7076859762507922 [9.300e-01 9.500e-01 6.500e-01 6.000e-02 3.300e-01 1.984e+01 3.188e+01 1.000e+02 1.000e+02 8.310e+00 1.776e+01 2.940e+00]\n",
      "72 0.31722614816445444 [ 0.37  0.74  0.47  0.7   0.76 29.04 14.03 68.05  0.89 75.03 11.49  0.41]\n"
     ]
    },
    {
     "name": "stdout",
     "output_type": "stream",
     "text": [
      "73 0.6380799686114699 [ 0.38  0.59  0.3   0.75  0.87  6.81 93.25 68.12 47.61 12.85 15.69  9.17]\n",
      "74 0.1724154256980131 [ 0.21  0.22  0.96  0.84  0.97 43.66  2.04 98.96  9.89 11.8   4.45  8.76]\n",
      "75 0.2692198736063532 [ 0.14  0.99  0.09  0.72  0.41  7.96 52.15 67.14  0.1   6.51 13.51  3.69]\n",
      "76 0.44528314505639766 [ 0.    0.83  0.41  0.2   0.32  2.65 48.02 65.95 97.34 82.54  4.88  5.19]\n",
      "77 0.3389518197585493 [2.800e-01 5.300e-01 3.300e-01 2.000e-02 6.000e-02 4.523e+01 2.241e+01 8.518e+01 9.914e+01 2.294e+01 1.031e+01 7.300e-01]\n",
      "78 0.3994477084237559 [ 0.43  0.32  0.79  0.98  0.52  0.52 56.43 74.56 98.48 88.69 15.76  5.85]\n",
      "79 0.5313801753107598 [  0.63   0.24   0.27   0.     0.59  13.15  82.1   77.71 100.     8.95   2.95   4.51]\n",
      "80 0.2471443643790944 [ 0.23  0.3   0.24  0.75  0.19 43.23 66.5   3.44  1.27 27.8  18.79 10.  ]\n",
      "81 0.2864346242357726 [6.600e-01 4.500e-01 3.000e-01 4.000e-02 8.800e-01 1.296e+01 4.660e+00 1.280e+00 1.000e+02 9.036e+01 1.629e+01 2.590e+00]\n",
      "82 0.784226493103262 [ 0.95  0.13  0.57  0.26  0.18 27.13 14.36 95.16 91.5  27.55  2.76  4.01]\n",
      "83 0.3258033163199168 [ 0.86  0.44  0.16  0.36  0.15  0.73 91.9  93.69 98.5  65.41  5.61  7.74]\n",
      "84 0.17246206207643588 [1.000e+00 4.000e-02 8.700e-01 1.100e-01 2.200e-01 1.991e+01 9.488e+01 1.000e+02 1.000e+02 2.209e+01 8.990e+00 6.280e+00]\n",
      "85 0.29293471152589506 [ 0.22  0.46  0.89  0.35  0.84 71.86 47.12 99.07 94.42 90.02  0.42  7.51]\n",
      "86 0.33970700755324684 [5.100e-01 2.500e-01 9.400e-01 1.000e-02 5.600e-01 9.493e+01 9.362e+01 1.042e+01 8.100e-01 4.075e+01 1.352e+01 3.780e+00]\n",
      "87 0.02161060293325667 [ 0.62  0.22  0.96  0.65  0.67 70.76 25.1  66.39 76.91 13.37 11.82  8.34]\n",
      "88 0.6378694079332284 [1.900e-01 2.500e-01 3.000e-02 0.000e+00 8.800e-01 5.030e+00 4.844e+01 1.000e+02 1.000e+02 1.260e+01 9.190e+00 3.360e+00]\n",
      "89 0.12967295126070824 [ 0.1   0.37  0.88  0.68  0.3  63.89 97.53 68.72  0.1  33.42  5.44  9.27]\n",
      "90 0.1433085087081686 [1.100e-01 4.000e-01 5.300e-01 1.000e-02 7.700e-01 9.678e+01 5.210e+00 5.200e-01 9.903e+01 8.668e+01 1.960e+01 1.010e+00]\n",
      "91 0.23166572230106852 [ 0.36  0.67  0.46  0.64  0.27 91.73 37.77 15.25 61.24  9.31 10.93  9.38]\n",
      "92 0.8532014670132768 [  0.55   1.     0.85   0.     0.12   0.1    4.2  100.    94.37  81.18   7.65   0.23]\n",
      "93 0.18106303877054725 [  0.86   1.     0.33   0.     0.82   0.1    9.99 100.    94.7   45.5    8.11   1.97]\n",
      "94 0.6502377947169151 [ 0.17  0.85  0.78  0.    0.38 61.05 57.99 98.3   2.38 78.5   0.21  0.87]\n",
      "95 0.13427527578930995 [ 0.45  0.36  0.61  0.31  0.15  1.49 92.93 10.14 12.08 91.05  8.45  6.19]\n",
      "96 0.4951451489582998 [  0.74   0.77   0.92   0.     0.38  16.26  68.46 100.    82.1   95.61  19.71   3.47]\n",
      "97 0.11129498363138798 [  0.78   0.11   0.71   0.22   0.98  19.3   48.11 100.    69.98  26.03   6.77   9.98]\n",
      "98 0.2763078786905333 [ 0.29  0.69  0.62  0.66  0.46 16.78 18.51 72.02 30.42 13.75 18.84  9.33]\n",
      "99 0.2987458782555452 [  0.87   0.1    0.56   0.     0.94   7.52   1.07 100.   100.    36.18   6.19   9.65]\n",
      "100 0.8975897727315764 [  0.25   0.62   0.97   0.16   0.5   72.96  55.56 100.     4.11  65.71   8.46   7.74]\n"
     ]
    }
   ],
   "source": [
    "meta_training_objective.counter = 0\n",
    "res = train_meta_agent(100)"
   ]
  },
  {
   "cell_type": "code",
   "execution_count": 127,
   "metadata": {},
   "outputs": [
    {
     "data": {
      "text/plain": [
       "[0.38622739257055405,\n",
       " 0.6445798361152787,\n",
       " 0.23677999811258774,\n",
       " 0.661553625732236,\n",
       " 0.17255836911580777,\n",
       " 6.94933612877879,\n",
       " 32.44529374265896,\n",
       " 68.74042193284149,\n",
       " 0.9252599073288498,\n",
       " 13.383395567049416,\n",
       " 11.372075806774978,\n",
       " 9.209816294959673]"
      ]
     },
     "execution_count": 127,
     "metadata": {},
     "output_type": "execute_result"
    }
   ],
   "source": [
    "res.x"
   ]
  },
  {
   "cell_type": "code",
   "execution_count": 136,
   "metadata": {},
   "outputs": [],
   "source": [
    "num_steps = 20\n",
    "num_replications = 1000\n",
    "envs = [sample_env() for _ in range(num_replications)]\n",
    "dfs = [create_training_df(env,num_steps) for env in envs]\n",
    "dfs_meta = [create_training_df(env,num_steps,prior_params=res.x) for env in envs]\n",
    "#optimal_return = [get_optimal_return(env) for env in envs]"
   ]
  },
  {
   "cell_type": "code",
   "execution_count": 137,
   "metadata": {},
   "outputs": [
    {
     "data": {
      "image/png": "[encoded data removed]",
      "text/plain": [
       "<Figure size 432x288 with 1 Axes>"
      ]
     },
     "metadata": {
      "needs_background": "light"
     },
     "output_type": "display_data"
    }
   ],
   "source": [
    "returns = np.array([df.return_ for df in dfs])\n",
    "returns_meta = np.array([df.return_ for df in dfs_meta])\n",
    "plt.errorbar(x=np.arange(returns.shape[1]),y=np.mean(returns,axis=0),\n",
    "             yerr=np.std(returns,axis=0)/np.sqrt(returns.shape[0]),label='mean return of learned policy')\n",
    "plt.errorbar(x=np.arange(returns_meta.shape[1]),y=np.mean(returns_meta,axis=0),\n",
    "             yerr=np.std(returns_meta,axis=0)/np.sqrt(returns_meta.shape[0]),label='mean return of meta-learned policy')\n",
    "#plt.errorbar(np.mean(returns_meta,axis=0),'.-',label='mean return of meta-learned policy')\n",
    "#plt.plot(pd.DataFrame(np.mean(returns,axis=0)).rolling(10).mean(),'.-',label='mean return of learned policy')\n",
    "#plt.axhline(np.mean(optimal_return),color='black',linestyle='dashed',label='return of optimal policy')\n",
    "plt.legend(frameon=False)\n",
    "\n",
    "plt.show()\n",
    "\n",
    "#plt.show()\n",
    "#df.n_steps.rolling(1).mean().plot()\n",
    "#plt.show()"
   ]
  },
  {
   "cell_type": "code",
   "execution_count": 145,
   "metadata": {},
   "outputs": [],
   "source": [
    "np.savetxt('returns_notmeta.txt',returns)\n",
    "np.savetxt('returns_meta.txt',returns_meta)"
   ]
  },
  {
   "cell_type": "code",
   "execution_count": 149,
   "metadata": {},
   "outputs": [
    {
     "data": {
      "text/plain": [
       "[<matplotlib.lines.Line2D at 0x1608d036c18>]"
      ]
     },
     "execution_count": 149,
     "metadata": {},
     "output_type": "execute_result"
    },
    {
     "data": {
      "image/png": "[encoded data removed]",
      "text/plain": [
       "<Figure size 432x288 with 1 Axes>"
      ]
     },
     "metadata": {
      "needs_background": "light"
     },
     "output_type": "display_data"
    }
   ],
   "source": [
    "x = np.loadtxt('returns_notmeta.txt')\n",
    "y = np.loadtxt('returns_meta.txt')\n",
    "plt.plot(np.mean(x,axis=0))\n",
    "plt.plot(np.mean(y,axis=0))"
   ]
  },
  {
   "cell_type": "code",
   "execution_count": null,
   "metadata": {},
   "outputs": [],
   "source": []
  }
 ],
 "metadata": {
  "anaconda-cloud": {},
  "kernelspec": {
   "display_name": "Python 3",
   "language": "python",
   "name": "python3"
  },
  "language_info": {
   "codemirror_mode": {
    "name": "ipython",
    "version": 3
   },
   "file_extension": ".py",
   "mimetype": "text/x-python",
   "name": "python",
   "nbconvert_exporter": "python",
   "pygments_lexer": "ipython3",
   "version": "3.7.3"
  },
  "nav_menu": {},
  "toc": {
   "navigate_menu": true,
   "number_sections": true,
   "sideBar": true,
   "threshold": 6,
   "toc_cell": false,
   "toc_section_display": "block",
   "toc_window_display": false
  }
 },
 "nbformat": 4,
 "nbformat_minor": 1
}
