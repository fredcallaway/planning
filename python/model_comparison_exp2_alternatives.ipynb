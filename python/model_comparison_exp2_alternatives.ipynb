{
 "cells": [
  {
   "cell_type": "code",
   "execution_count": 1,
   "metadata": {},
   "outputs": [],
   "source": [
    "%matplotlib inline\n",
    "%load_ext autoreload\n",
    "%autoreload 2\n",
    "\n",
    "import itertools as it\n",
    "from collections import Counter, defaultdict, deque\n",
    "import matplotlib.pyplot as plt\n",
    "import numpy as np\n",
    "import pandas as pd\n",
    "from pandas import DataFrame, Series\n",
    "import seaborn as sns\n",
    "sns.set_style('white')\n",
    "sns.set_context('notebook', font_scale=1.3)\n",
    "\n",
    "from toolz.curried import get, curry\n",
    "from agents import run_episode"
   ]
  },
  {
   "cell_type": "markdown",
   "metadata": {},
   "source": [
    "# Define environment"
   ]
  },
  {
   "cell_type": "code",
   "execution_count": 2,
   "metadata": {
    "collapsed": true
   },
   "outputs": [],
   "source": [
    "from mouselab import MouselabEnv\n",
    "from distributions import Categorical, Normal\n",
    "\n",
    "def make_env(mu=0, sigma=4, branching=[3,1,2], cost=1.00, scaling_factors=[1, 1, 1], seed=None, **kwargs):\n",
    "    if seed is not None:\n",
    "        np.random.seed(seed)\n",
    "    \n",
    "    def reward(depth):\n",
    "        if depth > 0:\n",
    "            x = np.array([-2,-1,1,2])\n",
    "            vals = mu + sigma * x * scaling_factors[depth-1]\n",
    "            return Categorical(vals).apply(round)\n",
    "        return 0.\n",
    "\n",
    "    return MouselabEnv.new_symmetric(branching, reward, cost=cost, **kwargs)"
   ]
  },
  {
   "cell_type": "code",
   "execution_count": 3,
   "metadata": {
    "collapsed": true
   },
   "outputs": [],
   "source": [
    "SCALING = {\n",
    "    'increasing': [1/2, 1, 6],\n",
    "    'decreasing': [6, 1, 1/2]\n",
    "}\n",
    "envs = {name: make_env(scaling_factors=sf, ground_truth=False)\n",
    "        for name, sf in SCALING.items()}\n",
    "env = envs['increasing']"
   ]
  },
  {
   "cell_type": "markdown",
   "metadata": {},
   "source": [
    "# Alternative models"
   ]
  },
  {
   "cell_type": "markdown",
   "metadata": {},
   "source": [
    "## Satisficing and pruning"
   ]
  },
  {
   "cell_type": "code",
   "execution_count": 4,
   "metadata": {},
   "outputs": [],
   "source": [
    "from functools import wraps\n",
    "\n",
    "def observed(state, node):\n",
    "    return not hasattr(state[node], 'sample')\n",
    "\n",
    "@curry\n",
    "def satisfruning(preference, prune=None, satisfice=None, direction='forward', env=env):\n",
    "    @wraps(preference)\n",
    "    def new_pref(state, action, prune=prune, satisfice=satisfice, direction=direction):\n",
    "        if action == env.term_action:\n",
    "            if satisfice is not None:\n",
    "                satisfied = env.expected_term_reward(state) >= satisfice\n",
    "                return 1e10 if satisfied else -1e10\n",
    "        elif prune is not None:\n",
    "            if env.node_quality(action, state).expectation() <= prune:\n",
    "                return -1e20\n",
    "            previous_nodes = env.path_to(action)[:-1]\n",
    "        if direction == 'forward':\n",
    "            previous_node = env.path_to(action)[-2]  # [-1] is the clicked node\n",
    "            if not observed(state, previous_node):\n",
    "                return -1e10\n",
    "        elif direction == 'backward':\n",
    "            children = env.tree[action]\n",
    "            if children and not any(observed(state, node) for node in children):\n",
    "                return -1e10\n",
    "        return preference(state, action)\n",
    "    \n",
    "    return new_pref"
   ]
  },
  {
   "cell_type": "markdown",
   "metadata": {
    "heading_collapsed": true
   },
   "source": [
    "## Preferences"
   ]
  },
  {
   "cell_type": "code",
   "execution_count": 5,
   "metadata": {
    "collapsed": true,
    "hidden": true
   },
   "outputs": [],
   "source": [
    "# @satisfruning(direction='forward')\n",
    "def depth_first(state, action):\n",
    "    previous_nodes = env.path_to(action)[:-1]\n",
    "    return len(previous_nodes)"
   ]
  },
  {
   "cell_type": "code",
   "execution_count": 6,
   "metadata": {
    "collapsed": true,
    "hidden": true
   },
   "outputs": [],
   "source": [
    "# @satisfruning(direction='forward')\n",
    "def breadth_first(state, action):\n",
    "    # Don't click nodes not on the frontier.\n",
    "    previous_nodes = env.path_to(action)[:-1]\n",
    "    if not all(observed(state, node) for node in previous_nodes):\n",
    "        return -1e10\n",
    "    # Prefer nodes that are closer to the start\n",
    "    return -len(previous_nodes)"
   ]
  },
  {
   "cell_type": "code",
   "execution_count": 7,
   "metadata": {
    "collapsed": true,
    "hidden": true
   },
   "outputs": [],
   "source": [
    "# @satisfruning(direction='forward')\n",
    "def best_first(state, action):\n",
    "    q = env.node_quality(action, state)  # note backwards arguments!  plz don't ask why...\n",
    "    return q.expectation()  # node_quality is a distribution, we just want the mean"
   ]
  },
  {
   "cell_type": "code",
   "execution_count": 8,
   "metadata": {
    "collapsed": true,
    "hidden": true
   },
   "outputs": [],
   "source": [
    "def progressive_deepening(state, action,  last_click=None):\n",
    "    previous_nodes = env.path_to(action)[:-1]\n",
    "    if not all(observed(state, node) for node in previous_nodes):\n",
    "        return -1e10\n",
    "    if last_click:\n",
    "        # version if last_click is available\n",
    "        if last_clicka in env.leaves():\n",
    "            if len(previous_nodes) == 1:\n",
    "                # the start of a new path = another leaf on the previous path\n",
    "                return len(env.path_to(last_click)[:-1])\n",
    "            return len(previous_nodes)\n",
    "        if last_click == previous_nodes[-1]:\n",
    "            return 1e10\n",
    "        return len(previous_nodes)\n",
    "    else:\n",
    "        # the following only works for a 3-1-2 environment\n",
    "        if action in env.leaves():\n",
    "            leaf_group = None\n",
    "            for subtree in env.tree:\n",
    "                if (len(subtree) == 2) and (action in subtree):\n",
    "                    leaf_group = subtree\n",
    "            for leaf in leaf_group:\n",
    "                if observed(state, leaf):\n",
    "                    return 1 # set same value as the beginning of a new path\n",
    "        return len(previous_nodes)"
   ]
  },
  {
   "cell_type": "markdown",
   "metadata": {},
   "source": [
    "# Model human data"
   ]
  },
  {
   "cell_type": "markdown",
   "metadata": {
    "heading_collapsed": true
   },
   "source": [
    "## Load and preprocess"
   ]
  },
  {
   "cell_type": "code",
   "execution_count": null,
   "metadata": {
    "hidden": true
   },
   "outputs": [
    {
     "name": "stderr",
     "output_type": "stream",
     "text": [
      "/home/fredcallaway/miniconda3/lib/python3.6/site-packages/rpy2/rinterface/__init__.py:145: RRuntimeWarning: During startup - \n",
      "  warnings.warn(x, RRuntimeWarning)\n",
      "/home/fredcallaway/miniconda3/lib/python3.6/site-packages/rpy2/rinterface/__init__.py:145: RRuntimeWarning: Warning messages:\n",
      "\n",
      "  warnings.warn(x, RRuntimeWarning)\n",
      "/home/fredcallaway/miniconda3/lib/python3.6/site-packages/rpy2/rinterface/__init__.py:145: RRuntimeWarning: 1: package 'methods' was built under R version 3.4.2 \n",
      "\n",
      "  warnings.warn(x, RRuntimeWarning)\n",
      "/home/fredcallaway/miniconda3/lib/python3.6/site-packages/rpy2/rinterface/__init__.py:145: RRuntimeWarning: 2: package 'datasets' was built under R version 3.4.2 \n",
      "\n",
      "  warnings.warn(x, RRuntimeWarning)\n",
      "/home/fredcallaway/miniconda3/lib/python3.6/site-packages/rpy2/rinterface/__init__.py:145: RRuntimeWarning: 3: package 'utils' was built under R version 3.4.2 \n",
      "\n",
      "  warnings.warn(x, RRuntimeWarning)\n",
      "/home/fredcallaway/miniconda3/lib/python3.6/site-packages/rpy2/rinterface/__init__.py:145: RRuntimeWarning: 4: package 'grDevices' was built under R version 3.4.2 \n",
      "\n",
      "  warnings.warn(x, RRuntimeWarning)\n",
      "/home/fredcallaway/miniconda3/lib/python3.6/site-packages/rpy2/rinterface/__init__.py:145: RRuntimeWarning: 5: package 'graphics' was built under R version 3.4.2 \n",
      "\n",
      "  warnings.warn(x, RRuntimeWarning)\n",
      "/home/fredcallaway/miniconda3/lib/python3.6/site-packages/rpy2/rinterface/__init__.py:145: RRuntimeWarning: 6: package 'stats' was built under R version 3.4.2 \n",
      "\n",
      "  warnings.warn(x, RRuntimeWarning)\n"
     ]
    },
    {
     "name": "stdout",
     "output_type": "stream",
     "text": [
      "69 participants\n"
     ]
    },
    {
     "name": "stderr",
     "output_type": "stream",
     "text": [
      "/home/fredcallaway/miniconda3/lib/python3.6/site-packages/ipykernel_launcher.py:32: FutureWarning: 'pid' is both a column name and an index level.\n",
      "Defaulting to column but this will raise an ambiguity error in a future version\n",
      "/home/fredcallaway/miniconda3/lib/python3.6/site-packages/ipykernel_launcher.py:33: FutureWarning: 'pid' is both a column name and an index level.\n",
      "Defaulting to column but this will raise an ambiguity error in a future version\n",
      "/home/fredcallaway/miniconda3/lib/python3.6/site-packages/ipykernel_launcher.py:34: FutureWarning: 'pid' is both a column name and an index level.\n",
      "Defaulting to column but this will raise an ambiguity error in a future version\n"
     ]
    }
   ],
   "source": [
    "from analysis_utils import *\n",
    "VERSION = 'c2.1'\n",
    "exp_data = get_data(VERSION, '../experiment/data')\n",
    "\n",
    "pdf = exp_data['participants']\n",
    "pdf = pdf.loc[pdf.completed].set_index('pid', drop=False)\n",
    "if 'variance' in pdf:\n",
    "    pdf.variance = pdf.variance.replace(2442, 'decreasing').replace(2424, 'increasing')\n",
    "else:\n",
    "    pdf['variance'] = 'constant'\n",
    "\n",
    "print(f'{len(pdf)} participants')\n",
    "complete = list(pdf.index)\n",
    "\n",
    "def extract(q):\n",
    "    return list(map(int, q['click']['state']['target']))\n",
    "\n",
    "mdf = exp_data['mouselab-mdp'].set_index('pid', drop=False)\n",
    "mdf = mdf.loc[complete]\n",
    "\n",
    "mdf['clicks'] = mdf.queries.apply(extract)\n",
    "mdf['n_clicks'] = mdf.clicks.apply(len)\n",
    "mdf['thinking'] = mdf['rt'].apply(get(0, default=0))\n",
    "mdf['variance'] = pdf['variance']\n",
    "\n",
    "tdf = mdf.query('block == \"test\"').copy()\n",
    "tdf.trial_index -= tdf.trial_index.min()\n",
    "tdf.trial_index = tdf.trial_index.astype(int)\n",
    "tdf.trial_id = tdf.trial_id.astype(int)\n",
    "\n",
    "pdf['total_time'] = exp_data['survey-text'].time_elapsed / 60000\n",
    "pdf['n_clicks'] = tdf.groupby('pid').n_clicks.mean()\n",
    "pdf['score'] = tdf.groupby('pid').score.mean()\n",
    "pdf['thinking'] = mdf.groupby('pid').thinking.mean()"
   ]
  },
  {
   "cell_type": "code",
   "execution_count": null,
   "metadata": {
    "hidden": true
   },
   "outputs": [
    {
     "name": "stdout",
     "output_type": "stream",
     "text": [
      "excluding 16 out of 69 partipicants\n"
     ]
    },
    {
     "name": "stderr",
     "output_type": "stream",
     "text": [
      "/home/fredcallaway/miniconda3/lib/python3.6/site-packages/ipykernel_launcher.py:10: FutureWarning: 'pid' is both a column name and an index level.\n",
      "Defaulting to column but this will raise an ambiguity error in a future version\n",
      "  # Remove the CWD from sys.path while we load stuff.\n"
     ]
    }
   ],
   "source": [
    "import json\n",
    "def excluded_pids():\n",
    "    sdf = exp_data['survey-multi-choice'].query('pid == @complete').set_index('pid')\n",
    "    responses = pd.DataFrame(list(sdf.responses), index=sdf.index)\n",
    "    grp = responses.groupby(lambda pid: pdf.variance[pid])\n",
    "    correct = grp.apply(lambda x: x.mode().iloc[0])\n",
    "    errors = correct.loc[pdf.variance].set_index(pdf.index) != responses\n",
    "    fail_quiz = errors.sum(1) > 1\n",
    "\n",
    "    no_click = mdf.query('block == \"train_inspector\"').groupby('pid').n_clicks.sum() == 0\n",
    "    return fail_quiz | no_click\n",
    "\n",
    "excluded = excluded_pids()\n",
    "tdf = tdf.loc[~excluded]\n",
    "print(f'excluding {excluded.sum()} out of {len(excluded)} partipicants')"
   ]
  },
  {
   "cell_type": "code",
   "execution_count": null,
   "metadata": {
    "hidden": true
   },
   "outputs": [
    {
     "name": "stdout",
     "output_type": "stream",
     "text": [
      "6155 observations)\n"
     ]
    },
    {
     "data": {
      "text/html": [
       "<div>\n",
       "<style>\n",
       "    .dataframe thead tr:only-child th {\n",
       "        text-align: right;\n",
       "    }\n",
       "\n",
       "    .dataframe thead th {\n",
       "        text-align: left;\n",
       "    }\n",
       "\n",
       "    .dataframe tbody tr th {\n",
       "        vertical-align: top;\n",
       "    }\n",
       "</style>\n",
       "<table border=\"1\" class=\"dataframe\">\n",
       "  <thead>\n",
       "    <tr style=\"text-align: right;\">\n",
       "      <th></th>\n",
       "      <th>action</th>\n",
       "      <th>pid</th>\n",
       "      <th>state</th>\n",
       "      <th>trial_id</th>\n",
       "      <th>trial_index</th>\n",
       "      <th>variance</th>\n",
       "    </tr>\n",
       "    <tr>\n",
       "      <th>pid</th>\n",
       "      <th></th>\n",
       "      <th></th>\n",
       "      <th></th>\n",
       "      <th></th>\n",
       "      <th></th>\n",
       "      <th></th>\n",
       "    </tr>\n",
       "  </thead>\n",
       "  <tbody>\n",
       "    <tr>\n",
       "      <th>0</th>\n",
       "      <td>5</td>\n",
       "      <td>0</td>\n",
       "      <td>(0, ((-48, 0.25), (-24, 0.25), (24, 0.25), (48...</td>\n",
       "      <td>2045193736830000128</td>\n",
       "      <td>0</td>\n",
       "      <td>decreasing</td>\n",
       "    </tr>\n",
       "    <tr>\n",
       "      <th>0</th>\n",
       "      <td>9</td>\n",
       "      <td>0</td>\n",
       "      <td>(0, ((-48, 0.25), (-24, 0.25), (24, 0.25), (48...</td>\n",
       "      <td>2045193736830000128</td>\n",
       "      <td>0</td>\n",
       "      <td>decreasing</td>\n",
       "    </tr>\n",
       "    <tr>\n",
       "      <th>0</th>\n",
       "      <td>6</td>\n",
       "      <td>0</td>\n",
       "      <td>(0, ((-48, 0.25), (-24, 0.25), (24, 0.25), (48...</td>\n",
       "      <td>2045193736830000128</td>\n",
       "      <td>0</td>\n",
       "      <td>decreasing</td>\n",
       "    </tr>\n",
       "    <tr>\n",
       "      <th>0</th>\n",
       "      <td>10</td>\n",
       "      <td>0</td>\n",
       "      <td>(0, ((-48, 0.25), (-24, 0.25), (24, 0.25), (48...</td>\n",
       "      <td>2045193736830000128</td>\n",
       "      <td>0</td>\n",
       "      <td>decreasing</td>\n",
       "    </tr>\n",
       "    <tr>\n",
       "      <th>0</th>\n",
       "      <td>13</td>\n",
       "      <td>0</td>\n",
       "      <td>(0, ((-48, 0.25), (-24, 0.25), (24, 0.25), (48...</td>\n",
       "      <td>2045193736830000128</td>\n",
       "      <td>0</td>\n",
       "      <td>decreasing</td>\n",
       "    </tr>\n",
       "  </tbody>\n",
       "</table>\n",
       "</div>"
      ],
      "text/plain": [
       "     action  pid                                              state  \\\n",
       "pid                                                                   \n",
       "0         5    0  (0, ((-48, 0.25), (-24, 0.25), (24, 0.25), (48...   \n",
       "0         9    0  (0, ((-48, 0.25), (-24, 0.25), (24, 0.25), (48...   \n",
       "0         6    0  (0, ((-48, 0.25), (-24, 0.25), (24, 0.25), (48...   \n",
       "0        10    0  (0, ((-48, 0.25), (-24, 0.25), (24, 0.25), (48...   \n",
       "0        13    0  (0, ((-48, 0.25), (-24, 0.25), (24, 0.25), (48...   \n",
       "\n",
       "                trial_id  trial_index    variance  \n",
       "pid                                                \n",
       "0    2045193736830000128            0  decreasing  \n",
       "0    2045193736830000128            0  decreasing  \n",
       "0    2045193736830000128            0  decreasing  \n",
       "0    2045193736830000128            0  decreasing  \n",
       "0    2045193736830000128            0  decreasing  "
      ]
     },
     "execution_count": 11,
     "metadata": {},
     "output_type": "execute_result"
    }
   ],
   "source": [
    "def get_env(row):\n",
    "    row.state_rewards[0] = 0\n",
    "    return make_env(scaling_factors=SCALING[row.variance], \n",
    "                    ground_truth=row.state_rewards)\n",
    "tdf['env'] = tdf.apply(get_env, axis=1)\n",
    "\n",
    "def expand(df):\n",
    "    for i, row in df.iterrows():\n",
    "        env = row.env\n",
    "        env.reset()\n",
    "        for a in [*row.clicks, env.term_action]:\n",
    "            yield {'pid': row.pid, 'trial_index': row.trial_index, 'trial_id': row.trial_id,\n",
    "                   'state': env._state, 'action': a}\n",
    "            env.step(a)\n",
    "\n",
    "\n",
    "data = pd.DataFrame(expand(tdf)).set_index('pid', drop=False)\n",
    "data['variance'] = pdf.variance\n",
    "print(f'{len(data)} observations)')\n",
    "data.head()"
   ]
  },
  {
   "cell_type": "markdown",
   "metadata": {
    "heading_collapsed": true
   },
   "source": [
    "## Likelihood model"
   ]
  },
  {
   "cell_type": "code",
   "execution_count": null,
   "metadata": {
    "collapsed": true,
    "hidden": true
   },
   "outputs": [],
   "source": [
    "class MouselabModel():\n",
    "    \"\"\"Computes likelihoods for a softmax policy on a grid of temp and p_error.\"\"\"\n",
    "    def __init__(self, env, preference, data):\n",
    "        self.env = env\n",
    "        self.policy = SoftmaxPolicy(preference)\n",
    "        self.data = data\n",
    "        run_episode(self.policy, self.env)\n",
    "        self.prefs = np.stack(self.data.state.apply(self.policy.preferences))\n",
    "        self.prefs -= self.prefs.max(1).reshape(-1, 1)  # prevent float overflow \n",
    "\n",
    "        idx = np.arange(len(data))\n",
    "        self.chosen = (idx, data.action.as_matrix())\n",
    "\n",
    "    def likelihood(self, temp=1e-9, p_error=None):\n",
    "        \"\"\"Returns likelihood for all combinations of temp and p_error given.\n",
    "        \n",
    "        Return value has shape (len(self.data), len(temp), len(p_error)).\n",
    "        \"\"\"\n",
    "        temp = np.atleast_1d(temp)\n",
    "        ep = np.exp(np.einsum('ij,k -> ijk', self.prefs, 1/temp))\n",
    "        probs = ep[self.chosen] / ep.sum(1)  # shape: (state, temp)\n",
    "        if p_error is not None:\n",
    "            p_error = np.atleast_1d(p_error)\n",
    "            probs = (probs[..., np.newaxis] * (1-p_error) + \n",
    "                     self.random_likelihood[..., np.newaxis] * p_error)\n",
    "        return probs\n",
    "\n",
    "    @property\n",
    "    @memoize\n",
    "    def random_likelihood(self):\n",
    "        return MouselabModel(self.env, lambda *_: 0, self.data).likelihood()"
   ]
  },
  {
   "cell_type": "markdown",
   "metadata": {},
   "source": [
    "## Parameters to search over"
   ]
  },
  {
   "cell_type": "code",
   "execution_count": null,
   "metadata": {
    "collapsed": true
   },
   "outputs": [
    {
     "ename": "NameError",
     "evalue": "name 'Q' is not defined",
     "output_type": "error",
     "traceback": [
      "\u001b[0;31m---------------------------------------------------------------------------\u001b[0m",
      "\u001b[0;31mNameError\u001b[0m                                 Traceback (most recent call last)",
      "\u001b[0;32m<ipython-input-13-60e1c6232d12>\u001b[0m in \u001b[0;36m<module>\u001b[0;34m()\u001b[0m\n\u001b[1;32m     34\u001b[0m     'optimal': {\n\u001b[1;32m     35\u001b[0m         \u001b[0;34m**\u001b[0m\u001b[0mdefaults\u001b[0m\u001b[0;34m,\u001b[0m\u001b[0;34m\u001b[0m\u001b[0m\n\u001b[0;32m---> 36\u001b[0;31m         \u001b[0;34m'pref'\u001b[0m\u001b[0;34m:\u001b[0m \u001b[0mQ\u001b[0m\u001b[0;34m,\u001b[0m\u001b[0;34m\u001b[0m\u001b[0m\n\u001b[0m\u001b[1;32m     37\u001b[0m         \u001b[0;34m'satisfice'\u001b[0m\u001b[0;34m:\u001b[0m \u001b[0;34m[\u001b[0m\u001b[0;32mNone\u001b[0m\u001b[0;34m]\u001b[0m\u001b[0;34m,\u001b[0m\u001b[0;34m\u001b[0m\u001b[0m\n\u001b[1;32m     38\u001b[0m         \u001b[0;34m'prune'\u001b[0m\u001b[0;34m:\u001b[0m \u001b[0;34m[\u001b[0m\u001b[0;32mNone\u001b[0m\u001b[0;34m]\u001b[0m\u001b[0;34m,\u001b[0m\u001b[0;34m\u001b[0m\u001b[0m\n",
      "\u001b[0;31mNameError\u001b[0m: name 'Q' is not defined"
     ]
    }
   ],
   "source": [
    "# All possible path values i.e all possible sums of\n",
    "# rewards on the path.\n",
    "from distributions import ZERO\n",
    "path_dist = sum((env.init[n] for n in env.path_to(env.leaves()[0])[1:]), ZERO)\n",
    "path_values = list(path_dist.vals)\n",
    "\n",
    "defaults = {\n",
    "    'p_error': np.linspace(0.01,0.25, 25),\n",
    "    'satisfice': [v for v in path_values if v > 0],\n",
    "    'prune': [v for v in path_values if v < 0],\n",
    "    'temp': np.logspace(-5,1, 50),\n",
    "}\n",
    "models = {\n",
    "#     'depth_first': {\n",
    "#         **defaults,\n",
    "#         'pref': depth_first,  \n",
    "#         'temp': [1e-10]\n",
    "#     },\n",
    "#     'breadth_first': {\n",
    "#         **defaults,\n",
    "#         'pref': breadth_first,\n",
    "#         'temp': [1e-10]\n",
    "#    },\n",
    "#     'progressive_deepening': {\n",
    "#         **defaults,\n",
    "#         'pref': progressive_deepening,\n",
    "#         'temp': [1e-10]\n",
    "#     },\n",
    "    'best_first': {\n",
    "        **defaults,\n",
    "        'pref': best_first,\n",
    "        'direction': ['forward', 'backward', None],\n",
    "    },\n",
    "    'random': {\n",
    "        **defaults,\n",
    "        'pref': lambda s, a: 0,\n",
    "        'prune': [None],\n",
    "        'satisfice': [None],\n",
    "        'p_error': [1],\n",
    "        'temp': [1e-10]\n",
    "    },\n",
    "}"
   ]
  },
  {
   "cell_type": "markdown",
   "metadata": {},
   "source": [
    "## Find MLE"
   ]
  },
  {
   "cell_type": "code",
   "execution_count": 21,
   "metadata": {},
   "outputs": [],
   "source": [
    "def mle(mode, **sf_prm):\n",
    "    m = models[model]    \n",
    "    if sf_prm.get('prune') or sf_prm.get('satisfice'):\n",
    "        pref = satisfruning(m['pref'], **sf_prm)\n",
    "    else:\n",
    "        pref = m['pref']\n",
    "    data = data.loc[data_idx]\n",
    "    likemod = MouselabModel(env, pref, data)\n",
    "    logp = np.log(likemod.likelihood(temp=m['temp'], p_error=m['p_error']))\n",
    "    total_logp = logp.sum(0)  # sum logp for each state/action\n",
    "    best = total_logp.argmax()\n",
    "    i, j = np.unravel_index(best, total_logp.shape)\n",
    "    return {'temp': m['temp'][i], 'p_error': m['p_error'][j], 'N': len(data),\n",
    "            'logp': total_logp.flat[best], 'model': model, **prm}\n",
    "\n",
    "from joblib import Parallel, delayed\n",
    "\n",
    "jobs = [delayed(mle)('best_first', prune=prune, satisfice=satisfice, direction=direction)\n",
    "        for direction in ['forward', 'backward']\n",
    "        for prune in defaults['prune']\n",
    "        for satisfice in defaults['satisfice']]"
   ]
  },
  {
   "cell_type": "code",
   "execution_count": null,
   "metadata": {},
   "outputs": [
    {
     "name": "stderr",
     "output_type": "stream",
     "text": [
      "  0%|          | 1/1250 [00:00<03:48,  5.47it/s]"
     ]
    }
   ],
   "source": [
    "from tqdm import tqdm\n",
    "results = Parallel(22)(tqdm(jobs))"
   ]
  }
 ],
 "metadata": {
  "anaconda-cloud": {},
  "kernelspec": {
   "display_name": "Python 3",
   "language": "python",
   "name": "python3"
  },
  "language_info": {
   "codemirror_mode": {
    "name": "ipython",
    "version": 3
   },
   "file_extension": ".py",
   "mimetype": "text/x-python",
   "name": "python",
   "nbconvert_exporter": "python",
   "pygments_lexer": "ipython3",
   "version": "3.6.3"
  },
  "nav_menu": {},
  "toc": {
   "navigate_menu": true,
   "number_sections": true,
   "sideBar": true,
   "threshold": 6,
   "toc_cell": false,
   "toc_section_display": "block",
   "toc_window_display": false
  }
 },
 "nbformat": 4,
 "nbformat_minor": 1
}
