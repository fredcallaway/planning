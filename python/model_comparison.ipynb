{
 "cells": [
  {
   "cell_type": "code",
   "execution_count": null,
   "metadata": {
    "collapsed": true
   },
   "outputs": [],
   "source": [
    "1"
   ]
  },
  {
   "cell_type": "code",
   "execution_count": null,
   "metadata": {
    "collapsed": true
   },
   "outputs": [],
   "source": [
    "%matplotlib inline\n",
    "%load_ext autoreload\n",
    "%autoreload 2\n",
    "\n",
    "import itertools as it\n",
    "from collections import Counter, defaultdict, deque\n",
    "import matplotlib.pyplot as plt\n",
    "import numpy as np\n",
    "import pandas as pd\n",
    "from pandas import DataFrame, Series\n",
    "import seaborn as sns\n",
    "sns.set_style('white')\n",
    "sns.set_context('notebook', font_scale=1.3)\n",
    "\n",
    "from toolz.curried import get, curry\n",
    "from model_utils import *\n",
    "from agents import run_episode\n",
    "import joblib"
   ]
  },
  {
   "cell_type": "code",
   "execution_count": null,
   "metadata": {
    "collapsed": true
   },
   "outputs": [],
   "source": [
    "EXPERIMENT = 1\n",
    "env = make_exp_env(EXPERIMENT, ground_truth=False)"
   ]
  },
  {
   "cell_type": "code",
   "execution_count": null,
   "metadata": {
    "collapsed": false
   },
   "outputs": [],
   "source": [
    "%%time\n",
    "Q, V, pi, info = solve(env)\n",
    "print(f'V(s0) = {V(env.init)}')"
   ]
  },
  {
   "cell_type": "code",
   "execution_count": 6,
   "metadata": {
    "collapsed": true
   },
   "outputs": [],
   "source": [
    "from policies import SoftmaxPolicy\n",
    "optimal_policy = SoftmaxPolicy(Q)"
   ]
  },
  {
   "cell_type": "markdown",
   "metadata": {},
   "source": [
    "# Alternative models"
   ]
  },
  {
   "cell_type": "markdown",
   "metadata": {},
   "source": [
    "## Satisficing and pruning"
   ]
  },
  {
   "cell_type": "code",
   "execution_count": 7,
   "metadata": {
    "collapsed": true
   },
   "outputs": [],
   "source": [
    "from functools import wraps\n",
    "\n",
    "def observed(state, node):\n",
    "    return not hasattr(state[node], 'sample')\n",
    "\n",
    "@curry\n",
    "def satisfruning(preference, prune=None, satisfice=None, env=env):\n",
    "    @wraps(preference)\n",
    "    def new_pref(state, action, prune=prune, satisfice=satisfice):\n",
    "        if action == env.term_action:\n",
    "            if satisfice is not None:\n",
    "                satisfied = env.expected_term_reward(state) >= satisfice\n",
    "                return 1e10 if satisfied else -1e10\n",
    "        elif prune is not None:\n",
    "            if env.node_quality(action, state).expectation() <= prune:\n",
    "                return -1e20\n",
    "        return preference(state, action)\n",
    "    \n",
    "    return new_pref"
   ]
  },
  {
   "cell_type": "markdown",
   "metadata": {},
   "source": [
    "## Preferences"
   ]
  },
  {
   "cell_type": "code",
   "execution_count": 8,
   "metadata": {
    "collapsed": true
   },
   "outputs": [],
   "source": [
    "def depth_first(state, action):\n",
    "    # Don't click nodes not on the frontier.\n",
    "    previous_nodes = env.path_to(action)[:-1]\n",
    "    if not all(observed(state, node) for node in previous_nodes):\n",
    "        return -1e10\n",
    "    # Prefer nodes that are further from the start\n",
    "    return len(previous_nodes)"
   ]
  },
  {
   "cell_type": "code",
   "execution_count": 9,
   "metadata": {
    "collapsed": true
   },
   "outputs": [],
   "source": [
    "def breadth_first(state, action):\n",
    "    # Don't click nodes not on the frontier.\n",
    "    previous_nodes = env.path_to(action)[:-1]\n",
    "    if not all(observed(state, node) for node in previous_nodes):\n",
    "        return -1e10\n",
    "    # Prefer nodes that are closer to the start\n",
    "    return -len(previous_nodes)"
   ]
  },
  {
   "cell_type": "code",
   "execution_count": 10,
   "metadata": {
    "collapsed": true
   },
   "outputs": [],
   "source": [
    "def best_first(state, action):\n",
    "    previous_nodes = env.path_to(action)[:-1]\n",
    "    if not all(observed(state, node) for node in previous_nodes):\n",
    "        return -1e10\n",
    "    q = env.node_quality(action, state)  # note backwards arguments!  plz don't ask why...\n",
    "    return q.expectation()  # node_quality is a distribution, we just want the mean"
   ]
  },
  {
   "cell_type": "code",
   "execution_count": 11,
   "metadata": {
    "collapsed": true
   },
   "outputs": [],
   "source": [
    "def backward_best_first(state, action):\n",
    "    children = env.tree[action]\n",
    "    if children and not any(observed(state, node) for node in children):\n",
    "        return -1e10\n",
    "    q = env.node_quality(action, state)\n",
    "    return q.expectation()"
   ]
  },
  {
   "cell_type": "code",
   "execution_count": 12,
   "metadata": {
    "collapsed": true
   },
   "outputs": [],
   "source": [
    "def progressive_deepening(state, action,  last_click=None):\n",
    "    previous_nodes = env.path_to(action)[:-1]\n",
    "    if not all(observed(state, node) for node in previous_nodes):\n",
    "        return -1e10\n",
    "    if last_click:\n",
    "        # version if last_click is available\n",
    "        if last_clicka in env.leaves():\n",
    "            if len(previous_nodes) == 1:\n",
    "                # the start of a new path = another leaf on the previous path\n",
    "                return len(env.path_to(last_click)[:-1])\n",
    "            return len(previous_nodes)\n",
    "        if last_click == previous_nodes[-1]:\n",
    "            return 1e10\n",
    "        return len(previous_nodes)\n",
    "    else:\n",
    "        # the following only works for a 3-1-2 environment\n",
    "        if action in env.leaves():\n",
    "            leaf_group = None\n",
    "            for subtree in env.tree:\n",
    "                if (len(subtree) == 2) and (action in subtree):\n",
    "                    leaf_group = subtree\n",
    "            for leaf in leaf_group:\n",
    "                if observed(state, leaf):\n",
    "                    return 1 # set same value as the beginning of a new path\n",
    "        return len(previous_nodes)"
   ]
  },
  {
   "cell_type": "markdown",
   "metadata": {},
   "source": [
    "# Model human data"
   ]
  },
  {
   "cell_type": "code",
   "execution_count": 13,
   "metadata": {
    "collapsed": false
   },
   "outputs": [
    {
     "name": "stdout",
     "output_type": "stream",
     "text": [
      "Excluding 9 out of 60 partipicants\n"
     ]
    }
   ],
   "source": [
    "from model_utils import fetch_data\n",
    "data = fetch_data(1)"
   ]
  },
  {
   "cell_type": "markdown",
   "metadata": {},
   "source": [
    "## Likelihood model"
   ]
  },
  {
   "cell_type": "code",
   "execution_count": 14,
   "metadata": {
    "collapsed": true
   },
   "outputs": [],
   "source": [
    "class MouselabModel():\n",
    "    \"\"\"Computes likelihoods for a softmax policy on a grid of temp and p_error.\"\"\"\n",
    "    def __init__(self, env, preference, data):\n",
    "        self.env = env\n",
    "        self.policy = SoftmaxPolicy(preference)\n",
    "        self.data = data\n",
    "        run_episode(self.policy, self.env)\n",
    "        self.prefs = np.stack(self.data.state.apply(self.policy.preferences))\n",
    "        self.prefs -= self.prefs.max(1).reshape(-1, 1)  # prevent float overflow \n",
    "\n",
    "        idx = np.arange(len(data))\n",
    "        self.chosen = (idx, data.action.as_matrix())\n",
    "\n",
    "    def likelihood(self, temp=1e-9, p_error=None):\n",
    "        \"\"\"Returns likelihood for all combinations of temp and p_error given.\n",
    "        \n",
    "        Return value has shape (len(self.data), len(temp), len(p_error)).\n",
    "        \"\"\"\n",
    "        temp = np.atleast_1d(temp)\n",
    "        ep = np.exp(np.einsum('ij,k -> ijk', self.prefs, 1/temp))\n",
    "        probs = ep[self.chosen] / ep.sum(1)  # shape: (state, temp)\n",
    "        if p_error is not None:\n",
    "            p_error = np.atleast_1d(p_error)\n",
    "            probs = (probs[..., np.newaxis] * (1-p_error) + \n",
    "                     self.random_likelihood[..., np.newaxis] * p_error)\n",
    "        return probs\n",
    "\n",
    "    @property\n",
    "    @memoize\n",
    "    def random_likelihood(self):\n",
    "        no_pref = lambda *_: 0\n",
    "        return MouselabModel(self.env, no_pref, self.data).likelihood()"
   ]
  },
  {
   "cell_type": "markdown",
   "metadata": {},
   "source": [
    "## Parameters to search over"
   ]
  },
  {
   "cell_type": "code",
   "execution_count": 65,
   "metadata": {
    "collapsed": false
   },
   "outputs": [
    {
     "ename": "NameError",
     "evalue": "name 'satisfice' is not defined",
     "output_type": "error",
     "traceback": [
      "\u001b[0;31m---------------------------------------------------------------------------\u001b[0m",
      "\u001b[0;31mNameError\u001b[0m                                 Traceback (most recent call last)",
      "\u001b[0;32m<ipython-input-65-2bc98fd1bc54>\u001b[0m in \u001b[0;36m<module>\u001b[0;34m()\u001b[0m\n\u001b[1;32m     11\u001b[0m     'no_click': {\n\u001b[1;32m     12\u001b[0m         \u001b[0;34m**\u001b[0m\u001b[0mdefaults\u001b[0m\u001b[0;34m,\u001b[0m\u001b[0;34m\u001b[0m\u001b[0m\n\u001b[0;32m---> 13\u001b[0;31m         \u001b[0msatisfice\u001b[0m\u001b[0;34m:\u001b[0m \u001b[0;34m[\u001b[0m\u001b[0;34m-\u001b[0m\u001b[0;36m1e10\u001b[0m\u001b[0;34m]\u001b[0m\u001b[0;34m\u001b[0m\u001b[0m\n\u001b[0m\u001b[1;32m     14\u001b[0m     },\n\u001b[1;32m     15\u001b[0m     'depth_first': {\n",
      "\u001b[0;31mNameError\u001b[0m: name 'satisfice' is not defined"
     ]
    }
   ],
   "source": [
    "env.reset()\n",
    "path_values = env.term_reward().vals\n",
    "defaults = {\n",
    "    # 'p_error': np.linspace(0.01,1, 100),\n",
    "    'p_error': np.linspace(0.01,0.25, 25),\n",
    "    'satisfice': [v for v in path_values if v > 0],\n",
    "    'prune': [v for v in path_values if v < 0],\n",
    "    'temp': np.logspace(-5,1, 50),\n",
    "}\n",
    "models = {\n",
    "    'no_click': {\n",
    "        **defaults,\n",
    "        satisfice: [-1e10]\n",
    "    },\n",
    "    'depth_first': {\n",
    "        **defaults,\n",
    "        'pref': depth_first,  \n",
    "        # 'temp': [1e-10]\n",
    "    },\n",
    "    'breadth_first': {\n",
    "        **defaults,\n",
    "        'pref': breadth_first,\n",
    "        # 'temp': [1e-10]\n",
    "    },\n",
    "    'progressive_deepening': {\n",
    "        **defaults,\n",
    "        'pref': progressive_deepening,\n",
    "        # 'temp': [1e-10]\n",
    "    },\n",
    "    'best_first': {\n",
    "        **defaults,\n",
    "        'pref': best_first,\n",
    "    },\n",
    "    'backward_best_first': {\n",
    "        **defaults,\n",
    "        'pref': backward_best_first,\n",
    "    },\n",
    "    'optimal': {\n",
    "        **defaults,\n",
    "        'pref': Q,\n",
    "        'satisfice': [None],\n",
    "        'prune': [None],\n",
    "    },\n",
    "    'random': {\n",
    "        **defaults,\n",
    "        'pref': lambda s, a: 0,\n",
    "        'prune': [None],\n",
    "        'satisfice': [None],\n",
    "        'p_error': [1],\n",
    "        'temp': [1e-10]\n",
    "    },\n",
    "#     'satisfruning_optimal': {\n",
    "#         **defaults,\n",
    "#         'pref': Q,\n",
    "#     },\n",
    "#     'satisfruning_random': {\n",
    "#         **defaults,\n",
    "#         'pref': lambda s, a: 0,\n",
    "#         'temp': [1e-10]\n",
    "#     },\n",
    "}"
   ]
  },
  {
   "cell_type": "markdown",
   "metadata": {},
   "source": [
    "# Find MLE"
   ]
  },
  {
   "cell_type": "code",
   "execution_count": 66,
   "metadata": {
    "collapsed": true
   },
   "outputs": [],
   "source": [
    "def best_logp(df, n=1, group=None):\n",
    "    if group:\n",
    "        return df.groupby(group).apply(lambda d: d.nlargest(n, 'logp')).reset_index(drop=True)\n",
    "    else: \n",
    "        return df.nlargest(n, 'logp')\n",
    "\n",
    "def maximum_likelihood(data, pref, temp, p_error, satisfice, prune, \n",
    "                       n_keep_temp_error=1, n_keep_sat_prn=1):\n",
    "    choices = []\n",
    "    for sat in satisfice:\n",
    "        for prn in prune:\n",
    "            new_pref = satisfruning(pref, prune=prn, satisfice=sat)\n",
    "            model = MouselabModel(env, new_pref, data)\n",
    "            logp = np.log(model.likelihood(temp=temp, p_error=p_error))\n",
    "            total_logp = logp.sum(0)  # sum logp for each state/action\n",
    "            \n",
    "            idx = pd.MultiIndex.from_product([temp, p_error], names=['temp', 'p_error'])\n",
    "            grid = pd.Series(total_logp.flat, index=idx, name='logp').reset_index()\n",
    "            grid['satisfice'] = sat\n",
    "            grid['prune'] = prn\n",
    "            choices.append(best_logp(grid, n_keep_temp_error))\n",
    "            \n",
    "    df = best_logp(pd.concat(choices), n_keep_sat_prn)\n",
    "    return df"
   ]
  },
  {
   "cell_type": "code",
   "execution_count": 67,
   "metadata": {
    "collapsed": true
   },
   "outputs": [],
   "source": [
    "from tqdm import tqdm\n",
    "from joblib import Parallel, delayed\n",
    "        \n",
    "from warnings import filterwarnings\n",
    "filterwarnings('ignore')\n",
    "\n",
    "def fit_model(df, model):\n",
    "    params = models[model]\n",
    "    mle = maximum_likelihood(df, **params)\n",
    "    mle['model'] = model\n",
    "    return mle\n",
    "\n",
    "# consider = [\n",
    "#     'best_first',\n",
    "#     'optimal',\n",
    "#     'depth_first',\n",
    "#     'progressive_deepening',\n",
    "#     'breadth_first',\n",
    "#     'random'\n",
    "# ]\n",
    "\n",
    "\n",
    "def num_params(params):\n",
    "    return sum(len(choices) > 1 if hasattr(choices, '__len__') else 0 \n",
    "               for choices in params.values())\n",
    "k = pd.Series({model: num_params(params) for model, params in models.items()})"
   ]
  },
  {
   "cell_type": "markdown",
   "metadata": {},
   "source": [
    "### Individual fit"
   ]
  },
  {
   "cell_type": "code",
   "execution_count": null,
   "metadata": {
    "collapsed": false
   },
   "outputs": [
    {
     "name": "stderr",
     "output_type": "stream",
     "text": [
      "100%|██████████| 357/357 [00:47<00:00,  7.56it/s]\n"
     ]
    }
   ],
   "source": [
    "jobs = [delayed(fit_model)(df, model)\n",
    "        for pid, df in data['unrolled'].groupby('pid')\n",
    "        for model in models]\n",
    "ind_mle = pd.concat(Parallel(40)(tqdm(jobs))).reset_index(drop=True)\n",
    "ind_mle['pid'] = np.repeat(data['unrolled'].pid.unique(), len(models))\n",
    "ind_mle.set_index('pid', inplace=True)"
   ]
  },
  {
   "cell_type": "code",
   "execution_count": null,
   "metadata": {
    "collapsed": false
   },
   "outputs": [],
   "source": [
    "ind_mle['k'] = list(k.loc[ind_mle.model])\n",
    "ind_mle['N'] = data['unrolled'].pid.value_counts()\n",
    "ind_mle['bic'] = np.log(ind_mle.N) * ind_mle.k - 2 * ind_mle.logp\n",
    "ind_mle['aic'] = 2 * ind_mle.k - 2 * ind_mle.logp\n",
    "\n",
    "g = ind_mle.groupby('model')\n",
    "comp = pd.DataFrame({\n",
    "    'k': g.k.sum(),\n",
    "    'logp': g.logp.sum(),\n",
    "    'bic': np.log(g.N.sum()) * g.k.sum() - 2 * g.logp.sum()\n",
    "})\n",
    "\n",
    "\n",
    "# How many best fit?\n",
    "comp['n_best_fit'] = (ind_mle\n",
    " .groupby(level='pid')\n",
    " .apply(lambda df: df.nsmallest(1, 'bic').iloc[0])\n",
    " .model.value_counts()\n",
    " .fillna(0).astype(int)\n",
    ")\n",
    "print(comp.sort_values('bic'))"
   ]
  },
  {
   "cell_type": "markdown",
   "metadata": {},
   "source": [
    "### Aggregate fit"
   ]
  },
  {
   "cell_type": "code",
   "execution_count": null,
   "metadata": {
    "collapsed": false
   },
   "outputs": [],
   "source": [
    "jobs = [delayed(fit_model)(data['unrolled'], model)\n",
    "        for model in models]\n",
    "agg_mle = pd.concat(Parallel(len(models))(tqdm(jobs))).reset_index(drop=True)"
   ]
  },
  {
   "cell_type": "code",
   "execution_count": null,
   "metadata": {
    "collapsed": false
   },
   "outputs": [],
   "source": [
    "comp = pd.DataFrame({\n",
    "    'k': k,\n",
    "    'logp': agg_mle.set_index('model').logp\n",
    "})\n",
    "comp['bic'] = np.log(len(data)) * comp.k - 2 * comp.logp\n",
    "comp['aic'] = 2 * comp.k - 2 * comp.logp\n",
    "print(comp.sort_values('bic').round())"
   ]
  },
  {
   "cell_type": "code",
   "execution_count": null,
   "metadata": {
    "collapsed": true
   },
   "outputs": [],
   "source": [
    "(comp[['bic', 'aic', 'logp', 'n_best_fit']]\n",
    " .sort_values('bic')\n",
    " .fillna(0).astype(int)\n",
    " .rename(columns={\n",
    "    'bic': 'BIC',\n",
    "    'logp': 'LL',\n",
    "    'n_best_fit': 'N_P,\n",
    "})).to_latex('data/exp1/indiv_comp.tex')"
   ]
  },
  {
   "cell_type": "code",
   "execution_count": 248,
   "metadata": {
    "collapsed": true
   },
   "outputs": [],
   "source": [
    "# dc = pd.DataFrame(list(np.load('dc_mles2.npy')))\n",
    "# dc = dc.rename(columns={'participant': 'pid'}).set_index('pid')\n",
    "# dc['model'] = 'dc'\n",
    "# ind_results = ind_results.query('model != \"dc\"').append(dc)\n",
    "# k['dc'] = 2"
   ]
  },
  {
   "cell_type": "code",
   "execution_count": 124,
   "metadata": {
    "collapsed": false
   },
   "outputs": [
    {
     "data": {
      "text/html": [
       "<div>\n",
       "<style scoped>\n",
       "    .dataframe tbody tr th:only-of-type {\n",
       "        vertical-align: middle;\n",
       "    }\n",
       "\n",
       "    .dataframe tbody tr th {\n",
       "        vertical-align: top;\n",
       "    }\n",
       "\n",
       "    .dataframe thead th {\n",
       "        text-align: right;\n",
       "    }\n",
       "</style>\n",
       "<table border=\"1\" class=\"dataframe\">\n",
       "  <thead>\n",
       "    <tr style=\"text-align: right;\">\n",
       "      <th></th>\n",
       "      <th>BIC</th>\n",
       "      <th>aic</th>\n",
       "      <th>LL</th>\n",
       "      <th>N_P</th>\n",
       "    </tr>\n",
       "    <tr>\n",
       "      <th>model</th>\n",
       "      <th></th>\n",
       "      <th></th>\n",
       "      <th></th>\n",
       "      <th></th>\n",
       "    </tr>\n",
       "  </thead>\n",
       "  <tbody>\n",
       "    <tr>\n",
       "      <th>optimal</th>\n",
       "      <td>30625</td>\n",
       "      <td>30611</td>\n",
       "      <td>-15303</td>\n",
       "      <td>9</td>\n",
       "    </tr>\n",
       "    <tr>\n",
       "      <th>best_first</th>\n",
       "      <td>31744</td>\n",
       "      <td>31716</td>\n",
       "      <td>-15854</td>\n",
       "      <td>16</td>\n",
       "    </tr>\n",
       "    <tr>\n",
       "      <th>breadth_first</th>\n",
       "      <td>34078</td>\n",
       "      <td>34058</td>\n",
       "      <td>-17026</td>\n",
       "      <td>7</td>\n",
       "    </tr>\n",
       "    <tr>\n",
       "      <th>random</th>\n",
       "      <td>34579</td>\n",
       "      <td>34579</td>\n",
       "      <td>-17289</td>\n",
       "      <td>15</td>\n",
       "    </tr>\n",
       "    <tr>\n",
       "      <th>progressive_deepening</th>\n",
       "      <td>34725</td>\n",
       "      <td>34704</td>\n",
       "      <td>-17349</td>\n",
       "      <td>0</td>\n",
       "    </tr>\n",
       "    <tr>\n",
       "      <th>depth_first</th>\n",
       "      <td>34732</td>\n",
       "      <td>34711</td>\n",
       "      <td>-17352</td>\n",
       "      <td>4</td>\n",
       "    </tr>\n",
       "  </tbody>\n",
       "</table>\n",
       "</div>"
      ],
      "text/plain": [
       "                         BIC    aic     LL  N_P\n",
       "model                                          \n",
       "optimal                30625  30611 -15303    9\n",
       "best_first             31744  31716 -15854   16\n",
       "breadth_first          34078  34058 -17026    7\n",
       "random                 34579  34579 -17289   15\n",
       "progressive_deepening  34725  34704 -17349    0\n",
       "depth_first            34732  34711 -17352    4"
      ]
     },
     "execution_count": 124,
     "metadata": {},
     "output_type": "execute_result"
    }
   ],
   "source": [
    "# (comp[['bic', 'aic', 'logp', 'n_best_fit']]\n",
    "#  .sort_values('bic')\n",
    "#  .fillna(0).astype(int)\n",
    "#  .rename(columns={'bic': 'BIC', \n",
    "#                   'logp': 'LL', 'n_best_fit': 'N_P',\n",
    "#                   })\n",
    "# #  .to_latex('../../paper/tables/exp1_indiv_comp.tex')\n",
    "# )"
   ]
  },
  {
   "cell_type": "code",
   "execution_count": 391,
   "metadata": {
    "collapsed": true
   },
   "outputs": [],
   "source": [
    "mledf = best_logp(results, group='pid').set_index('pid')\n",
    "mledf['high_score'] = (pdf.score > pdf.score.median())\n",
    "os.makedirs(f'results/{VERSION}/', exist_ok=True)\n",
    "mledf.to_csv(f'results/{VERSION}/mle.csv')"
   ]
  },
  {
   "cell_type": "markdown",
   "metadata": {},
   "source": [
    "# Qualitative"
   ]
  },
  {
   "cell_type": "markdown",
   "metadata": {},
   "source": [
    "## Simulate rollouts\n",
    "\n",
    "Running rollouts of the optimal policy on 200 randomly selected environments."
   ]
  },
  {
   "cell_type": "code",
   "execution_count": 297,
   "metadata": {
    "collapsed": true
   },
   "outputs": [],
   "source": [
    "def add_epsilon(pol, eps):\n",
    "    old_act = pol.act\n",
    "\n",
    "    def new_act(state):\n",
    "        if np.random.rand() < eps:\n",
    "            return np.random.choice(list(pol.env.actions(state)))\n",
    "        else:\n",
    "            return old_act(state)\n",
    "\n",
    "    pol.act = new_act\n",
    "    return pol\n"
   ]
  },
  {
   "cell_type": "code",
   "execution_count": 298,
   "metadata": {
    "collapsed": false
   },
   "outputs": [],
   "source": [
    "bf_pols = ind_mle.query('model == \"best_first\"').apply(\n",
    "    lambda row: add_epsilon(SoftmaxPolicy(satisfruning(best_first,\n",
    "                                          satisfice=row.satisfice,\n",
    "                                          prune=row.prune),\n",
    "                            temp=row.temp), eps=row.p_error), axis=1)"
   ]
  },
  {
   "cell_type": "code",
   "execution_count": 299,
   "metadata": {
    "collapsed": false
   },
   "outputs": [],
   "source": [
    "from toolz import partition, concat\n",
    "env_groups = partition(5000//len(bf_pols), range(5000))\n",
    "ind_df = pd.DataFrame(list(concat(simulate(pol, envs[list(eg)])\n",
    "                                  for pol, eg in zip(bf_pols, env_groups))))"
   ]
  },
  {
   "cell_type": "code",
   "execution_count": null,
   "metadata": {
    "collapsed": true
   },
   "outputs": [],
   "source": [
    "from agents import run_episode\n",
    "def simulate(policy, envs, seed=None, repeat=1):\n",
    "    if seed is None:\n",
    "        seed = np.random.randint(1e5)\n",
    "    np.random.seed(seed)\n",
    "    for env_id, env in envs.items():\n",
    "        for _ in range(repeat):\n",
    "            trace = run_episode(policy, env)\n",
    "            for s, a, r in zip(*get(['states', 'actions', 'rewards'], trace)):\n",
    "                yield {'seed': seed, 'cost': abs(env.cost), 'env_id': env_id,\n",
    "                       'state': s, 'action': a, 'reward': r}\n",
    "\n",
    "envs = pd.Series([make_exp_env(EXPERIMENT) for _ in range(5000)])\n",
    "df_optimal = pd.DataFrame(simulate(optimal_policy, envs))\n",
    "from policies import SoftmaxPolicy\n",
    "bf = agg_mle.query('model == \"best_first\"').iloc[0]\n",
    "best_first_policy = SoftmaxPolicy(satisfruning(best_first, \n",
    "                                               satisfice=bf.satisfice,\n",
    "                                               prune=bf.prune))\n",
    "df_best_first = DataFrame(simulate(best_first_policy, envs))"
   ]
  },
  {
   "cell_type": "markdown",
   "metadata": {
    "heading_collapsed": true
   },
   "source": [
    "## Compare Best-First and Optimal"
   ]
  },
  {
   "cell_type": "code",
   "execution_count": 195,
   "metadata": {
    "collapsed": false,
    "hidden": true
   },
   "outputs": [
    {
     "ename": "SyntaxError",
     "evalue": "EOL while scanning string literal (<ipython-input-195-3ea743c82a05>, line 23)",
     "output_type": "error",
     "traceback": [
      "\u001b[0;36m  File \u001b[0;32m\"<ipython-input-195-3ea743c82a05>\"\u001b[0;36m, line \u001b[0;32m23\u001b[0m\n\u001b[0;31m    return max(loop(), key=get('logp))\u001b[0m\n\u001b[0m                                      ^\u001b[0m\n\u001b[0;31mSyntaxError\u001b[0m\u001b[0;31m:\u001b[0m EOL while scanning string literal\n"
     ]
    }
   ],
   "source": [
    "from toolz.curried import get\n",
    "\n",
    "def mle(model, pid=slice(None), data=data):\n",
    "    m = dict(models[model])\n",
    "    temp = m.pop('temp')\n",
    "    p_error = m.pop('p_error')\n",
    "    _pref = m.pop('pref')\n",
    "    def loop():\n",
    "        for sf_prm in dict_product(m):\n",
    "            if sf_prm.get('prune') or sf_prm.get('satisfice'):\n",
    "                pref = satisfruning(_pref, **sf_prm)\n",
    "            else:\n",
    "                pref = _pref\n",
    "            dd = data.loc[pid]\n",
    "            likemod = MouselabModel(env, pref, dd)\n",
    "            logp = np.log(likemod.likelihood(temp=temp, p_error=p_error))\n",
    "            total_logp = logp.sum(0)  # sum logp for each state/action\n",
    "            best = total_logp.argmax()\n",
    "            i, j = np.unravel_index(best, total_logp.shape)\n",
    "            yield {'temp': temp[i], 'p_error': p_error[j], 'N': len(dd),'likemod': likemod,\n",
    "                    'logp': total_logp.flat[best], 'model': model, 'pid': pid, **sf_prm}\n",
    "#     return list(loop())\n",
    "    return max(loop(), key=get('logp))\n",
    "\n",
    "def fit_models():\n",
    "    for model in ['best_first', 'optimal']:\n",
    "        x = mle(model)\n",
    "        x['model'] = model\n",
    "        yield x\n",
    "\n",
    "comp_results = pd.DataFrame(fit_models())"
   ]
  },
  {
   "cell_type": "code",
   "execution_count": 335,
   "metadata": {
    "collapsed": false,
    "hidden": true
   },
   "outputs": [
    {
     "data": {
      "text/plain": [
       "<matplotlib.axes._subplots.AxesSubplot at 0x19490fc88>"
      ]
     },
     "execution_count": 335,
     "metadata": {},
     "output_type": "execute_result"
    },
    {
     "data": {
      "image/png": "[encoded data removed]",
      "text/plain": [
       "<matplotlib.figure.Figure at 0x19490f588>"
      ]
     },
     "metadata": {},
     "output_type": "display_data"
    }
   ],
   "source": [
    "res = pd.DataFrame(mle('best_first', data=df_optimal))\n",
    "res['pp'] = np.exp(res.logp / res.N)\n",
    "sns.heatmap(res.pivot('prune', 'satisfice', 'pp'))"
   ]
  },
  {
   "cell_type": "code",
   "execution_count": 495,
   "metadata": {
    "collapsed": true,
    "hidden": true
   },
   "outputs": [],
   "source": [
    "opt_models_bf = mle('optimal', data=df_best_first)\n",
    "# res['pp'] = np.exp(res.logp / res.N)\n",
    "# sns.heatmap(res.pivot('prune', 'satisfice', 'pp'))"
   ]
  },
  {
   "cell_type": "code",
   "execution_count": 522,
   "metadata": {
    "collapsed": false,
    "hidden": true
   },
   "outputs": [
    {
     "data": {
      "text/plain": [
       "<matplotlib.axes._subplots.AxesSubplot at 0x19e0a7dd8>"
      ]
     },
     "execution_count": 522,
     "metadata": {},
     "output_type": "execute_result"
    },
    {
     "data": {
      "image/png": "[encoded data removed]",
      "text/plain": [
       "<matplotlib.figure.Figure at 0x1e5bfeb38>"
      ]
     },
     "metadata": {},
     "output_type": "display_data"
    }
   ],
   "source": [
    "best_first_fits = ind_results\n",
    "# sns.heatmap(best_first_fits.groupby(['prune', 'satisfice']).apply(len).unstack())\n",
    "best_first_fits.satisfice.value_counts().sort_index().plot.bar()"
   ]
  },
  {
   "cell_type": "code",
   "execution_count": 501,
   "metadata": {
    "collapsed": false,
    "hidden": true
   },
   "outputs": [
    {
     "data": {
      "text/plain": [
       "action_type\n",
       "click    -71.237423\n",
       "term    -165.302704\n",
       "Name: loss, dtype: float64"
      ]
     },
     "execution_count": 501,
     "metadata": {},
     "output_type": "execute_result"
    }
   ],
   "source": [
    "df_best_first.groupby('action_type').loss.sum()"
   ]
  },
  {
   "cell_type": "code",
   "execution_count": 311,
   "metadata": {
    "collapsed": true,
    "hidden": true
   },
   "outputs": [
    {
     "data": {
      "text/html": [
       "<div>\n",
       "<style scoped>\n",
       "    .dataframe tbody tr th:only-of-type {\n",
       "        vertical-align: middle;\n",
       "    }\n",
       "\n",
       "    .dataframe tbody tr th {\n",
       "        vertical-align: top;\n",
       "    }\n",
       "\n",
       "    .dataframe thead th {\n",
       "        text-align: right;\n",
       "    }\n",
       "</style>\n",
       "<table border=\"1\" class=\"dataframe\">\n",
       "  <thead>\n",
       "    <tr style=\"text-align: right;\">\n",
       "      <th></th>\n",
       "      <th>pid</th>\n",
       "      <th>N</th>\n",
       "      <th>aic</th>\n",
       "      <th>bic</th>\n",
       "      <th>k</th>\n",
       "      <th>logp</th>\n",
       "      <th>model</th>\n",
       "      <th>p_error</th>\n",
       "      <th>prune</th>\n",
       "      <th>satisfice</th>\n",
       "      <th>temp</th>\n",
       "      <th>pp</th>\n",
       "    </tr>\n",
       "    <tr>\n",
       "      <th>model</th>\n",
       "      <th></th>\n",
       "      <th></th>\n",
       "      <th></th>\n",
       "      <th></th>\n",
       "      <th></th>\n",
       "      <th></th>\n",
       "      <th></th>\n",
       "      <th></th>\n",
       "      <th></th>\n",
       "      <th></th>\n",
       "      <th></th>\n",
       "      <th></th>\n",
       "    </tr>\n",
       "  </thead>\n",
       "  <tbody>\n",
       "    <tr>\n",
       "      <th>best_first</th>\n",
       "      <td>27</td>\n",
       "      <td>224</td>\n",
       "      <td>481.291386</td>\n",
       "      <td>494.937970</td>\n",
       "      <td>4</td>\n",
       "      <td>-236.645693</td>\n",
       "      <td>best_first</td>\n",
       "      <td>0.150000</td>\n",
       "      <td>-15.0</td>\n",
       "      <td>25.0</td>\n",
       "      <td>1.842070e+00</td>\n",
       "      <td>0.347687</td>\n",
       "    </tr>\n",
       "    <tr>\n",
       "      <th>breadth_first</th>\n",
       "      <td>30</td>\n",
       "      <td>95</td>\n",
       "      <td>181.061737</td>\n",
       "      <td>188.723368</td>\n",
       "      <td>3</td>\n",
       "      <td>-87.530869</td>\n",
       "      <td>breadth_first</td>\n",
       "      <td>0.090000</td>\n",
       "      <td>-5.0</td>\n",
       "      <td>10.0</td>\n",
       "      <td>1.000000e-10</td>\n",
       "      <td>0.397970</td>\n",
       "    </tr>\n",
       "    <tr>\n",
       "      <th>dc</th>\n",
       "      <td>33</td>\n",
       "      <td>186</td>\n",
       "      <td>532.752280</td>\n",
       "      <td>539.203774</td>\n",
       "      <td>2</td>\n",
       "      <td>-264.376140</td>\n",
       "      <td>dc</td>\n",
       "      <td>0.155025</td>\n",
       "      <td>NaN</td>\n",
       "      <td>NaN</td>\n",
       "      <td>3.144919e-01</td>\n",
       "      <td>0.241381</td>\n",
       "    </tr>\n",
       "    <tr>\n",
       "      <th>depth_first</th>\n",
       "      <td>19</td>\n",
       "      <td>97</td>\n",
       "      <td>213.306801</td>\n",
       "      <td>221.030934</td>\n",
       "      <td>3</td>\n",
       "      <td>-103.653401</td>\n",
       "      <td>depth_first</td>\n",
       "      <td>0.130000</td>\n",
       "      <td>-5.0</td>\n",
       "      <td>5.0</td>\n",
       "      <td>1.000000e-10</td>\n",
       "      <td>0.343492</td>\n",
       "    </tr>\n",
       "    <tr>\n",
       "      <th>optimal</th>\n",
       "      <td>27</td>\n",
       "      <td>224</td>\n",
       "      <td>590.974069</td>\n",
       "      <td>597.797361</td>\n",
       "      <td>2</td>\n",
       "      <td>-293.487034</td>\n",
       "      <td>optimal</td>\n",
       "      <td>0.090000</td>\n",
       "      <td>NaN</td>\n",
       "      <td>NaN</td>\n",
       "      <td>1.098541e-01</td>\n",
       "      <td>0.269763</td>\n",
       "    </tr>\n",
       "    <tr>\n",
       "      <th>progressive_deepening</th>\n",
       "      <td>19</td>\n",
       "      <td>97</td>\n",
       "      <td>215.445986</td>\n",
       "      <td>223.170119</td>\n",
       "      <td>3</td>\n",
       "      <td>-104.722993</td>\n",
       "      <td>progressive_deepening</td>\n",
       "      <td>0.130000</td>\n",
       "      <td>-5.0</td>\n",
       "      <td>5.0</td>\n",
       "      <td>1.000000e-10</td>\n",
       "      <td>0.339725</td>\n",
       "    </tr>\n",
       "    <tr>\n",
       "      <th>random</th>\n",
       "      <td>17</td>\n",
       "      <td>271</td>\n",
       "      <td>1106.961006</td>\n",
       "      <td>1106.961006</td>\n",
       "      <td>0</td>\n",
       "      <td>-553.480503</td>\n",
       "      <td>random</td>\n",
       "      <td>1.000000</td>\n",
       "      <td>NaN</td>\n",
       "      <td>NaN</td>\n",
       "      <td>1.000000e-10</td>\n",
       "      <td>0.129722</td>\n",
       "    </tr>\n",
       "  </tbody>\n",
       "</table>\n",
       "</div>"
      ],
      "text/plain": [
       "                       pid    N          aic          bic  k        logp  \\\n",
       "model                                                                      \n",
       "best_first              27  224   481.291386   494.937970  4 -236.645693   \n",
       "breadth_first           30   95   181.061737   188.723368  3  -87.530869   \n",
       "dc                      33  186   532.752280   539.203774  2 -264.376140   \n",
       "depth_first             19   97   213.306801   221.030934  3 -103.653401   \n",
       "optimal                 27  224   590.974069   597.797361  2 -293.487034   \n",
       "progressive_deepening   19   97   215.445986   223.170119  3 -104.722993   \n",
       "random                  17  271  1106.961006  1106.961006  0 -553.480503   \n",
       "\n",
       "                                       model   p_error  prune  satisfice  \\\n",
       "model                                                                      \n",
       "best_first                        best_first  0.150000  -15.0       25.0   \n",
       "breadth_first                  breadth_first  0.090000   -5.0       10.0   \n",
       "dc                                        dc  0.155025    NaN        NaN   \n",
       "depth_first                      depth_first  0.130000   -5.0        5.0   \n",
       "optimal                              optimal  0.090000    NaN        NaN   \n",
       "progressive_deepening  progressive_deepening  0.130000   -5.0        5.0   \n",
       "random                                random  1.000000    NaN        NaN   \n",
       "\n",
       "                               temp        pp  \n",
       "model                                          \n",
       "best_first             1.842070e+00  0.347687  \n",
       "breadth_first          1.000000e-10  0.397970  \n",
       "dc                     3.144919e-01  0.241381  \n",
       "depth_first            1.000000e-10  0.343492  \n",
       "optimal                1.098541e-01  0.269763  \n",
       "progressive_deepening  1.000000e-10  0.339725  \n",
       "random                 1.000000e-10  0.129722  "
      ]
     },
     "execution_count": 311,
     "metadata": {},
     "output_type": "execute_result"
    }
   ],
   "source": [
    "ind_results['pp'] = np.exp(ind_results.logp / ind_results.N)\n",
    "(ind_results\n",
    " .reset_index()\n",
    " .groupby('model')\n",
    " .apply(lambda df: df.nlargest(1, 'pp').iloc[0]))\n"
   ]
  },
  {
   "cell_type": "markdown",
   "metadata": {},
   "source": [
    "## Term probability"
   ]
  },
  {
   "cell_type": "code",
   "execution_count": 302,
   "metadata": {
    "collapsed": false
   },
   "outputs": [],
   "source": [
    "def plot_term(df, name, full=False, **kws):\n",
    "    df['unobserved'] = df.state.apply(lambda state: sum(hasattr(x, 'sample') for x in state))\n",
    "    df['etr'] = pd.Categorical(df.state.apply(env.expected_term_reward), categories=path_values)\n",
    "    df['term'] = df.action == 13\n",
    "    df['observed'] = pd.Categorical(12 - df['unobserved'], range(13))\n",
    "    if full:\n",
    "        x = df.groupby(['etr', 'observed']).term.sum().reset_index()\n",
    "        x.term /= x.term.sum()\n",
    "        x.term = np.log(x.term.replace(0, np.nan))\n",
    "    else:\n",
    "        x = df.groupby(['etr', 'observed']).term.mean().reset_index()\n",
    "    idx = pd.Index(sorted(path_values)[2:], name=\"etr\")\n",
    "    X = x.pivot('etr', 'observed', 'term').astype(float).reindex(idx)\n",
    "    sns.heatmap(X, cmap='viridis', linewidths=1, **kws, ).invert_yaxis()\n",
    "    plt.ylabel('')\n",
    "    plt.xlabel('Number of Clicks Made')\n",
    "    plt.title(name)"
   ]
  },
  {
   "cell_type": "code",
   "execution_count": 305,
   "metadata": {
    "collapsed": false
   },
   "outputs": [
    {
     "data": {
      "image/png": "[encoded data removed]",
      "text/plain": [
       "<matplotlib.figure.Figure at 0x7fc44bd3e470>"
      ]
     },
     "metadata": {},
     "output_type": "display_data"
    }
   ],
   "source": [
    "fig, axes = plt.subplots(1, 4, figsize=(12, 3),\n",
    "                         gridspec_kw={'width_ratios': [15, 15, 15, 1]})\n",
    "plt.sca(axes[0])\n",
    "plot_term(df_optimal, 'Bounded Optimal', cbar=False, )\n",
    "plt.ylabel('Best Expected Path Value')\n",
    "\n",
    "plt.sca(axes[1])\n",
    "plot_term(data['unrolled'], 'Humans', cbar=False)\n",
    "plt.yticks([])\n",
    "\n",
    "plt.sca(axes[2])\n",
    "plot_term(ind_df, 'MLE Satisficing Best-First', \n",
    "          cbar_kws=dict(label='Termination Probability'),\n",
    "          cbar_ax=axes[3])\n",
    "plt.yticks([])\n",
    "\n",
    "plt.tight_layout()\n",
    "plt.gcf().subplots_adjust(bottom=0.2)\n",
    "# plt.gcf().subplots_adjust(left=.02)\n",
    "# plt.gcf().subplots_adjust(right=-0.02)\n",
    "# plt.savefig('../../paper/figures/termination.eps')"
   ]
  },
  {
   "cell_type": "code",
   "execution_count": 121,
   "metadata": {
    "collapsed": true
   },
   "outputs": [
    {
     "data": {
      "text/html": [
       "<div>\n",
       "<style scoped>\n",
       "    .dataframe tbody tr th:only-of-type {\n",
       "        vertical-align: middle;\n",
       "    }\n",
       "\n",
       "    .dataframe tbody tr th {\n",
       "        vertical-align: top;\n",
       "    }\n",
       "\n",
       "    .dataframe thead th {\n",
       "        text-align: right;\n",
       "    }\n",
       "</style>\n",
       "<table border=\"1\" class=\"dataframe\">\n",
       "  <thead>\n",
       "    <tr style=\"text-align: right;\">\n",
       "      <th></th>\n",
       "      <th>temp</th>\n",
       "      <th>p_error</th>\n",
       "      <th>logp</th>\n",
       "      <th>satisfice</th>\n",
       "      <th>prune</th>\n",
       "      <th>model</th>\n",
       "      <th>k</th>\n",
       "      <th>N</th>\n",
       "      <th>bic</th>\n",
       "      <th>aic</th>\n",
       "    </tr>\n",
       "    <tr>\n",
       "      <th>pid</th>\n",
       "      <th></th>\n",
       "      <th></th>\n",
       "      <th></th>\n",
       "      <th></th>\n",
       "      <th></th>\n",
       "      <th></th>\n",
       "      <th></th>\n",
       "      <th></th>\n",
       "      <th></th>\n",
       "      <th></th>\n",
       "    </tr>\n",
       "  </thead>\n",
       "  <tbody>\n",
       "    <tr>\n",
       "      <th>1</th>\n",
       "      <td>0.000010</td>\n",
       "      <td>0.25</td>\n",
       "      <td>-134.755975</td>\n",
       "      <td>5</td>\n",
       "      <td>-5</td>\n",
       "      <td>best_first</td>\n",
       "      <td>4</td>\n",
       "      <td>86</td>\n",
       "      <td>287.329339</td>\n",
       "      <td>277.511950</td>\n",
       "    </tr>\n",
       "    <tr>\n",
       "      <th>2</th>\n",
       "      <td>5.689866</td>\n",
       "      <td>0.15</td>\n",
       "      <td>-241.147806</td>\n",
       "      <td>25</td>\n",
       "      <td>-10</td>\n",
       "      <td>best_first</td>\n",
       "      <td>4</td>\n",
       "      <td>212</td>\n",
       "      <td>503.721956</td>\n",
       "      <td>490.295611</td>\n",
       "    </tr>\n",
       "    <tr>\n",
       "      <th>3</th>\n",
       "      <td>3.237458</td>\n",
       "      <td>0.24</td>\n",
       "      <td>-269.466787</td>\n",
       "      <td>25</td>\n",
       "      <td>-15</td>\n",
       "      <td>best_first</td>\n",
       "      <td>4</td>\n",
       "      <td>193</td>\n",
       "      <td>559.984335</td>\n",
       "      <td>546.933574</td>\n",
       "    </tr>\n",
       "    <tr>\n",
       "      <th>4</th>\n",
       "      <td>10.000000</td>\n",
       "      <td>0.25</td>\n",
       "      <td>-456.044214</td>\n",
       "      <td>20</td>\n",
       "      <td>-15</td>\n",
       "      <td>best_first</td>\n",
       "      <td>4</td>\n",
       "      <td>230</td>\n",
       "      <td>933.840746</td>\n",
       "      <td>920.088429</td>\n",
       "    </tr>\n",
       "    <tr>\n",
       "      <th>6</th>\n",
       "      <td>7.543120</td>\n",
       "      <td>0.11</td>\n",
       "      <td>-294.301327</td>\n",
       "      <td>25</td>\n",
       "      <td>-30</td>\n",
       "      <td>best_first</td>\n",
       "      <td>4</td>\n",
       "      <td>255</td>\n",
       "      <td>610.767707</td>\n",
       "      <td>596.602653</td>\n",
       "    </tr>\n",
       "    <tr>\n",
       "      <th>7</th>\n",
       "      <td>0.000010</td>\n",
       "      <td>0.25</td>\n",
       "      <td>-113.759389</td>\n",
       "      <td>5</td>\n",
       "      <td>-5</td>\n",
       "      <td>best_first</td>\n",
       "      <td>4</td>\n",
       "      <td>37</td>\n",
       "      <td>241.962451</td>\n",
       "      <td>235.518779</td>\n",
       "    </tr>\n",
       "    <tr>\n",
       "      <th>8</th>\n",
       "      <td>3.237458</td>\n",
       "      <td>0.25</td>\n",
       "      <td>-380.291110</td>\n",
       "      <td>10</td>\n",
       "      <td>-5</td>\n",
       "      <td>best_first</td>\n",
       "      <td>4</td>\n",
       "      <td>136</td>\n",
       "      <td>780.232840</td>\n",
       "      <td>768.582221</td>\n",
       "    </tr>\n",
       "    <tr>\n",
       "      <th>10</th>\n",
       "      <td>0.000010</td>\n",
       "      <td>0.25</td>\n",
       "      <td>-117.378093</td>\n",
       "      <td>5</td>\n",
       "      <td>-30</td>\n",
       "      <td>best_first</td>\n",
       "      <td>4</td>\n",
       "      <td>43</td>\n",
       "      <td>249.800986</td>\n",
       "      <td>242.756185</td>\n",
       "    </tr>\n",
       "    <tr>\n",
       "      <th>11</th>\n",
       "      <td>0.000010</td>\n",
       "      <td>0.25</td>\n",
       "      <td>-419.389270</td>\n",
       "      <td>5</td>\n",
       "      <td>-30</td>\n",
       "      <td>best_first</td>\n",
       "      <td>4</td>\n",
       "      <td>141</td>\n",
       "      <td>858.573579</td>\n",
       "      <td>846.778540</td>\n",
       "    </tr>\n",
       "    <tr>\n",
       "      <th>12</th>\n",
       "      <td>0.000010</td>\n",
       "      <td>0.25</td>\n",
       "      <td>-559.934826</td>\n",
       "      <td>5</td>\n",
       "      <td>-30</td>\n",
       "      <td>best_first</td>\n",
       "      <td>4</td>\n",
       "      <td>183</td>\n",
       "      <td>1140.707596</td>\n",
       "      <td>1127.869652</td>\n",
       "    </tr>\n",
       "    <tr>\n",
       "      <th>13</th>\n",
       "      <td>0.000010</td>\n",
       "      <td>0.25</td>\n",
       "      <td>-118.537312</td>\n",
       "      <td>5</td>\n",
       "      <td>-30</td>\n",
       "      <td>best_first</td>\n",
       "      <td>4</td>\n",
       "      <td>30</td>\n",
       "      <td>250.679413</td>\n",
       "      <td>245.074623</td>\n",
       "    </tr>\n",
       "    <tr>\n",
       "      <th>14</th>\n",
       "      <td>3.237458</td>\n",
       "      <td>0.15</td>\n",
       "      <td>-224.975228</td>\n",
       "      <td>25</td>\n",
       "      <td>-5</td>\n",
       "      <td>best_first</td>\n",
       "      <td>4</td>\n",
       "      <td>212</td>\n",
       "      <td>471.376800</td>\n",
       "      <td>457.950455</td>\n",
       "    </tr>\n",
       "    <tr>\n",
       "      <th>15</th>\n",
       "      <td>2.442053</td>\n",
       "      <td>0.25</td>\n",
       "      <td>-290.547499</td>\n",
       "      <td>15</td>\n",
       "      <td>-30</td>\n",
       "      <td>best_first</td>\n",
       "      <td>4</td>\n",
       "      <td>192</td>\n",
       "      <td>602.124979</td>\n",
       "      <td>589.094998</td>\n",
       "    </tr>\n",
       "    <tr>\n",
       "      <th>16</th>\n",
       "      <td>5.689866</td>\n",
       "      <td>0.17</td>\n",
       "      <td>-307.507402</td>\n",
       "      <td>25</td>\n",
       "      <td>-10</td>\n",
       "      <td>best_first</td>\n",
       "      <td>4</td>\n",
       "      <td>244</td>\n",
       "      <td>637.003477</td>\n",
       "      <td>623.014804</td>\n",
       "    </tr>\n",
       "    <tr>\n",
       "      <th>17</th>\n",
       "      <td>7.543120</td>\n",
       "      <td>0.25</td>\n",
       "      <td>-465.142547</td>\n",
       "      <td>25</td>\n",
       "      <td>-30</td>\n",
       "      <td>best_first</td>\n",
       "      <td>4</td>\n",
       "      <td>271</td>\n",
       "      <td>952.693569</td>\n",
       "      <td>938.285093</td>\n",
       "    </tr>\n",
       "    <tr>\n",
       "      <th>18</th>\n",
       "      <td>0.000010</td>\n",
       "      <td>0.25</td>\n",
       "      <td>-122.374242</td>\n",
       "      <td>5</td>\n",
       "      <td>-30</td>\n",
       "      <td>best_first</td>\n",
       "      <td>4</td>\n",
       "      <td>35</td>\n",
       "      <td>258.969877</td>\n",
       "      <td>252.748485</td>\n",
       "    </tr>\n",
       "    <tr>\n",
       "      <th>19</th>\n",
       "      <td>0.000010</td>\n",
       "      <td>0.14</td>\n",
       "      <td>-105.389254</td>\n",
       "      <td>5</td>\n",
       "      <td>-5</td>\n",
       "      <td>best_first</td>\n",
       "      <td>4</td>\n",
       "      <td>97</td>\n",
       "      <td>229.077352</td>\n",
       "      <td>218.778508</td>\n",
       "    </tr>\n",
       "    <tr>\n",
       "      <th>20</th>\n",
       "      <td>0.000010</td>\n",
       "      <td>0.25</td>\n",
       "      <td>-317.848972</td>\n",
       "      <td>5</td>\n",
       "      <td>-30</td>\n",
       "      <td>best_first</td>\n",
       "      <td>4</td>\n",
       "      <td>111</td>\n",
       "      <td>654.536064</td>\n",
       "      <td>643.697943</td>\n",
       "    </tr>\n",
       "    <tr>\n",
       "      <th>22</th>\n",
       "      <td>10.000000</td>\n",
       "      <td>0.17</td>\n",
       "      <td>-141.733345</td>\n",
       "      <td>10</td>\n",
       "      <td>-5</td>\n",
       "      <td>best_first</td>\n",
       "      <td>4</td>\n",
       "      <td>114</td>\n",
       "      <td>302.411484</td>\n",
       "      <td>291.466690</td>\n",
       "    </tr>\n",
       "    <tr>\n",
       "      <th>24</th>\n",
       "      <td>10.000000</td>\n",
       "      <td>0.25</td>\n",
       "      <td>-153.959689</td>\n",
       "      <td>20</td>\n",
       "      <td>-30</td>\n",
       "      <td>best_first</td>\n",
       "      <td>4</td>\n",
       "      <td>50</td>\n",
       "      <td>323.567471</td>\n",
       "      <td>315.919379</td>\n",
       "    </tr>\n",
       "    <tr>\n",
       "      <th>25</th>\n",
       "      <td>4.291934</td>\n",
       "      <td>0.14</td>\n",
       "      <td>-245.001854</td>\n",
       "      <td>25</td>\n",
       "      <td>-15</td>\n",
       "      <td>best_first</td>\n",
       "      <td>4</td>\n",
       "      <td>211</td>\n",
       "      <td>511.411140</td>\n",
       "      <td>498.003707</td>\n",
       "    </tr>\n",
       "    <tr>\n",
       "      <th>26</th>\n",
       "      <td>10.000000</td>\n",
       "      <td>0.25</td>\n",
       "      <td>-408.072920</td>\n",
       "      <td>15</td>\n",
       "      <td>-5</td>\n",
       "      <td>best_first</td>\n",
       "      <td>4</td>\n",
       "      <td>192</td>\n",
       "      <td>837.175821</td>\n",
       "      <td>824.145840</td>\n",
       "    </tr>\n",
       "    <tr>\n",
       "      <th>27</th>\n",
       "      <td>1.842070</td>\n",
       "      <td>0.15</td>\n",
       "      <td>-236.645693</td>\n",
       "      <td>25</td>\n",
       "      <td>-15</td>\n",
       "      <td>best_first</td>\n",
       "      <td>4</td>\n",
       "      <td>224</td>\n",
       "      <td>494.937970</td>\n",
       "      <td>481.291386</td>\n",
       "    </tr>\n",
       "    <tr>\n",
       "      <th>28</th>\n",
       "      <td>0.000010</td>\n",
       "      <td>0.25</td>\n",
       "      <td>-195.160146</td>\n",
       "      <td>5</td>\n",
       "      <td>-30</td>\n",
       "      <td>best_first</td>\n",
       "      <td>4</td>\n",
       "      <td>78</td>\n",
       "      <td>407.747127</td>\n",
       "      <td>398.320292</td>\n",
       "    </tr>\n",
       "    <tr>\n",
       "      <th>29</th>\n",
       "      <td>0.000010</td>\n",
       "      <td>0.25</td>\n",
       "      <td>-348.707413</td>\n",
       "      <td>5</td>\n",
       "      <td>-30</td>\n",
       "      <td>best_first</td>\n",
       "      <td>4</td>\n",
       "      <td>120</td>\n",
       "      <td>716.564792</td>\n",
       "      <td>705.414826</td>\n",
       "    </tr>\n",
       "    <tr>\n",
       "      <th>30</th>\n",
       "      <td>10.000000</td>\n",
       "      <td>0.09</td>\n",
       "      <td>-103.454505</td>\n",
       "      <td>10</td>\n",
       "      <td>-5</td>\n",
       "      <td>best_first</td>\n",
       "      <td>4</td>\n",
       "      <td>95</td>\n",
       "      <td>225.124517</td>\n",
       "      <td>214.909010</td>\n",
       "    </tr>\n",
       "    <tr>\n",
       "      <th>31</th>\n",
       "      <td>7.543120</td>\n",
       "      <td>0.12</td>\n",
       "      <td>-279.607625</td>\n",
       "      <td>25</td>\n",
       "      <td>-20</td>\n",
       "      <td>best_first</td>\n",
       "      <td>4</td>\n",
       "      <td>229</td>\n",
       "      <td>580.950138</td>\n",
       "      <td>567.215250</td>\n",
       "    </tr>\n",
       "    <tr>\n",
       "      <th>33</th>\n",
       "      <td>4.291934</td>\n",
       "      <td>0.17</td>\n",
       "      <td>-239.919361</td>\n",
       "      <td>25</td>\n",
       "      <td>-30</td>\n",
       "      <td>best_first</td>\n",
       "      <td>4</td>\n",
       "      <td>186</td>\n",
       "      <td>500.741708</td>\n",
       "      <td>487.838721</td>\n",
       "    </tr>\n",
       "    <tr>\n",
       "      <th>34</th>\n",
       "      <td>4.291934</td>\n",
       "      <td>0.15</td>\n",
       "      <td>-299.985235</td>\n",
       "      <td>25</td>\n",
       "      <td>-30</td>\n",
       "      <td>best_first</td>\n",
       "      <td>4</td>\n",
       "      <td>246</td>\n",
       "      <td>621.991796</td>\n",
       "      <td>607.970470</td>\n",
       "    </tr>\n",
       "    <tr>\n",
       "      <th>35</th>\n",
       "      <td>0.000010</td>\n",
       "      <td>0.25</td>\n",
       "      <td>-409.306974</td>\n",
       "      <td>5</td>\n",
       "      <td>-30</td>\n",
       "      <td>best_first</td>\n",
       "      <td>4</td>\n",
       "      <td>136</td>\n",
       "      <td>838.264567</td>\n",
       "      <td>826.613948</td>\n",
       "    </tr>\n",
       "    <tr>\n",
       "      <th>36</th>\n",
       "      <td>0.000010</td>\n",
       "      <td>0.25</td>\n",
       "      <td>-180.695887</td>\n",
       "      <td>5</td>\n",
       "      <td>-30</td>\n",
       "      <td>best_first</td>\n",
       "      <td>4</td>\n",
       "      <td>105</td>\n",
       "      <td>380.007616</td>\n",
       "      <td>369.391775</td>\n",
       "    </tr>\n",
       "    <tr>\n",
       "      <th>37</th>\n",
       "      <td>10.000000</td>\n",
       "      <td>0.25</td>\n",
       "      <td>-134.023919</td>\n",
       "      <td>10</td>\n",
       "      <td>-5</td>\n",
       "      <td>best_first</td>\n",
       "      <td>4</td>\n",
       "      <td>39</td>\n",
       "      <td>282.702084</td>\n",
       "      <td>276.047837</td>\n",
       "    </tr>\n",
       "    <tr>\n",
       "      <th>39</th>\n",
       "      <td>0.000010</td>\n",
       "      <td>0.25</td>\n",
       "      <td>-104.264666</td>\n",
       "      <td>5</td>\n",
       "      <td>-30</td>\n",
       "      <td>best_first</td>\n",
       "      <td>4</td>\n",
       "      <td>36</td>\n",
       "      <td>222.863408</td>\n",
       "      <td>216.529332</td>\n",
       "    </tr>\n",
       "    <tr>\n",
       "      <th>40</th>\n",
       "      <td>10.000000</td>\n",
       "      <td>0.25</td>\n",
       "      <td>-253.092224</td>\n",
       "      <td>10</td>\n",
       "      <td>-5</td>\n",
       "      <td>best_first</td>\n",
       "      <td>4</td>\n",
       "      <td>138</td>\n",
       "      <td>525.893462</td>\n",
       "      <td>514.184448</td>\n",
       "    </tr>\n",
       "    <tr>\n",
       "      <th>42</th>\n",
       "      <td>2.442053</td>\n",
       "      <td>0.23</td>\n",
       "      <td>-224.066536</td>\n",
       "      <td>15</td>\n",
       "      <td>-15</td>\n",
       "      <td>best_first</td>\n",
       "      <td>4</td>\n",
       "      <td>163</td>\n",
       "      <td>468.508073</td>\n",
       "      <td>456.133072</td>\n",
       "    </tr>\n",
       "    <tr>\n",
       "      <th>45</th>\n",
       "      <td>0.000010</td>\n",
       "      <td>0.25</td>\n",
       "      <td>-405.341785</td>\n",
       "      <td>10</td>\n",
       "      <td>-10</td>\n",
       "      <td>best_first</td>\n",
       "      <td>4</td>\n",
       "      <td>139</td>\n",
       "      <td>830.421467</td>\n",
       "      <td>818.683571</td>\n",
       "    </tr>\n",
       "    <tr>\n",
       "      <th>46</th>\n",
       "      <td>0.000010</td>\n",
       "      <td>0.25</td>\n",
       "      <td>-389.416069</td>\n",
       "      <td>5</td>\n",
       "      <td>-30</td>\n",
       "      <td>best_first</td>\n",
       "      <td>4</td>\n",
       "      <td>132</td>\n",
       "      <td>798.363345</td>\n",
       "      <td>786.832137</td>\n",
       "    </tr>\n",
       "    <tr>\n",
       "      <th>47</th>\n",
       "      <td>3.237458</td>\n",
       "      <td>0.25</td>\n",
       "      <td>-541.716360</td>\n",
       "      <td>25</td>\n",
       "      <td>-20</td>\n",
       "      <td>best_first</td>\n",
       "      <td>4</td>\n",
       "      <td>220</td>\n",
       "      <td>1105.007230</td>\n",
       "      <td>1091.432720</td>\n",
       "    </tr>\n",
       "    <tr>\n",
       "      <th>48</th>\n",
       "      <td>0.000010</td>\n",
       "      <td>0.25</td>\n",
       "      <td>-260.439537</td>\n",
       "      <td>5</td>\n",
       "      <td>-5</td>\n",
       "      <td>best_first</td>\n",
       "      <td>4</td>\n",
       "      <td>95</td>\n",
       "      <td>539.094581</td>\n",
       "      <td>528.879073</td>\n",
       "    </tr>\n",
       "    <tr>\n",
       "      <th>49</th>\n",
       "      <td>4.291934</td>\n",
       "      <td>0.14</td>\n",
       "      <td>-245.933681</td>\n",
       "      <td>20</td>\n",
       "      <td>-10</td>\n",
       "      <td>best_first</td>\n",
       "      <td>4</td>\n",
       "      <td>210</td>\n",
       "      <td>513.255793</td>\n",
       "      <td>499.867363</td>\n",
       "    </tr>\n",
       "    <tr>\n",
       "      <th>50</th>\n",
       "      <td>0.000010</td>\n",
       "      <td>0.25</td>\n",
       "      <td>-101.337853</td>\n",
       "      <td>5</td>\n",
       "      <td>-30</td>\n",
       "      <td>best_first</td>\n",
       "      <td>4</td>\n",
       "      <td>60</td>\n",
       "      <td>219.053085</td>\n",
       "      <td>210.675707</td>\n",
       "    </tr>\n",
       "    <tr>\n",
       "      <th>51</th>\n",
       "      <td>10.000000</td>\n",
       "      <td>0.25</td>\n",
       "      <td>-361.427735</td>\n",
       "      <td>15</td>\n",
       "      <td>-5</td>\n",
       "      <td>best_first</td>\n",
       "      <td>4</td>\n",
       "      <td>172</td>\n",
       "      <td>743.445449</td>\n",
       "      <td>730.855471</td>\n",
       "    </tr>\n",
       "    <tr>\n",
       "      <th>52</th>\n",
       "      <td>10.000000</td>\n",
       "      <td>0.25</td>\n",
       "      <td>-307.586997</td>\n",
       "      <td>10</td>\n",
       "      <td>-5</td>\n",
       "      <td>best_first</td>\n",
       "      <td>4</td>\n",
       "      <td>151</td>\n",
       "      <td>635.243112</td>\n",
       "      <td>623.173993</td>\n",
       "    </tr>\n",
       "    <tr>\n",
       "      <th>53</th>\n",
       "      <td>5.689866</td>\n",
       "      <td>0.15</td>\n",
       "      <td>-298.048347</td>\n",
       "      <td>25</td>\n",
       "      <td>-15</td>\n",
       "      <td>best_first</td>\n",
       "      <td>4</td>\n",
       "      <td>238</td>\n",
       "      <td>617.985776</td>\n",
       "      <td>604.096694</td>\n",
       "    </tr>\n",
       "    <tr>\n",
       "      <th>54</th>\n",
       "      <td>10.000000</td>\n",
       "      <td>0.25</td>\n",
       "      <td>-223.711166</td>\n",
       "      <td>10</td>\n",
       "      <td>-5</td>\n",
       "      <td>best_first</td>\n",
       "      <td>4</td>\n",
       "      <td>125</td>\n",
       "      <td>466.735586</td>\n",
       "      <td>455.422331</td>\n",
       "    </tr>\n",
       "    <tr>\n",
       "      <th>55</th>\n",
       "      <td>0.000010</td>\n",
       "      <td>0.22</td>\n",
       "      <td>-205.703447</td>\n",
       "      <td>25</td>\n",
       "      <td>-30</td>\n",
       "      <td>best_first</td>\n",
       "      <td>4</td>\n",
       "      <td>160</td>\n",
       "      <td>431.707589</td>\n",
       "      <td>419.406894</td>\n",
       "    </tr>\n",
       "    <tr>\n",
       "      <th>56</th>\n",
       "      <td>10.000000</td>\n",
       "      <td>0.21</td>\n",
       "      <td>-282.916088</td>\n",
       "      <td>25</td>\n",
       "      <td>-10</td>\n",
       "      <td>best_first</td>\n",
       "      <td>4</td>\n",
       "      <td>192</td>\n",
       "      <td>586.862157</td>\n",
       "      <td>573.832176</td>\n",
       "    </tr>\n",
       "    <tr>\n",
       "      <th>57</th>\n",
       "      <td>0.000010</td>\n",
       "      <td>0.25</td>\n",
       "      <td>-355.053339</td>\n",
       "      <td>5</td>\n",
       "      <td>-5</td>\n",
       "      <td>best_first</td>\n",
       "      <td>4</td>\n",
       "      <td>167</td>\n",
       "      <td>730.578654</td>\n",
       "      <td>718.106679</td>\n",
       "    </tr>\n",
       "    <tr>\n",
       "      <th>58</th>\n",
       "      <td>1.842070</td>\n",
       "      <td>0.25</td>\n",
       "      <td>-217.185236</td>\n",
       "      <td>20</td>\n",
       "      <td>-10</td>\n",
       "      <td>best_first</td>\n",
       "      <td>4</td>\n",
       "      <td>149</td>\n",
       "      <td>454.386257</td>\n",
       "      <td>442.370472</td>\n",
       "    </tr>\n",
       "    <tr>\n",
       "      <th>60</th>\n",
       "      <td>1.389495</td>\n",
       "      <td>0.25</td>\n",
       "      <td>-419.248328</td>\n",
       "      <td>25</td>\n",
       "      <td>-15</td>\n",
       "      <td>best_first</td>\n",
       "      <td>4</td>\n",
       "      <td>208</td>\n",
       "      <td>859.846808</td>\n",
       "      <td>846.496655</td>\n",
       "    </tr>\n",
       "    <tr>\n",
       "      <th>61</th>\n",
       "      <td>0.000010</td>\n",
       "      <td>0.25</td>\n",
       "      <td>-237.984970</td>\n",
       "      <td>5</td>\n",
       "      <td>-30</td>\n",
       "      <td>best_first</td>\n",
       "      <td>4</td>\n",
       "      <td>118</td>\n",
       "      <td>495.052679</td>\n",
       "      <td>483.969941</td>\n",
       "    </tr>\n",
       "  </tbody>\n",
       "</table>\n",
       "</div>"
      ],
      "text/plain": [
       "          temp  p_error        logp satisfice prune       model  k    N  \\\n",
       "pid                                                                       \n",
       "1     0.000010     0.25 -134.755975         5    -5  best_first  4   86   \n",
       "2     5.689866     0.15 -241.147806        25   -10  best_first  4  212   \n",
       "3     3.237458     0.24 -269.466787        25   -15  best_first  4  193   \n",
       "4    10.000000     0.25 -456.044214        20   -15  best_first  4  230   \n",
       "6     7.543120     0.11 -294.301327        25   -30  best_first  4  255   \n",
       "7     0.000010     0.25 -113.759389         5    -5  best_first  4   37   \n",
       "8     3.237458     0.25 -380.291110        10    -5  best_first  4  136   \n",
       "10    0.000010     0.25 -117.378093         5   -30  best_first  4   43   \n",
       "11    0.000010     0.25 -419.389270         5   -30  best_first  4  141   \n",
       "12    0.000010     0.25 -559.934826         5   -30  best_first  4  183   \n",
       "13    0.000010     0.25 -118.537312         5   -30  best_first  4   30   \n",
       "14    3.237458     0.15 -224.975228        25    -5  best_first  4  212   \n",
       "15    2.442053     0.25 -290.547499        15   -30  best_first  4  192   \n",
       "16    5.689866     0.17 -307.507402        25   -10  best_first  4  244   \n",
       "17    7.543120     0.25 -465.142547        25   -30  best_first  4  271   \n",
       "18    0.000010     0.25 -122.374242         5   -30  best_first  4   35   \n",
       "19    0.000010     0.14 -105.389254         5    -5  best_first  4   97   \n",
       "20    0.000010     0.25 -317.848972         5   -30  best_first  4  111   \n",
       "22   10.000000     0.17 -141.733345        10    -5  best_first  4  114   \n",
       "24   10.000000     0.25 -153.959689        20   -30  best_first  4   50   \n",
       "25    4.291934     0.14 -245.001854        25   -15  best_first  4  211   \n",
       "26   10.000000     0.25 -408.072920        15    -5  best_first  4  192   \n",
       "27    1.842070     0.15 -236.645693        25   -15  best_first  4  224   \n",
       "28    0.000010     0.25 -195.160146         5   -30  best_first  4   78   \n",
       "29    0.000010     0.25 -348.707413         5   -30  best_first  4  120   \n",
       "30   10.000000     0.09 -103.454505        10    -5  best_first  4   95   \n",
       "31    7.543120     0.12 -279.607625        25   -20  best_first  4  229   \n",
       "33    4.291934     0.17 -239.919361        25   -30  best_first  4  186   \n",
       "34    4.291934     0.15 -299.985235        25   -30  best_first  4  246   \n",
       "35    0.000010     0.25 -409.306974         5   -30  best_first  4  136   \n",
       "36    0.000010     0.25 -180.695887         5   -30  best_first  4  105   \n",
       "37   10.000000     0.25 -134.023919        10    -5  best_first  4   39   \n",
       "39    0.000010     0.25 -104.264666         5   -30  best_first  4   36   \n",
       "40   10.000000     0.25 -253.092224        10    -5  best_first  4  138   \n",
       "42    2.442053     0.23 -224.066536        15   -15  best_first  4  163   \n",
       "45    0.000010     0.25 -405.341785        10   -10  best_first  4  139   \n",
       "46    0.000010     0.25 -389.416069         5   -30  best_first  4  132   \n",
       "47    3.237458     0.25 -541.716360        25   -20  best_first  4  220   \n",
       "48    0.000010     0.25 -260.439537         5    -5  best_first  4   95   \n",
       "49    4.291934     0.14 -245.933681        20   -10  best_first  4  210   \n",
       "50    0.000010     0.25 -101.337853         5   -30  best_first  4   60   \n",
       "51   10.000000     0.25 -361.427735        15    -5  best_first  4  172   \n",
       "52   10.000000     0.25 -307.586997        10    -5  best_first  4  151   \n",
       "53    5.689866     0.15 -298.048347        25   -15  best_first  4  238   \n",
       "54   10.000000     0.25 -223.711166        10    -5  best_first  4  125   \n",
       "55    0.000010     0.22 -205.703447        25   -30  best_first  4  160   \n",
       "56   10.000000     0.21 -282.916088        25   -10  best_first  4  192   \n",
       "57    0.000010     0.25 -355.053339         5    -5  best_first  4  167   \n",
       "58    1.842070     0.25 -217.185236        20   -10  best_first  4  149   \n",
       "60    1.389495     0.25 -419.248328        25   -15  best_first  4  208   \n",
       "61    0.000010     0.25 -237.984970         5   -30  best_first  4  118   \n",
       "\n",
       "             bic          aic  \n",
       "pid                            \n",
       "1     287.329339   277.511950  \n",
       "2     503.721956   490.295611  \n",
       "3     559.984335   546.933574  \n",
       "4     933.840746   920.088429  \n",
       "6     610.767707   596.602653  \n",
       "7     241.962451   235.518779  \n",
       "8     780.232840   768.582221  \n",
       "10    249.800986   242.756185  \n",
       "11    858.573579   846.778540  \n",
       "12   1140.707596  1127.869652  \n",
       "13    250.679413   245.074623  \n",
       "14    471.376800   457.950455  \n",
       "15    602.124979   589.094998  \n",
       "16    637.003477   623.014804  \n",
       "17    952.693569   938.285093  \n",
       "18    258.969877   252.748485  \n",
       "19    229.077352   218.778508  \n",
       "20    654.536064   643.697943  \n",
       "22    302.411484   291.466690  \n",
       "24    323.567471   315.919379  \n",
       "25    511.411140   498.003707  \n",
       "26    837.175821   824.145840  \n",
       "27    494.937970   481.291386  \n",
       "28    407.747127   398.320292  \n",
       "29    716.564792   705.414826  \n",
       "30    225.124517   214.909010  \n",
       "31    580.950138   567.215250  \n",
       "33    500.741708   487.838721  \n",
       "34    621.991796   607.970470  \n",
       "35    838.264567   826.613948  \n",
       "36    380.007616   369.391775  \n",
       "37    282.702084   276.047837  \n",
       "39    222.863408   216.529332  \n",
       "40    525.893462   514.184448  \n",
       "42    468.508073   456.133072  \n",
       "45    830.421467   818.683571  \n",
       "46    798.363345   786.832137  \n",
       "47   1105.007230  1091.432720  \n",
       "48    539.094581   528.879073  \n",
       "49    513.255793   499.867363  \n",
       "50    219.053085   210.675707  \n",
       "51    743.445449   730.855471  \n",
       "52    635.243112   623.173993  \n",
       "53    617.985776   604.096694  \n",
       "54    466.735586   455.422331  \n",
       "55    431.707589   419.406894  \n",
       "56    586.862157   573.832176  \n",
       "57    730.578654   718.106679  \n",
       "58    454.386257   442.370472  \n",
       "60    859.846808   846.496655  \n",
       "61    495.052679   483.969941  "
      ]
     },
     "execution_count": 121,
     "metadata": {},
     "output_type": "execute_result"
    }
   ],
   "source": [
    "def best_best_first(row):\n",
    "    pref = satisfruning(best_first, prune=row.prune, satisfice=row.satisfice)\n",
    "    return SoftmaxPolicy(pref, temp=row.temp)\n",
    "    \n",
    "pid_bf_pols = ind_results.query('model == \"best_first\"').apply()"
   ]
  },
  {
   "cell_type": "code",
   "execution_count": 162,
   "metadata": {
    "collapsed": true
   },
   "outputs": [],
   "source": [
    "df['unobserved'] = df.state.apply(lambda state: sum(hasattr(x, 'sample') for x in state))\n",
    "df['etr'] = pd.Categorical(df.state.apply(env.expected_term_reward), categories=path_values)\n",
    "df['term'] = df.action == 13\n",
    "df['observed'] = pd.Categorical(12 - df['unobserved'], range(13))\n",
    "x = df.groupby(['etr', 'observed']).term.sum().reset_index()\n",
    "x.term /= x.term.sum()\n",
    "x.term = np.log(x.term.replace(0, np.nan))"
   ]
  },
  {
   "cell_type": "code",
   "execution_count": 309,
   "metadata": {
    "collapsed": false
   },
   "outputs": [
    {
     "ename": "ImportError",
     "evalue": "libicuuc.so.58: cannot open shared object file: No such file or directory",
     "output_type": "error",
     "traceback": [
      "\u001b[0;31m---------------------------------------------------------------------------\u001b[0m",
      "\u001b[0;31mImportError\u001b[0m                               Traceback (most recent call last)",
      "\u001b[0;32m<ipython-input-309-dd25d926af8e>\u001b[0m in \u001b[0;36m<module>\u001b[0;34m()\u001b[0m\n\u001b[0;32m----> 1\u001b[0;31m \u001b[0;32mimport\u001b[0m \u001b[0mrpy2\u001b[0m\u001b[0;34m.\u001b[0m\u001b[0mrobjects\u001b[0m \u001b[0;32mas\u001b[0m \u001b[0mro\u001b[0m\u001b[0;34m\u001b[0m\u001b[0m\n\u001b[0m\u001b[1;32m      2\u001b[0m \u001b[0;32mfrom\u001b[0m \u001b[0mrpy2\u001b[0m\u001b[0;34m.\u001b[0m\u001b[0mrobjects\u001b[0m \u001b[0;32mimport\u001b[0m \u001b[0mpandas2ri\u001b[0m\u001b[0;34m\u001b[0m\u001b[0m\n\u001b[1;32m      3\u001b[0m \u001b[0mpandas2ri\u001b[0m\u001b[0;34m.\u001b[0m\u001b[0mactivate\u001b[0m\u001b[0;34m(\u001b[0m\u001b[0;34m)\u001b[0m\u001b[0;34m\u001b[0m\u001b[0m\n\u001b[1;32m      4\u001b[0m \u001b[0;32mfrom\u001b[0m \u001b[0mrpy2\u001b[0m\u001b[0;34m.\u001b[0m\u001b[0mrobjects\u001b[0m\u001b[0;34m.\u001b[0m\u001b[0mconversion\u001b[0m \u001b[0;32mimport\u001b[0m \u001b[0mri2py\u001b[0m\u001b[0;34m\u001b[0m\u001b[0m\n\u001b[1;32m      5\u001b[0m \u001b[0mget_ipython\u001b[0m\u001b[0;34m(\u001b[0m\u001b[0;34m)\u001b[0m\u001b[0;34m.\u001b[0m\u001b[0mmagic\u001b[0m\u001b[0;34m(\u001b[0m\u001b[0;34m'load_ext rpy2.ipython'\u001b[0m\u001b[0;34m)\u001b[0m\u001b[0;34m\u001b[0m\u001b[0m\n",
      "\u001b[0;32m~/miniconda3/lib/python3.6/site-packages/rpy2/robjects/__init__.py\u001b[0m in \u001b[0;36m<module>\u001b[0;34m()\u001b[0m\n\u001b[1;32m     14\u001b[0m \u001b[0;32mimport\u001b[0m \u001b[0mitertools\u001b[0m\u001b[0;34m\u001b[0m\u001b[0m\n\u001b[1;32m     15\u001b[0m \u001b[0;32mfrom\u001b[0m \u001b[0mdatetime\u001b[0m \u001b[0;32mimport\u001b[0m \u001b[0mdatetime\u001b[0m\u001b[0;34m\u001b[0m\u001b[0m\n\u001b[0;32m---> 16\u001b[0;31m \u001b[0;32mimport\u001b[0m \u001b[0mrpy2\u001b[0m\u001b[0;34m.\u001b[0m\u001b[0mrinterface\u001b[0m \u001b[0;32mas\u001b[0m \u001b[0mrinterface\u001b[0m\u001b[0;34m\u001b[0m\u001b[0m\n\u001b[0m\u001b[1;32m     17\u001b[0m \u001b[0;32mimport\u001b[0m \u001b[0mrpy2\u001b[0m\u001b[0;34m.\u001b[0m\u001b[0mrlike\u001b[0m\u001b[0;34m.\u001b[0m\u001b[0mcontainer\u001b[0m \u001b[0;32mas\u001b[0m \u001b[0mrlc\u001b[0m\u001b[0;34m\u001b[0m\u001b[0m\n\u001b[1;32m     18\u001b[0m \u001b[0;34m\u001b[0m\u001b[0m\n",
      "\u001b[0;32m~/miniconda3/lib/python3.6/site-packages/rpy2/rinterface/__init__.py\u001b[0m in \u001b[0;36m<module>\u001b[0;34m()\u001b[0m\n\u001b[1;32m     90\u001b[0m \u001b[0;32mdel\u001b[0m\u001b[0;34m(\u001b[0m\u001b[0mos\u001b[0m\u001b[0;34m)\u001b[0m\u001b[0;34m\u001b[0m\u001b[0m\n\u001b[1;32m     91\u001b[0m \u001b[0;34m\u001b[0m\u001b[0m\n\u001b[0;32m---> 92\u001b[0;31m from rpy2.rinterface._rinterface import (baseenv,\n\u001b[0m\u001b[1;32m     93\u001b[0m                                          \u001b[0memptyenv\u001b[0m\u001b[0;34m,\u001b[0m\u001b[0;34m\u001b[0m\u001b[0m\n\u001b[1;32m     94\u001b[0m                                          \u001b[0mendr\u001b[0m\u001b[0;34m,\u001b[0m\u001b[0;34m\u001b[0m\u001b[0m\n",
      "\u001b[0;31mImportError\u001b[0m: libicuuc.so.58: cannot open shared object file: No such file or directory"
     ]
    }
   ],
   "source": [
    "import rpy2.robjects as ro\n",
    "from rpy2.robjects import pandas2ri\n",
    "pandas2ri.activate()\n",
    "from rpy2.robjects.conversion import ri2py\n",
    "%load_ext rpy2.ipython"
   ]
  },
  {
   "cell_type": "code",
   "execution_count": 307,
   "metadata": {
    "collapsed": false
   },
   "outputs": [],
   "source": [
    "# select = list(pdf.query('best_model == \"optimal\" ').index)\n",
    "rdf = data['unrolled'][['pid', 'term', 'etr', 'observed']]"
   ]
  },
  {
   "cell_type": "code",
   "execution_count": 308,
   "metadata": {
    "collapsed": false
   },
   "outputs": [
    {
     "name": "stderr",
     "output_type": "stream",
     "text": [
      "[2018-05-12 14:28:08,616] Cell magic `%%R` not found.\n"
     ]
    }
   ],
   "source": [
    "%%R -i rdf\n",
    "require(lme4)\n",
    "m = glmer('term ~ etr * observed + (1|pid)', family='binomial', data=rdf)\n",
    "print(m)\n",
    "Anova(m)"
   ]
  },
  {
   "cell_type": "markdown",
   "metadata": {},
   "source": [
    "## Action types"
   ]
  },
  {
   "cell_type": "code",
   "execution_count": 272,
   "metadata": {
    "collapsed": true
   },
   "outputs": [],
   "source": [
    "data['q'] = data.apply(lambda row: Q(row.state, row.action), 1)\n",
    "data['v'] = data.state.apply(V)\n",
    "\n",
    "df_best_first['q'] = df_best_first.apply(lambda row: Q(row.state, row.action), 1)\n",
    "df_best_first['v'] = df_best_first.state.apply(V)"
   ]
  },
  {
   "cell_type": "code",
   "execution_count": 473,
   "metadata": {
    "collapsed": false
   },
   "outputs": [
    {
     "data": {
      "text/plain": [
       "action_type\n",
       "click    -905.349476\n",
       "term    -3908.228669\n",
       "Name: loss, dtype: float64"
      ]
     },
     "execution_count": 473,
     "metadata": {},
     "output_type": "execute_result"
    }
   ],
   "source": [
    "data.groupby('action_type').loss.sum()"
   ]
  },
  {
   "cell_type": "code",
   "execution_count": 481,
   "metadata": {
    "collapsed": false
   },
   "outputs": [
    {
     "name": "stdout",
     "output_type": "stream",
     "text": [
      "Loss by action type\n",
      "                  mean        std\n",
      "action_type                      \n",
      "click       -18.106990  14.839946\n",
      "term        -72.837103  78.968698\n"
     ]
    }
   ],
   "source": [
    "print('Loss by action type')\n",
    "print(l.groupby(level=0).agg([np.mean, np.std]))"
   ]
  },
  {
   "cell_type": "code",
   "execution_count": 548,
   "metadata": {
    "collapsed": true
   },
   "outputs": [],
   "source": [
    "g = data.groupby('action_type').loss\n",
    "g."
   ]
  },
  {
   "cell_type": "code",
   "execution_count": 560,
   "metadata": {
    "collapsed": true
   },
   "outputs": [],
   "source": [
    "l = (data.reset_index().set_index('pid').loc[pdf.n_clicks > 0]\n",
    "     .groupby(['action_type', 'pid']).loss.sum().dropna())"
   ]
  },
  {
   "cell_type": "code",
   "execution_count": 562,
   "metadata": {
    "collapsed": false
   },
   "outputs": [
    {
     "data": {
      "text/plain": [
       "Int64Index([ 1,  2,  3,  4,  6,  7,  8, 10, 11, 12, 14, 15, 16, 17, 18, 19, 20,\n",
       "            22, 24, 25, 26, 27, 28, 29, 30, 31, 33, 34, 35, 36, 37, 39, 40, 42,\n",
       "            45, 46, 47, 48, 49, 50, 51, 52, 53, 54, 55, 56, 57, 58, 60, 61],\n",
       "           dtype='int64', name='pid')"
      ]
     },
     "execution_count": 562,
     "metadata": {},
     "output_type": "execute_result"
    }
   ],
   "source": [
    "l.click.index"
   ]
  },
  {
   "cell_type": "code",
   "execution_count": 571,
   "metadata": {
    "collapsed": true
   },
   "outputs": [],
   "source": [
    "best_sat = ind_results.query('model == \"best_first\"').loc[l.click.index].satisfice"
   ]
  },
  {
   "cell_type": "code",
   "execution_count": 589,
   "metadata": {
    "collapsed": false
   },
   "outputs": [
    {
     "data": {
      "image/png": "[encoded data removed]",
      "text/plain": [
       "<matplotlib.figure.Figure at 0x1365220f0>"
      ]
     },
     "metadata": {},
     "output_type": "display_data"
    }
   ],
   "source": [
    "# for at, dd in l.groupby(level='action_type'):\n",
    "fig = plt.figure(figsize=(6,2))\n",
    "sns.distplot(l.term, label=at, kde=0)\n",
    "sns.distplot(l.click, label=at, kde=0)\n",
    "ax = plt.gca()"
   ]
  },
  {
   "cell_type": "code",
   "execution_count": 576,
   "metadata": {
    "collapsed": false
   },
   "outputs": [
    {
     "data": {
      "image/png": "[encoded data removed]",
      "text/plain": [
       "<matplotlib.figure.Figure at 0x135a80a58>"
      ]
     },
     "metadata": {},
     "output_type": "display_data"
    }
   ],
   "source": [
    "jp = sns.jointplot(l.click, l.term, stat_func=None,\n",
    "                   xlim=(-150, 10), ylim=(-300, 10),\n",
    "                   kind='scatter',\n",
    "#                    joint_kws\n",
    "#                    kind='kde', joint_kws=dict(shade=False)\n",
    "                  )\n",
    "\n",
    "\n",
    "\n",
    "# plt.plot(l.click, l.term, 'o')\n",
    "# plt.xlabel('Click Loss')\n",
    "# plt.ylabel('Term Loss')\n",
    "# jp.ax_joint.set_xlim(-50, 0)\n",
    "# jp.ax_joint.set_aspect('equal')"
   ]
  },
  {
   "cell_type": "code",
   "execution_count": 373,
   "metadata": {
    "collapsed": false
   },
   "outputs": [
    {
     "data": {
      "text/plain": [
       "<matplotlib.legend.Legend at 0x17d157390>"
      ]
     },
     "execution_count": 373,
     "metadata": {},
     "output_type": "execute_result"
    },
    {
     "data": {
      "image/png": "[encoded data removed]",
      "text/plain": [
       "<matplotlib.figure.Figure at 0x17c12abe0>"
      ]
     },
     "metadata": {},
     "output_type": "display_data"
    }
   ],
   "source": [
    "def action_type(action):\n",
    "    if action == env.term_action:\n",
    "        return 'term'\n",
    "    else:\n",
    "        return 'click'\n",
    "        return len(env.path_to(action))\n",
    "\n",
    "df_best_first.query('action_type == \"term\"').loss.plot.hist(\n",
    "    alpha=0.5, normed=1, label='BF')\n",
    "data.query('action_type == \"term\"').loss.plot.hist(\n",
    "    alpha=0.5, ax=plt.gca(), normed=1, label='human')\n",
    "plt.legend()\n",
    "# for at, dd in data.groupby('action_type').loss:\n",
    "#     ax = next(axes)\n",
    "#     sns.distplot(dd, label=at, kde=0, ax=ax)"
   ]
  },
  {
   "cell_type": "code",
   "execution_count": null,
   "metadata": {
    "collapsed": true
   },
   "outputs": [],
   "source": [
    "data.groupby('action_type').loss.plot.hist"
   ]
  },
  {
   "cell_type": "markdown",
   "metadata": {
    "heading_collapsed": true
   },
   "source": [
    "# View rollouts"
   ]
  },
  {
   "cell_type": "code",
   "execution_count": 49,
   "metadata": {
    "collapsed": true,
    "hidden": true
   },
   "outputs": [],
   "source": [
    "df = tdf\n",
    "df = df.rename(columns={'state_rewards': 'stateRewards'})\n",
    "df = df[['pid', 'actions', 'clicks', 'stateRewards']]\n",
    "df.to_json('../experiment/experiment/static/json/demo/312.json', orient='records')"
   ]
  },
  {
   "cell_type": "code",
   "execution_count": 20,
   "metadata": {
    "collapsed": false,
    "hidden": true
   },
   "outputs": [
    {
     "data": {
      "text/plain": [
       "['left', 'left', 'up']"
      ]
     },
     "execution_count": 20,
     "metadata": {},
     "output_type": "execute_result"
    }
   ],
   "source": [
    "row = tdf.iloc[0]\n",
    "def write_demo(df):\n",
    "    x = df.apply(lambda row: {'clicks': row.clicks, 'actions': row.actions})\n",
    "row.clicks\n",
    "row.actions"
   ]
  },
  {
   "cell_type": "code",
   "execution_count": null,
   "metadata": {
    "collapsed": true,
    "hidden": true
   },
   "outputs": [],
   "source": [
    "np.random.seed(1)\n",
    "\n",
    "import json\n",
    "def demo(env):\n",
    "    trace = run_episode(optimal_policy, env)\n",
    "    \n",
    "    return {\n",
    "        'trial_id': hash(env),\n",
    "        'stateRewards': list(map(round, env.ground_truth)),\n",
    "        'demo': \n",
    "    }\n",
    "\n",
    "nr_environments = 100  # 1000 -> 100\n",
    "branch = [3,1,2]\n",
    "env_type = ''.join(map(str, branch))\n",
    "envs = [make_env(mu=0, sigma=6, quantization=4, branching=branch)\n",
    "        for _ in range(nr_environments)]\n",
    "\n",
    "fn = 'data/experiment_trials/'+env_type+'.json'\n",
    "with open(fn, 'w+') as f:\n",
    "    print('wrote', fn)\n",
    "    json.dump(list(map(env_data, envs)), f)"
   ]
  },
  {
   "cell_type": "code",
   "execution_count": null,
   "metadata": {
    "collapsed": true,
    "hidden": true
   },
   "outputs": [],
   "source": [
    "from IPython.display import display\n",
    "def render(trace):\n",
    "    for i, (s, a, r) in enumerate(zip(*get(['states', 'actions', 'rewards'], trace))):\n",
    "        env._state = s\n",
    "        dot = env.render()\n",
    "        display(dot)\n",
    "\n",
    "from agents import run_episode\n",
    "trace = run_episode(optimal_policy, env)\n",
    "render(trace)"
   ]
  }
 ],
 "metadata": {
  "anaconda-cloud": {},
  "kernelspec": {
   "display_name": "Python 3",
   "language": "python",
   "name": "python3"
  },
  "language_info": {
   "codemirror_mode": {
    "name": "ipython",
    "version": 3
   },
   "file_extension": ".py",
   "mimetype": "text/x-python",
   "name": "python",
   "nbconvert_exporter": "python",
   "pygments_lexer": "ipython3",
   "version": "3.6.2"
  },
  "nav_menu": {},
  "toc": {
   "navigate_menu": true,
   "number_sections": true,
   "sideBar": true,
   "threshold": 6,
   "toc_cell": false,
   "toc_section_display": "block",
   "toc_window_display": false
  }
 },
 "nbformat": 4,
 "nbformat_minor": 1
}
